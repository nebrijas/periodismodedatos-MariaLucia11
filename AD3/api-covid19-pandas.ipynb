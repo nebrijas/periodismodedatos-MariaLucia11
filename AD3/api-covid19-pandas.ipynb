{
 "cells": [
  {
   "cell_type": "markdown",
   "id": "d4a76b22",
   "metadata": {},
   "source": [
    "# Uso de API de Covid19 con Pandas"
   ]
  },
  {
   "cell_type": "markdown",
   "id": "2c408342",
   "metadata": {},
   "source": [
    "Para empezar a desarrollar este ejercicio lo primero que hacemos es copiar las dos url que nos ha indicado el profesor en clase. La primera hace referencia al proyecto y la segunda a la API donde se encuentran los datos.\n",
    "\n",
    "- https://covid19api.com/\n",
    "- https://api.covid19api.com/"
   ]
  },
  {
   "cell_type": "markdown",
   "id": "ffdf3ff8",
   "metadata": {},
   "source": [
    "# Instalación Pandas"
   ]
  },
  {
   "cell_type": "markdown",
   "id": "bcc21033",
   "metadata": {},
   "source": [
    "Una vez especificadas las dos a url, procedemos a trabajar con la API y con una `librería Pandas` que nos ayudará a organizar los datos. Para instalar la librería pondremos `!pip install pandas`, pero ¿qué significa?`Pip` es el gestor de paquetes de python y el símbolo de exclamación sirve para decirle que es un comando de la línea de base. \n",
    "\n",
    "Una vez instalado nos salta un mensaje diciéndonos que el requerimiento está listo y que no tiene que instalar nada.\n"
   ]
  },
  {
   "cell_type": "code",
   "execution_count": 4,
   "id": "565569a3",
   "metadata": {},
   "outputs": [
    {
     "name": "stdout",
     "output_type": "stream",
     "text": [
      "Requirement already satisfied: pandas in c:\\users\\mlucy\\anaconda3\\lib\\site-packages (1.3.4)\n",
      "Requirement already satisfied: numpy>=1.17.3 in c:\\users\\mlucy\\anaconda3\\lib\\site-packages (from pandas) (1.20.3)\n",
      "Requirement already satisfied: python-dateutil>=2.7.3 in c:\\users\\mlucy\\anaconda3\\lib\\site-packages (from pandas) (2.8.2)\n",
      "Requirement already satisfied: pytz>=2017.3 in c:\\users\\mlucy\\anaconda3\\lib\\site-packages (from pandas) (2021.3)\n",
      "Requirement already satisfied: six>=1.5 in c:\\users\\mlucy\\anaconda3\\lib\\site-packages (from python-dateutil>=2.7.3->pandas) (1.16.0)\n"
     ]
    }
   ],
   "source": [
    "!pip install pandas"
   ]
  },
  {
   "cell_type": "markdown",
   "id": "e642d288",
   "metadata": {},
   "source": [
    "## Configuración "
   ]
  },
  {
   "cell_type": "markdown",
   "id": "f49f71b4",
   "metadata": {},
   "source": [
    "A continuación vamos a configurar Pandas y para ello le vamos a indicar que cada vez que lo mencionemos aparezca `pd` y no `Pandas`.  "
   ]
  },
  {
   "cell_type": "code",
   "execution_count": 5,
   "id": "1a3d63f6",
   "metadata": {},
   "outputs": [],
   "source": [
    "import pandas as pd"
   ]
  },
  {
   "cell_type": "markdown",
   "id": "ea2303de",
   "metadata": {},
   "source": [
    "# Variables"
   ]
  },
  {
   "cell_type": "markdown",
   "id": "722de9d3",
   "metadata": {},
   "source": [
    "A continuación vamos a indicar las varibales ya que es de las primeras cosas que se hacen. La primera varibale será la `url` que contenga la información sobre los países."
   ]
  },
  {
   "cell_type": "code",
   "execution_count": 6,
   "id": "615cac38",
   "metadata": {},
   "outputs": [],
   "source": [
    "url ='https://api.covid19api.com/countries'"
   ]
  },
  {
   "cell_type": "markdown",
   "id": "0c8b8b7b",
   "metadata": {},
   "source": [
    "Pero, ¿cómo sabemos si funciona correctamente? Es tan sencillo como mencionarla y ver si nos devuelve el enlace a la url. "
   ]
  },
  {
   "cell_type": "code",
   "execution_count": 7,
   "id": "015c5841",
   "metadata": {},
   "outputs": [
    {
     "data": {
      "text/plain": [
       "'https://api.covid19api.com/countries'"
      ]
     },
     "execution_count": 7,
     "metadata": {},
     "output_type": "execute_result"
    }
   ],
   "source": [
    "url"
   ]
  },
  {
   "cell_type": "markdown",
   "id": "4e91d25c",
   "metadata": {},
   "source": [
    "## Creación de *Dataframe*\n",
    "\n",
    "En este paso lo que vamos a hacer es conectar a la tabla de la API para que lea los datos que le indiquemos. Si te preguntas qué significa un `Dataframe`, la respuesta es sencilla ya que es una tabla. "
   ]
  },
  {
   "cell_type": "markdown",
   "id": "55fec03d",
   "metadata": {},
   "source": [
    "A nuestro dataframe lo vamos a llamar `df` y como esta API devuelve los datos en JSON, utilizamos la función `read_json` de *Pandas* para leer los datos en `JSON` de la `API`."
   ]
  },
  {
   "cell_type": "code",
   "execution_count": 8,
   "id": "4f223148",
   "metadata": {},
   "outputs": [],
   "source": [
    "df = pd.read_json(url)"
   ]
  },
  {
   "cell_type": "markdown",
   "id": "a365df9d",
   "metadata": {},
   "source": [
    "Para comprobar que tenemos algo ahí, le decimos que muestre el dataframe y vemos una tabla de datos con 248 filas y 3 columnas. Lo que sale es un extracto, de toda la información. No obstante lo curioso es que solo se especifican tres columnas cuando en total hay cuatro. ¿Por qué ocurre esto? Porque aunque Pandas tiene una columna a la que la llama índice, no la considera como una columna de datos. \n",
    "\n",
    "Los datos que hemos extraido de la url están relacionados con el `país`, `slug` y `el código internacional`. "
   ]
  },
  {
   "cell_type": "code",
   "execution_count": 9,
   "id": "86683325",
   "metadata": {},
   "outputs": [
    {
     "data": {
      "text/html": [
       "<div>\n",
       "<style scoped>\n",
       "    .dataframe tbody tr th:only-of-type {\n",
       "        vertical-align: middle;\n",
       "    }\n",
       "\n",
       "    .dataframe tbody tr th {\n",
       "        vertical-align: top;\n",
       "    }\n",
       "\n",
       "    .dataframe thead th {\n",
       "        text-align: right;\n",
       "    }\n",
       "</style>\n",
       "<table border=\"1\" class=\"dataframe\">\n",
       "  <thead>\n",
       "    <tr style=\"text-align: right;\">\n",
       "      <th></th>\n",
       "      <th>Country</th>\n",
       "      <th>Slug</th>\n",
       "      <th>ISO2</th>\n",
       "    </tr>\n",
       "  </thead>\n",
       "  <tbody>\n",
       "    <tr>\n",
       "      <th>0</th>\n",
       "      <td>Faroe Islands</td>\n",
       "      <td>faroe-islands</td>\n",
       "      <td>FO</td>\n",
       "    </tr>\n",
       "    <tr>\n",
       "      <th>1</th>\n",
       "      <td>Portugal</td>\n",
       "      <td>portugal</td>\n",
       "      <td>PT</td>\n",
       "    </tr>\n",
       "    <tr>\n",
       "      <th>2</th>\n",
       "      <td>Mali</td>\n",
       "      <td>mali</td>\n",
       "      <td>ML</td>\n",
       "    </tr>\n",
       "    <tr>\n",
       "      <th>3</th>\n",
       "      <td>Azerbaijan</td>\n",
       "      <td>azerbaijan</td>\n",
       "      <td>AZ</td>\n",
       "    </tr>\n",
       "    <tr>\n",
       "      <th>4</th>\n",
       "      <td>British Virgin Islands</td>\n",
       "      <td>british-virgin-islands</td>\n",
       "      <td>VG</td>\n",
       "    </tr>\n",
       "    <tr>\n",
       "      <th>...</th>\n",
       "      <td>...</td>\n",
       "      <td>...</td>\n",
       "      <td>...</td>\n",
       "    </tr>\n",
       "    <tr>\n",
       "      <th>243</th>\n",
       "      <td>Syrian Arab Republic (Syria)</td>\n",
       "      <td>syria</td>\n",
       "      <td>SY</td>\n",
       "    </tr>\n",
       "    <tr>\n",
       "      <th>244</th>\n",
       "      <td>United Arab Emirates</td>\n",
       "      <td>united-arab-emirates</td>\n",
       "      <td>AE</td>\n",
       "    </tr>\n",
       "    <tr>\n",
       "      <th>245</th>\n",
       "      <td>Egypt</td>\n",
       "      <td>egypt</td>\n",
       "      <td>EG</td>\n",
       "    </tr>\n",
       "    <tr>\n",
       "      <th>246</th>\n",
       "      <td>Ethiopia</td>\n",
       "      <td>ethiopia</td>\n",
       "      <td>ET</td>\n",
       "    </tr>\n",
       "    <tr>\n",
       "      <th>247</th>\n",
       "      <td>Niger</td>\n",
       "      <td>niger</td>\n",
       "      <td>NE</td>\n",
       "    </tr>\n",
       "  </tbody>\n",
       "</table>\n",
       "<p>248 rows × 3 columns</p>\n",
       "</div>"
      ],
      "text/plain": [
       "                          Country                    Slug ISO2\n",
       "0                   Faroe Islands           faroe-islands   FO\n",
       "1                        Portugal                portugal   PT\n",
       "2                            Mali                    mali   ML\n",
       "3                      Azerbaijan              azerbaijan   AZ\n",
       "4          British Virgin Islands  british-virgin-islands   VG\n",
       "..                            ...                     ...  ...\n",
       "243  Syrian Arab Republic (Syria)                   syria   SY\n",
       "244          United Arab Emirates    united-arab-emirates   AE\n",
       "245                         Egypt                   egypt   EG\n",
       "246                      Ethiopia                ethiopia   ET\n",
       "247                         Niger                   niger   NE\n",
       "\n",
       "[248 rows x 3 columns]"
      ]
     },
     "execution_count": 9,
     "metadata": {},
     "output_type": "execute_result"
    }
   ],
   "source": [
    "df"
   ]
  },
  {
   "cell_type": "markdown",
   "id": "4fe4db06",
   "metadata": {},
   "source": [
    "## Explorar tabla\n",
    "¿Cómo podemos investigar sobre los datos que incluye la tabla? Utilizando unas funciones básicas del trabajo con datos:\n",
    "- Cabecera\n",
    "- Cola\n",
    "- Info"
   ]
  },
  {
   "cell_type": "markdown",
   "id": "58b424bc",
   "metadata": {},
   "source": [
    "La primera función estará relacionada con la cabecera. Automaticamente nos salen 5 filas con datos, pero a esta función le podemos indicar cuantos páises queremos ver incluyendo la cantidad dentro del paréntesis. Por ejemplo, si pretendemos ver ocho filas, el código sería `df.head(8)`"
   ]
  },
  {
   "cell_type": "code",
   "execution_count": 10,
   "id": "b83e9a67",
   "metadata": {},
   "outputs": [
    {
     "data": {
      "text/html": [
       "<div>\n",
       "<style scoped>\n",
       "    .dataframe tbody tr th:only-of-type {\n",
       "        vertical-align: middle;\n",
       "    }\n",
       "\n",
       "    .dataframe tbody tr th {\n",
       "        vertical-align: top;\n",
       "    }\n",
       "\n",
       "    .dataframe thead th {\n",
       "        text-align: right;\n",
       "    }\n",
       "</style>\n",
       "<table border=\"1\" class=\"dataframe\">\n",
       "  <thead>\n",
       "    <tr style=\"text-align: right;\">\n",
       "      <th></th>\n",
       "      <th>Country</th>\n",
       "      <th>Slug</th>\n",
       "      <th>ISO2</th>\n",
       "    </tr>\n",
       "  </thead>\n",
       "  <tbody>\n",
       "    <tr>\n",
       "      <th>0</th>\n",
       "      <td>Faroe Islands</td>\n",
       "      <td>faroe-islands</td>\n",
       "      <td>FO</td>\n",
       "    </tr>\n",
       "    <tr>\n",
       "      <th>1</th>\n",
       "      <td>Portugal</td>\n",
       "      <td>portugal</td>\n",
       "      <td>PT</td>\n",
       "    </tr>\n",
       "    <tr>\n",
       "      <th>2</th>\n",
       "      <td>Mali</td>\n",
       "      <td>mali</td>\n",
       "      <td>ML</td>\n",
       "    </tr>\n",
       "    <tr>\n",
       "      <th>3</th>\n",
       "      <td>Azerbaijan</td>\n",
       "      <td>azerbaijan</td>\n",
       "      <td>AZ</td>\n",
       "    </tr>\n",
       "    <tr>\n",
       "      <th>4</th>\n",
       "      <td>British Virgin Islands</td>\n",
       "      <td>british-virgin-islands</td>\n",
       "      <td>VG</td>\n",
       "    </tr>\n",
       "  </tbody>\n",
       "</table>\n",
       "</div>"
      ],
      "text/plain": [
       "                  Country                    Slug ISO2\n",
       "0           Faroe Islands           faroe-islands   FO\n",
       "1                Portugal                portugal   PT\n",
       "2                    Mali                    mali   ML\n",
       "3              Azerbaijan              azerbaijan   AZ\n",
       "4  British Virgin Islands  british-virgin-islands   VG"
      ]
     },
     "execution_count": 10,
     "metadata": {},
     "output_type": "execute_result"
    }
   ],
   "source": [
    "df.head()"
   ]
  },
  {
   "cell_type": "markdown",
   "id": "182adb1d",
   "metadata": {},
   "source": [
    "Esta función está relacionada con la cola. Te ofrece los últimos 5 datos de la tabla. También se podría modificar aplicando los mismos cambios que en la anterior función."
   ]
  },
  {
   "cell_type": "code",
   "execution_count": 11,
   "id": "46f59fce",
   "metadata": {
    "scrolled": false
   },
   "outputs": [
    {
     "data": {
      "text/html": [
       "<div>\n",
       "<style scoped>\n",
       "    .dataframe tbody tr th:only-of-type {\n",
       "        vertical-align: middle;\n",
       "    }\n",
       "\n",
       "    .dataframe tbody tr th {\n",
       "        vertical-align: top;\n",
       "    }\n",
       "\n",
       "    .dataframe thead th {\n",
       "        text-align: right;\n",
       "    }\n",
       "</style>\n",
       "<table border=\"1\" class=\"dataframe\">\n",
       "  <thead>\n",
       "    <tr style=\"text-align: right;\">\n",
       "      <th></th>\n",
       "      <th>Country</th>\n",
       "      <th>Slug</th>\n",
       "      <th>ISO2</th>\n",
       "    </tr>\n",
       "  </thead>\n",
       "  <tbody>\n",
       "    <tr>\n",
       "      <th>243</th>\n",
       "      <td>Syrian Arab Republic (Syria)</td>\n",
       "      <td>syria</td>\n",
       "      <td>SY</td>\n",
       "    </tr>\n",
       "    <tr>\n",
       "      <th>244</th>\n",
       "      <td>United Arab Emirates</td>\n",
       "      <td>united-arab-emirates</td>\n",
       "      <td>AE</td>\n",
       "    </tr>\n",
       "    <tr>\n",
       "      <th>245</th>\n",
       "      <td>Egypt</td>\n",
       "      <td>egypt</td>\n",
       "      <td>EG</td>\n",
       "    </tr>\n",
       "    <tr>\n",
       "      <th>246</th>\n",
       "      <td>Ethiopia</td>\n",
       "      <td>ethiopia</td>\n",
       "      <td>ET</td>\n",
       "    </tr>\n",
       "    <tr>\n",
       "      <th>247</th>\n",
       "      <td>Niger</td>\n",
       "      <td>niger</td>\n",
       "      <td>NE</td>\n",
       "    </tr>\n",
       "  </tbody>\n",
       "</table>\n",
       "</div>"
      ],
      "text/plain": [
       "                          Country                  Slug ISO2\n",
       "243  Syrian Arab Republic (Syria)                 syria   SY\n",
       "244          United Arab Emirates  united-arab-emirates   AE\n",
       "245                         Egypt                 egypt   EG\n",
       "246                      Ethiopia              ethiopia   ET\n",
       "247                         Niger                 niger   NE"
      ]
     },
     "execution_count": 11,
     "metadata": {},
     "output_type": "execute_result"
    }
   ],
   "source": [
    "df.tail()"
   ]
  },
  {
   "cell_type": "markdown",
   "id": "5f2bc219",
   "metadata": {},
   "source": [
    "Por último, esta función muestra datos descriptivos sobre la tabla. Por ejemplo, te dice que hay 248 países y que hay tres objetos, entre otros aspectos. Esto sirve para ver que las celdas no están vacias. "
   ]
  },
  {
   "cell_type": "code",
   "execution_count": 12,
   "id": "1ce0ebe9",
   "metadata": {
    "scrolled": true
   },
   "outputs": [
    {
     "name": "stdout",
     "output_type": "stream",
     "text": [
      "<class 'pandas.core.frame.DataFrame'>\n",
      "RangeIndex: 248 entries, 0 to 247\n",
      "Data columns (total 3 columns):\n",
      " #   Column   Non-Null Count  Dtype \n",
      "---  ------   --------------  ----- \n",
      " 0   Country  248 non-null    object\n",
      " 1   Slug     248 non-null    object\n",
      " 2   ISO2     248 non-null    object\n",
      "dtypes: object(3)\n",
      "memory usage: 5.9+ KB\n"
     ]
    }
   ],
   "source": [
    "df.info()"
   ]
  },
  {
   "cell_type": "markdown",
   "id": "5a9624a2",
   "metadata": {},
   "source": [
    "## Acceso de datos"
   ]
  },
  {
   "cell_type": "markdown",
   "id": "b24407f5",
   "metadata": {},
   "source": [
    "En el caso de que queramos consultar aspectos específicos como los países tan solo tendremos que utilizar la función `df['']` y escribir entrecomillas `Country`. Directamente te hace un extracto de los primeros y los últimos. "
   ]
  },
  {
   "cell_type": "code",
   "execution_count": 13,
   "id": "251cbf0d",
   "metadata": {},
   "outputs": [
    {
     "data": {
      "text/plain": [
       "0                     Faroe Islands\n",
       "1                          Portugal\n",
       "2                              Mali\n",
       "3                        Azerbaijan\n",
       "4            British Virgin Islands\n",
       "                   ...             \n",
       "243    Syrian Arab Republic (Syria)\n",
       "244            United Arab Emirates\n",
       "245                           Egypt\n",
       "246                        Ethiopia\n",
       "247                           Niger\n",
       "Name: Country, Length: 248, dtype: object"
      ]
     },
     "execution_count": 13,
     "metadata": {},
     "output_type": "execute_result"
    }
   ],
   "source": [
    "df['Country']"
   ]
  },
  {
   "cell_type": "markdown",
   "id": "355fda45",
   "metadata": {},
   "source": [
    "Por otro lado, si sabes el valor del índice. puedes indicarlo entre corchetes y te aparece solo el nombre de ese país. "
   ]
  },
  {
   "cell_type": "code",
   "execution_count": 14,
   "id": "c6022248",
   "metadata": {},
   "outputs": [
    {
     "data": {
      "text/plain": [
       "'Bolivia'"
      ]
     },
     "execution_count": 14,
     "metadata": {},
     "output_type": "execute_result"
    }
   ],
   "source": [
    "df['Country'][200]"
   ]
  },
  {
   "cell_type": "markdown",
   "id": "158f5957",
   "metadata": {},
   "source": [
    "## Tiempo real"
   ]
  },
  {
   "cell_type": "markdown",
   "id": "e14d58b8",
   "metadata": {},
   "source": [
    "Ahora pasamos a la parte más llamativa de este ejercico de visualización de datos. Veremos en tiempo real las cifras de los países que queramos consultar a través de gráficos. \n",
    "\n",
    "En primer lugar, hay que indicar la url y crear un dataframe con el nombre de España para que haga la lectura JSON de esa url nueva. Posteriormente, indicamos que lea e `df` para ver si lo hemos hecho bien. Como resultado sale una tabla con 803 filas. "
   ]
  },
  {
   "cell_type": "code",
   "execution_count": 15,
   "id": "9aa02035",
   "metadata": {},
   "outputs": [
    {
     "data": {
      "text/html": [
       "<div>\n",
       "<style scoped>\n",
       "    .dataframe tbody tr th:only-of-type {\n",
       "        vertical-align: middle;\n",
       "    }\n",
       "\n",
       "    .dataframe tbody tr th {\n",
       "        vertical-align: top;\n",
       "    }\n",
       "\n",
       "    .dataframe thead th {\n",
       "        text-align: right;\n",
       "    }\n",
       "</style>\n",
       "<table border=\"1\" class=\"dataframe\">\n",
       "  <thead>\n",
       "    <tr style=\"text-align: right;\">\n",
       "      <th></th>\n",
       "      <th>Country</th>\n",
       "      <th>CountryCode</th>\n",
       "      <th>Province</th>\n",
       "      <th>City</th>\n",
       "      <th>CityCode</th>\n",
       "      <th>Lat</th>\n",
       "      <th>Lon</th>\n",
       "      <th>Cases</th>\n",
       "      <th>Status</th>\n",
       "      <th>Date</th>\n",
       "    </tr>\n",
       "  </thead>\n",
       "  <tbody>\n",
       "    <tr>\n",
       "      <th>0</th>\n",
       "      <td>Spain</td>\n",
       "      <td>ES</td>\n",
       "      <td></td>\n",
       "      <td></td>\n",
       "      <td></td>\n",
       "      <td>40.46</td>\n",
       "      <td>-3.75</td>\n",
       "      <td>0</td>\n",
       "      <td>confirmed</td>\n",
       "      <td>2020-01-22 00:00:00+00:00</td>\n",
       "    </tr>\n",
       "    <tr>\n",
       "      <th>1</th>\n",
       "      <td>Spain</td>\n",
       "      <td>ES</td>\n",
       "      <td></td>\n",
       "      <td></td>\n",
       "      <td></td>\n",
       "      <td>40.46</td>\n",
       "      <td>-3.75</td>\n",
       "      <td>0</td>\n",
       "      <td>confirmed</td>\n",
       "      <td>2020-01-23 00:00:00+00:00</td>\n",
       "    </tr>\n",
       "    <tr>\n",
       "      <th>2</th>\n",
       "      <td>Spain</td>\n",
       "      <td>ES</td>\n",
       "      <td></td>\n",
       "      <td></td>\n",
       "      <td></td>\n",
       "      <td>40.46</td>\n",
       "      <td>-3.75</td>\n",
       "      <td>0</td>\n",
       "      <td>confirmed</td>\n",
       "      <td>2020-01-24 00:00:00+00:00</td>\n",
       "    </tr>\n",
       "    <tr>\n",
       "      <th>3</th>\n",
       "      <td>Spain</td>\n",
       "      <td>ES</td>\n",
       "      <td></td>\n",
       "      <td></td>\n",
       "      <td></td>\n",
       "      <td>40.46</td>\n",
       "      <td>-3.75</td>\n",
       "      <td>0</td>\n",
       "      <td>confirmed</td>\n",
       "      <td>2020-01-25 00:00:00+00:00</td>\n",
       "    </tr>\n",
       "    <tr>\n",
       "      <th>4</th>\n",
       "      <td>Spain</td>\n",
       "      <td>ES</td>\n",
       "      <td></td>\n",
       "      <td></td>\n",
       "      <td></td>\n",
       "      <td>40.46</td>\n",
       "      <td>-3.75</td>\n",
       "      <td>0</td>\n",
       "      <td>confirmed</td>\n",
       "      <td>2020-01-26 00:00:00+00:00</td>\n",
       "    </tr>\n",
       "    <tr>\n",
       "      <th>...</th>\n",
       "      <td>...</td>\n",
       "      <td>...</td>\n",
       "      <td>...</td>\n",
       "      <td>...</td>\n",
       "      <td>...</td>\n",
       "      <td>...</td>\n",
       "      <td>...</td>\n",
       "      <td>...</td>\n",
       "      <td>...</td>\n",
       "      <td>...</td>\n",
       "    </tr>\n",
       "    <tr>\n",
       "      <th>799</th>\n",
       "      <td>Spain</td>\n",
       "      <td>ES</td>\n",
       "      <td></td>\n",
       "      <td></td>\n",
       "      <td></td>\n",
       "      <td>40.46</td>\n",
       "      <td>-3.75</td>\n",
       "      <td>11508309</td>\n",
       "      <td>confirmed</td>\n",
       "      <td>2022-03-31 00:00:00+00:00</td>\n",
       "    </tr>\n",
       "    <tr>\n",
       "      <th>800</th>\n",
       "      <td>Spain</td>\n",
       "      <td>ES</td>\n",
       "      <td></td>\n",
       "      <td></td>\n",
       "      <td></td>\n",
       "      <td>40.46</td>\n",
       "      <td>-3.75</td>\n",
       "      <td>11551574</td>\n",
       "      <td>confirmed</td>\n",
       "      <td>2022-04-01 00:00:00+00:00</td>\n",
       "    </tr>\n",
       "    <tr>\n",
       "      <th>801</th>\n",
       "      <td>Spain</td>\n",
       "      <td>ES</td>\n",
       "      <td></td>\n",
       "      <td></td>\n",
       "      <td></td>\n",
       "      <td>40.46</td>\n",
       "      <td>-3.75</td>\n",
       "      <td>11551574</td>\n",
       "      <td>confirmed</td>\n",
       "      <td>2022-04-02 00:00:00+00:00</td>\n",
       "    </tr>\n",
       "    <tr>\n",
       "      <th>802</th>\n",
       "      <td>Spain</td>\n",
       "      <td>ES</td>\n",
       "      <td></td>\n",
       "      <td></td>\n",
       "      <td></td>\n",
       "      <td>40.46</td>\n",
       "      <td>-3.75</td>\n",
       "      <td>11551574</td>\n",
       "      <td>confirmed</td>\n",
       "      <td>2022-04-03 00:00:00+00:00</td>\n",
       "    </tr>\n",
       "    <tr>\n",
       "      <th>803</th>\n",
       "      <td>Spain</td>\n",
       "      <td>ES</td>\n",
       "      <td></td>\n",
       "      <td></td>\n",
       "      <td></td>\n",
       "      <td>40.46</td>\n",
       "      <td>-3.75</td>\n",
       "      <td>11551574</td>\n",
       "      <td>confirmed</td>\n",
       "      <td>2022-04-04 00:00:00+00:00</td>\n",
       "    </tr>\n",
       "  </tbody>\n",
       "</table>\n",
       "<p>804 rows × 10 columns</p>\n",
       "</div>"
      ],
      "text/plain": [
       "    Country CountryCode Province City CityCode    Lat   Lon     Cases  \\\n",
       "0     Spain          ES                         40.46 -3.75         0   \n",
       "1     Spain          ES                         40.46 -3.75         0   \n",
       "2     Spain          ES                         40.46 -3.75         0   \n",
       "3     Spain          ES                         40.46 -3.75         0   \n",
       "4     Spain          ES                         40.46 -3.75         0   \n",
       "..      ...         ...      ...  ...      ...    ...   ...       ...   \n",
       "799   Spain          ES                         40.46 -3.75  11508309   \n",
       "800   Spain          ES                         40.46 -3.75  11551574   \n",
       "801   Spain          ES                         40.46 -3.75  11551574   \n",
       "802   Spain          ES                         40.46 -3.75  11551574   \n",
       "803   Spain          ES                         40.46 -3.75  11551574   \n",
       "\n",
       "        Status                      Date  \n",
       "0    confirmed 2020-01-22 00:00:00+00:00  \n",
       "1    confirmed 2020-01-23 00:00:00+00:00  \n",
       "2    confirmed 2020-01-24 00:00:00+00:00  \n",
       "3    confirmed 2020-01-25 00:00:00+00:00  \n",
       "4    confirmed 2020-01-26 00:00:00+00:00  \n",
       "..         ...                       ...  \n",
       "799  confirmed 2022-03-31 00:00:00+00:00  \n",
       "800  confirmed 2022-04-01 00:00:00+00:00  \n",
       "801  confirmed 2022-04-02 00:00:00+00:00  \n",
       "802  confirmed 2022-04-03 00:00:00+00:00  \n",
       "803  confirmed 2022-04-04 00:00:00+00:00  \n",
       "\n",
       "[804 rows x 10 columns]"
      ]
     },
     "execution_count": 15,
     "metadata": {},
     "output_type": "execute_result"
    }
   ],
   "source": [
    "url_live = 'https://api.covid19api.com/country/spain/status/confirmed/live'\n",
    "df_es = pd.read_json(url_live)\n",
    "df_es"
   ]
  },
  {
   "cell_type": "markdown",
   "id": "3672b734",
   "metadata": {},
   "source": [
    "A continuación, aplicamos la función `info` para que describa los datos de esta tabla. El término `float` hace alusión a los decimales, `int` los números enteros, `object` es cexto y `datatime` la hora. "
   ]
  },
  {
   "cell_type": "code",
   "execution_count": 16,
   "id": "7870572a",
   "metadata": {},
   "outputs": [
    {
     "name": "stdout",
     "output_type": "stream",
     "text": [
      "<class 'pandas.core.frame.DataFrame'>\n",
      "RangeIndex: 804 entries, 0 to 803\n",
      "Data columns (total 10 columns):\n",
      " #   Column       Non-Null Count  Dtype              \n",
      "---  ------       --------------  -----              \n",
      " 0   Country      804 non-null    object             \n",
      " 1   CountryCode  804 non-null    object             \n",
      " 2   Province     804 non-null    object             \n",
      " 3   City         804 non-null    object             \n",
      " 4   CityCode     804 non-null    object             \n",
      " 5   Lat          804 non-null    float64            \n",
      " 6   Lon          804 non-null    float64            \n",
      " 7   Cases        804 non-null    int64              \n",
      " 8   Status       804 non-null    object             \n",
      " 9   Date         804 non-null    datetime64[ns, UTC]\n",
      "dtypes: datetime64[ns, UTC](1), float64(2), int64(1), object(6)\n",
      "memory usage: 62.9+ KB\n"
     ]
    }
   ],
   "source": [
    "df_es.info()"
   ]
  },
  {
   "cell_type": "markdown",
   "id": "0c555942",
   "metadata": {},
   "source": [
    "Para aprovecharnos de la columna de control de Pandas, convertimos la columna `fecha` en la columna de `índice`. Esto nos va a venir bien para trabajar con el gráfico de líneas.\n",
    "\n",
    "¿Cómo lo hacemos? En el dataframe de España aplico la función `set_index` y le digo que el índice sea la columna fecha."
   ]
  },
  {
   "cell_type": "code",
   "execution_count": 17,
   "id": "1f0f8dfc",
   "metadata": {
    "scrolled": true
   },
   "outputs": [
    {
     "data": {
      "text/html": [
       "<div>\n",
       "<style scoped>\n",
       "    .dataframe tbody tr th:only-of-type {\n",
       "        vertical-align: middle;\n",
       "    }\n",
       "\n",
       "    .dataframe tbody tr th {\n",
       "        vertical-align: top;\n",
       "    }\n",
       "\n",
       "    .dataframe thead th {\n",
       "        text-align: right;\n",
       "    }\n",
       "</style>\n",
       "<table border=\"1\" class=\"dataframe\">\n",
       "  <thead>\n",
       "    <tr style=\"text-align: right;\">\n",
       "      <th></th>\n",
       "      <th>Country</th>\n",
       "      <th>CountryCode</th>\n",
       "      <th>Province</th>\n",
       "      <th>City</th>\n",
       "      <th>CityCode</th>\n",
       "      <th>Lat</th>\n",
       "      <th>Lon</th>\n",
       "      <th>Cases</th>\n",
       "      <th>Status</th>\n",
       "    </tr>\n",
       "    <tr>\n",
       "      <th>Date</th>\n",
       "      <th></th>\n",
       "      <th></th>\n",
       "      <th></th>\n",
       "      <th></th>\n",
       "      <th></th>\n",
       "      <th></th>\n",
       "      <th></th>\n",
       "      <th></th>\n",
       "      <th></th>\n",
       "    </tr>\n",
       "  </thead>\n",
       "  <tbody>\n",
       "    <tr>\n",
       "      <th>2020-01-22 00:00:00+00:00</th>\n",
       "      <td>Spain</td>\n",
       "      <td>ES</td>\n",
       "      <td></td>\n",
       "      <td></td>\n",
       "      <td></td>\n",
       "      <td>40.46</td>\n",
       "      <td>-3.75</td>\n",
       "      <td>0</td>\n",
       "      <td>confirmed</td>\n",
       "    </tr>\n",
       "    <tr>\n",
       "      <th>2020-01-23 00:00:00+00:00</th>\n",
       "      <td>Spain</td>\n",
       "      <td>ES</td>\n",
       "      <td></td>\n",
       "      <td></td>\n",
       "      <td></td>\n",
       "      <td>40.46</td>\n",
       "      <td>-3.75</td>\n",
       "      <td>0</td>\n",
       "      <td>confirmed</td>\n",
       "    </tr>\n",
       "    <tr>\n",
       "      <th>2020-01-24 00:00:00+00:00</th>\n",
       "      <td>Spain</td>\n",
       "      <td>ES</td>\n",
       "      <td></td>\n",
       "      <td></td>\n",
       "      <td></td>\n",
       "      <td>40.46</td>\n",
       "      <td>-3.75</td>\n",
       "      <td>0</td>\n",
       "      <td>confirmed</td>\n",
       "    </tr>\n",
       "    <tr>\n",
       "      <th>2020-01-25 00:00:00+00:00</th>\n",
       "      <td>Spain</td>\n",
       "      <td>ES</td>\n",
       "      <td></td>\n",
       "      <td></td>\n",
       "      <td></td>\n",
       "      <td>40.46</td>\n",
       "      <td>-3.75</td>\n",
       "      <td>0</td>\n",
       "      <td>confirmed</td>\n",
       "    </tr>\n",
       "    <tr>\n",
       "      <th>2020-01-26 00:00:00+00:00</th>\n",
       "      <td>Spain</td>\n",
       "      <td>ES</td>\n",
       "      <td></td>\n",
       "      <td></td>\n",
       "      <td></td>\n",
       "      <td>40.46</td>\n",
       "      <td>-3.75</td>\n",
       "      <td>0</td>\n",
       "      <td>confirmed</td>\n",
       "    </tr>\n",
       "    <tr>\n",
       "      <th>...</th>\n",
       "      <td>...</td>\n",
       "      <td>...</td>\n",
       "      <td>...</td>\n",
       "      <td>...</td>\n",
       "      <td>...</td>\n",
       "      <td>...</td>\n",
       "      <td>...</td>\n",
       "      <td>...</td>\n",
       "      <td>...</td>\n",
       "    </tr>\n",
       "    <tr>\n",
       "      <th>2022-03-31 00:00:00+00:00</th>\n",
       "      <td>Spain</td>\n",
       "      <td>ES</td>\n",
       "      <td></td>\n",
       "      <td></td>\n",
       "      <td></td>\n",
       "      <td>40.46</td>\n",
       "      <td>-3.75</td>\n",
       "      <td>11508309</td>\n",
       "      <td>confirmed</td>\n",
       "    </tr>\n",
       "    <tr>\n",
       "      <th>2022-04-01 00:00:00+00:00</th>\n",
       "      <td>Spain</td>\n",
       "      <td>ES</td>\n",
       "      <td></td>\n",
       "      <td></td>\n",
       "      <td></td>\n",
       "      <td>40.46</td>\n",
       "      <td>-3.75</td>\n",
       "      <td>11551574</td>\n",
       "      <td>confirmed</td>\n",
       "    </tr>\n",
       "    <tr>\n",
       "      <th>2022-04-02 00:00:00+00:00</th>\n",
       "      <td>Spain</td>\n",
       "      <td>ES</td>\n",
       "      <td></td>\n",
       "      <td></td>\n",
       "      <td></td>\n",
       "      <td>40.46</td>\n",
       "      <td>-3.75</td>\n",
       "      <td>11551574</td>\n",
       "      <td>confirmed</td>\n",
       "    </tr>\n",
       "    <tr>\n",
       "      <th>2022-04-03 00:00:00+00:00</th>\n",
       "      <td>Spain</td>\n",
       "      <td>ES</td>\n",
       "      <td></td>\n",
       "      <td></td>\n",
       "      <td></td>\n",
       "      <td>40.46</td>\n",
       "      <td>-3.75</td>\n",
       "      <td>11551574</td>\n",
       "      <td>confirmed</td>\n",
       "    </tr>\n",
       "    <tr>\n",
       "      <th>2022-04-04 00:00:00+00:00</th>\n",
       "      <td>Spain</td>\n",
       "      <td>ES</td>\n",
       "      <td></td>\n",
       "      <td></td>\n",
       "      <td></td>\n",
       "      <td>40.46</td>\n",
       "      <td>-3.75</td>\n",
       "      <td>11551574</td>\n",
       "      <td>confirmed</td>\n",
       "    </tr>\n",
       "  </tbody>\n",
       "</table>\n",
       "<p>804 rows × 9 columns</p>\n",
       "</div>"
      ],
      "text/plain": [
       "                          Country CountryCode Province City CityCode    Lat  \\\n",
       "Date                                                                          \n",
       "2020-01-22 00:00:00+00:00   Spain          ES                         40.46   \n",
       "2020-01-23 00:00:00+00:00   Spain          ES                         40.46   \n",
       "2020-01-24 00:00:00+00:00   Spain          ES                         40.46   \n",
       "2020-01-25 00:00:00+00:00   Spain          ES                         40.46   \n",
       "2020-01-26 00:00:00+00:00   Spain          ES                         40.46   \n",
       "...                           ...         ...      ...  ...      ...    ...   \n",
       "2022-03-31 00:00:00+00:00   Spain          ES                         40.46   \n",
       "2022-04-01 00:00:00+00:00   Spain          ES                         40.46   \n",
       "2022-04-02 00:00:00+00:00   Spain          ES                         40.46   \n",
       "2022-04-03 00:00:00+00:00   Spain          ES                         40.46   \n",
       "2022-04-04 00:00:00+00:00   Spain          ES                         40.46   \n",
       "\n",
       "                            Lon     Cases     Status  \n",
       "Date                                                  \n",
       "2020-01-22 00:00:00+00:00 -3.75         0  confirmed  \n",
       "2020-01-23 00:00:00+00:00 -3.75         0  confirmed  \n",
       "2020-01-24 00:00:00+00:00 -3.75         0  confirmed  \n",
       "2020-01-25 00:00:00+00:00 -3.75         0  confirmed  \n",
       "2020-01-26 00:00:00+00:00 -3.75         0  confirmed  \n",
       "...                         ...       ...        ...  \n",
       "2022-03-31 00:00:00+00:00 -3.75  11508309  confirmed  \n",
       "2022-04-01 00:00:00+00:00 -3.75  11551574  confirmed  \n",
       "2022-04-02 00:00:00+00:00 -3.75  11551574  confirmed  \n",
       "2022-04-03 00:00:00+00:00 -3.75  11551574  confirmed  \n",
       "2022-04-04 00:00:00+00:00 -3.75  11551574  confirmed  \n",
       "\n",
       "[804 rows x 9 columns]"
      ]
     },
     "execution_count": 17,
     "metadata": {},
     "output_type": "execute_result"
    }
   ],
   "source": [
    "df_es.set_index('Date')"
   ]
  },
  {
   "cell_type": "markdown",
   "id": "0c997c34",
   "metadata": {},
   "source": [
    "si además quiero incluir otros datos aparte de la fecha puedo hacerlo a través de corchetes. Con ellos, hago una llamada a la columna `casos`"
   ]
  },
  {
   "cell_type": "code",
   "execution_count": 18,
   "id": "88025ae6",
   "metadata": {},
   "outputs": [
    {
     "data": {
      "text/plain": [
       "Date\n",
       "2020-01-22 00:00:00+00:00           0\n",
       "2020-01-23 00:00:00+00:00           0\n",
       "2020-01-24 00:00:00+00:00           0\n",
       "2020-01-25 00:00:00+00:00           0\n",
       "2020-01-26 00:00:00+00:00           0\n",
       "                               ...   \n",
       "2022-03-31 00:00:00+00:00    11508309\n",
       "2022-04-01 00:00:00+00:00    11551574\n",
       "2022-04-02 00:00:00+00:00    11551574\n",
       "2022-04-03 00:00:00+00:00    11551574\n",
       "2022-04-04 00:00:00+00:00    11551574\n",
       "Name: Cases, Length: 804, dtype: int64"
      ]
     },
     "execution_count": 18,
     "metadata": {},
     "output_type": "execute_result"
    }
   ],
   "source": [
    "df_es.set_index('Date')['Cases']"
   ]
  },
  {
   "cell_type": "markdown",
   "id": "61138d00",
   "metadata": {},
   "source": [
    "## Tiempo real en España"
   ]
  },
  {
   "cell_type": "markdown",
   "id": "1a71775d",
   "metadata": {},
   "source": [
    "Como el objetivo final es que muestre un gráfico, le indico que a todo ese objeto le haga un `plot()`, es decir, que muestre gráfico con los datos en tiempo real de España. \n",
    "\n",
    "Si además queremos que ese gráfico vaya acompañado de un título, le añadimos un parentésis con el atributo `título` y y el nombre entrecomillado. El código sería `(title='')`"
   ]
  },
  {
   "cell_type": "code",
   "execution_count": 19,
   "id": "0b737ada",
   "metadata": {},
   "outputs": [
    {
     "data": {
      "text/plain": [
       "<AxesSubplot:title={'center':'Datos de Covid19 en España'}, xlabel='Date'>"
      ]
     },
     "execution_count": 19,
     "metadata": {},
     "output_type": "execute_result"
    },
    {
     "data": {
      "image/png": "[encoded data removed]",
      "text/plain": [
       "<Figure size 432x288 with 1 Axes>"
      ]
     },
     "metadata": {
      "needs_background": "light"
     },
     "output_type": "display_data"
    }
   ],
   "source": [
    "df_es.set_index('Date')['Cases'].plot(title=\"Datos de Covid19 en España\")"
   ]
  },
  {
   "cell_type": "markdown",
   "id": "253fb480",
   "metadata": {},
   "source": [
    "## Tiempo real en Colombia"
   ]
  },
  {
   "cell_type": "markdown",
   "id": "9deed85b",
   "metadata": {},
   "source": [
    "En segundo lugar, vamos a analizar Colombia para poder realizar una comparativa entre ambos países y ver en qué nación ha afectado más la pandemia. En esta ocasión, hay que aplicar los mismo pasos que en España, pero cambiando el nombre."
   ]
  },
  {
   "cell_type": "code",
   "execution_count": 20,
   "id": "3aced258",
   "metadata": {},
   "outputs": [
    {
     "data": {
      "text/plain": [
       "<AxesSubplot:title={'center':'Datos de Covid19 en Colombia'}, xlabel='Date'>"
      ]
     },
     "execution_count": 20,
     "metadata": {},
     "output_type": "execute_result"
    },
    {
     "data": {
      "image/png": "[encoded data removed]",
      "text/plain": [
       "<Figure size 432x288 with 1 Axes>"
      ]
     },
     "metadata": {
      "needs_background": "light"
     },
     "output_type": "display_data"
    }
   ],
   "source": [
    "url_co = 'https://api.covid19api.com/country/colombia/status/confirmed/live'\n",
    "df_co = pd.read_json(url_co)\n",
    "df_co.set_index ('Date') ['Cases'].plot(title=\"Datos de Covid19 en Colombia\")"
   ]
  },
  {
   "cell_type": "markdown",
   "id": "7d9356f9",
   "metadata": {},
   "source": [
    "## Comparativa España - Colombia"
   ]
  },
  {
   "cell_type": "markdown",
   "id": "a566d3be",
   "metadata": {},
   "source": [
    "Para hacer la comparativa, creamos dos tablas. Una con los casos de España y otra con los de Colombia basándonos en las tablas de origen."
   ]
  },
  {
   "cell_type": "code",
   "execution_count": 21,
   "id": "ed6c2208",
   "metadata": {},
   "outputs": [],
   "source": [
    "casos_es= df_es.set_index('Date')['Cases']\n",
    "casos_co= df_co.set_index('Date')['Cases']"
   ]
  },
  {
   "cell_type": "markdown",
   "id": "f4ae18ef",
   "metadata": {},
   "source": [
    "Empleamos una nueva función de Pandas que se llama `concatenar` y a esta le decimos que aparezcan los casos de España y los casos de Colombia y lo haga en el eje 1, es decir, lo pone a la derecha. \n"
   ]
  },
  {
   "cell_type": "code",
   "execution_count": 23,
   "id": "53c18973",
   "metadata": {
    "scrolled": true
   },
   "outputs": [
    {
     "data": {
      "text/html": [
       "<div>\n",
       "<style scoped>\n",
       "    .dataframe tbody tr th:only-of-type {\n",
       "        vertical-align: middle;\n",
       "    }\n",
       "\n",
       "    .dataframe tbody tr th {\n",
       "        vertical-align: top;\n",
       "    }\n",
       "\n",
       "    .dataframe thead th {\n",
       "        text-align: right;\n",
       "    }\n",
       "</style>\n",
       "<table border=\"1\" class=\"dataframe\">\n",
       "  <thead>\n",
       "    <tr style=\"text-align: right;\">\n",
       "      <th></th>\n",
       "      <th>Cases</th>\n",
       "      <th>Cases</th>\n",
       "    </tr>\n",
       "    <tr>\n",
       "      <th>Date</th>\n",
       "      <th></th>\n",
       "      <th></th>\n",
       "    </tr>\n",
       "  </thead>\n",
       "  <tbody>\n",
       "    <tr>\n",
       "      <th>2020-01-22 00:00:00+00:00</th>\n",
       "      <td>0</td>\n",
       "      <td>0</td>\n",
       "    </tr>\n",
       "    <tr>\n",
       "      <th>2020-01-23 00:00:00+00:00</th>\n",
       "      <td>0</td>\n",
       "      <td>0</td>\n",
       "    </tr>\n",
       "    <tr>\n",
       "      <th>2020-01-24 00:00:00+00:00</th>\n",
       "      <td>0</td>\n",
       "      <td>0</td>\n",
       "    </tr>\n",
       "    <tr>\n",
       "      <th>2020-01-25 00:00:00+00:00</th>\n",
       "      <td>0</td>\n",
       "      <td>0</td>\n",
       "    </tr>\n",
       "    <tr>\n",
       "      <th>2020-01-26 00:00:00+00:00</th>\n",
       "      <td>0</td>\n",
       "      <td>0</td>\n",
       "    </tr>\n",
       "    <tr>\n",
       "      <th>...</th>\n",
       "      <td>...</td>\n",
       "      <td>...</td>\n",
       "    </tr>\n",
       "    <tr>\n",
       "      <th>2022-03-31 00:00:00+00:00</th>\n",
       "      <td>11508309</td>\n",
       "      <td>6084916</td>\n",
       "    </tr>\n",
       "    <tr>\n",
       "      <th>2022-04-01 00:00:00+00:00</th>\n",
       "      <td>11551574</td>\n",
       "      <td>6085270</td>\n",
       "    </tr>\n",
       "    <tr>\n",
       "      <th>2022-04-02 00:00:00+00:00</th>\n",
       "      <td>11551574</td>\n",
       "      <td>6085618</td>\n",
       "    </tr>\n",
       "    <tr>\n",
       "      <th>2022-04-03 00:00:00+00:00</th>\n",
       "      <td>11551574</td>\n",
       "      <td>6085926</td>\n",
       "    </tr>\n",
       "    <tr>\n",
       "      <th>2022-04-04 00:00:00+00:00</th>\n",
       "      <td>11551574</td>\n",
       "      <td>6086233</td>\n",
       "    </tr>\n",
       "  </tbody>\n",
       "</table>\n",
       "<p>804 rows × 2 columns</p>\n",
       "</div>"
      ],
      "text/plain": [
       "                              Cases    Cases\n",
       "Date                                        \n",
       "2020-01-22 00:00:00+00:00         0        0\n",
       "2020-01-23 00:00:00+00:00         0        0\n",
       "2020-01-24 00:00:00+00:00         0        0\n",
       "2020-01-25 00:00:00+00:00         0        0\n",
       "2020-01-26 00:00:00+00:00         0        0\n",
       "...                             ...      ...\n",
       "2022-03-31 00:00:00+00:00  11508309  6084916\n",
       "2022-04-01 00:00:00+00:00  11551574  6085270\n",
       "2022-04-02 00:00:00+00:00  11551574  6085618\n",
       "2022-04-03 00:00:00+00:00  11551574  6085926\n",
       "2022-04-04 00:00:00+00:00  11551574  6086233\n",
       "\n",
       "[804 rows x 2 columns]"
      ]
     },
     "execution_count": 23,
     "metadata": {},
     "output_type": "execute_result"
    }
   ],
   "source": [
    "pd.concat([casos_es, casos_co], axis=1)"
   ]
  },
  {
   "cell_type": "markdown",
   "id": "a51b38a2",
   "metadata": {},
   "source": [
    "Posteriormente, metemos esto en un nuevo objeto al que le llamamos `vs` para guardar la concatenación. "
   ]
  },
  {
   "cell_type": "code",
   "execution_count": 24,
   "id": "02cdf253",
   "metadata": {},
   "outputs": [
    {
     "data": {
      "text/html": [
       "<div>\n",
       "<style scoped>\n",
       "    .dataframe tbody tr th:only-of-type {\n",
       "        vertical-align: middle;\n",
       "    }\n",
       "\n",
       "    .dataframe tbody tr th {\n",
       "        vertical-align: top;\n",
       "    }\n",
       "\n",
       "    .dataframe thead th {\n",
       "        text-align: right;\n",
       "    }\n",
       "</style>\n",
       "<table border=\"1\" class=\"dataframe\">\n",
       "  <thead>\n",
       "    <tr style=\"text-align: right;\">\n",
       "      <th></th>\n",
       "      <th>Cases</th>\n",
       "      <th>Cases</th>\n",
       "    </tr>\n",
       "    <tr>\n",
       "      <th>Date</th>\n",
       "      <th></th>\n",
       "      <th></th>\n",
       "    </tr>\n",
       "  </thead>\n",
       "  <tbody>\n",
       "    <tr>\n",
       "      <th>2020-01-22 00:00:00+00:00</th>\n",
       "      <td>0</td>\n",
       "      <td>0</td>\n",
       "    </tr>\n",
       "    <tr>\n",
       "      <th>2020-01-23 00:00:00+00:00</th>\n",
       "      <td>0</td>\n",
       "      <td>0</td>\n",
       "    </tr>\n",
       "    <tr>\n",
       "      <th>2020-01-24 00:00:00+00:00</th>\n",
       "      <td>0</td>\n",
       "      <td>0</td>\n",
       "    </tr>\n",
       "    <tr>\n",
       "      <th>2020-01-25 00:00:00+00:00</th>\n",
       "      <td>0</td>\n",
       "      <td>0</td>\n",
       "    </tr>\n",
       "    <tr>\n",
       "      <th>2020-01-26 00:00:00+00:00</th>\n",
       "      <td>0</td>\n",
       "      <td>0</td>\n",
       "    </tr>\n",
       "    <tr>\n",
       "      <th>...</th>\n",
       "      <td>...</td>\n",
       "      <td>...</td>\n",
       "    </tr>\n",
       "    <tr>\n",
       "      <th>2022-03-31 00:00:00+00:00</th>\n",
       "      <td>11508309</td>\n",
       "      <td>6084916</td>\n",
       "    </tr>\n",
       "    <tr>\n",
       "      <th>2022-04-01 00:00:00+00:00</th>\n",
       "      <td>11551574</td>\n",
       "      <td>6085270</td>\n",
       "    </tr>\n",
       "    <tr>\n",
       "      <th>2022-04-02 00:00:00+00:00</th>\n",
       "      <td>11551574</td>\n",
       "      <td>6085618</td>\n",
       "    </tr>\n",
       "    <tr>\n",
       "      <th>2022-04-03 00:00:00+00:00</th>\n",
       "      <td>11551574</td>\n",
       "      <td>6085926</td>\n",
       "    </tr>\n",
       "    <tr>\n",
       "      <th>2022-04-04 00:00:00+00:00</th>\n",
       "      <td>11551574</td>\n",
       "      <td>6086233</td>\n",
       "    </tr>\n",
       "  </tbody>\n",
       "</table>\n",
       "<p>804 rows × 2 columns</p>\n",
       "</div>"
      ],
      "text/plain": [
       "                              Cases    Cases\n",
       "Date                                        \n",
       "2020-01-22 00:00:00+00:00         0        0\n",
       "2020-01-23 00:00:00+00:00         0        0\n",
       "2020-01-24 00:00:00+00:00         0        0\n",
       "2020-01-25 00:00:00+00:00         0        0\n",
       "2020-01-26 00:00:00+00:00         0        0\n",
       "...                             ...      ...\n",
       "2022-03-31 00:00:00+00:00  11508309  6084916\n",
       "2022-04-01 00:00:00+00:00  11551574  6085270\n",
       "2022-04-02 00:00:00+00:00  11551574  6085618\n",
       "2022-04-03 00:00:00+00:00  11551574  6085926\n",
       "2022-04-04 00:00:00+00:00  11551574  6086233\n",
       "\n",
       "[804 rows x 2 columns]"
      ]
     },
     "execution_count": 24,
     "metadata": {},
     "output_type": "execute_result"
    }
   ],
   "source": [
    "vs = pd.concat([casos_es, casos_co], axis=1)\n",
    "vs"
   ]
  },
  {
   "cell_type": "markdown",
   "id": "a354bd57",
   "metadata": {},
   "source": [
    "Como las dos columnas tienen el mismo nombre `Cases`, se los vamos a cambiar indicando que la primera columna haga referencia a España y la segunda a Colombia. Para ello empleamos la función `vs.columns = []`"
   ]
  },
  {
   "cell_type": "code",
   "execution_count": 25,
   "id": "15c52cbd",
   "metadata": {
    "scrolled": true
   },
   "outputs": [
    {
     "data": {
      "text/html": [
       "<div>\n",
       "<style scoped>\n",
       "    .dataframe tbody tr th:only-of-type {\n",
       "        vertical-align: middle;\n",
       "    }\n",
       "\n",
       "    .dataframe tbody tr th {\n",
       "        vertical-align: top;\n",
       "    }\n",
       "\n",
       "    .dataframe thead th {\n",
       "        text-align: right;\n",
       "    }\n",
       "</style>\n",
       "<table border=\"1\" class=\"dataframe\">\n",
       "  <thead>\n",
       "    <tr style=\"text-align: right;\">\n",
       "      <th></th>\n",
       "      <th>España</th>\n",
       "      <th>Colombia</th>\n",
       "    </tr>\n",
       "    <tr>\n",
       "      <th>Date</th>\n",
       "      <th></th>\n",
       "      <th></th>\n",
       "    </tr>\n",
       "  </thead>\n",
       "  <tbody>\n",
       "    <tr>\n",
       "      <th>2020-01-22 00:00:00+00:00</th>\n",
       "      <td>0</td>\n",
       "      <td>0</td>\n",
       "    </tr>\n",
       "    <tr>\n",
       "      <th>2020-01-23 00:00:00+00:00</th>\n",
       "      <td>0</td>\n",
       "      <td>0</td>\n",
       "    </tr>\n",
       "    <tr>\n",
       "      <th>2020-01-24 00:00:00+00:00</th>\n",
       "      <td>0</td>\n",
       "      <td>0</td>\n",
       "    </tr>\n",
       "    <tr>\n",
       "      <th>2020-01-25 00:00:00+00:00</th>\n",
       "      <td>0</td>\n",
       "      <td>0</td>\n",
       "    </tr>\n",
       "    <tr>\n",
       "      <th>2020-01-26 00:00:00+00:00</th>\n",
       "      <td>0</td>\n",
       "      <td>0</td>\n",
       "    </tr>\n",
       "    <tr>\n",
       "      <th>...</th>\n",
       "      <td>...</td>\n",
       "      <td>...</td>\n",
       "    </tr>\n",
       "    <tr>\n",
       "      <th>2022-03-31 00:00:00+00:00</th>\n",
       "      <td>11508309</td>\n",
       "      <td>6084916</td>\n",
       "    </tr>\n",
       "    <tr>\n",
       "      <th>2022-04-01 00:00:00+00:00</th>\n",
       "      <td>11551574</td>\n",
       "      <td>6085270</td>\n",
       "    </tr>\n",
       "    <tr>\n",
       "      <th>2022-04-02 00:00:00+00:00</th>\n",
       "      <td>11551574</td>\n",
       "      <td>6085618</td>\n",
       "    </tr>\n",
       "    <tr>\n",
       "      <th>2022-04-03 00:00:00+00:00</th>\n",
       "      <td>11551574</td>\n",
       "      <td>6085926</td>\n",
       "    </tr>\n",
       "    <tr>\n",
       "      <th>2022-04-04 00:00:00+00:00</th>\n",
       "      <td>11551574</td>\n",
       "      <td>6086233</td>\n",
       "    </tr>\n",
       "  </tbody>\n",
       "</table>\n",
       "<p>804 rows × 2 columns</p>\n",
       "</div>"
      ],
      "text/plain": [
       "                             España  Colombia\n",
       "Date                                         \n",
       "2020-01-22 00:00:00+00:00         0         0\n",
       "2020-01-23 00:00:00+00:00         0         0\n",
       "2020-01-24 00:00:00+00:00         0         0\n",
       "2020-01-25 00:00:00+00:00         0         0\n",
       "2020-01-26 00:00:00+00:00         0         0\n",
       "...                             ...       ...\n",
       "2022-03-31 00:00:00+00:00  11508309   6084916\n",
       "2022-04-01 00:00:00+00:00  11551574   6085270\n",
       "2022-04-02 00:00:00+00:00  11551574   6085618\n",
       "2022-04-03 00:00:00+00:00  11551574   6085926\n",
       "2022-04-04 00:00:00+00:00  11551574   6086233\n",
       "\n",
       "[804 rows x 2 columns]"
      ]
     },
     "execution_count": 25,
     "metadata": {},
     "output_type": "execute_result"
    }
   ],
   "source": [
    "vs.columns = ['España', 'Colombia']\n",
    "vs"
   ]
  },
  {
   "cell_type": "markdown",
   "id": "198c7591",
   "metadata": {},
   "source": [
    "Como lo que queremos es hacer un gráfico con la comparativa de ambos países, añadimos `.plot` y el atributo `kind` para indicar cómo nos gustaría que se nos muestre. "
   ]
  },
  {
   "cell_type": "code",
   "execution_count": 26,
   "id": "08e0835f",
   "metadata": {},
   "outputs": [
    {
     "data": {
      "text/plain": [
       "<AxesSubplot:title={'center':'España vs Colombia'}, xlabel='Date'>"
      ]
     },
     "execution_count": 26,
     "metadata": {},
     "output_type": "execute_result"
    },
    {
     "data": {
      "image/png": "[encoded data removed]",
      "text/plain": [
       "<Figure size 432x288 with 1 Axes>"
      ]
     },
     "metadata": {
      "needs_background": "light"
     },
     "output_type": "display_data"
    }
   ],
   "source": [
    "vs.plot(title=\"España vs Colombia\", kind='area')"
   ]
  },
  {
   "cell_type": "markdown",
   "id": "be5886dd",
   "metadata": {},
   "source": [
    "## Tiempo real en México"
   ]
  },
  {
   "cell_type": "markdown",
   "id": "8a12c43e",
   "metadata": {},
   "source": [
    "Por último, analizamos el país de México para hacer una comparativa entre tres países. Todos los pasos son iguales, aunque hay que cambiar el nombre de las variables. En esta ocasión, el objeto se va a llamar `vs3`. "
   ]
  },
  {
   "cell_type": "code",
   "execution_count": 27,
   "id": "6b1b55d6",
   "metadata": {
    "scrolled": true
   },
   "outputs": [
    {
     "data": {
      "text/plain": [
       "<AxesSubplot:title={'center':'Triple comparativa'}, xlabel='Date'>"
      ]
     },
     "execution_count": 27,
     "metadata": {},
     "output_type": "execute_result"
    },
    {
     "data": {
      "image/png": "[encoded data removed]",
      "text/plain": [
       "<Figure size 432x288 with 1 Axes>"
      ]
     },
     "metadata": {
      "needs_background": "light"
     },
     "output_type": "display_data"
    }
   ],
   "source": [
    "url_mex = 'https://api.covid19api.com/country/mexico/status/confirmed/live'\n",
    "df_mex = pd.read_json(url_mex)\n",
    "df_mex.set_index('Date') \n",
    "df_mex.set_index('Date')['Cases']\n",
    "casos_mex = df_mex.set_index ('Date')['Cases']\n",
    "vs3 = pd.concat([casos_es,casos_co,casos_mex], axis=1)\n",
    "vs3.columns = ['España','Colombia','Mexico']\n",
    "vs3.plot(title=\"Triple comparativa\")"
   ]
  },
  {
   "cell_type": "markdown",
   "id": "33148f83",
   "metadata": {},
   "source": [
    "## Exportar datos "
   ]
  },
  {
   "cell_type": "markdown",
   "id": "a93a073b",
   "metadata": {},
   "source": [
    "¿Cómo podemos convertir un objeto en CSV? Lo primero que hay que hacer es especificar en que formato lo queremos convertir."
   ]
  },
  {
   "cell_type": "code",
   "execution_count": 29,
   "id": "fb1835c7",
   "metadata": {},
   "outputs": [],
   "source": [
    "vs.to_csv('vs.csv')"
   ]
  },
  {
   "cell_type": "markdown",
   "id": "9cf737fe",
   "metadata": {},
   "source": [
    "Después le indico que voy a crear un objeto grafico empleanto el método figura y que me lo guarde en `.png`"
   ]
  },
  {
   "cell_type": "code",
   "execution_count": 30,
   "id": "b2f4c7be",
   "metadata": {},
   "outputs": [
    {
     "data": {
      "image/png": "[encoded data removed]",
      "text/plain": [
       "<Figure size 432x288 with 1 Axes>"
      ]
     },
     "metadata": {
      "needs_background": "light"
     },
     "output_type": "display_data"
    }
   ],
   "source": [
    "grafico = vs.plot()\n",
    "fig = grafico.get_figure()\n",
    "fig.savefig(\"vs.png\")"
   ]
  },
  {
   "cell_type": "markdown",
   "id": "8cac5f23",
   "metadata": {},
   "source": [
    "## Seleccionar más columnas"
   ]
  },
  {
   "cell_type": "markdown",
   "id": "9509e8e3",
   "metadata": {},
   "source": [
    "Esta es una duda que surgió durante la realización del ejercicio. Para que salgan tres celdas ponemos un corchete indicando una lista y otro corchete diciendo que es una sublista. "
   ]
  },
  {
   "cell_type": "code",
   "execution_count": 28,
   "id": "a98daf45",
   "metadata": {
    "scrolled": true
   },
   "outputs": [
    {
     "data": {
      "text/html": [
       "<div>\n",
       "<style scoped>\n",
       "    .dataframe tbody tr th:only-of-type {\n",
       "        vertical-align: middle;\n",
       "    }\n",
       "\n",
       "    .dataframe tbody tr th {\n",
       "        vertical-align: top;\n",
       "    }\n",
       "\n",
       "    .dataframe thead th {\n",
       "        text-align: right;\n",
       "    }\n",
       "</style>\n",
       "<table border=\"1\" class=\"dataframe\">\n",
       "  <thead>\n",
       "    <tr style=\"text-align: right;\">\n",
       "      <th></th>\n",
       "      <th>Cases</th>\n",
       "      <th>Lon</th>\n",
       "    </tr>\n",
       "    <tr>\n",
       "      <th>Date</th>\n",
       "      <th></th>\n",
       "      <th></th>\n",
       "    </tr>\n",
       "  </thead>\n",
       "  <tbody>\n",
       "    <tr>\n",
       "      <th>2020-01-22 00:00:00+00:00</th>\n",
       "      <td>0</td>\n",
       "      <td>-3.75</td>\n",
       "    </tr>\n",
       "    <tr>\n",
       "      <th>2020-01-23 00:00:00+00:00</th>\n",
       "      <td>0</td>\n",
       "      <td>-3.75</td>\n",
       "    </tr>\n",
       "    <tr>\n",
       "      <th>2020-01-24 00:00:00+00:00</th>\n",
       "      <td>0</td>\n",
       "      <td>-3.75</td>\n",
       "    </tr>\n",
       "    <tr>\n",
       "      <th>2020-01-25 00:00:00+00:00</th>\n",
       "      <td>0</td>\n",
       "      <td>-3.75</td>\n",
       "    </tr>\n",
       "    <tr>\n",
       "      <th>2020-01-26 00:00:00+00:00</th>\n",
       "      <td>0</td>\n",
       "      <td>-3.75</td>\n",
       "    </tr>\n",
       "    <tr>\n",
       "      <th>...</th>\n",
       "      <td>...</td>\n",
       "      <td>...</td>\n",
       "    </tr>\n",
       "    <tr>\n",
       "      <th>2022-03-31 00:00:00+00:00</th>\n",
       "      <td>11508309</td>\n",
       "      <td>-3.75</td>\n",
       "    </tr>\n",
       "    <tr>\n",
       "      <th>2022-04-01 00:00:00+00:00</th>\n",
       "      <td>11551574</td>\n",
       "      <td>-3.75</td>\n",
       "    </tr>\n",
       "    <tr>\n",
       "      <th>2022-04-02 00:00:00+00:00</th>\n",
       "      <td>11551574</td>\n",
       "      <td>-3.75</td>\n",
       "    </tr>\n",
       "    <tr>\n",
       "      <th>2022-04-03 00:00:00+00:00</th>\n",
       "      <td>11551574</td>\n",
       "      <td>-3.75</td>\n",
       "    </tr>\n",
       "    <tr>\n",
       "      <th>2022-04-04 00:00:00+00:00</th>\n",
       "      <td>11551574</td>\n",
       "      <td>-3.75</td>\n",
       "    </tr>\n",
       "  </tbody>\n",
       "</table>\n",
       "<p>804 rows × 2 columns</p>\n",
       "</div>"
      ],
      "text/plain": [
       "                              Cases   Lon\n",
       "Date                                     \n",
       "2020-01-22 00:00:00+00:00         0 -3.75\n",
       "2020-01-23 00:00:00+00:00         0 -3.75\n",
       "2020-01-24 00:00:00+00:00         0 -3.75\n",
       "2020-01-25 00:00:00+00:00         0 -3.75\n",
       "2020-01-26 00:00:00+00:00         0 -3.75\n",
       "...                             ...   ...\n",
       "2022-03-31 00:00:00+00:00  11508309 -3.75\n",
       "2022-04-01 00:00:00+00:00  11551574 -3.75\n",
       "2022-04-02 00:00:00+00:00  11551574 -3.75\n",
       "2022-04-03 00:00:00+00:00  11551574 -3.75\n",
       "2022-04-04 00:00:00+00:00  11551574 -3.75\n",
       "\n",
       "[804 rows x 2 columns]"
      ]
     },
     "execution_count": 28,
     "metadata": {},
     "output_type": "execute_result"
    }
   ],
   "source": [
    "df_es.set_index('Date')[['Cases', 'Lon']]"
   ]
  }
 ],
 "metadata": {
  "kernelspec": {
   "display_name": "Python 3 (ipykernel)",
   "language": "python",
   "name": "python3"
  },
  "language_info": {
   "codemirror_mode": {
    "name": "ipython",
    "version": 3
   },
   "file_extension": ".py",
   "mimetype": "text/x-python",
   "name": "python",
   "nbconvert_exporter": "python",
   "pygments_lexer": "ipython3",
   "version": "3.9.7"
  }
 },
 "nbformat": 4,
 "nbformat_minor": 5
}
