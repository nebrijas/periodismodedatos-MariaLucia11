{
 "cells": [
  {
   "cell_type": "markdown",
   "id": "f6c4d30d",
   "metadata": {},
   "source": [
    "# API Pandas Folium\n",
    "- API\n",
    "- Pandas\n",
    "- Folium"
   ]
  },
  {
   "cell_type": "markdown",
   "id": "cdf4fd00",
   "metadata": {},
   "source": [
    "## Instalar librerías"
   ]
  },
  {
   "cell_type": "code",
   "execution_count": 92,
   "id": "cee78be2",
   "metadata": {},
   "outputs": [
    {
     "name": "stdout",
     "output_type": "stream",
     "text": [
      "Requirement already satisfied: pandas in c:\\users\\mlucy\\anaconda3\\lib\\site-packages (1.3.4)\n",
      "Requirement already satisfied: folium in c:\\users\\mlucy\\anaconda3\\lib\\site-packages (0.12.1.post1)\n",
      "Requirement already satisfied: pytz>=2017.3 in c:\\users\\mlucy\\anaconda3\\lib\\site-packages (from pandas) (2021.3)\n",
      "Requirement already satisfied: python-dateutil>=2.7.3 in c:\\users\\mlucy\\anaconda3\\lib\\site-packages (from pandas) (2.8.2)\n",
      "Requirement already satisfied: numpy>=1.17.3 in c:\\users\\mlucy\\anaconda3\\lib\\site-packages (from pandas) (1.20.3)\n",
      "Requirement already satisfied: requests in c:\\users\\mlucy\\anaconda3\\lib\\site-packages (from folium) (2.26.0)\n",
      "Requirement already satisfied: jinja2>=2.9 in c:\\users\\mlucy\\anaconda3\\lib\\site-packages (from folium) (2.11.3)\n",
      "Requirement already satisfied: branca>=0.3.0 in c:\\users\\mlucy\\anaconda3\\lib\\site-packages (from folium) (0.4.2)\n",
      "Requirement already satisfied: MarkupSafe>=0.23 in c:\\users\\mlucy\\anaconda3\\lib\\site-packages (from jinja2>=2.9->folium) (1.1.1)\n",
      "Requirement already satisfied: six>=1.5 in c:\\users\\mlucy\\anaconda3\\lib\\site-packages (from python-dateutil>=2.7.3->pandas) (1.16.0)\n",
      "Requirement already satisfied: charset-normalizer~=2.0.0 in c:\\users\\mlucy\\anaconda3\\lib\\site-packages (from requests->folium) (2.0.4)\n",
      "Requirement already satisfied: idna<4,>=2.5 in c:\\users\\mlucy\\anaconda3\\lib\\site-packages (from requests->folium) (3.2)\n",
      "Requirement already satisfied: certifi>=2017.4.17 in c:\\users\\mlucy\\anaconda3\\lib\\site-packages (from requests->folium) (2021.10.8)\n",
      "Requirement already satisfied: urllib3<1.27,>=1.21.1 in c:\\users\\mlucy\\anaconda3\\lib\\site-packages (from requests->folium) (1.26.7)\n"
     ]
    }
   ],
   "source": [
    "!pip install pandas folium "
   ]
  },
  {
   "cell_type": "markdown",
   "id": "528fa426",
   "metadata": {},
   "source": [
    "## Configurar librerías"
   ]
  },
  {
   "cell_type": "code",
   "execution_count": 93,
   "id": "5e746501",
   "metadata": {},
   "outputs": [],
   "source": [
    "import pandas as pd\n",
    "import folium\n"
   ]
  },
  {
   "cell_type": "markdown",
   "id": "add8b5e3",
   "metadata": {},
   "source": [
    "## Variables\n",
    "- url:'https://www.zaragoza.es/sede/servicio/transporte/accidentalidad-trafico/accidente.csv?rows=100'\n",
    "-coords_zrgz\n",
    "- mapa"
   ]
  },
  {
   "cell_type": "code",
   "execution_count": 94,
   "id": "f1ff1bea",
   "metadata": {},
   "outputs": [],
   "source": [
    "url_zrgz = 'https://www.zaragoza.es/sede/servicio/transporte/accidentalidad-trafico/accidente.csv?rows=100'\n",
    "coord_zrgz = [41.649693,-0.887712]\n",
    "mapa = folium.Map(location=coord_zrgz)\n"
   ]
  },
  {
   "cell_type": "code",
   "execution_count": 95,
   "id": "3be12ce1",
   "metadata": {},
   "outputs": [
    {
     "data": {
      "text/html": [
       "<div style=\"width:100%;\"><div style=\"position:relative;width:100%;height:0;padding-bottom:60%;\"><span style=\"color:#565656\">Make this Notebook Trusted to load map: File -> Trust Notebook</span><iframe src=\"about:blank\" style=\"position:absolute;width:100%;height:100%;left:0;top:0;border:none !important;\" data-html=%3C%21DOCTYPE%20html%3E%0A%3Chead%3E%20%20%20%20%0A%20%20%20%20%3Cmeta%20http-equiv%3D%22content-type%22%20content%3D%22text/html%3B%20charset%3DUTF-8%22%20/%3E%0A%20%20%20%20%0A%20%20%20%20%20%20%20%20%3Cscript%3E%0A%20%20%20%20%20%20%20%20%20%20%20%20L_NO_TOUCH%20%3D%20false%3B%0A%20%20%20%20%20%20%20%20%20%20%20%20L_DISABLE_3D%20%3D%20false%3B%0A%20%20%20%20%20%20%20%20%3C/script%3E%0A%20%20%20%20%0A%20%20%20%20%3Cstyle%3Ehtml%2C%20body%20%7Bwidth%3A%20100%25%3Bheight%3A%20100%25%3Bmargin%3A%200%3Bpadding%3A%200%3B%7D%3C/style%3E%0A%20%20%20%20%3Cstyle%3E%23map%20%7Bposition%3Aabsolute%3Btop%3A0%3Bbottom%3A0%3Bright%3A0%3Bleft%3A0%3B%7D%3C/style%3E%0A%20%20%20%20%3Cscript%20src%3D%22https%3A//cdn.jsdelivr.net/npm/leaflet%401.6.0/dist/leaflet.js%22%3E%3C/script%3E%0A%20%20%20%20%3Cscript%20src%3D%22https%3A//code.jquery.com/jquery-1.12.4.min.js%22%3E%3C/script%3E%0A%20%20%20%20%3Cscript%20src%3D%22https%3A//maxcdn.bootstrapcdn.com/bootstrap/3.2.0/js/bootstrap.min.js%22%3E%3C/script%3E%0A%20%20%20%20%3Cscript%20src%3D%22https%3A//cdnjs.cloudflare.com/ajax/libs/Leaflet.awesome-markers/2.0.2/leaflet.awesome-markers.js%22%3E%3C/script%3E%0A%20%20%20%20%3Clink%20rel%3D%22stylesheet%22%20href%3D%22https%3A//cdn.jsdelivr.net/npm/leaflet%401.6.0/dist/leaflet.css%22/%3E%0A%20%20%20%20%3Clink%20rel%3D%22stylesheet%22%20href%3D%22https%3A//maxcdn.bootstrapcdn.com/bootstrap/3.2.0/css/bootstrap.min.css%22/%3E%0A%20%20%20%20%3Clink%20rel%3D%22stylesheet%22%20href%3D%22https%3A//maxcdn.bootstrapcdn.com/bootstrap/3.2.0/css/bootstrap-theme.min.css%22/%3E%0A%20%20%20%20%3Clink%20rel%3D%22stylesheet%22%20href%3D%22https%3A//maxcdn.bootstrapcdn.com/font-awesome/4.6.3/css/font-awesome.min.css%22/%3E%0A%20%20%20%20%3Clink%20rel%3D%22stylesheet%22%20href%3D%22https%3A//cdnjs.cloudflare.com/ajax/libs/Leaflet.awesome-markers/2.0.2/leaflet.awesome-markers.css%22/%3E%0A%20%20%20%20%3Clink%20rel%3D%22stylesheet%22%20href%3D%22https%3A//cdn.jsdelivr.net/gh/python-visualization/folium/folium/templates/leaflet.awesome.rotate.min.css%22/%3E%0A%20%20%20%20%0A%20%20%20%20%20%20%20%20%20%20%20%20%3Cmeta%20name%3D%22viewport%22%20content%3D%22width%3Ddevice-width%2C%0A%20%20%20%20%20%20%20%20%20%20%20%20%20%20%20%20initial-scale%3D1.0%2C%20maximum-scale%3D1.0%2C%20user-scalable%3Dno%22%20/%3E%0A%20%20%20%20%20%20%20%20%20%20%20%20%3Cstyle%3E%0A%20%20%20%20%20%20%20%20%20%20%20%20%20%20%20%20%23map_34ae2d6126c3425a85faaea5aeee13ff%20%7B%0A%20%20%20%20%20%20%20%20%20%20%20%20%20%20%20%20%20%20%20%20position%3A%20relative%3B%0A%20%20%20%20%20%20%20%20%20%20%20%20%20%20%20%20%20%20%20%20width%3A%20100.0%25%3B%0A%20%20%20%20%20%20%20%20%20%20%20%20%20%20%20%20%20%20%20%20height%3A%20100.0%25%3B%0A%20%20%20%20%20%20%20%20%20%20%20%20%20%20%20%20%20%20%20%20left%3A%200.0%25%3B%0A%20%20%20%20%20%20%20%20%20%20%20%20%20%20%20%20%20%20%20%20top%3A%200.0%25%3B%0A%20%20%20%20%20%20%20%20%20%20%20%20%20%20%20%20%7D%0A%20%20%20%20%20%20%20%20%20%20%20%20%3C/style%3E%0A%20%20%20%20%20%20%20%20%0A%3C/head%3E%0A%3Cbody%3E%20%20%20%20%0A%20%20%20%20%0A%20%20%20%20%20%20%20%20%20%20%20%20%3Cdiv%20class%3D%22folium-map%22%20id%3D%22map_34ae2d6126c3425a85faaea5aeee13ff%22%20%3E%3C/div%3E%0A%20%20%20%20%20%20%20%20%0A%3C/body%3E%0A%3Cscript%3E%20%20%20%20%0A%20%20%20%20%0A%20%20%20%20%20%20%20%20%20%20%20%20var%20map_34ae2d6126c3425a85faaea5aeee13ff%20%3D%20L.map%28%0A%20%20%20%20%20%20%20%20%20%20%20%20%20%20%20%20%22map_34ae2d6126c3425a85faaea5aeee13ff%22%2C%0A%20%20%20%20%20%20%20%20%20%20%20%20%20%20%20%20%7B%0A%20%20%20%20%20%20%20%20%20%20%20%20%20%20%20%20%20%20%20%20center%3A%20%5B41.649693%2C%20-0.887712%5D%2C%0A%20%20%20%20%20%20%20%20%20%20%20%20%20%20%20%20%20%20%20%20crs%3A%20L.CRS.EPSG3857%2C%0A%20%20%20%20%20%20%20%20%20%20%20%20%20%20%20%20%20%20%20%20zoom%3A%2010%2C%0A%20%20%20%20%20%20%20%20%20%20%20%20%20%20%20%20%20%20%20%20zoomControl%3A%20true%2C%0A%20%20%20%20%20%20%20%20%20%20%20%20%20%20%20%20%20%20%20%20preferCanvas%3A%20false%2C%0A%20%20%20%20%20%20%20%20%20%20%20%20%20%20%20%20%7D%0A%20%20%20%20%20%20%20%20%20%20%20%20%29%3B%0A%0A%20%20%20%20%20%20%20%20%20%20%20%20%0A%0A%20%20%20%20%20%20%20%20%0A%20%20%20%20%0A%20%20%20%20%20%20%20%20%20%20%20%20var%20tile_layer_9b3184e60f904ab0814e1c80ed41bd26%20%3D%20L.tileLayer%28%0A%20%20%20%20%20%20%20%20%20%20%20%20%20%20%20%20%22https%3A//%7Bs%7D.tile.openstreetmap.org/%7Bz%7D/%7Bx%7D/%7By%7D.png%22%2C%0A%20%20%20%20%20%20%20%20%20%20%20%20%20%20%20%20%7B%22attribution%22%3A%20%22Data%20by%20%5Cu0026copy%3B%20%5Cu003ca%20href%3D%5C%22http%3A//openstreetmap.org%5C%22%5Cu003eOpenStreetMap%5Cu003c/a%5Cu003e%2C%20under%20%5Cu003ca%20href%3D%5C%22http%3A//www.openstreetmap.org/copyright%5C%22%5Cu003eODbL%5Cu003c/a%5Cu003e.%22%2C%20%22detectRetina%22%3A%20false%2C%20%22maxNativeZoom%22%3A%2018%2C%20%22maxZoom%22%3A%2018%2C%20%22minZoom%22%3A%200%2C%20%22noWrap%22%3A%20false%2C%20%22opacity%22%3A%201%2C%20%22subdomains%22%3A%20%22abc%22%2C%20%22tms%22%3A%20false%7D%0A%20%20%20%20%20%20%20%20%20%20%20%20%29.addTo%28map_34ae2d6126c3425a85faaea5aeee13ff%29%3B%0A%20%20%20%20%20%20%20%20%0A%3C/script%3E onload=\"this.contentDocument.open();this.contentDocument.write(    decodeURIComponent(this.getAttribute('data-html')));this.contentDocument.close();\" allowfullscreen webkitallowfullscreen mozallowfullscreen></iframe></div></div>"
      ],
      "text/plain": [
       "<folium.folium.Map at 0x2ce96e7e370>"
      ]
     },
     "execution_count": 95,
     "metadata": {},
     "output_type": "execute_result"
    }
   ],
   "source": [
    "mapa"
   ]
  },
  {
   "cell_type": "code",
   "execution_count": 96,
   "id": "74e9dec3",
   "metadata": {
    "scrolled": false
   },
   "outputs": [
    {
     "data": {
      "text/html": [
       "<div>\n",
       "<style scoped>\n",
       "    .dataframe tbody tr th:only-of-type {\n",
       "        vertical-align: middle;\n",
       "    }\n",
       "\n",
       "    .dataframe tbody tr th {\n",
       "        vertical-align: top;\n",
       "    }\n",
       "\n",
       "    .dataframe thead th {\n",
       "        text-align: right;\n",
       "    }\n",
       "</style>\n",
       "<table border=\"1\" class=\"dataframe\">\n",
       "  <thead>\n",
       "    <tr style=\"text-align: right;\">\n",
       "      <th></th>\n",
       "      <th>id</th>\n",
       "      <th>year</th>\n",
       "      <th>type</th>\n",
       "      <th>accidentType</th>\n",
       "      <th>firstAddress</th>\n",
       "      <th>secondAddress</th>\n",
       "      <th>geometry</th>\n",
       "      <th>reason</th>\n",
       "      <th>area</th>\n",
       "      <th>creationDate</th>\n",
       "      <th>daniosMateriales</th>\n",
       "      <th>falloMecanico</th>\n",
       "      <th>estadoPavimento</th>\n",
       "      <th>tipoEstadoPavimento</th>\n",
       "      <th>estadoAtmosfera</th>\n",
       "      <th>tipoEstadoAtmosfera</th>\n",
       "      <th>afectado</th>\n",
       "      <th>vehiculo</th>\n",
       "    </tr>\n",
       "  </thead>\n",
       "  <tbody>\n",
       "    <tr>\n",
       "      <th>0</th>\n",
       "      <td>https://www.zaragoza.es/sede/servicio/transpor...</td>\n",
       "      <td>2014</td>\n",
       "      <td>SALIDA CALZADA</td>\n",
       "      <td>NaN</td>\n",
       "      <td>COSTA, JOAQUIN</td>\n",
       "      <td>PERAL, ISAAC</td>\n",
       "      <td>-0.8818527060979306,41.649027473051156</td>\n",
       "      <td>PERDIDA del control por FALTA de ATENCIÓN</td>\n",
       "      <td>NaN</td>\n",
       "      <td>2014-10-09T00:00:00Z</td>\n",
       "      <td>True</td>\n",
       "      <td>False</td>\n",
       "      <td>BUEN ESTADO</td>\n",
       "      <td>NaN</td>\n",
       "      <td>BUEN ESTADO</td>\n",
       "      <td>NaN</td>\n",
       "      <td>NaN</td>\n",
       "      <td>https://www.zaragoza.es/sede/servicio/transpor...</td>\n",
       "    </tr>\n",
       "    <tr>\n",
       "      <th>1</th>\n",
       "      <td>https://www.zaragoza.es/sede/servicio/transpor...</td>\n",
       "      <td>2014</td>\n",
       "      <td>COLISIÓN ALCANCE</td>\n",
       "      <td>NaN</td>\n",
       "      <td>CADENA(MARQUES DE LA)</td>\n",
       "      <td>NaN</td>\n",
       "      <td>-0.8645810716721081,41.661585829868585</td>\n",
       "      <td>DISTANCIA DE SEGURIDAD, no mantener</td>\n",
       "      <td>2560.0</td>\n",
       "      <td>2014-10-23T00:00:00Z</td>\n",
       "      <td>False</td>\n",
       "      <td>False</td>\n",
       "      <td>BUEN ESTADO</td>\n",
       "      <td>NaN</td>\n",
       "      <td>BUEN ESTADO</td>\n",
       "      <td>NaN</td>\n",
       "      <td>https://www.zaragoza.es/sede/servicio/transpor...</td>\n",
       "      <td>https://www.zaragoza.es/sede/servicio/transpor...</td>\n",
       "    </tr>\n",
       "    <tr>\n",
       "      <th>2</th>\n",
       "      <td>https://www.zaragoza.es/sede/servicio/transpor...</td>\n",
       "      <td>2014</td>\n",
       "      <td>COLISIÓN ALCANCE</td>\n",
       "      <td>NaN</td>\n",
       "      <td>GOMEZ AVELLANEDA, G.</td>\n",
       "      <td>CASTRO, R. (POETA)</td>\n",
       "      <td>-0.887776415002892,41.666992622958105</td>\n",
       "      <td>PERDIDA del control por FALTA de ATENCIÓN</td>\n",
       "      <td>2598.0</td>\n",
       "      <td>2014-10-23T00:00:00Z</td>\n",
       "      <td>False</td>\n",
       "      <td>False</td>\n",
       "      <td>BUEN ESTADO</td>\n",
       "      <td>NaN</td>\n",
       "      <td>BUEN ESTADO</td>\n",
       "      <td>NaN</td>\n",
       "      <td>https://www.zaragoza.es/sede/servicio/transpor...</td>\n",
       "      <td>https://www.zaragoza.es/sede/servicio/transpor...</td>\n",
       "    </tr>\n",
       "    <tr>\n",
       "      <th>3</th>\n",
       "      <td>https://www.zaragoza.es/sede/servicio/transpor...</td>\n",
       "      <td>2014</td>\n",
       "      <td>COLIS FRONTOLATERAL</td>\n",
       "      <td>NaN</td>\n",
       "      <td>MONZON</td>\n",
       "      <td>GARCIA CONDOY, H.</td>\n",
       "      <td>-0.8825260453930127,41.62957498750602</td>\n",
       "      <td>CEDA EL PASO, no respetar prioridad de paso</td>\n",
       "      <td>2555.0</td>\n",
       "      <td>2014-10-23T00:00:00Z</td>\n",
       "      <td>False</td>\n",
       "      <td>False</td>\n",
       "      <td>BUEN ESTADO</td>\n",
       "      <td>NaN</td>\n",
       "      <td>BUEN ESTADO</td>\n",
       "      <td>NaN</td>\n",
       "      <td>https://www.zaragoza.es/sede/servicio/transpor...</td>\n",
       "      <td>https://www.zaragoza.es/sede/servicio/transpor...</td>\n",
       "    </tr>\n",
       "    <tr>\n",
       "      <th>4</th>\n",
       "      <td>https://www.zaragoza.es/sede/servicio/transpor...</td>\n",
       "      <td>2014</td>\n",
       "      <td>SALIDA CALZADA</td>\n",
       "      <td>NaN</td>\n",
       "      <td>RIOJA</td>\n",
       "      <td>NAVARRA, AVENIDA DE</td>\n",
       "      <td>-0.908314757720389,41.6562121210704</td>\n",
       "      <td>PERDIDA del control por VELOCIDAD INADECUADA</td>\n",
       "      <td>2554.0</td>\n",
       "      <td>2014-10-24T00:00:00Z</td>\n",
       "      <td>False</td>\n",
       "      <td>False</td>\n",
       "      <td>BUEN ESTADO</td>\n",
       "      <td>NaN</td>\n",
       "      <td>BUEN ESTADO</td>\n",
       "      <td>NaN</td>\n",
       "      <td>https://www.zaragoza.es/sede/servicio/transpor...</td>\n",
       "      <td>https://www.zaragoza.es/sede/servicio/transpor...</td>\n",
       "    </tr>\n",
       "    <tr>\n",
       "      <th>...</th>\n",
       "      <td>...</td>\n",
       "      <td>...</td>\n",
       "      <td>...</td>\n",
       "      <td>...</td>\n",
       "      <td>...</td>\n",
       "      <td>...</td>\n",
       "      <td>...</td>\n",
       "      <td>...</td>\n",
       "      <td>...</td>\n",
       "      <td>...</td>\n",
       "      <td>...</td>\n",
       "      <td>...</td>\n",
       "      <td>...</td>\n",
       "      <td>...</td>\n",
       "      <td>...</td>\n",
       "      <td>...</td>\n",
       "      <td>...</td>\n",
       "      <td>...</td>\n",
       "    </tr>\n",
       "    <tr>\n",
       "      <th>95</th>\n",
       "      <td>https://www.zaragoza.es/sede/servicio/transpor...</td>\n",
       "      <td>2014</td>\n",
       "      <td>OTRAS</td>\n",
       "      <td>NaN</td>\n",
       "      <td>MIRAL, DOMINGO</td>\n",
       "      <td>NaN</td>\n",
       "      <td>-0.8990662796872798,41.63977012001253</td>\n",
       "      <td>PERDIDA del control por FALTA de ATENCIÓN</td>\n",
       "      <td>NaN</td>\n",
       "      <td>2014-07-30T00:00:00Z</td>\n",
       "      <td>True</td>\n",
       "      <td>False</td>\n",
       "      <td>BUEN ESTADO</td>\n",
       "      <td>NaN</td>\n",
       "      <td>BUEN ESTADO</td>\n",
       "      <td>NaN</td>\n",
       "      <td>NaN</td>\n",
       "      <td>https://www.zaragoza.es/sede/servicio/transpor...</td>\n",
       "    </tr>\n",
       "    <tr>\n",
       "      <th>96</th>\n",
       "      <td>https://www.zaragoza.es/sede/servicio/transpor...</td>\n",
       "      <td>2014</td>\n",
       "      <td>COLISIÓN ALCANCE</td>\n",
       "      <td>NaN</td>\n",
       "      <td>BUÑUEL,LUIS (PARQUE DEL AGUA)</td>\n",
       "      <td>NaN</td>\n",
       "      <td>-0.9072756956226459,41.670910841846876</td>\n",
       "      <td>PERDIDA del control por FALTA de ATENCIÓN</td>\n",
       "      <td>2071.0</td>\n",
       "      <td>2014-07-31T00:00:00Z</td>\n",
       "      <td>True</td>\n",
       "      <td>False</td>\n",
       "      <td>BUEN ESTADO</td>\n",
       "      <td>NaN</td>\n",
       "      <td>BUEN ESTADO</td>\n",
       "      <td>NaN</td>\n",
       "      <td>NaN</td>\n",
       "      <td>https://www.zaragoza.es/sede/servicio/transpor...</td>\n",
       "    </tr>\n",
       "    <tr>\n",
       "      <th>97</th>\n",
       "      <td>https://www.zaragoza.es/sede/servicio/transpor...</td>\n",
       "      <td>2014</td>\n",
       "      <td>SALIDA CALZADA</td>\n",
       "      <td>NaN</td>\n",
       "      <td>ALBAR, MANUEL GL.</td>\n",
       "      <td>ILUSTRACION, AV. DE LA</td>\n",
       "      <td>-0.9226018969034585,41.62757051008441</td>\n",
       "      <td>PERDIDA del control por FALTA de ATENCIÓN</td>\n",
       "      <td>1969.0</td>\n",
       "      <td>2014-07-25T00:00:00Z</td>\n",
       "      <td>False</td>\n",
       "      <td>False</td>\n",
       "      <td>BUEN ESTADO</td>\n",
       "      <td>NaN</td>\n",
       "      <td>BUEN ESTADO</td>\n",
       "      <td>NaN</td>\n",
       "      <td>https://www.zaragoza.es/sede/servicio/transpor...</td>\n",
       "      <td>https://www.zaragoza.es/sede/servicio/transpor...</td>\n",
       "    </tr>\n",
       "    <tr>\n",
       "      <th>98</th>\n",
       "      <td>https://www.zaragoza.es/sede/servicio/transpor...</td>\n",
       "      <td>2014</td>\n",
       "      <td>COLIS FRONTOLATERAL</td>\n",
       "      <td>NaN</td>\n",
       "      <td>ECHEGARAY Y CABALLERO</td>\n",
       "      <td>SAN VICENTE PAUL</td>\n",
       "      <td>-0.8735234620830842,41.65507219335992</td>\n",
       "      <td>SEMÁFORO, no respetar prioridad de paso</td>\n",
       "      <td>1970.0</td>\n",
       "      <td>2014-07-26T00:00:00Z</td>\n",
       "      <td>False</td>\n",
       "      <td>False</td>\n",
       "      <td>BUEN ESTADO</td>\n",
       "      <td>NaN</td>\n",
       "      <td>BUEN ESTADO</td>\n",
       "      <td>NaN</td>\n",
       "      <td>https://www.zaragoza.es/sede/servicio/transpor...</td>\n",
       "      <td>https://www.zaragoza.es/sede/servicio/transpor...</td>\n",
       "    </tr>\n",
       "    <tr>\n",
       "      <th>99</th>\n",
       "      <td>https://www.zaragoza.es/sede/servicio/transpor...</td>\n",
       "      <td>2014</td>\n",
       "      <td>SALIDA CALZADA</td>\n",
       "      <td>NaN</td>\n",
       "      <td>CESAR AUGUSTO, AVDA</td>\n",
       "      <td>NaN</td>\n",
       "      <td>-0.8869504077778204,41.65022964156985</td>\n",
       "      <td>PERDIDA del control por FALTA de ATENCIÓN</td>\n",
       "      <td>1971.0</td>\n",
       "      <td>2014-07-09T00:00:00Z</td>\n",
       "      <td>True</td>\n",
       "      <td>False</td>\n",
       "      <td>BUEN ESTADO</td>\n",
       "      <td>NaN</td>\n",
       "      <td>BUEN ESTADO</td>\n",
       "      <td>NaN</td>\n",
       "      <td>NaN</td>\n",
       "      <td>https://www.zaragoza.es/sede/servicio/transpor...</td>\n",
       "    </tr>\n",
       "  </tbody>\n",
       "</table>\n",
       "<p>100 rows × 18 columns</p>\n",
       "</div>"
      ],
      "text/plain": [
       "                                                   id  year  \\\n",
       "0   https://www.zaragoza.es/sede/servicio/transpor...  2014   \n",
       "1   https://www.zaragoza.es/sede/servicio/transpor...  2014   \n",
       "2   https://www.zaragoza.es/sede/servicio/transpor...  2014   \n",
       "3   https://www.zaragoza.es/sede/servicio/transpor...  2014   \n",
       "4   https://www.zaragoza.es/sede/servicio/transpor...  2014   \n",
       "..                                                ...   ...   \n",
       "95  https://www.zaragoza.es/sede/servicio/transpor...  2014   \n",
       "96  https://www.zaragoza.es/sede/servicio/transpor...  2014   \n",
       "97  https://www.zaragoza.es/sede/servicio/transpor...  2014   \n",
       "98  https://www.zaragoza.es/sede/servicio/transpor...  2014   \n",
       "99  https://www.zaragoza.es/sede/servicio/transpor...  2014   \n",
       "\n",
       "                   type  accidentType                   firstAddress  \\\n",
       "0        SALIDA CALZADA           NaN                 COSTA, JOAQUIN   \n",
       "1      COLISIÓN ALCANCE           NaN          CADENA(MARQUES DE LA)   \n",
       "2      COLISIÓN ALCANCE           NaN           GOMEZ AVELLANEDA, G.   \n",
       "3   COLIS FRONTOLATERAL           NaN                         MONZON   \n",
       "4        SALIDA CALZADA           NaN                          RIOJA   \n",
       "..                  ...           ...                            ...   \n",
       "95                OTRAS           NaN                 MIRAL, DOMINGO   \n",
       "96     COLISIÓN ALCANCE           NaN  BUÑUEL,LUIS (PARQUE DEL AGUA)   \n",
       "97       SALIDA CALZADA           NaN              ALBAR, MANUEL GL.   \n",
       "98  COLIS FRONTOLATERAL           NaN          ECHEGARAY Y CABALLERO   \n",
       "99       SALIDA CALZADA           NaN            CESAR AUGUSTO, AVDA   \n",
       "\n",
       "             secondAddress                                geometry  \\\n",
       "0             PERAL, ISAAC  -0.8818527060979306,41.649027473051156   \n",
       "1                      NaN  -0.8645810716721081,41.661585829868585   \n",
       "2       CASTRO, R. (POETA)   -0.887776415002892,41.666992622958105   \n",
       "3        GARCIA CONDOY, H.   -0.8825260453930127,41.62957498750602   \n",
       "4      NAVARRA, AVENIDA DE     -0.908314757720389,41.6562121210704   \n",
       "..                     ...                                     ...   \n",
       "95                     NaN   -0.8990662796872798,41.63977012001253   \n",
       "96                     NaN  -0.9072756956226459,41.670910841846876   \n",
       "97  ILUSTRACION, AV. DE LA   -0.9226018969034585,41.62757051008441   \n",
       "98        SAN VICENTE PAUL   -0.8735234620830842,41.65507219335992   \n",
       "99                     NaN   -0.8869504077778204,41.65022964156985   \n",
       "\n",
       "                                          reason    area  \\\n",
       "0      PERDIDA del control por FALTA de ATENCIÓN     NaN   \n",
       "1            DISTANCIA DE SEGURIDAD, no mantener  2560.0   \n",
       "2      PERDIDA del control por FALTA de ATENCIÓN  2598.0   \n",
       "3    CEDA EL PASO, no respetar prioridad de paso  2555.0   \n",
       "4   PERDIDA del control por VELOCIDAD INADECUADA  2554.0   \n",
       "..                                           ...     ...   \n",
       "95     PERDIDA del control por FALTA de ATENCIÓN     NaN   \n",
       "96     PERDIDA del control por FALTA de ATENCIÓN  2071.0   \n",
       "97     PERDIDA del control por FALTA de ATENCIÓN  1969.0   \n",
       "98       SEMÁFORO, no respetar prioridad de paso  1970.0   \n",
       "99     PERDIDA del control por FALTA de ATENCIÓN  1971.0   \n",
       "\n",
       "            creationDate  daniosMateriales  falloMecanico estadoPavimento  \\\n",
       "0   2014-10-09T00:00:00Z              True          False     BUEN ESTADO   \n",
       "1   2014-10-23T00:00:00Z             False          False     BUEN ESTADO   \n",
       "2   2014-10-23T00:00:00Z             False          False     BUEN ESTADO   \n",
       "3   2014-10-23T00:00:00Z             False          False     BUEN ESTADO   \n",
       "4   2014-10-24T00:00:00Z             False          False     BUEN ESTADO   \n",
       "..                   ...               ...            ...             ...   \n",
       "95  2014-07-30T00:00:00Z              True          False     BUEN ESTADO   \n",
       "96  2014-07-31T00:00:00Z              True          False     BUEN ESTADO   \n",
       "97  2014-07-25T00:00:00Z             False          False     BUEN ESTADO   \n",
       "98  2014-07-26T00:00:00Z             False          False     BUEN ESTADO   \n",
       "99  2014-07-09T00:00:00Z              True          False     BUEN ESTADO   \n",
       "\n",
       "    tipoEstadoPavimento estadoAtmosfera  tipoEstadoAtmosfera  \\\n",
       "0                   NaN     BUEN ESTADO                  NaN   \n",
       "1                   NaN     BUEN ESTADO                  NaN   \n",
       "2                   NaN     BUEN ESTADO                  NaN   \n",
       "3                   NaN     BUEN ESTADO                  NaN   \n",
       "4                   NaN     BUEN ESTADO                  NaN   \n",
       "..                  ...             ...                  ...   \n",
       "95                  NaN     BUEN ESTADO                  NaN   \n",
       "96                  NaN     BUEN ESTADO                  NaN   \n",
       "97                  NaN     BUEN ESTADO                  NaN   \n",
       "98                  NaN     BUEN ESTADO                  NaN   \n",
       "99                  NaN     BUEN ESTADO                  NaN   \n",
       "\n",
       "                                             afectado  \\\n",
       "0                                                 NaN   \n",
       "1   https://www.zaragoza.es/sede/servicio/transpor...   \n",
       "2   https://www.zaragoza.es/sede/servicio/transpor...   \n",
       "3   https://www.zaragoza.es/sede/servicio/transpor...   \n",
       "4   https://www.zaragoza.es/sede/servicio/transpor...   \n",
       "..                                                ...   \n",
       "95                                                NaN   \n",
       "96                                                NaN   \n",
       "97  https://www.zaragoza.es/sede/servicio/transpor...   \n",
       "98  https://www.zaragoza.es/sede/servicio/transpor...   \n",
       "99                                                NaN   \n",
       "\n",
       "                                             vehiculo  \n",
       "0   https://www.zaragoza.es/sede/servicio/transpor...  \n",
       "1   https://www.zaragoza.es/sede/servicio/transpor...  \n",
       "2   https://www.zaragoza.es/sede/servicio/transpor...  \n",
       "3   https://www.zaragoza.es/sede/servicio/transpor...  \n",
       "4   https://www.zaragoza.es/sede/servicio/transpor...  \n",
       "..                                                ...  \n",
       "95  https://www.zaragoza.es/sede/servicio/transpor...  \n",
       "96  https://www.zaragoza.es/sede/servicio/transpor...  \n",
       "97  https://www.zaragoza.es/sede/servicio/transpor...  \n",
       "98  https://www.zaragoza.es/sede/servicio/transpor...  \n",
       "99  https://www.zaragoza.es/sede/servicio/transpor...  \n",
       "\n",
       "[100 rows x 18 columns]"
      ]
     },
     "execution_count": 96,
     "metadata": {},
     "output_type": "execute_result"
    }
   ],
   "source": [
    "df = pd.read_csv(url_zrgz,delimiter=';')\n",
    "df"
   ]
  },
  {
   "cell_type": "code",
   "execution_count": 97,
   "id": "3cc0e288",
   "metadata": {},
   "outputs": [
    {
     "data": {
      "text/plain": [
       "0     2014\n",
       "1     2014\n",
       "2     2014\n",
       "3     2014\n",
       "4     2014\n",
       "      ... \n",
       "95    2014\n",
       "96    2014\n",
       "97    2014\n",
       "98    2014\n",
       "99    2014\n",
       "Name: year, Length: 100, dtype: int64"
      ]
     },
     "execution_count": 97,
     "metadata": {},
     "output_type": "execute_result"
    }
   ],
   "source": [
    "df.year"
   ]
  },
  {
   "cell_type": "code",
   "execution_count": 98,
   "id": "4fdd2e80",
   "metadata": {},
   "outputs": [
    {
     "data": {
      "text/plain": [
       "array(['SALIDA CALZADA', 'COLISIÓN ALCANCE', 'COLIS FRONTOLATERAL',\n",
       "       'OTRAS', 'ATROPELLO', 'CAIDA SOBRE CALZADA', 'COLIS. MARCHA ATRÁS',\n",
       "       'COLISIÓN LATERAL'], dtype=object)"
      ]
     },
     "execution_count": 98,
     "metadata": {},
     "output_type": "execute_result"
    }
   ],
   "source": [
    "df['type'].unique()"
   ]
  },
  {
   "cell_type": "code",
   "execution_count": 99,
   "id": "61b333dc",
   "metadata": {
    "scrolled": true
   },
   "outputs": [
    {
     "data": {
      "text/plain": [
       "0     -0.8818527060979306,41.649027473051156\n",
       "1     -0.8645810716721081,41.661585829868585\n",
       "2      -0.887776415002892,41.666992622958105\n",
       "3      -0.8825260453930127,41.62957498750602\n",
       "4        -0.908314757720389,41.6562121210704\n",
       "                       ...                  \n",
       "95     -0.8990662796872798,41.63977012001253\n",
       "96    -0.9072756956226459,41.670910841846876\n",
       "97     -0.9226018969034585,41.62757051008441\n",
       "98     -0.8735234620830842,41.65507219335992\n",
       "99     -0.8869504077778204,41.65022964156985\n",
       "Name: geometry, Length: 100, dtype: object"
      ]
     },
     "execution_count": 99,
     "metadata": {},
     "output_type": "execute_result"
    }
   ],
   "source": [
    "df['geometry']"
   ]
  },
  {
   "cell_type": "code",
   "execution_count": 100,
   "id": "bbb3033d",
   "metadata": {},
   "outputs": [
    {
     "data": {
      "text/plain": [
       "str"
      ]
     },
     "execution_count": 100,
     "metadata": {},
     "output_type": "execute_result"
    }
   ],
   "source": [
    "type(df['geometry'][0])"
   ]
  },
  {
   "cell_type": "code",
   "execution_count": 101,
   "id": "6aa87776",
   "metadata": {},
   "outputs": [
    {
     "data": {
      "text/plain": [
       "['-0.8818527060979306', '41.649027473051156']"
      ]
     },
     "execution_count": 101,
     "metadata": {},
     "output_type": "execute_result"
    }
   ],
   "source": [
    "df['geometry'][0].split(',')"
   ]
  },
  {
   "cell_type": "code",
   "execution_count": 102,
   "id": "b0d054df",
   "metadata": {},
   "outputs": [],
   "source": [
    "point=df['geometry'][0].split(',')"
   ]
  },
  {
   "cell_type": "code",
   "execution_count": 103,
   "id": "4cd2d399",
   "metadata": {},
   "outputs": [
    {
     "data": {
      "text/plain": [
       "['-0.8818527060979306', '41.649027473051156']"
      ]
     },
     "execution_count": 103,
     "metadata": {},
     "output_type": "execute_result"
    }
   ],
   "source": [
    "point"
   ]
  },
  {
   "cell_type": "code",
   "execution_count": 104,
   "id": "8d4f29c7",
   "metadata": {},
   "outputs": [
    {
     "data": {
      "text/plain": [
       "list"
      ]
     },
     "execution_count": 104,
     "metadata": {},
     "output_type": "execute_result"
    }
   ],
   "source": [
    "type(point)"
   ]
  },
  {
   "cell_type": "code",
   "execution_count": 105,
   "id": "4bb0319a",
   "metadata": {},
   "outputs": [],
   "source": [
    "longitudes = []\n",
    "latitudes = []"
   ]
  },
  {
   "cell_type": "code",
   "execution_count": 106,
   "id": "c09fcccb",
   "metadata": {},
   "outputs": [
    {
     "data": {
      "text/plain": [
       "[]"
      ]
     },
     "execution_count": 106,
     "metadata": {},
     "output_type": "execute_result"
    }
   ],
   "source": [
    "longitudes"
   ]
  },
  {
   "cell_type": "code",
   "execution_count": 107,
   "id": "3c4c749f",
   "metadata": {},
   "outputs": [
    {
     "data": {
      "text/plain": [
       "list"
      ]
     },
     "execution_count": 107,
     "metadata": {},
     "output_type": "execute_result"
    }
   ],
   "source": [
    "type(longitudes)"
   ]
  },
  {
   "cell_type": "code",
   "execution_count": 108,
   "id": "b2c6eb8b",
   "metadata": {},
   "outputs": [],
   "source": [
    "for i in df['geometry']:\n",
    "        punto_coord = i.split(',')\n",
    "        longitudes += [float(punto_coord[1])]"
   ]
  },
  {
   "cell_type": "code",
   "execution_count": 109,
   "id": "32b2f559",
   "metadata": {},
   "outputs": [
    {
     "data": {
      "text/plain": [
       "[41.649027473051156,\n",
       " 41.661585829868585,\n",
       " 41.666992622958105,\n",
       " 41.62957498750602,\n",
       " 41.6562121210704,\n",
       " 41.65949772773082,\n",
       " 41.633353667694024,\n",
       " 41.6390382112928,\n",
       " 41.64083344974765,\n",
       " 41.64904657717317,\n",
       " 41.64322365075108,\n",
       " 41.68753087470739,\n",
       " 41.661646612715046,\n",
       " 41.6454384961757,\n",
       " 41.65543768899759,\n",
       " 41.65180346604993,\n",
       " 41.65233828238132,\n",
       " 41.65040494617356,\n",
       " 41.645335650478316,\n",
       " 41.609992514227066,\n",
       " 41.63379905763323,\n",
       " 41.63275556609146,\n",
       " 41.63808926467497,\n",
       " 41.677487884305975,\n",
       " 41.620591734015946,\n",
       " 41.64931371437485,\n",
       " 41.646890443474554,\n",
       " 41.62404668544956,\n",
       " 41.63964884250951,\n",
       " 41.638477534601776,\n",
       " 41.64332496247496,\n",
       " 41.65260977469196,\n",
       " 41.65248328671194,\n",
       " 41.6474034449745,\n",
       " 41.64926981833846,\n",
       " 41.650740541708075,\n",
       " 41.638807389014836,\n",
       " 41.66374540604866,\n",
       " 41.64886535549928,\n",
       " 41.63265453864093,\n",
       " 41.67281318904247,\n",
       " 41.66895757951277,\n",
       " 41.71496486522088,\n",
       " 41.67007665525934,\n",
       " 41.63484525009101,\n",
       " 41.64060309287472,\n",
       " 41.66210291413718,\n",
       " 41.63348367532985,\n",
       " 41.67593597602368,\n",
       " 41.672106692157605,\n",
       " 41.670796057267296,\n",
       " 41.634304213138115,\n",
       " 41.65154680743475,\n",
       " 41.62152191885522,\n",
       " 41.64737203882021,\n",
       " 41.64583899054114,\n",
       " 41.63444197353212,\n",
       " 41.647668760113724,\n",
       " 41.64713372980882,\n",
       " 41.66759236644088,\n",
       " 41.633156268397784,\n",
       " 41.65815100896193,\n",
       " 41.606852016162875,\n",
       " 41.665547003703814,\n",
       " 41.681817186609294,\n",
       " 41.653142424569985,\n",
       " 41.65471375662296,\n",
       " 41.653113831884326,\n",
       " 41.637370118574715,\n",
       " 41.62307965046806,\n",
       " 41.703559179288035,\n",
       " 41.63800946128376,\n",
       " 41.65509967011824,\n",
       " 41.640231801283996,\n",
       " 41.66399317788149,\n",
       " 41.640202296609836,\n",
       " 41.64045052143847,\n",
       " 41.650342929846744,\n",
       " 41.6515948922118,\n",
       " 41.639588711692504,\n",
       " 41.64547114097832,\n",
       " 41.60941879505107,\n",
       " 41.63594510671276,\n",
       " 41.65806605032787,\n",
       " 41.65124740456308,\n",
       " 41.64919114164,\n",
       " 41.68415187120862,\n",
       " 41.64775005399505,\n",
       " 41.647640923398896,\n",
       " 41.64628513907135,\n",
       " 41.646572275866276,\n",
       " 41.64976600318248,\n",
       " 41.653508476745046,\n",
       " 41.647798885967035,\n",
       " 41.64963422246641,\n",
       " 41.63977012001253,\n",
       " 41.670910841846876,\n",
       " 41.62757051008441,\n",
       " 41.65507219335992,\n",
       " 41.65022964156985]"
      ]
     },
     "execution_count": 109,
     "metadata": {},
     "output_type": "execute_result"
    }
   ],
   "source": [
    "longitudes"
   ]
  },
  {
   "cell_type": "code",
   "execution_count": 110,
   "id": "2990a484",
   "metadata": {},
   "outputs": [
    {
     "data": {
      "text/plain": [
       "[-0.8818527060979306,\n",
       " -0.8645810716721081,\n",
       " -0.887776415002892,\n",
       " -0.8825260453930127,\n",
       " -0.908314757720389,\n",
       " -0.8691088511672924,\n",
       " -0.8880337913721866,\n",
       " -0.8708838775078237,\n",
       " -0.8970649943808023,\n",
       " -0.8718525605769747,\n",
       " -0.8964627561577849,\n",
       " -0.8778095796207178,\n",
       " -0.8812157329722801,\n",
       " -0.8762000299022707,\n",
       " -0.9089013552408617,\n",
       " -0.9004729973337304,\n",
       " -0.8917562993466011,\n",
       " -0.888856043735591,\n",
       " -0.8629911318784169,\n",
       " -0.8870207060655807,\n",
       " -0.8636325074780108,\n",
       " -0.8760724207544668,\n",
       " -0.9036852209830768,\n",
       " -0.8896980442453839,\n",
       " -0.9018264648858587,\n",
       " -0.9187726932212442,\n",
       " -0.8855988456901538,\n",
       " -0.887523212911549,\n",
       " -0.8863120908790753,\n",
       " -0.8689640327130923,\n",
       " -0.8900650666830714,\n",
       " -0.8918524618079099,\n",
       " -0.9104038365599549,\n",
       " -0.8850103896969528,\n",
       " -0.8734135018983006,\n",
       " -0.8593239531218387,\n",
       " -0.868891092151338,\n",
       " -0.9008107424460443,\n",
       " -0.9211220937948997,\n",
       " -0.9026681648170423,\n",
       " -0.8893162332922886,\n",
       " -0.8890866503471749,\n",
       " -0.8439506345833918,\n",
       " -0.8665477541801948,\n",
       " -0.8848493117953854,\n",
       " -0.9147014503640727,\n",
       " -0.9388159722509236,\n",
       " -0.9157439755527074,\n",
       " -0.8869959298557372,\n",
       " -0.876909940066992,\n",
       " -0.8816447317118501,\n",
       " -0.9072940747876611,\n",
       " -0.9297774953117621,\n",
       " -0.9260243926745974,\n",
       " -0.8747826613487039,\n",
       " -0.8808426934572774,\n",
       " -0.9244213411763852,\n",
       " -0.8837000032645412,\n",
       " -0.8949697510455706,\n",
       " -0.8586802458354249,\n",
       " -0.8824516125202209,\n",
       " -0.8857803278979575,\n",
       " -0.8901425582260953,\n",
       " -0.8853994844903159,\n",
       " -0.8988224291930889,\n",
       " -0.878399626737674,\n",
       " -0.9005718898973313,\n",
       " -0.8754417396680656,\n",
       " -0.8981774282134238,\n",
       " -0.9134005222660053,\n",
       " -0.9675955686913701,\n",
       " -0.8994494084124403,\n",
       " -0.9047634312813823,\n",
       " -0.8796660379583326,\n",
       " -0.8569442253224475,\n",
       " -0.8866382760165721,\n",
       " -0.9148179357831321,\n",
       " -0.91679280832361,\n",
       " -0.9831600853628304,\n",
       " -0.8805502979311851,\n",
       " -0.8834784288071386,\n",
       " -0.8907819329164345,\n",
       " -0.9129045578911849,\n",
       " -0.929341406599246,\n",
       " -0.9015144446496385,\n",
       " -0.8971281972974198,\n",
       " -0.8655422071013779,\n",
       " -0.9345679624034625,\n",
       " -0.9162444486972013,\n",
       " -0.9075234410781284,\n",
       " -0.8740118451885867,\n",
       " -0.8879390016835017,\n",
       " -0.8748263473540919,\n",
       " -0.893364249304231,\n",
       " -0.8793428209752854,\n",
       " -0.8990662796872798,\n",
       " -0.9072756956226459,\n",
       " -0.9226018969034585,\n",
       " -0.8735234620830842,\n",
       " -0.8869504077778204]"
      ]
     },
     "execution_count": 110,
     "metadata": {},
     "output_type": "execute_result"
    }
   ],
   "source": [
    "for i in df['geometry']:\n",
    "        punto_coord = i.split(',')\n",
    "        latitudes += [float(punto_coord[0])]\n",
    "latitudes"
   ]
  },
  {
   "cell_type": "code",
   "execution_count": 111,
   "id": "5cfb5181",
   "metadata": {},
   "outputs": [
    {
     "data": {
      "text/html": [
       "<div>\n",
       "<style scoped>\n",
       "    .dataframe tbody tr th:only-of-type {\n",
       "        vertical-align: middle;\n",
       "    }\n",
       "\n",
       "    .dataframe tbody tr th {\n",
       "        vertical-align: top;\n",
       "    }\n",
       "\n",
       "    .dataframe thead th {\n",
       "        text-align: right;\n",
       "    }\n",
       "</style>\n",
       "<table border=\"1\" class=\"dataframe\">\n",
       "  <thead>\n",
       "    <tr style=\"text-align: right;\">\n",
       "      <th></th>\n",
       "      <th>long</th>\n",
       "      <th>lat</th>\n",
       "    </tr>\n",
       "  </thead>\n",
       "  <tbody>\n",
       "    <tr>\n",
       "      <th>0</th>\n",
       "      <td>41.649027</td>\n",
       "      <td>-0.881853</td>\n",
       "    </tr>\n",
       "    <tr>\n",
       "      <th>1</th>\n",
       "      <td>41.661586</td>\n",
       "      <td>-0.864581</td>\n",
       "    </tr>\n",
       "    <tr>\n",
       "      <th>2</th>\n",
       "      <td>41.666993</td>\n",
       "      <td>-0.887776</td>\n",
       "    </tr>\n",
       "    <tr>\n",
       "      <th>3</th>\n",
       "      <td>41.629575</td>\n",
       "      <td>-0.882526</td>\n",
       "    </tr>\n",
       "    <tr>\n",
       "      <th>4</th>\n",
       "      <td>41.656212</td>\n",
       "      <td>-0.908315</td>\n",
       "    </tr>\n",
       "    <tr>\n",
       "      <th>...</th>\n",
       "      <td>...</td>\n",
       "      <td>...</td>\n",
       "    </tr>\n",
       "    <tr>\n",
       "      <th>95</th>\n",
       "      <td>41.639770</td>\n",
       "      <td>-0.899066</td>\n",
       "    </tr>\n",
       "    <tr>\n",
       "      <th>96</th>\n",
       "      <td>41.670911</td>\n",
       "      <td>-0.907276</td>\n",
       "    </tr>\n",
       "    <tr>\n",
       "      <th>97</th>\n",
       "      <td>41.627571</td>\n",
       "      <td>-0.922602</td>\n",
       "    </tr>\n",
       "    <tr>\n",
       "      <th>98</th>\n",
       "      <td>41.655072</td>\n",
       "      <td>-0.873523</td>\n",
       "    </tr>\n",
       "    <tr>\n",
       "      <th>99</th>\n",
       "      <td>41.650230</td>\n",
       "      <td>-0.886950</td>\n",
       "    </tr>\n",
       "  </tbody>\n",
       "</table>\n",
       "<p>100 rows × 2 columns</p>\n",
       "</div>"
      ],
      "text/plain": [
       "         long       lat\n",
       "0   41.649027 -0.881853\n",
       "1   41.661586 -0.864581\n",
       "2   41.666993 -0.887776\n",
       "3   41.629575 -0.882526\n",
       "4   41.656212 -0.908315\n",
       "..        ...       ...\n",
       "95  41.639770 -0.899066\n",
       "96  41.670911 -0.907276\n",
       "97  41.627571 -0.922602\n",
       "98  41.655072 -0.873523\n",
       "99  41.650230 -0.886950\n",
       "\n",
       "[100 rows x 2 columns]"
      ]
     },
     "execution_count": 111,
     "metadata": {},
     "output_type": "execute_result"
    }
   ],
   "source": [
    "df_coord = pd.DataFrame({'long':longitudes,'lat':latitudes})\n",
    "df_coord"
   ]
  },
  {
   "cell_type": "code",
   "execution_count": 114,
   "id": "5b61515c",
   "metadata": {},
   "outputs": [
    {
     "data": {
      "text/html": [
       "<div>\n",
       "<style scoped>\n",
       "    .dataframe tbody tr th:only-of-type {\n",
       "        vertical-align: middle;\n",
       "    }\n",
       "\n",
       "    .dataframe tbody tr th {\n",
       "        vertical-align: top;\n",
       "    }\n",
       "\n",
       "    .dataframe thead th {\n",
       "        text-align: right;\n",
       "    }\n",
       "</style>\n",
       "<table border=\"1\" class=\"dataframe\">\n",
       "  <thead>\n",
       "    <tr style=\"text-align: right;\">\n",
       "      <th></th>\n",
       "      <th>type</th>\n",
       "      <th>long</th>\n",
       "      <th>lat</th>\n",
       "    </tr>\n",
       "  </thead>\n",
       "  <tbody>\n",
       "    <tr>\n",
       "      <th>0</th>\n",
       "      <td>SALIDA CALZADA</td>\n",
       "      <td>41.649027</td>\n",
       "      <td>-0.881853</td>\n",
       "    </tr>\n",
       "    <tr>\n",
       "      <th>1</th>\n",
       "      <td>COLISIÓN ALCANCE</td>\n",
       "      <td>41.661586</td>\n",
       "      <td>-0.864581</td>\n",
       "    </tr>\n",
       "    <tr>\n",
       "      <th>2</th>\n",
       "      <td>COLISIÓN ALCANCE</td>\n",
       "      <td>41.666993</td>\n",
       "      <td>-0.887776</td>\n",
       "    </tr>\n",
       "    <tr>\n",
       "      <th>3</th>\n",
       "      <td>COLIS FRONTOLATERAL</td>\n",
       "      <td>41.629575</td>\n",
       "      <td>-0.882526</td>\n",
       "    </tr>\n",
       "    <tr>\n",
       "      <th>4</th>\n",
       "      <td>SALIDA CALZADA</td>\n",
       "      <td>41.656212</td>\n",
       "      <td>-0.908315</td>\n",
       "    </tr>\n",
       "    <tr>\n",
       "      <th>...</th>\n",
       "      <td>...</td>\n",
       "      <td>...</td>\n",
       "      <td>...</td>\n",
       "    </tr>\n",
       "    <tr>\n",
       "      <th>95</th>\n",
       "      <td>OTRAS</td>\n",
       "      <td>41.639770</td>\n",
       "      <td>-0.899066</td>\n",
       "    </tr>\n",
       "    <tr>\n",
       "      <th>96</th>\n",
       "      <td>COLISIÓN ALCANCE</td>\n",
       "      <td>41.670911</td>\n",
       "      <td>-0.907276</td>\n",
       "    </tr>\n",
       "    <tr>\n",
       "      <th>97</th>\n",
       "      <td>SALIDA CALZADA</td>\n",
       "      <td>41.627571</td>\n",
       "      <td>-0.922602</td>\n",
       "    </tr>\n",
       "    <tr>\n",
       "      <th>98</th>\n",
       "      <td>COLIS FRONTOLATERAL</td>\n",
       "      <td>41.655072</td>\n",
       "      <td>-0.873523</td>\n",
       "    </tr>\n",
       "    <tr>\n",
       "      <th>99</th>\n",
       "      <td>SALIDA CALZADA</td>\n",
       "      <td>41.650230</td>\n",
       "      <td>-0.886950</td>\n",
       "    </tr>\n",
       "  </tbody>\n",
       "</table>\n",
       "<p>100 rows × 3 columns</p>\n",
       "</div>"
      ],
      "text/plain": [
       "                   type       long       lat\n",
       "0        SALIDA CALZADA  41.649027 -0.881853\n",
       "1      COLISIÓN ALCANCE  41.661586 -0.864581\n",
       "2      COLISIÓN ALCANCE  41.666993 -0.887776\n",
       "3   COLIS FRONTOLATERAL  41.629575 -0.882526\n",
       "4        SALIDA CALZADA  41.656212 -0.908315\n",
       "..                  ...        ...       ...\n",
       "95                OTRAS  41.639770 -0.899066\n",
       "96     COLISIÓN ALCANCE  41.670911 -0.907276\n",
       "97       SALIDA CALZADA  41.627571 -0.922602\n",
       "98  COLIS FRONTOLATERAL  41.655072 -0.873523\n",
       "99       SALIDA CALZADA  41.650230 -0.886950\n",
       "\n",
       "[100 rows x 3 columns]"
      ]
     },
     "execution_count": 114,
     "metadata": {},
     "output_type": "execute_result"
    }
   ],
   "source": [
    "df_accidentes = pd.concat([df['type'], df_coord], axis=1)\n",
    "df_accidentes"
   ]
  },
  {
   "cell_type": "markdown",
   "id": "5eca5b54",
   "metadata": {},
   "source": [
    "Vamos a crear un marcador con la función de folium que se llama marker. Es una función que va a tener las coordenadas de Zaragoza y en el popup me va a salir \"Hola,Zaragona\""
   ]
  },
  {
   "cell_type": "code",
   "execution_count": 116,
   "id": "37d909e5",
   "metadata": {},
   "outputs": [
    {
     "data": {
      "text/html": [
       "<div style=\"width:100%;\"><div style=\"position:relative;width:100%;height:0;padding-bottom:60%;\"><span style=\"color:#565656\">Make this Notebook Trusted to load map: File -> Trust Notebook</span><iframe src=\"about:blank\" style=\"position:absolute;width:100%;height:100%;left:0;top:0;border:none !important;\" data-html=%3C%21DOCTYPE%20html%3E%0A%3Chead%3E%20%20%20%20%0A%20%20%20%20%3Cmeta%20http-equiv%3D%22content-type%22%20content%3D%22text/html%3B%20charset%3DUTF-8%22%20/%3E%0A%20%20%20%20%0A%20%20%20%20%20%20%20%20%3Cscript%3E%0A%20%20%20%20%20%20%20%20%20%20%20%20L_NO_TOUCH%20%3D%20false%3B%0A%20%20%20%20%20%20%20%20%20%20%20%20L_DISABLE_3D%20%3D%20false%3B%0A%20%20%20%20%20%20%20%20%3C/script%3E%0A%20%20%20%20%0A%20%20%20%20%3Cstyle%3Ehtml%2C%20body%20%7Bwidth%3A%20100%25%3Bheight%3A%20100%25%3Bmargin%3A%200%3Bpadding%3A%200%3B%7D%3C/style%3E%0A%20%20%20%20%3Cstyle%3E%23map%20%7Bposition%3Aabsolute%3Btop%3A0%3Bbottom%3A0%3Bright%3A0%3Bleft%3A0%3B%7D%3C/style%3E%0A%20%20%20%20%3Cscript%20src%3D%22https%3A//cdn.jsdelivr.net/npm/leaflet%401.6.0/dist/leaflet.js%22%3E%3C/script%3E%0A%20%20%20%20%3Cscript%20src%3D%22https%3A//code.jquery.com/jquery-1.12.4.min.js%22%3E%3C/script%3E%0A%20%20%20%20%3Cscript%20src%3D%22https%3A//maxcdn.bootstrapcdn.com/bootstrap/3.2.0/js/bootstrap.min.js%22%3E%3C/script%3E%0A%20%20%20%20%3Cscript%20src%3D%22https%3A//cdnjs.cloudflare.com/ajax/libs/Leaflet.awesome-markers/2.0.2/leaflet.awesome-markers.js%22%3E%3C/script%3E%0A%20%20%20%20%3Clink%20rel%3D%22stylesheet%22%20href%3D%22https%3A//cdn.jsdelivr.net/npm/leaflet%401.6.0/dist/leaflet.css%22/%3E%0A%20%20%20%20%3Clink%20rel%3D%22stylesheet%22%20href%3D%22https%3A//maxcdn.bootstrapcdn.com/bootstrap/3.2.0/css/bootstrap.min.css%22/%3E%0A%20%20%20%20%3Clink%20rel%3D%22stylesheet%22%20href%3D%22https%3A//maxcdn.bootstrapcdn.com/bootstrap/3.2.0/css/bootstrap-theme.min.css%22/%3E%0A%20%20%20%20%3Clink%20rel%3D%22stylesheet%22%20href%3D%22https%3A//maxcdn.bootstrapcdn.com/font-awesome/4.6.3/css/font-awesome.min.css%22/%3E%0A%20%20%20%20%3Clink%20rel%3D%22stylesheet%22%20href%3D%22https%3A//cdnjs.cloudflare.com/ajax/libs/Leaflet.awesome-markers/2.0.2/leaflet.awesome-markers.css%22/%3E%0A%20%20%20%20%3Clink%20rel%3D%22stylesheet%22%20href%3D%22https%3A//cdn.jsdelivr.net/gh/python-visualization/folium/folium/templates/leaflet.awesome.rotate.min.css%22/%3E%0A%20%20%20%20%0A%20%20%20%20%20%20%20%20%20%20%20%20%3Cmeta%20name%3D%22viewport%22%20content%3D%22width%3Ddevice-width%2C%0A%20%20%20%20%20%20%20%20%20%20%20%20%20%20%20%20initial-scale%3D1.0%2C%20maximum-scale%3D1.0%2C%20user-scalable%3Dno%22%20/%3E%0A%20%20%20%20%20%20%20%20%20%20%20%20%3Cstyle%3E%0A%20%20%20%20%20%20%20%20%20%20%20%20%20%20%20%20%23map_34ae2d6126c3425a85faaea5aeee13ff%20%7B%0A%20%20%20%20%20%20%20%20%20%20%20%20%20%20%20%20%20%20%20%20position%3A%20relative%3B%0A%20%20%20%20%20%20%20%20%20%20%20%20%20%20%20%20%20%20%20%20width%3A%20100.0%25%3B%0A%20%20%20%20%20%20%20%20%20%20%20%20%20%20%20%20%20%20%20%20height%3A%20100.0%25%3B%0A%20%20%20%20%20%20%20%20%20%20%20%20%20%20%20%20%20%20%20%20left%3A%200.0%25%3B%0A%20%20%20%20%20%20%20%20%20%20%20%20%20%20%20%20%20%20%20%20top%3A%200.0%25%3B%0A%20%20%20%20%20%20%20%20%20%20%20%20%20%20%20%20%7D%0A%20%20%20%20%20%20%20%20%20%20%20%20%3C/style%3E%0A%20%20%20%20%20%20%20%20%0A%3C/head%3E%0A%3Cbody%3E%20%20%20%20%0A%20%20%20%20%0A%20%20%20%20%20%20%20%20%20%20%20%20%3Cdiv%20class%3D%22folium-map%22%20id%3D%22map_34ae2d6126c3425a85faaea5aeee13ff%22%20%3E%3C/div%3E%0A%20%20%20%20%20%20%20%20%0A%3C/body%3E%0A%3Cscript%3E%20%20%20%20%0A%20%20%20%20%0A%20%20%20%20%20%20%20%20%20%20%20%20var%20map_34ae2d6126c3425a85faaea5aeee13ff%20%3D%20L.map%28%0A%20%20%20%20%20%20%20%20%20%20%20%20%20%20%20%20%22map_34ae2d6126c3425a85faaea5aeee13ff%22%2C%0A%20%20%20%20%20%20%20%20%20%20%20%20%20%20%20%20%7B%0A%20%20%20%20%20%20%20%20%20%20%20%20%20%20%20%20%20%20%20%20center%3A%20%5B41.649693%2C%20-0.887712%5D%2C%0A%20%20%20%20%20%20%20%20%20%20%20%20%20%20%20%20%20%20%20%20crs%3A%20L.CRS.EPSG3857%2C%0A%20%20%20%20%20%20%20%20%20%20%20%20%20%20%20%20%20%20%20%20zoom%3A%2010%2C%0A%20%20%20%20%20%20%20%20%20%20%20%20%20%20%20%20%20%20%20%20zoomControl%3A%20true%2C%0A%20%20%20%20%20%20%20%20%20%20%20%20%20%20%20%20%20%20%20%20preferCanvas%3A%20false%2C%0A%20%20%20%20%20%20%20%20%20%20%20%20%20%20%20%20%7D%0A%20%20%20%20%20%20%20%20%20%20%20%20%29%3B%0A%0A%20%20%20%20%20%20%20%20%20%20%20%20%0A%0A%20%20%20%20%20%20%20%20%0A%20%20%20%20%0A%20%20%20%20%20%20%20%20%20%20%20%20var%20tile_layer_9b3184e60f904ab0814e1c80ed41bd26%20%3D%20L.tileLayer%28%0A%20%20%20%20%20%20%20%20%20%20%20%20%20%20%20%20%22https%3A//%7Bs%7D.tile.openstreetmap.org/%7Bz%7D/%7Bx%7D/%7By%7D.png%22%2C%0A%20%20%20%20%20%20%20%20%20%20%20%20%20%20%20%20%7B%22attribution%22%3A%20%22Data%20by%20%5Cu0026copy%3B%20%5Cu003ca%20href%3D%5C%22http%3A//openstreetmap.org%5C%22%5Cu003eOpenStreetMap%5Cu003c/a%5Cu003e%2C%20under%20%5Cu003ca%20href%3D%5C%22http%3A//www.openstreetmap.org/copyright%5C%22%5Cu003eODbL%5Cu003c/a%5Cu003e.%22%2C%20%22detectRetina%22%3A%20false%2C%20%22maxNativeZoom%22%3A%2018%2C%20%22maxZoom%22%3A%2018%2C%20%22minZoom%22%3A%200%2C%20%22noWrap%22%3A%20false%2C%20%22opacity%22%3A%201%2C%20%22subdomains%22%3A%20%22abc%22%2C%20%22tms%22%3A%20false%7D%0A%20%20%20%20%20%20%20%20%20%20%20%20%29.addTo%28map_34ae2d6126c3425a85faaea5aeee13ff%29%3B%0A%20%20%20%20%20%20%20%20%0A%20%20%20%20%0A%20%20%20%20%20%20%20%20%20%20%20%20var%20marker_94985d132acf48f19ef2c0150f5eca23%20%3D%20L.marker%28%0A%20%20%20%20%20%20%20%20%20%20%20%20%20%20%20%20%5B41.649693%2C%20-0.887712%5D%2C%0A%20%20%20%20%20%20%20%20%20%20%20%20%20%20%20%20%7B%7D%0A%20%20%20%20%20%20%20%20%20%20%20%20%29.addTo%28map_34ae2d6126c3425a85faaea5aeee13ff%29%3B%0A%20%20%20%20%20%20%20%20%0A%20%20%20%20%0A%20%20%20%20%20%20%20%20var%20popup_affe12315b6b4adc8ab202ce2e849944%20%3D%20L.popup%28%7B%22maxWidth%22%3A%20%22100%25%22%7D%29%3B%0A%0A%20%20%20%20%20%20%20%20%0A%20%20%20%20%20%20%20%20%20%20%20%20var%20html_5e9ae0332488492a8d66afec7c05fe7a%20%3D%20%24%28%60%3Cdiv%20id%3D%22html_5e9ae0332488492a8d66afec7c05fe7a%22%20style%3D%22width%3A%20100.0%25%3B%20height%3A%20100.0%25%3B%22%3E%C2%A1Hola%2C%20Zaragoza%21%3C/div%3E%60%29%5B0%5D%3B%0A%20%20%20%20%20%20%20%20%20%20%20%20popup_affe12315b6b4adc8ab202ce2e849944.setContent%28html_5e9ae0332488492a8d66afec7c05fe7a%29%3B%0A%20%20%20%20%20%20%20%20%0A%0A%20%20%20%20%20%20%20%20marker_94985d132acf48f19ef2c0150f5eca23.bindPopup%28popup_affe12315b6b4adc8ab202ce2e849944%29%0A%20%20%20%20%20%20%20%20%3B%0A%0A%20%20%20%20%20%20%20%20%0A%20%20%20%20%0A%3C/script%3E onload=\"this.contentDocument.open();this.contentDocument.write(    decodeURIComponent(this.getAttribute('data-html')));this.contentDocument.close();\" allowfullscreen webkitallowfullscreen mozallowfullscreen></iframe></div></div>"
      ],
      "text/plain": [
       "<folium.folium.Map at 0x2ce96e7e370>"
      ]
     },
     "execution_count": 116,
     "metadata": {},
     "output_type": "execute_result"
    }
   ],
   "source": [
    "marcador = folium.Marker(coord_zrgz, popup=\"¡Hola, Zaragoza!\")\n",
    "mapa=mapa.add_child(marcador)\n",
    "mapa"
   ]
  },
  {
   "cell_type": "code",
   "execution_count": null,
   "id": "c1b7e770",
   "metadata": {},
   "outputs": [],
   "source": [
    "una función que va a iterar cada uno de los elementos"
   ]
  },
  {
   "cell_type": "code",
   "execution_count": 117,
   "id": "4d97b12f",
   "metadata": {},
   "outputs": [
    {
     "data": {
      "text/html": [
       "<div style=\"width:100%;\"><div style=\"position:relative;width:100%;height:0;padding-bottom:60%;\"><span style=\"color:#565656\">Make this Notebook Trusted to load map: File -> Trust Notebook</span><iframe src=\"about:blank\" style=\"position:absolute;width:100%;height:100%;left:0;top:0;border:none !important;\" data-html=%3C%21DOCTYPE%20html%3E%0A%3Chead%3E%20%20%20%20%0A%20%20%20%20%3Cmeta%20http-equiv%3D%22content-type%22%20content%3D%22text/html%3B%20charset%3DUTF-8%22%20/%3E%0A%20%20%20%20%0A%20%20%20%20%20%20%20%20%3Cscript%3E%0A%20%20%20%20%20%20%20%20%20%20%20%20L_NO_TOUCH%20%3D%20false%3B%0A%20%20%20%20%20%20%20%20%20%20%20%20L_DISABLE_3D%20%3D%20false%3B%0A%20%20%20%20%20%20%20%20%3C/script%3E%0A%20%20%20%20%0A%20%20%20%20%3Cstyle%3Ehtml%2C%20body%20%7Bwidth%3A%20100%25%3Bheight%3A%20100%25%3Bmargin%3A%200%3Bpadding%3A%200%3B%7D%3C/style%3E%0A%20%20%20%20%3Cstyle%3E%23map%20%7Bposition%3Aabsolute%3Btop%3A0%3Bbottom%3A0%3Bright%3A0%3Bleft%3A0%3B%7D%3C/style%3E%0A%20%20%20%20%3Cscript%20src%3D%22https%3A//cdn.jsdelivr.net/npm/leaflet%401.6.0/dist/leaflet.js%22%3E%3C/script%3E%0A%20%20%20%20%3Cscript%20src%3D%22https%3A//code.jquery.com/jquery-1.12.4.min.js%22%3E%3C/script%3E%0A%20%20%20%20%3Cscript%20src%3D%22https%3A//maxcdn.bootstrapcdn.com/bootstrap/3.2.0/js/bootstrap.min.js%22%3E%3C/script%3E%0A%20%20%20%20%3Cscript%20src%3D%22https%3A//cdnjs.cloudflare.com/ajax/libs/Leaflet.awesome-markers/2.0.2/leaflet.awesome-markers.js%22%3E%3C/script%3E%0A%20%20%20%20%3Clink%20rel%3D%22stylesheet%22%20href%3D%22https%3A//cdn.jsdelivr.net/npm/leaflet%401.6.0/dist/leaflet.css%22/%3E%0A%20%20%20%20%3Clink%20rel%3D%22stylesheet%22%20href%3D%22https%3A//maxcdn.bootstrapcdn.com/bootstrap/3.2.0/css/bootstrap.min.css%22/%3E%0A%20%20%20%20%3Clink%20rel%3D%22stylesheet%22%20href%3D%22https%3A//maxcdn.bootstrapcdn.com/bootstrap/3.2.0/css/bootstrap-theme.min.css%22/%3E%0A%20%20%20%20%3Clink%20rel%3D%22stylesheet%22%20href%3D%22https%3A//maxcdn.bootstrapcdn.com/font-awesome/4.6.3/css/font-awesome.min.css%22/%3E%0A%20%20%20%20%3Clink%20rel%3D%22stylesheet%22%20href%3D%22https%3A//cdnjs.cloudflare.com/ajax/libs/Leaflet.awesome-markers/2.0.2/leaflet.awesome-markers.css%22/%3E%0A%20%20%20%20%3Clink%20rel%3D%22stylesheet%22%20href%3D%22https%3A//cdn.jsdelivr.net/gh/python-visualization/folium/folium/templates/leaflet.awesome.rotate.min.css%22/%3E%0A%20%20%20%20%0A%20%20%20%20%20%20%20%20%20%20%20%20%3Cmeta%20name%3D%22viewport%22%20content%3D%22width%3Ddevice-width%2C%0A%20%20%20%20%20%20%20%20%20%20%20%20%20%20%20%20initial-scale%3D1.0%2C%20maximum-scale%3D1.0%2C%20user-scalable%3Dno%22%20/%3E%0A%20%20%20%20%20%20%20%20%20%20%20%20%3Cstyle%3E%0A%20%20%20%20%20%20%20%20%20%20%20%20%20%20%20%20%23map_34ae2d6126c3425a85faaea5aeee13ff%20%7B%0A%20%20%20%20%20%20%20%20%20%20%20%20%20%20%20%20%20%20%20%20position%3A%20relative%3B%0A%20%20%20%20%20%20%20%20%20%20%20%20%20%20%20%20%20%20%20%20width%3A%20100.0%25%3B%0A%20%20%20%20%20%20%20%20%20%20%20%20%20%20%20%20%20%20%20%20height%3A%20100.0%25%3B%0A%20%20%20%20%20%20%20%20%20%20%20%20%20%20%20%20%20%20%20%20left%3A%200.0%25%3B%0A%20%20%20%20%20%20%20%20%20%20%20%20%20%20%20%20%20%20%20%20top%3A%200.0%25%3B%0A%20%20%20%20%20%20%20%20%20%20%20%20%20%20%20%20%7D%0A%20%20%20%20%20%20%20%20%20%20%20%20%3C/style%3E%0A%20%20%20%20%20%20%20%20%0A%3C/head%3E%0A%3Cbody%3E%20%20%20%20%0A%20%20%20%20%0A%20%20%20%20%20%20%20%20%20%20%20%20%3Cdiv%20class%3D%22folium-map%22%20id%3D%22map_34ae2d6126c3425a85faaea5aeee13ff%22%20%3E%3C/div%3E%0A%20%20%20%20%20%20%20%20%0A%3C/body%3E%0A%3Cscript%3E%20%20%20%20%0A%20%20%20%20%0A%20%20%20%20%20%20%20%20%20%20%20%20var%20map_34ae2d6126c3425a85faaea5aeee13ff%20%3D%20L.map%28%0A%20%20%20%20%20%20%20%20%20%20%20%20%20%20%20%20%22map_34ae2d6126c3425a85faaea5aeee13ff%22%2C%0A%20%20%20%20%20%20%20%20%20%20%20%20%20%20%20%20%7B%0A%20%20%20%20%20%20%20%20%20%20%20%20%20%20%20%20%20%20%20%20center%3A%20%5B41.649693%2C%20-0.887712%5D%2C%0A%20%20%20%20%20%20%20%20%20%20%20%20%20%20%20%20%20%20%20%20crs%3A%20L.CRS.EPSG3857%2C%0A%20%20%20%20%20%20%20%20%20%20%20%20%20%20%20%20%20%20%20%20zoom%3A%2010%2C%0A%20%20%20%20%20%20%20%20%20%20%20%20%20%20%20%20%20%20%20%20zoomControl%3A%20true%2C%0A%20%20%20%20%20%20%20%20%20%20%20%20%20%20%20%20%20%20%20%20preferCanvas%3A%20false%2C%0A%20%20%20%20%20%20%20%20%20%20%20%20%20%20%20%20%7D%0A%20%20%20%20%20%20%20%20%20%20%20%20%29%3B%0A%0A%20%20%20%20%20%20%20%20%20%20%20%20%0A%0A%20%20%20%20%20%20%20%20%0A%20%20%20%20%0A%20%20%20%20%20%20%20%20%20%20%20%20var%20tile_layer_9b3184e60f904ab0814e1c80ed41bd26%20%3D%20L.tileLayer%28%0A%20%20%20%20%20%20%20%20%20%20%20%20%20%20%20%20%22https%3A//%7Bs%7D.tile.openstreetmap.org/%7Bz%7D/%7Bx%7D/%7By%7D.png%22%2C%0A%20%20%20%20%20%20%20%20%20%20%20%20%20%20%20%20%7B%22attribution%22%3A%20%22Data%20by%20%5Cu0026copy%3B%20%5Cu003ca%20href%3D%5C%22http%3A//openstreetmap.org%5C%22%5Cu003eOpenStreetMap%5Cu003c/a%5Cu003e%2C%20under%20%5Cu003ca%20href%3D%5C%22http%3A//www.openstreetmap.org/copyright%5C%22%5Cu003eODbL%5Cu003c/a%5Cu003e.%22%2C%20%22detectRetina%22%3A%20false%2C%20%22maxNativeZoom%22%3A%2018%2C%20%22maxZoom%22%3A%2018%2C%20%22minZoom%22%3A%200%2C%20%22noWrap%22%3A%20false%2C%20%22opacity%22%3A%201%2C%20%22subdomains%22%3A%20%22abc%22%2C%20%22tms%22%3A%20false%7D%0A%20%20%20%20%20%20%20%20%20%20%20%20%29.addTo%28map_34ae2d6126c3425a85faaea5aeee13ff%29%3B%0A%20%20%20%20%20%20%20%20%0A%20%20%20%20%0A%20%20%20%20%20%20%20%20%20%20%20%20var%20marker_94985d132acf48f19ef2c0150f5eca23%20%3D%20L.marker%28%0A%20%20%20%20%20%20%20%20%20%20%20%20%20%20%20%20%5B41.649693%2C%20-0.887712%5D%2C%0A%20%20%20%20%20%20%20%20%20%20%20%20%20%20%20%20%7B%7D%0A%20%20%20%20%20%20%20%20%20%20%20%20%29.addTo%28map_34ae2d6126c3425a85faaea5aeee13ff%29%3B%0A%20%20%20%20%20%20%20%20%0A%20%20%20%20%0A%20%20%20%20%20%20%20%20var%20popup_affe12315b6b4adc8ab202ce2e849944%20%3D%20L.popup%28%7B%22maxWidth%22%3A%20%22100%25%22%7D%29%3B%0A%0A%20%20%20%20%20%20%20%20%0A%20%20%20%20%20%20%20%20%20%20%20%20var%20html_5e9ae0332488492a8d66afec7c05fe7a%20%3D%20%24%28%60%3Cdiv%20id%3D%22html_5e9ae0332488492a8d66afec7c05fe7a%22%20style%3D%22width%3A%20100.0%25%3B%20height%3A%20100.0%25%3B%22%3E%C2%A1Hola%2C%20Zaragoza%21%3C/div%3E%60%29%5B0%5D%3B%0A%20%20%20%20%20%20%20%20%20%20%20%20popup_affe12315b6b4adc8ab202ce2e849944.setContent%28html_5e9ae0332488492a8d66afec7c05fe7a%29%3B%0A%20%20%20%20%20%20%20%20%0A%0A%20%20%20%20%20%20%20%20marker_94985d132acf48f19ef2c0150f5eca23.bindPopup%28popup_affe12315b6b4adc8ab202ce2e849944%29%0A%20%20%20%20%20%20%20%20%3B%0A%0A%20%20%20%20%20%20%20%20%0A%20%20%20%20%0A%20%20%20%20%0A%20%20%20%20%20%20%20%20%20%20%20%20var%20marker_14260c0b0b7f47e38f65d2d139cfd09c%20%3D%20L.marker%28%0A%20%20%20%20%20%20%20%20%20%20%20%20%20%20%20%20%5B-0.8818527060979306%2C%2041.649027473051156%5D%2C%0A%20%20%20%20%20%20%20%20%20%20%20%20%20%20%20%20%7B%7D%0A%20%20%20%20%20%20%20%20%20%20%20%20%29.addTo%28map_34ae2d6126c3425a85faaea5aeee13ff%29%3B%0A%20%20%20%20%20%20%20%20%0A%20%20%20%20%0A%20%20%20%20%20%20%20%20var%20popup_38f3fd2186e24432a6aa0c91b24e2bf6%20%3D%20L.popup%28%7B%22maxWidth%22%3A%20%22100%25%22%7D%29%3B%0A%0A%20%20%20%20%20%20%20%20%0A%20%20%20%20%20%20%20%20%20%20%20%20var%20html_49ff57184eec426bb1df7b6a7f976ed0%20%3D%20%24%28%60%3Cdiv%20id%3D%22html_49ff57184eec426bb1df7b6a7f976ed0%22%20style%3D%22width%3A%20100.0%25%3B%20height%3A%20100.0%25%3B%22%3ESALIDA%20CALZADA%3C/div%3E%60%29%5B0%5D%3B%0A%20%20%20%20%20%20%20%20%20%20%20%20popup_38f3fd2186e24432a6aa0c91b24e2bf6.setContent%28html_49ff57184eec426bb1df7b6a7f976ed0%29%3B%0A%20%20%20%20%20%20%20%20%0A%0A%20%20%20%20%20%20%20%20marker_14260c0b0b7f47e38f65d2d139cfd09c.bindPopup%28popup_38f3fd2186e24432a6aa0c91b24e2bf6%29%0A%20%20%20%20%20%20%20%20%3B%0A%0A%20%20%20%20%20%20%20%20%0A%20%20%20%20%0A%20%20%20%20%0A%20%20%20%20%20%20%20%20%20%20%20%20var%20marker_383340f2c3ae4f8fbf1b438b7d077042%20%3D%20L.marker%28%0A%20%20%20%20%20%20%20%20%20%20%20%20%20%20%20%20%5B-0.8645810716721081%2C%2041.661585829868585%5D%2C%0A%20%20%20%20%20%20%20%20%20%20%20%20%20%20%20%20%7B%7D%0A%20%20%20%20%20%20%20%20%20%20%20%20%29.addTo%28map_34ae2d6126c3425a85faaea5aeee13ff%29%3B%0A%20%20%20%20%20%20%20%20%0A%20%20%20%20%0A%20%20%20%20%20%20%20%20var%20popup_b7aaeb9a0ebc483087956704f643e6f9%20%3D%20L.popup%28%7B%22maxWidth%22%3A%20%22100%25%22%7D%29%3B%0A%0A%20%20%20%20%20%20%20%20%0A%20%20%20%20%20%20%20%20%20%20%20%20var%20html_bb17623af5b44f58a9003a9ba9fde418%20%3D%20%24%28%60%3Cdiv%20id%3D%22html_bb17623af5b44f58a9003a9ba9fde418%22%20style%3D%22width%3A%20100.0%25%3B%20height%3A%20100.0%25%3B%22%3ECOLISI%C3%93N%20ALCANCE%3C/div%3E%60%29%5B0%5D%3B%0A%20%20%20%20%20%20%20%20%20%20%20%20popup_b7aaeb9a0ebc483087956704f643e6f9.setContent%28html_bb17623af5b44f58a9003a9ba9fde418%29%3B%0A%20%20%20%20%20%20%20%20%0A%0A%20%20%20%20%20%20%20%20marker_383340f2c3ae4f8fbf1b438b7d077042.bindPopup%28popup_b7aaeb9a0ebc483087956704f643e6f9%29%0A%20%20%20%20%20%20%20%20%3B%0A%0A%20%20%20%20%20%20%20%20%0A%20%20%20%20%0A%20%20%20%20%0A%20%20%20%20%20%20%20%20%20%20%20%20var%20marker_ae0d2bc76d8a470bb767a811c1bbed28%20%3D%20L.marker%28%0A%20%20%20%20%20%20%20%20%20%20%20%20%20%20%20%20%5B-0.887776415002892%2C%2041.666992622958105%5D%2C%0A%20%20%20%20%20%20%20%20%20%20%20%20%20%20%20%20%7B%7D%0A%20%20%20%20%20%20%20%20%20%20%20%20%29.addTo%28map_34ae2d6126c3425a85faaea5aeee13ff%29%3B%0A%20%20%20%20%20%20%20%20%0A%20%20%20%20%0A%20%20%20%20%20%20%20%20var%20popup_99eb56dd6b2a491bb84e8abbf28a9118%20%3D%20L.popup%28%7B%22maxWidth%22%3A%20%22100%25%22%7D%29%3B%0A%0A%20%20%20%20%20%20%20%20%0A%20%20%20%20%20%20%20%20%20%20%20%20var%20html_9037872e8d3440288ad5698c9a1414ed%20%3D%20%24%28%60%3Cdiv%20id%3D%22html_9037872e8d3440288ad5698c9a1414ed%22%20style%3D%22width%3A%20100.0%25%3B%20height%3A%20100.0%25%3B%22%3ECOLISI%C3%93N%20ALCANCE%3C/div%3E%60%29%5B0%5D%3B%0A%20%20%20%20%20%20%20%20%20%20%20%20popup_99eb56dd6b2a491bb84e8abbf28a9118.setContent%28html_9037872e8d3440288ad5698c9a1414ed%29%3B%0A%20%20%20%20%20%20%20%20%0A%0A%20%20%20%20%20%20%20%20marker_ae0d2bc76d8a470bb767a811c1bbed28.bindPopup%28popup_99eb56dd6b2a491bb84e8abbf28a9118%29%0A%20%20%20%20%20%20%20%20%3B%0A%0A%20%20%20%20%20%20%20%20%0A%20%20%20%20%0A%20%20%20%20%0A%20%20%20%20%20%20%20%20%20%20%20%20var%20marker_8acfbb84ce614a4f907fc8d1eda83c71%20%3D%20L.marker%28%0A%20%20%20%20%20%20%20%20%20%20%20%20%20%20%20%20%5B-0.8825260453930127%2C%2041.62957498750602%5D%2C%0A%20%20%20%20%20%20%20%20%20%20%20%20%20%20%20%20%7B%7D%0A%20%20%20%20%20%20%20%20%20%20%20%20%29.addTo%28map_34ae2d6126c3425a85faaea5aeee13ff%29%3B%0A%20%20%20%20%20%20%20%20%0A%20%20%20%20%0A%20%20%20%20%20%20%20%20var%20popup_d9590af3567b4bbf811c5ad9102de782%20%3D%20L.popup%28%7B%22maxWidth%22%3A%20%22100%25%22%7D%29%3B%0A%0A%20%20%20%20%20%20%20%20%0A%20%20%20%20%20%20%20%20%20%20%20%20var%20html_918bad234d284efebad60beb57f9a16f%20%3D%20%24%28%60%3Cdiv%20id%3D%22html_918bad234d284efebad60beb57f9a16f%22%20style%3D%22width%3A%20100.0%25%3B%20height%3A%20100.0%25%3B%22%3ECOLIS%20FRONTOLATERAL%3C/div%3E%60%29%5B0%5D%3B%0A%20%20%20%20%20%20%20%20%20%20%20%20popup_d9590af3567b4bbf811c5ad9102de782.setContent%28html_918bad234d284efebad60beb57f9a16f%29%3B%0A%20%20%20%20%20%20%20%20%0A%0A%20%20%20%20%20%20%20%20marker_8acfbb84ce614a4f907fc8d1eda83c71.bindPopup%28popup_d9590af3567b4bbf811c5ad9102de782%29%0A%20%20%20%20%20%20%20%20%3B%0A%0A%20%20%20%20%20%20%20%20%0A%20%20%20%20%0A%20%20%20%20%0A%20%20%20%20%20%20%20%20%20%20%20%20var%20marker_dfac314cf06c4a519411bf095c73c905%20%3D%20L.marker%28%0A%20%20%20%20%20%20%20%20%20%20%20%20%20%20%20%20%5B-0.908314757720389%2C%2041.6562121210704%5D%2C%0A%20%20%20%20%20%20%20%20%20%20%20%20%20%20%20%20%7B%7D%0A%20%20%20%20%20%20%20%20%20%20%20%20%29.addTo%28map_34ae2d6126c3425a85faaea5aeee13ff%29%3B%0A%20%20%20%20%20%20%20%20%0A%20%20%20%20%0A%20%20%20%20%20%20%20%20var%20popup_dd117c7c10fb415e85daac6fccc71809%20%3D%20L.popup%28%7B%22maxWidth%22%3A%20%22100%25%22%7D%29%3B%0A%0A%20%20%20%20%20%20%20%20%0A%20%20%20%20%20%20%20%20%20%20%20%20var%20html_44e921c122ba4a86a899a12cfe05e7f5%20%3D%20%24%28%60%3Cdiv%20id%3D%22html_44e921c122ba4a86a899a12cfe05e7f5%22%20style%3D%22width%3A%20100.0%25%3B%20height%3A%20100.0%25%3B%22%3ESALIDA%20CALZADA%3C/div%3E%60%29%5B0%5D%3B%0A%20%20%20%20%20%20%20%20%20%20%20%20popup_dd117c7c10fb415e85daac6fccc71809.setContent%28html_44e921c122ba4a86a899a12cfe05e7f5%29%3B%0A%20%20%20%20%20%20%20%20%0A%0A%20%20%20%20%20%20%20%20marker_dfac314cf06c4a519411bf095c73c905.bindPopup%28popup_dd117c7c10fb415e85daac6fccc71809%29%0A%20%20%20%20%20%20%20%20%3B%0A%0A%20%20%20%20%20%20%20%20%0A%20%20%20%20%0A%20%20%20%20%0A%20%20%20%20%20%20%20%20%20%20%20%20var%20marker_0e340b3eefa14db3bc0c2c6f84b7ca66%20%3D%20L.marker%28%0A%20%20%20%20%20%20%20%20%20%20%20%20%20%20%20%20%5B-0.8691088511672924%2C%2041.65949772773082%5D%2C%0A%20%20%20%20%20%20%20%20%20%20%20%20%20%20%20%20%7B%7D%0A%20%20%20%20%20%20%20%20%20%20%20%20%29.addTo%28map_34ae2d6126c3425a85faaea5aeee13ff%29%3B%0A%20%20%20%20%20%20%20%20%0A%20%20%20%20%0A%20%20%20%20%20%20%20%20var%20popup_5c788d30ceb848839e218c010a5b9903%20%3D%20L.popup%28%7B%22maxWidth%22%3A%20%22100%25%22%7D%29%3B%0A%0A%20%20%20%20%20%20%20%20%0A%20%20%20%20%20%20%20%20%20%20%20%20var%20html_8def94538e684273b0ed478ec73940d8%20%3D%20%24%28%60%3Cdiv%20id%3D%22html_8def94538e684273b0ed478ec73940d8%22%20style%3D%22width%3A%20100.0%25%3B%20height%3A%20100.0%25%3B%22%3EOTRAS%3C/div%3E%60%29%5B0%5D%3B%0A%20%20%20%20%20%20%20%20%20%20%20%20popup_5c788d30ceb848839e218c010a5b9903.setContent%28html_8def94538e684273b0ed478ec73940d8%29%3B%0A%20%20%20%20%20%20%20%20%0A%0A%20%20%20%20%20%20%20%20marker_0e340b3eefa14db3bc0c2c6f84b7ca66.bindPopup%28popup_5c788d30ceb848839e218c010a5b9903%29%0A%20%20%20%20%20%20%20%20%3B%0A%0A%20%20%20%20%20%20%20%20%0A%20%20%20%20%0A%20%20%20%20%0A%20%20%20%20%20%20%20%20%20%20%20%20var%20marker_cb42832abd614bf89719eb9a8e322530%20%3D%20L.marker%28%0A%20%20%20%20%20%20%20%20%20%20%20%20%20%20%20%20%5B-0.8880337913721866%2C%2041.633353667694024%5D%2C%0A%20%20%20%20%20%20%20%20%20%20%20%20%20%20%20%20%7B%7D%0A%20%20%20%20%20%20%20%20%20%20%20%20%29.addTo%28map_34ae2d6126c3425a85faaea5aeee13ff%29%3B%0A%20%20%20%20%20%20%20%20%0A%20%20%20%20%0A%20%20%20%20%20%20%20%20var%20popup_c23aac55856747b6b428440cf531089e%20%3D%20L.popup%28%7B%22maxWidth%22%3A%20%22100%25%22%7D%29%3B%0A%0A%20%20%20%20%20%20%20%20%0A%20%20%20%20%20%20%20%20%20%20%20%20var%20html_6c61e340984044dc96a7480fceb92b1d%20%3D%20%24%28%60%3Cdiv%20id%3D%22html_6c61e340984044dc96a7480fceb92b1d%22%20style%3D%22width%3A%20100.0%25%3B%20height%3A%20100.0%25%3B%22%3EATROPELLO%3C/div%3E%60%29%5B0%5D%3B%0A%20%20%20%20%20%20%20%20%20%20%20%20popup_c23aac55856747b6b428440cf531089e.setContent%28html_6c61e340984044dc96a7480fceb92b1d%29%3B%0A%20%20%20%20%20%20%20%20%0A%0A%20%20%20%20%20%20%20%20marker_cb42832abd614bf89719eb9a8e322530.bindPopup%28popup_c23aac55856747b6b428440cf531089e%29%0A%20%20%20%20%20%20%20%20%3B%0A%0A%20%20%20%20%20%20%20%20%0A%20%20%20%20%0A%20%20%20%20%0A%20%20%20%20%20%20%20%20%20%20%20%20var%20marker_ab1882d95e3b47baa1ffac07b5ef8099%20%3D%20L.marker%28%0A%20%20%20%20%20%20%20%20%20%20%20%20%20%20%20%20%5B-0.8708838775078237%2C%2041.6390382112928%5D%2C%0A%20%20%20%20%20%20%20%20%20%20%20%20%20%20%20%20%7B%7D%0A%20%20%20%20%20%20%20%20%20%20%20%20%29.addTo%28map_34ae2d6126c3425a85faaea5aeee13ff%29%3B%0A%20%20%20%20%20%20%20%20%0A%20%20%20%20%0A%20%20%20%20%20%20%20%20var%20popup_350051aa57904ff4b11aef1cbf4cce03%20%3D%20L.popup%28%7B%22maxWidth%22%3A%20%22100%25%22%7D%29%3B%0A%0A%20%20%20%20%20%20%20%20%0A%20%20%20%20%20%20%20%20%20%20%20%20var%20html_6769b77ea77c41009b4d45b9a3ef48aa%20%3D%20%24%28%60%3Cdiv%20id%3D%22html_6769b77ea77c41009b4d45b9a3ef48aa%22%20style%3D%22width%3A%20100.0%25%3B%20height%3A%20100.0%25%3B%22%3ECAIDA%20SOBRE%20CALZADA%3C/div%3E%60%29%5B0%5D%3B%0A%20%20%20%20%20%20%20%20%20%20%20%20popup_350051aa57904ff4b11aef1cbf4cce03.setContent%28html_6769b77ea77c41009b4d45b9a3ef48aa%29%3B%0A%20%20%20%20%20%20%20%20%0A%0A%20%20%20%20%20%20%20%20marker_ab1882d95e3b47baa1ffac07b5ef8099.bindPopup%28popup_350051aa57904ff4b11aef1cbf4cce03%29%0A%20%20%20%20%20%20%20%20%3B%0A%0A%20%20%20%20%20%20%20%20%0A%20%20%20%20%0A%20%20%20%20%0A%20%20%20%20%20%20%20%20%20%20%20%20var%20marker_6d8ad3633cf4414ba01cd0e428426e90%20%3D%20L.marker%28%0A%20%20%20%20%20%20%20%20%20%20%20%20%20%20%20%20%5B-0.8970649943808023%2C%2041.64083344974765%5D%2C%0A%20%20%20%20%20%20%20%20%20%20%20%20%20%20%20%20%7B%7D%0A%20%20%20%20%20%20%20%20%20%20%20%20%29.addTo%28map_34ae2d6126c3425a85faaea5aeee13ff%29%3B%0A%20%20%20%20%20%20%20%20%0A%20%20%20%20%0A%20%20%20%20%20%20%20%20var%20popup_334f9846b9c046e38fb58858bf5547d8%20%3D%20L.popup%28%7B%22maxWidth%22%3A%20%22100%25%22%7D%29%3B%0A%0A%20%20%20%20%20%20%20%20%0A%20%20%20%20%20%20%20%20%20%20%20%20var%20html_e62f8e6b982747438d67306421f81322%20%3D%20%24%28%60%3Cdiv%20id%3D%22html_e62f8e6b982747438d67306421f81322%22%20style%3D%22width%3A%20100.0%25%3B%20height%3A%20100.0%25%3B%22%3ECOLIS.%20MARCHA%20ATR%C3%81S%3C/div%3E%60%29%5B0%5D%3B%0A%20%20%20%20%20%20%20%20%20%20%20%20popup_334f9846b9c046e38fb58858bf5547d8.setContent%28html_e62f8e6b982747438d67306421f81322%29%3B%0A%20%20%20%20%20%20%20%20%0A%0A%20%20%20%20%20%20%20%20marker_6d8ad3633cf4414ba01cd0e428426e90.bindPopup%28popup_334f9846b9c046e38fb58858bf5547d8%29%0A%20%20%20%20%20%20%20%20%3B%0A%0A%20%20%20%20%20%20%20%20%0A%20%20%20%20%0A%20%20%20%20%0A%20%20%20%20%20%20%20%20%20%20%20%20var%20marker_87e2eea940bd41d6bd85df4f9b30ff90%20%3D%20L.marker%28%0A%20%20%20%20%20%20%20%20%20%20%20%20%20%20%20%20%5B-0.8718525605769747%2C%2041.64904657717317%5D%2C%0A%20%20%20%20%20%20%20%20%20%20%20%20%20%20%20%20%7B%7D%0A%20%20%20%20%20%20%20%20%20%20%20%20%29.addTo%28map_34ae2d6126c3425a85faaea5aeee13ff%29%3B%0A%20%20%20%20%20%20%20%20%0A%20%20%20%20%0A%20%20%20%20%20%20%20%20var%20popup_7d5f95d8dab54ab18b1ec1749c086326%20%3D%20L.popup%28%7B%22maxWidth%22%3A%20%22100%25%22%7D%29%3B%0A%0A%20%20%20%20%20%20%20%20%0A%20%20%20%20%20%20%20%20%20%20%20%20var%20html_93531fb187b7451ab81ef6553544b300%20%3D%20%24%28%60%3Cdiv%20id%3D%22html_93531fb187b7451ab81ef6553544b300%22%20style%3D%22width%3A%20100.0%25%3B%20height%3A%20100.0%25%3B%22%3ECOLISI%C3%93N%20LATERAL%3C/div%3E%60%29%5B0%5D%3B%0A%20%20%20%20%20%20%20%20%20%20%20%20popup_7d5f95d8dab54ab18b1ec1749c086326.setContent%28html_93531fb187b7451ab81ef6553544b300%29%3B%0A%20%20%20%20%20%20%20%20%0A%0A%20%20%20%20%20%20%20%20marker_87e2eea940bd41d6bd85df4f9b30ff90.bindPopup%28popup_7d5f95d8dab54ab18b1ec1749c086326%29%0A%20%20%20%20%20%20%20%20%3B%0A%0A%20%20%20%20%20%20%20%20%0A%20%20%20%20%0A%20%20%20%20%0A%20%20%20%20%20%20%20%20%20%20%20%20var%20marker_0dd8fee58ea540a29ad54e329b5c3300%20%3D%20L.marker%28%0A%20%20%20%20%20%20%20%20%20%20%20%20%20%20%20%20%5B-0.8964627561577849%2C%2041.64322365075108%5D%2C%0A%20%20%20%20%20%20%20%20%20%20%20%20%20%20%20%20%7B%7D%0A%20%20%20%20%20%20%20%20%20%20%20%20%29.addTo%28map_34ae2d6126c3425a85faaea5aeee13ff%29%3B%0A%20%20%20%20%20%20%20%20%0A%20%20%20%20%0A%20%20%20%20%20%20%20%20var%20popup_16f42e4b11924715bbeeeea99ff6c9c0%20%3D%20L.popup%28%7B%22maxWidth%22%3A%20%22100%25%22%7D%29%3B%0A%0A%20%20%20%20%20%20%20%20%0A%20%20%20%20%20%20%20%20%20%20%20%20var%20html_256190f48652402a8349754f23b71330%20%3D%20%24%28%60%3Cdiv%20id%3D%22html_256190f48652402a8349754f23b71330%22%20style%3D%22width%3A%20100.0%25%3B%20height%3A%20100.0%25%3B%22%3EOTRAS%3C/div%3E%60%29%5B0%5D%3B%0A%20%20%20%20%20%20%20%20%20%20%20%20popup_16f42e4b11924715bbeeeea99ff6c9c0.setContent%28html_256190f48652402a8349754f23b71330%29%3B%0A%20%20%20%20%20%20%20%20%0A%0A%20%20%20%20%20%20%20%20marker_0dd8fee58ea540a29ad54e329b5c3300.bindPopup%28popup_16f42e4b11924715bbeeeea99ff6c9c0%29%0A%20%20%20%20%20%20%20%20%3B%0A%0A%20%20%20%20%20%20%20%20%0A%20%20%20%20%0A%20%20%20%20%0A%20%20%20%20%20%20%20%20%20%20%20%20var%20marker_de38766f52e740eb91c421e0ca39af8c%20%3D%20L.marker%28%0A%20%20%20%20%20%20%20%20%20%20%20%20%20%20%20%20%5B-0.8778095796207178%2C%2041.68753087470739%5D%2C%0A%20%20%20%20%20%20%20%20%20%20%20%20%20%20%20%20%7B%7D%0A%20%20%20%20%20%20%20%20%20%20%20%20%29.addTo%28map_34ae2d6126c3425a85faaea5aeee13ff%29%3B%0A%20%20%20%20%20%20%20%20%0A%20%20%20%20%0A%20%20%20%20%20%20%20%20var%20popup_5c9dbdf2f8c7465d80dcca8f3d4a3341%20%3D%20L.popup%28%7B%22maxWidth%22%3A%20%22100%25%22%7D%29%3B%0A%0A%20%20%20%20%20%20%20%20%0A%20%20%20%20%20%20%20%20%20%20%20%20var%20html_24966180bac748c686445ba135b0f9a7%20%3D%20%24%28%60%3Cdiv%20id%3D%22html_24966180bac748c686445ba135b0f9a7%22%20style%3D%22width%3A%20100.0%25%3B%20height%3A%20100.0%25%3B%22%3ECOLISI%C3%93N%20ALCANCE%3C/div%3E%60%29%5B0%5D%3B%0A%20%20%20%20%20%20%20%20%20%20%20%20popup_5c9dbdf2f8c7465d80dcca8f3d4a3341.setContent%28html_24966180bac748c686445ba135b0f9a7%29%3B%0A%20%20%20%20%20%20%20%20%0A%0A%20%20%20%20%20%20%20%20marker_de38766f52e740eb91c421e0ca39af8c.bindPopup%28popup_5c9dbdf2f8c7465d80dcca8f3d4a3341%29%0A%20%20%20%20%20%20%20%20%3B%0A%0A%20%20%20%20%20%20%20%20%0A%20%20%20%20%0A%20%20%20%20%0A%20%20%20%20%20%20%20%20%20%20%20%20var%20marker_550647a765c242f6b67a1a16f87c9728%20%3D%20L.marker%28%0A%20%20%20%20%20%20%20%20%20%20%20%20%20%20%20%20%5B-0.8812157329722801%2C%2041.661646612715046%5D%2C%0A%20%20%20%20%20%20%20%20%20%20%20%20%20%20%20%20%7B%7D%0A%20%20%20%20%20%20%20%20%20%20%20%20%29.addTo%28map_34ae2d6126c3425a85faaea5aeee13ff%29%3B%0A%20%20%20%20%20%20%20%20%0A%20%20%20%20%0A%20%20%20%20%20%20%20%20var%20popup_8b158e938d86441a87854f966bd61133%20%3D%20L.popup%28%7B%22maxWidth%22%3A%20%22100%25%22%7D%29%3B%0A%0A%20%20%20%20%20%20%20%20%0A%20%20%20%20%20%20%20%20%20%20%20%20var%20html_ad4b763f225c40278754ddd67cb8d6a5%20%3D%20%24%28%60%3Cdiv%20id%3D%22html_ad4b763f225c40278754ddd67cb8d6a5%22%20style%3D%22width%3A%20100.0%25%3B%20height%3A%20100.0%25%3B%22%3ESALIDA%20CALZADA%3C/div%3E%60%29%5B0%5D%3B%0A%20%20%20%20%20%20%20%20%20%20%20%20popup_8b158e938d86441a87854f966bd61133.setContent%28html_ad4b763f225c40278754ddd67cb8d6a5%29%3B%0A%20%20%20%20%20%20%20%20%0A%0A%20%20%20%20%20%20%20%20marker_550647a765c242f6b67a1a16f87c9728.bindPopup%28popup_8b158e938d86441a87854f966bd61133%29%0A%20%20%20%20%20%20%20%20%3B%0A%0A%20%20%20%20%20%20%20%20%0A%20%20%20%20%0A%20%20%20%20%0A%20%20%20%20%20%20%20%20%20%20%20%20var%20marker_bde0f3a70d4e4796b83e243b10e4023f%20%3D%20L.marker%28%0A%20%20%20%20%20%20%20%20%20%20%20%20%20%20%20%20%5B-0.8762000299022707%2C%2041.6454384961757%5D%2C%0A%20%20%20%20%20%20%20%20%20%20%20%20%20%20%20%20%7B%7D%0A%20%20%20%20%20%20%20%20%20%20%20%20%29.addTo%28map_34ae2d6126c3425a85faaea5aeee13ff%29%3B%0A%20%20%20%20%20%20%20%20%0A%20%20%20%20%0A%20%20%20%20%20%20%20%20var%20popup_d9e37136c5804048aafbdbbf4646066c%20%3D%20L.popup%28%7B%22maxWidth%22%3A%20%22100%25%22%7D%29%3B%0A%0A%20%20%20%20%20%20%20%20%0A%20%20%20%20%20%20%20%20%20%20%20%20var%20html_f0dfa429b62646eb916c088ee071c38c%20%3D%20%24%28%60%3Cdiv%20id%3D%22html_f0dfa429b62646eb916c088ee071c38c%22%20style%3D%22width%3A%20100.0%25%3B%20height%3A%20100.0%25%3B%22%3ECOLISI%C3%93N%20ALCANCE%3C/div%3E%60%29%5B0%5D%3B%0A%20%20%20%20%20%20%20%20%20%20%20%20popup_d9e37136c5804048aafbdbbf4646066c.setContent%28html_f0dfa429b62646eb916c088ee071c38c%29%3B%0A%20%20%20%20%20%20%20%20%0A%0A%20%20%20%20%20%20%20%20marker_bde0f3a70d4e4796b83e243b10e4023f.bindPopup%28popup_d9e37136c5804048aafbdbbf4646066c%29%0A%20%20%20%20%20%20%20%20%3B%0A%0A%20%20%20%20%20%20%20%20%0A%20%20%20%20%0A%20%20%20%20%0A%20%20%20%20%20%20%20%20%20%20%20%20var%20marker_fb22a8fbe176456390b1c65ded7fc1dd%20%3D%20L.marker%28%0A%20%20%20%20%20%20%20%20%20%20%20%20%20%20%20%20%5B-0.9089013552408617%2C%2041.65543768899759%5D%2C%0A%20%20%20%20%20%20%20%20%20%20%20%20%20%20%20%20%7B%7D%0A%20%20%20%20%20%20%20%20%20%20%20%20%29.addTo%28map_34ae2d6126c3425a85faaea5aeee13ff%29%3B%0A%20%20%20%20%20%20%20%20%0A%20%20%20%20%0A%20%20%20%20%20%20%20%20var%20popup_f1afefe765a149e8a4e0eadc7e2e296d%20%3D%20L.popup%28%7B%22maxWidth%22%3A%20%22100%25%22%7D%29%3B%0A%0A%20%20%20%20%20%20%20%20%0A%20%20%20%20%20%20%20%20%20%20%20%20var%20html_d8a789a01d814ef79b486f8d1bdba133%20%3D%20%24%28%60%3Cdiv%20id%3D%22html_d8a789a01d814ef79b486f8d1bdba133%22%20style%3D%22width%3A%20100.0%25%3B%20height%3A%20100.0%25%3B%22%3EATROPELLO%3C/div%3E%60%29%5B0%5D%3B%0A%20%20%20%20%20%20%20%20%20%20%20%20popup_f1afefe765a149e8a4e0eadc7e2e296d.setContent%28html_d8a789a01d814ef79b486f8d1bdba133%29%3B%0A%20%20%20%20%20%20%20%20%0A%0A%20%20%20%20%20%20%20%20marker_fb22a8fbe176456390b1c65ded7fc1dd.bindPopup%28popup_f1afefe765a149e8a4e0eadc7e2e296d%29%0A%20%20%20%20%20%20%20%20%3B%0A%0A%20%20%20%20%20%20%20%20%0A%20%20%20%20%0A%20%20%20%20%0A%20%20%20%20%20%20%20%20%20%20%20%20var%20marker_d4220b8b88a44ad399873c4814735606%20%3D%20L.marker%28%0A%20%20%20%20%20%20%20%20%20%20%20%20%20%20%20%20%5B-0.9004729973337304%2C%2041.65180346604993%5D%2C%0A%20%20%20%20%20%20%20%20%20%20%20%20%20%20%20%20%7B%7D%0A%20%20%20%20%20%20%20%20%20%20%20%20%29.addTo%28map_34ae2d6126c3425a85faaea5aeee13ff%29%3B%0A%20%20%20%20%20%20%20%20%0A%20%20%20%20%0A%20%20%20%20%20%20%20%20var%20popup_82101b3d542049b7adaf87bd7d64517c%20%3D%20L.popup%28%7B%22maxWidth%22%3A%20%22100%25%22%7D%29%3B%0A%0A%20%20%20%20%20%20%20%20%0A%20%20%20%20%20%20%20%20%20%20%20%20var%20html_46271a7a0700430491a439ebd0b787e7%20%3D%20%24%28%60%3Cdiv%20id%3D%22html_46271a7a0700430491a439ebd0b787e7%22%20style%3D%22width%3A%20100.0%25%3B%20height%3A%20100.0%25%3B%22%3ECOLISI%C3%93N%20ALCANCE%3C/div%3E%60%29%5B0%5D%3B%0A%20%20%20%20%20%20%20%20%20%20%20%20popup_82101b3d542049b7adaf87bd7d64517c.setContent%28html_46271a7a0700430491a439ebd0b787e7%29%3B%0A%20%20%20%20%20%20%20%20%0A%0A%20%20%20%20%20%20%20%20marker_d4220b8b88a44ad399873c4814735606.bindPopup%28popup_82101b3d542049b7adaf87bd7d64517c%29%0A%20%20%20%20%20%20%20%20%3B%0A%0A%20%20%20%20%20%20%20%20%0A%20%20%20%20%0A%20%20%20%20%0A%20%20%20%20%20%20%20%20%20%20%20%20var%20marker_74bab6d6294542188e1a77f4bfb16d2a%20%3D%20L.marker%28%0A%20%20%20%20%20%20%20%20%20%20%20%20%20%20%20%20%5B-0.8917562993466011%2C%2041.65233828238132%5D%2C%0A%20%20%20%20%20%20%20%20%20%20%20%20%20%20%20%20%7B%7D%0A%20%20%20%20%20%20%20%20%20%20%20%20%29.addTo%28map_34ae2d6126c3425a85faaea5aeee13ff%29%3B%0A%20%20%20%20%20%20%20%20%0A%20%20%20%20%0A%20%20%20%20%20%20%20%20var%20popup_1f3e0d05b5f243598da225a4876b2edf%20%3D%20L.popup%28%7B%22maxWidth%22%3A%20%22100%25%22%7D%29%3B%0A%0A%20%20%20%20%20%20%20%20%0A%20%20%20%20%20%20%20%20%20%20%20%20var%20html_e951c6053fa54ee59a9b270d569d73e7%20%3D%20%24%28%60%3Cdiv%20id%3D%22html_e951c6053fa54ee59a9b270d569d73e7%22%20style%3D%22width%3A%20100.0%25%3B%20height%3A%20100.0%25%3B%22%3ECOLISI%C3%93N%20ALCANCE%3C/div%3E%60%29%5B0%5D%3B%0A%20%20%20%20%20%20%20%20%20%20%20%20popup_1f3e0d05b5f243598da225a4876b2edf.setContent%28html_e951c6053fa54ee59a9b270d569d73e7%29%3B%0A%20%20%20%20%20%20%20%20%0A%0A%20%20%20%20%20%20%20%20marker_74bab6d6294542188e1a77f4bfb16d2a.bindPopup%28popup_1f3e0d05b5f243598da225a4876b2edf%29%0A%20%20%20%20%20%20%20%20%3B%0A%0A%20%20%20%20%20%20%20%20%0A%20%20%20%20%0A%20%20%20%20%0A%20%20%20%20%20%20%20%20%20%20%20%20var%20marker_d5ca1baceb2746d88605501b614afae7%20%3D%20L.marker%28%0A%20%20%20%20%20%20%20%20%20%20%20%20%20%20%20%20%5B-0.888856043735591%2C%2041.65040494617356%5D%2C%0A%20%20%20%20%20%20%20%20%20%20%20%20%20%20%20%20%7B%7D%0A%20%20%20%20%20%20%20%20%20%20%20%20%29.addTo%28map_34ae2d6126c3425a85faaea5aeee13ff%29%3B%0A%20%20%20%20%20%20%20%20%0A%20%20%20%20%0A%20%20%20%20%20%20%20%20var%20popup_dd5876927d934d55a712bf60d2d15dac%20%3D%20L.popup%28%7B%22maxWidth%22%3A%20%22100%25%22%7D%29%3B%0A%0A%20%20%20%20%20%20%20%20%0A%20%20%20%20%20%20%20%20%20%20%20%20var%20html_ab6faf0505d942d7b43f446406b0e9d7%20%3D%20%24%28%60%3Cdiv%20id%3D%22html_ab6faf0505d942d7b43f446406b0e9d7%22%20style%3D%22width%3A%20100.0%25%3B%20height%3A%20100.0%25%3B%22%3ECOLISI%C3%93N%20ALCANCE%3C/div%3E%60%29%5B0%5D%3B%0A%20%20%20%20%20%20%20%20%20%20%20%20popup_dd5876927d934d55a712bf60d2d15dac.setContent%28html_ab6faf0505d942d7b43f446406b0e9d7%29%3B%0A%20%20%20%20%20%20%20%20%0A%0A%20%20%20%20%20%20%20%20marker_d5ca1baceb2746d88605501b614afae7.bindPopup%28popup_dd5876927d934d55a712bf60d2d15dac%29%0A%20%20%20%20%20%20%20%20%3B%0A%0A%20%20%20%20%20%20%20%20%0A%20%20%20%20%0A%20%20%20%20%0A%20%20%20%20%20%20%20%20%20%20%20%20var%20marker_0f85214be550478eae80f1391ae0faaa%20%3D%20L.marker%28%0A%20%20%20%20%20%20%20%20%20%20%20%20%20%20%20%20%5B-0.8629911318784169%2C%2041.645335650478316%5D%2C%0A%20%20%20%20%20%20%20%20%20%20%20%20%20%20%20%20%7B%7D%0A%20%20%20%20%20%20%20%20%20%20%20%20%29.addTo%28map_34ae2d6126c3425a85faaea5aeee13ff%29%3B%0A%20%20%20%20%20%20%20%20%0A%20%20%20%20%0A%20%20%20%20%20%20%20%20var%20popup_027cca99f90f4dcabba92caab2ee11c2%20%3D%20L.popup%28%7B%22maxWidth%22%3A%20%22100%25%22%7D%29%3B%0A%0A%20%20%20%20%20%20%20%20%0A%20%20%20%20%20%20%20%20%20%20%20%20var%20html_753fe9487af945829e1fa39fc41f0519%20%3D%20%24%28%60%3Cdiv%20id%3D%22html_753fe9487af945829e1fa39fc41f0519%22%20style%3D%22width%3A%20100.0%25%3B%20height%3A%20100.0%25%3B%22%3ECOLISI%C3%93N%20ALCANCE%3C/div%3E%60%29%5B0%5D%3B%0A%20%20%20%20%20%20%20%20%20%20%20%20popup_027cca99f90f4dcabba92caab2ee11c2.setContent%28html_753fe9487af945829e1fa39fc41f0519%29%3B%0A%20%20%20%20%20%20%20%20%0A%0A%20%20%20%20%20%20%20%20marker_0f85214be550478eae80f1391ae0faaa.bindPopup%28popup_027cca99f90f4dcabba92caab2ee11c2%29%0A%20%20%20%20%20%20%20%20%3B%0A%0A%20%20%20%20%20%20%20%20%0A%20%20%20%20%0A%20%20%20%20%0A%20%20%20%20%20%20%20%20%20%20%20%20var%20marker_837d5e527db64f3395d846c7cda56136%20%3D%20L.marker%28%0A%20%20%20%20%20%20%20%20%20%20%20%20%20%20%20%20%5B-0.8870207060655807%2C%2041.609992514227066%5D%2C%0A%20%20%20%20%20%20%20%20%20%20%20%20%20%20%20%20%7B%7D%0A%20%20%20%20%20%20%20%20%20%20%20%20%29.addTo%28map_34ae2d6126c3425a85faaea5aeee13ff%29%3B%0A%20%20%20%20%20%20%20%20%0A%20%20%20%20%0A%20%20%20%20%20%20%20%20var%20popup_f2446ad1d6aa4582a0ad5d3d994c6016%20%3D%20L.popup%28%7B%22maxWidth%22%3A%20%22100%25%22%7D%29%3B%0A%0A%20%20%20%20%20%20%20%20%0A%20%20%20%20%20%20%20%20%20%20%20%20var%20html_c395e9e8071b47138192fc1362e168f9%20%3D%20%24%28%60%3Cdiv%20id%3D%22html_c395e9e8071b47138192fc1362e168f9%22%20style%3D%22width%3A%20100.0%25%3B%20height%3A%20100.0%25%3B%22%3ECOLISI%C3%93N%20ALCANCE%3C/div%3E%60%29%5B0%5D%3B%0A%20%20%20%20%20%20%20%20%20%20%20%20popup_f2446ad1d6aa4582a0ad5d3d994c6016.setContent%28html_c395e9e8071b47138192fc1362e168f9%29%3B%0A%20%20%20%20%20%20%20%20%0A%0A%20%20%20%20%20%20%20%20marker_837d5e527db64f3395d846c7cda56136.bindPopup%28popup_f2446ad1d6aa4582a0ad5d3d994c6016%29%0A%20%20%20%20%20%20%20%20%3B%0A%0A%20%20%20%20%20%20%20%20%0A%20%20%20%20%0A%20%20%20%20%0A%20%20%20%20%20%20%20%20%20%20%20%20var%20marker_04bae5c2a7d140cdaf1903691dc75045%20%3D%20L.marker%28%0A%20%20%20%20%20%20%20%20%20%20%20%20%20%20%20%20%5B-0.8636325074780108%2C%2041.63379905763323%5D%2C%0A%20%20%20%20%20%20%20%20%20%20%20%20%20%20%20%20%7B%7D%0A%20%20%20%20%20%20%20%20%20%20%20%20%29.addTo%28map_34ae2d6126c3425a85faaea5aeee13ff%29%3B%0A%20%20%20%20%20%20%20%20%0A%20%20%20%20%0A%20%20%20%20%20%20%20%20var%20popup_f331167037804a7f82682a251b39a7db%20%3D%20L.popup%28%7B%22maxWidth%22%3A%20%22100%25%22%7D%29%3B%0A%0A%20%20%20%20%20%20%20%20%0A%20%20%20%20%20%20%20%20%20%20%20%20var%20html_f9ebee8e5b4c4b95b0541c3771ad4557%20%3D%20%24%28%60%3Cdiv%20id%3D%22html_f9ebee8e5b4c4b95b0541c3771ad4557%22%20style%3D%22width%3A%20100.0%25%3B%20height%3A%20100.0%25%3B%22%3ECOLISI%C3%93N%20LATERAL%3C/div%3E%60%29%5B0%5D%3B%0A%20%20%20%20%20%20%20%20%20%20%20%20popup_f331167037804a7f82682a251b39a7db.setContent%28html_f9ebee8e5b4c4b95b0541c3771ad4557%29%3B%0A%20%20%20%20%20%20%20%20%0A%0A%20%20%20%20%20%20%20%20marker_04bae5c2a7d140cdaf1903691dc75045.bindPopup%28popup_f331167037804a7f82682a251b39a7db%29%0A%20%20%20%20%20%20%20%20%3B%0A%0A%20%20%20%20%20%20%20%20%0A%20%20%20%20%0A%20%20%20%20%0A%20%20%20%20%20%20%20%20%20%20%20%20var%20marker_1e61b3fadec64ec9851ce57624d999ee%20%3D%20L.marker%28%0A%20%20%20%20%20%20%20%20%20%20%20%20%20%20%20%20%5B-0.8760724207544668%2C%2041.63275556609146%5D%2C%0A%20%20%20%20%20%20%20%20%20%20%20%20%20%20%20%20%7B%7D%0A%20%20%20%20%20%20%20%20%20%20%20%20%29.addTo%28map_34ae2d6126c3425a85faaea5aeee13ff%29%3B%0A%20%20%20%20%20%20%20%20%0A%20%20%20%20%0A%20%20%20%20%20%20%20%20var%20popup_e69998807b5c451e8d62305771782ef7%20%3D%20L.popup%28%7B%22maxWidth%22%3A%20%22100%25%22%7D%29%3B%0A%0A%20%20%20%20%20%20%20%20%0A%20%20%20%20%20%20%20%20%20%20%20%20var%20html_b3cffb25f1e841179a7544af2bde67a6%20%3D%20%24%28%60%3Cdiv%20id%3D%22html_b3cffb25f1e841179a7544af2bde67a6%22%20style%3D%22width%3A%20100.0%25%3B%20height%3A%20100.0%25%3B%22%3ECAIDA%20SOBRE%20CALZADA%3C/div%3E%60%29%5B0%5D%3B%0A%20%20%20%20%20%20%20%20%20%20%20%20popup_e69998807b5c451e8d62305771782ef7.setContent%28html_b3cffb25f1e841179a7544af2bde67a6%29%3B%0A%20%20%20%20%20%20%20%20%0A%0A%20%20%20%20%20%20%20%20marker_1e61b3fadec64ec9851ce57624d999ee.bindPopup%28popup_e69998807b5c451e8d62305771782ef7%29%0A%20%20%20%20%20%20%20%20%3B%0A%0A%20%20%20%20%20%20%20%20%0A%20%20%20%20%0A%20%20%20%20%0A%20%20%20%20%20%20%20%20%20%20%20%20var%20marker_c62e4318f5b643a2b8c7851cbfca2fe3%20%3D%20L.marker%28%0A%20%20%20%20%20%20%20%20%20%20%20%20%20%20%20%20%5B-0.9036852209830768%2C%2041.63808926467497%5D%2C%0A%20%20%20%20%20%20%20%20%20%20%20%20%20%20%20%20%7B%7D%0A%20%20%20%20%20%20%20%20%20%20%20%20%29.addTo%28map_34ae2d6126c3425a85faaea5aeee13ff%29%3B%0A%20%20%20%20%20%20%20%20%0A%20%20%20%20%0A%20%20%20%20%20%20%20%20var%20popup_623899219f614c458312d1326c43c572%20%3D%20L.popup%28%7B%22maxWidth%22%3A%20%22100%25%22%7D%29%3B%0A%0A%20%20%20%20%20%20%20%20%0A%20%20%20%20%20%20%20%20%20%20%20%20var%20html_436a1a06353549b2b6de9d2e561da85a%20%3D%20%24%28%60%3Cdiv%20id%3D%22html_436a1a06353549b2b6de9d2e561da85a%22%20style%3D%22width%3A%20100.0%25%3B%20height%3A%20100.0%25%3B%22%3ECOLISI%C3%93N%20ALCANCE%3C/div%3E%60%29%5B0%5D%3B%0A%20%20%20%20%20%20%20%20%20%20%20%20popup_623899219f614c458312d1326c43c572.setContent%28html_436a1a06353549b2b6de9d2e561da85a%29%3B%0A%20%20%20%20%20%20%20%20%0A%0A%20%20%20%20%20%20%20%20marker_c62e4318f5b643a2b8c7851cbfca2fe3.bindPopup%28popup_623899219f614c458312d1326c43c572%29%0A%20%20%20%20%20%20%20%20%3B%0A%0A%20%20%20%20%20%20%20%20%0A%20%20%20%20%0A%20%20%20%20%0A%20%20%20%20%20%20%20%20%20%20%20%20var%20marker_cabc7e853d2a4dd497df0c9f522461b2%20%3D%20L.marker%28%0A%20%20%20%20%20%20%20%20%20%20%20%20%20%20%20%20%5B-0.8896980442453839%2C%2041.677487884305975%5D%2C%0A%20%20%20%20%20%20%20%20%20%20%20%20%20%20%20%20%7B%7D%0A%20%20%20%20%20%20%20%20%20%20%20%20%29.addTo%28map_34ae2d6126c3425a85faaea5aeee13ff%29%3B%0A%20%20%20%20%20%20%20%20%0A%20%20%20%20%0A%20%20%20%20%20%20%20%20var%20popup_e5e2164e6571447bb92b745540548710%20%3D%20L.popup%28%7B%22maxWidth%22%3A%20%22100%25%22%7D%29%3B%0A%0A%20%20%20%20%20%20%20%20%0A%20%20%20%20%20%20%20%20%20%20%20%20var%20html_37a5ede495f84ed184f936ac1e433c1d%20%3D%20%24%28%60%3Cdiv%20id%3D%22html_37a5ede495f84ed184f936ac1e433c1d%22%20style%3D%22width%3A%20100.0%25%3B%20height%3A%20100.0%25%3B%22%3ECOLIS.%20MARCHA%20ATR%C3%81S%3C/div%3E%60%29%5B0%5D%3B%0A%20%20%20%20%20%20%20%20%20%20%20%20popup_e5e2164e6571447bb92b745540548710.setContent%28html_37a5ede495f84ed184f936ac1e433c1d%29%3B%0A%20%20%20%20%20%20%20%20%0A%0A%20%20%20%20%20%20%20%20marker_cabc7e853d2a4dd497df0c9f522461b2.bindPopup%28popup_e5e2164e6571447bb92b745540548710%29%0A%20%20%20%20%20%20%20%20%3B%0A%0A%20%20%20%20%20%20%20%20%0A%20%20%20%20%0A%20%20%20%20%0A%20%20%20%20%20%20%20%20%20%20%20%20var%20marker_22f6b726735640e2b75053cc50168d94%20%3D%20L.marker%28%0A%20%20%20%20%20%20%20%20%20%20%20%20%20%20%20%20%5B-0.9018264648858587%2C%2041.620591734015946%5D%2C%0A%20%20%20%20%20%20%20%20%20%20%20%20%20%20%20%20%7B%7D%0A%20%20%20%20%20%20%20%20%20%20%20%20%29.addTo%28map_34ae2d6126c3425a85faaea5aeee13ff%29%3B%0A%20%20%20%20%20%20%20%20%0A%20%20%20%20%0A%20%20%20%20%20%20%20%20var%20popup_912309752f47435494db1028d7b781f4%20%3D%20L.popup%28%7B%22maxWidth%22%3A%20%22100%25%22%7D%29%3B%0A%0A%20%20%20%20%20%20%20%20%0A%20%20%20%20%20%20%20%20%20%20%20%20var%20html_3183a298f7ac451e913c96f3b93ce240%20%3D%20%24%28%60%3Cdiv%20id%3D%22html_3183a298f7ac451e913c96f3b93ce240%22%20style%3D%22width%3A%20100.0%25%3B%20height%3A%20100.0%25%3B%22%3ESALIDA%20CALZADA%3C/div%3E%60%29%5B0%5D%3B%0A%20%20%20%20%20%20%20%20%20%20%20%20popup_912309752f47435494db1028d7b781f4.setContent%28html_3183a298f7ac451e913c96f3b93ce240%29%3B%0A%20%20%20%20%20%20%20%20%0A%0A%20%20%20%20%20%20%20%20marker_22f6b726735640e2b75053cc50168d94.bindPopup%28popup_912309752f47435494db1028d7b781f4%29%0A%20%20%20%20%20%20%20%20%3B%0A%0A%20%20%20%20%20%20%20%20%0A%20%20%20%20%0A%20%20%20%20%0A%20%20%20%20%20%20%20%20%20%20%20%20var%20marker_c7e300433a9c4cc484ed36d78a96bae6%20%3D%20L.marker%28%0A%20%20%20%20%20%20%20%20%20%20%20%20%20%20%20%20%5B-0.9187726932212442%2C%2041.64931371437485%5D%2C%0A%20%20%20%20%20%20%20%20%20%20%20%20%20%20%20%20%7B%7D%0A%20%20%20%20%20%20%20%20%20%20%20%20%29.addTo%28map_34ae2d6126c3425a85faaea5aeee13ff%29%3B%0A%20%20%20%20%20%20%20%20%0A%20%20%20%20%0A%20%20%20%20%20%20%20%20var%20popup_445ad2732fa84ce696bcd4ed21948747%20%3D%20L.popup%28%7B%22maxWidth%22%3A%20%22100%25%22%7D%29%3B%0A%0A%20%20%20%20%20%20%20%20%0A%20%20%20%20%20%20%20%20%20%20%20%20var%20html_b2009c1ae3f64664853465072a2a1df0%20%3D%20%24%28%60%3Cdiv%20id%3D%22html_b2009c1ae3f64664853465072a2a1df0%22%20style%3D%22width%3A%20100.0%25%3B%20height%3A%20100.0%25%3B%22%3ECOLIS%20FRONTOLATERAL%3C/div%3E%60%29%5B0%5D%3B%0A%20%20%20%20%20%20%20%20%20%20%20%20popup_445ad2732fa84ce696bcd4ed21948747.setContent%28html_b2009c1ae3f64664853465072a2a1df0%29%3B%0A%20%20%20%20%20%20%20%20%0A%0A%20%20%20%20%20%20%20%20marker_c7e300433a9c4cc484ed36d78a96bae6.bindPopup%28popup_445ad2732fa84ce696bcd4ed21948747%29%0A%20%20%20%20%20%20%20%20%3B%0A%0A%20%20%20%20%20%20%20%20%0A%20%20%20%20%0A%20%20%20%20%0A%20%20%20%20%20%20%20%20%20%20%20%20var%20marker_a778ae8a48be4ea887d122cb0ba8e622%20%3D%20L.marker%28%0A%20%20%20%20%20%20%20%20%20%20%20%20%20%20%20%20%5B-0.8855988456901538%2C%2041.646890443474554%5D%2C%0A%20%20%20%20%20%20%20%20%20%20%20%20%20%20%20%20%7B%7D%0A%20%20%20%20%20%20%20%20%20%20%20%20%29.addTo%28map_34ae2d6126c3425a85faaea5aeee13ff%29%3B%0A%20%20%20%20%20%20%20%20%0A%20%20%20%20%0A%20%20%20%20%20%20%20%20var%20popup_72acc1669b864389b183ae8a5bb943a7%20%3D%20L.popup%28%7B%22maxWidth%22%3A%20%22100%25%22%7D%29%3B%0A%0A%20%20%20%20%20%20%20%20%0A%20%20%20%20%20%20%20%20%20%20%20%20var%20html_faf3d45ec0c2467aab0e0bebe6a6ed86%20%3D%20%24%28%60%3Cdiv%20id%3D%22html_faf3d45ec0c2467aab0e0bebe6a6ed86%22%20style%3D%22width%3A%20100.0%25%3B%20height%3A%20100.0%25%3B%22%3ECOLISI%C3%93N%20LATERAL%3C/div%3E%60%29%5B0%5D%3B%0A%20%20%20%20%20%20%20%20%20%20%20%20popup_72acc1669b864389b183ae8a5bb943a7.setContent%28html_faf3d45ec0c2467aab0e0bebe6a6ed86%29%3B%0A%20%20%20%20%20%20%20%20%0A%0A%20%20%20%20%20%20%20%20marker_a778ae8a48be4ea887d122cb0ba8e622.bindPopup%28popup_72acc1669b864389b183ae8a5bb943a7%29%0A%20%20%20%20%20%20%20%20%3B%0A%0A%20%20%20%20%20%20%20%20%0A%20%20%20%20%0A%20%20%20%20%0A%20%20%20%20%20%20%20%20%20%20%20%20var%20marker_6adac0c8941648e3bf149861849975e2%20%3D%20L.marker%28%0A%20%20%20%20%20%20%20%20%20%20%20%20%20%20%20%20%5B-0.887523212911549%2C%2041.62404668544956%5D%2C%0A%20%20%20%20%20%20%20%20%20%20%20%20%20%20%20%20%7B%7D%0A%20%20%20%20%20%20%20%20%20%20%20%20%29.addTo%28map_34ae2d6126c3425a85faaea5aeee13ff%29%3B%0A%20%20%20%20%20%20%20%20%0A%20%20%20%20%0A%20%20%20%20%20%20%20%20var%20popup_fb554c6504274991ba7bdd69f4888ceb%20%3D%20L.popup%28%7B%22maxWidth%22%3A%20%22100%25%22%7D%29%3B%0A%0A%20%20%20%20%20%20%20%20%0A%20%20%20%20%20%20%20%20%20%20%20%20var%20html_97334788163a448ba14bfb8e58d59ccd%20%3D%20%24%28%60%3Cdiv%20id%3D%22html_97334788163a448ba14bfb8e58d59ccd%22%20style%3D%22width%3A%20100.0%25%3B%20height%3A%20100.0%25%3B%22%3ECOLISI%C3%93N%20LATERAL%3C/div%3E%60%29%5B0%5D%3B%0A%20%20%20%20%20%20%20%20%20%20%20%20popup_fb554c6504274991ba7bdd69f4888ceb.setContent%28html_97334788163a448ba14bfb8e58d59ccd%29%3B%0A%20%20%20%20%20%20%20%20%0A%0A%20%20%20%20%20%20%20%20marker_6adac0c8941648e3bf149861849975e2.bindPopup%28popup_fb554c6504274991ba7bdd69f4888ceb%29%0A%20%20%20%20%20%20%20%20%3B%0A%0A%20%20%20%20%20%20%20%20%0A%20%20%20%20%0A%20%20%20%20%0A%20%20%20%20%20%20%20%20%20%20%20%20var%20marker_4317e3bc26da4486b82d478eaf4033d2%20%3D%20L.marker%28%0A%20%20%20%20%20%20%20%20%20%20%20%20%20%20%20%20%5B-0.8863120908790753%2C%2041.63964884250951%5D%2C%0A%20%20%20%20%20%20%20%20%20%20%20%20%20%20%20%20%7B%7D%0A%20%20%20%20%20%20%20%20%20%20%20%20%29.addTo%28map_34ae2d6126c3425a85faaea5aeee13ff%29%3B%0A%20%20%20%20%20%20%20%20%0A%20%20%20%20%0A%20%20%20%20%20%20%20%20var%20popup_4040223cf0ce4c83b4681dfe235d674f%20%3D%20L.popup%28%7B%22maxWidth%22%3A%20%22100%25%22%7D%29%3B%0A%0A%20%20%20%20%20%20%20%20%0A%20%20%20%20%20%20%20%20%20%20%20%20var%20html_78d9250384da42a0913dba8f4c43bbc4%20%3D%20%24%28%60%3Cdiv%20id%3D%22html_78d9250384da42a0913dba8f4c43bbc4%22%20style%3D%22width%3A%20100.0%25%3B%20height%3A%20100.0%25%3B%22%3ECOLISI%C3%93N%20LATERAL%3C/div%3E%60%29%5B0%5D%3B%0A%20%20%20%20%20%20%20%20%20%20%20%20popup_4040223cf0ce4c83b4681dfe235d674f.setContent%28html_78d9250384da42a0913dba8f4c43bbc4%29%3B%0A%20%20%20%20%20%20%20%20%0A%0A%20%20%20%20%20%20%20%20marker_4317e3bc26da4486b82d478eaf4033d2.bindPopup%28popup_4040223cf0ce4c83b4681dfe235d674f%29%0A%20%20%20%20%20%20%20%20%3B%0A%0A%20%20%20%20%20%20%20%20%0A%20%20%20%20%0A%20%20%20%20%0A%20%20%20%20%20%20%20%20%20%20%20%20var%20marker_21a04a363f004eabae1ecc3745c53872%20%3D%20L.marker%28%0A%20%20%20%20%20%20%20%20%20%20%20%20%20%20%20%20%5B-0.8689640327130923%2C%2041.638477534601776%5D%2C%0A%20%20%20%20%20%20%20%20%20%20%20%20%20%20%20%20%7B%7D%0A%20%20%20%20%20%20%20%20%20%20%20%20%29.addTo%28map_34ae2d6126c3425a85faaea5aeee13ff%29%3B%0A%20%20%20%20%20%20%20%20%0A%20%20%20%20%0A%20%20%20%20%20%20%20%20var%20popup_e7b101c63eef46fbb453cb865605b0f8%20%3D%20L.popup%28%7B%22maxWidth%22%3A%20%22100%25%22%7D%29%3B%0A%0A%20%20%20%20%20%20%20%20%0A%20%20%20%20%20%20%20%20%20%20%20%20var%20html_a2dd0452e3314b588b34cc6a2f1a7611%20%3D%20%24%28%60%3Cdiv%20id%3D%22html_a2dd0452e3314b588b34cc6a2f1a7611%22%20style%3D%22width%3A%20100.0%25%3B%20height%3A%20100.0%25%3B%22%3ECOLISI%C3%93N%20LATERAL%3C/div%3E%60%29%5B0%5D%3B%0A%20%20%20%20%20%20%20%20%20%20%20%20popup_e7b101c63eef46fbb453cb865605b0f8.setContent%28html_a2dd0452e3314b588b34cc6a2f1a7611%29%3B%0A%20%20%20%20%20%20%20%20%0A%0A%20%20%20%20%20%20%20%20marker_21a04a363f004eabae1ecc3745c53872.bindPopup%28popup_e7b101c63eef46fbb453cb865605b0f8%29%0A%20%20%20%20%20%20%20%20%3B%0A%0A%20%20%20%20%20%20%20%20%0A%20%20%20%20%0A%20%20%20%20%0A%20%20%20%20%20%20%20%20%20%20%20%20var%20marker_f0107bb8e49e4b368dfc1bed0dc34006%20%3D%20L.marker%28%0A%20%20%20%20%20%20%20%20%20%20%20%20%20%20%20%20%5B-0.8900650666830714%2C%2041.64332496247496%5D%2C%0A%20%20%20%20%20%20%20%20%20%20%20%20%20%20%20%20%7B%7D%0A%20%20%20%20%20%20%20%20%20%20%20%20%29.addTo%28map_34ae2d6126c3425a85faaea5aeee13ff%29%3B%0A%20%20%20%20%20%20%20%20%0A%20%20%20%20%0A%20%20%20%20%20%20%20%20var%20popup_de02483d044c4bccb7253235b46dd74e%20%3D%20L.popup%28%7B%22maxWidth%22%3A%20%22100%25%22%7D%29%3B%0A%0A%20%20%20%20%20%20%20%20%0A%20%20%20%20%20%20%20%20%20%20%20%20var%20html_0899619ac90f4940887df7ad3142566e%20%3D%20%24%28%60%3Cdiv%20id%3D%22html_0899619ac90f4940887df7ad3142566e%22%20style%3D%22width%3A%20100.0%25%3B%20height%3A%20100.0%25%3B%22%3ECAIDA%20SOBRE%20CALZADA%3C/div%3E%60%29%5B0%5D%3B%0A%20%20%20%20%20%20%20%20%20%20%20%20popup_de02483d044c4bccb7253235b46dd74e.setContent%28html_0899619ac90f4940887df7ad3142566e%29%3B%0A%20%20%20%20%20%20%20%20%0A%0A%20%20%20%20%20%20%20%20marker_f0107bb8e49e4b368dfc1bed0dc34006.bindPopup%28popup_de02483d044c4bccb7253235b46dd74e%29%0A%20%20%20%20%20%20%20%20%3B%0A%0A%20%20%20%20%20%20%20%20%0A%20%20%20%20%0A%20%20%20%20%0A%20%20%20%20%20%20%20%20%20%20%20%20var%20marker_f55e87f37e8f4a259587a4eccc109317%20%3D%20L.marker%28%0A%20%20%20%20%20%20%20%20%20%20%20%20%20%20%20%20%5B-0.8918524618079099%2C%2041.65260977469196%5D%2C%0A%20%20%20%20%20%20%20%20%20%20%20%20%20%20%20%20%7B%7D%0A%20%20%20%20%20%20%20%20%20%20%20%20%29.addTo%28map_34ae2d6126c3425a85faaea5aeee13ff%29%3B%0A%20%20%20%20%20%20%20%20%0A%20%20%20%20%0A%20%20%20%20%20%20%20%20var%20popup_cc1eb91e56384d518017d6e704791be6%20%3D%20L.popup%28%7B%22maxWidth%22%3A%20%22100%25%22%7D%29%3B%0A%0A%20%20%20%20%20%20%20%20%0A%20%20%20%20%20%20%20%20%20%20%20%20var%20html_ec3e1f16833e41d984d3d65ae0ef12b1%20%3D%20%24%28%60%3Cdiv%20id%3D%22html_ec3e1f16833e41d984d3d65ae0ef12b1%22%20style%3D%22width%3A%20100.0%25%3B%20height%3A%20100.0%25%3B%22%3ECOLISI%C3%93N%20LATERAL%3C/div%3E%60%29%5B0%5D%3B%0A%20%20%20%20%20%20%20%20%20%20%20%20popup_cc1eb91e56384d518017d6e704791be6.setContent%28html_ec3e1f16833e41d984d3d65ae0ef12b1%29%3B%0A%20%20%20%20%20%20%20%20%0A%0A%20%20%20%20%20%20%20%20marker_f55e87f37e8f4a259587a4eccc109317.bindPopup%28popup_cc1eb91e56384d518017d6e704791be6%29%0A%20%20%20%20%20%20%20%20%3B%0A%0A%20%20%20%20%20%20%20%20%0A%20%20%20%20%0A%20%20%20%20%0A%20%20%20%20%20%20%20%20%20%20%20%20var%20marker_bbdfd743f4a7460b90644acc86a81bc4%20%3D%20L.marker%28%0A%20%20%20%20%20%20%20%20%20%20%20%20%20%20%20%20%5B-0.9104038365599549%2C%2041.65248328671194%5D%2C%0A%20%20%20%20%20%20%20%20%20%20%20%20%20%20%20%20%7B%7D%0A%20%20%20%20%20%20%20%20%20%20%20%20%29.addTo%28map_34ae2d6126c3425a85faaea5aeee13ff%29%3B%0A%20%20%20%20%20%20%20%20%0A%20%20%20%20%0A%20%20%20%20%20%20%20%20var%20popup_1892ccd41cbc4f5eaa67bfb890c41aa1%20%3D%20L.popup%28%7B%22maxWidth%22%3A%20%22100%25%22%7D%29%3B%0A%0A%20%20%20%20%20%20%20%20%0A%20%20%20%20%20%20%20%20%20%20%20%20var%20html_f0f75f8bf37c48e487e953d5dd8e916d%20%3D%20%24%28%60%3Cdiv%20id%3D%22html_f0f75f8bf37c48e487e953d5dd8e916d%22%20style%3D%22width%3A%20100.0%25%3B%20height%3A%20100.0%25%3B%22%3EOTRAS%3C/div%3E%60%29%5B0%5D%3B%0A%20%20%20%20%20%20%20%20%20%20%20%20popup_1892ccd41cbc4f5eaa67bfb890c41aa1.setContent%28html_f0f75f8bf37c48e487e953d5dd8e916d%29%3B%0A%20%20%20%20%20%20%20%20%0A%0A%20%20%20%20%20%20%20%20marker_bbdfd743f4a7460b90644acc86a81bc4.bindPopup%28popup_1892ccd41cbc4f5eaa67bfb890c41aa1%29%0A%20%20%20%20%20%20%20%20%3B%0A%0A%20%20%20%20%20%20%20%20%0A%20%20%20%20%0A%20%20%20%20%0A%20%20%20%20%20%20%20%20%20%20%20%20var%20marker_3c32750dc9fb43b9a08737bb9fdefb80%20%3D%20L.marker%28%0A%20%20%20%20%20%20%20%20%20%20%20%20%20%20%20%20%5B-0.8850103896969528%2C%2041.6474034449745%5D%2C%0A%20%20%20%20%20%20%20%20%20%20%20%20%20%20%20%20%7B%7D%0A%20%20%20%20%20%20%20%20%20%20%20%20%29.addTo%28map_34ae2d6126c3425a85faaea5aeee13ff%29%3B%0A%20%20%20%20%20%20%20%20%0A%20%20%20%20%0A%20%20%20%20%20%20%20%20var%20popup_c1c43ad09c30423581ed1380c7f918c0%20%3D%20L.popup%28%7B%22maxWidth%22%3A%20%22100%25%22%7D%29%3B%0A%0A%20%20%20%20%20%20%20%20%0A%20%20%20%20%20%20%20%20%20%20%20%20var%20html_1fb63ec9ccb44383b5dfd1e9829aeff4%20%3D%20%24%28%60%3Cdiv%20id%3D%22html_1fb63ec9ccb44383b5dfd1e9829aeff4%22%20style%3D%22width%3A%20100.0%25%3B%20height%3A%20100.0%25%3B%22%3ECOLISI%C3%93N%20LATERAL%3C/div%3E%60%29%5B0%5D%3B%0A%20%20%20%20%20%20%20%20%20%20%20%20popup_c1c43ad09c30423581ed1380c7f918c0.setContent%28html_1fb63ec9ccb44383b5dfd1e9829aeff4%29%3B%0A%20%20%20%20%20%20%20%20%0A%0A%20%20%20%20%20%20%20%20marker_3c32750dc9fb43b9a08737bb9fdefb80.bindPopup%28popup_c1c43ad09c30423581ed1380c7f918c0%29%0A%20%20%20%20%20%20%20%20%3B%0A%0A%20%20%20%20%20%20%20%20%0A%20%20%20%20%0A%20%20%20%20%0A%20%20%20%20%20%20%20%20%20%20%20%20var%20marker_34102d459b6c48c6a3fd7fa411bb9c2b%20%3D%20L.marker%28%0A%20%20%20%20%20%20%20%20%20%20%20%20%20%20%20%20%5B-0.8734135018983006%2C%2041.64926981833846%5D%2C%0A%20%20%20%20%20%20%20%20%20%20%20%20%20%20%20%20%7B%7D%0A%20%20%20%20%20%20%20%20%20%20%20%20%29.addTo%28map_34ae2d6126c3425a85faaea5aeee13ff%29%3B%0A%20%20%20%20%20%20%20%20%0A%20%20%20%20%0A%20%20%20%20%20%20%20%20var%20popup_a0148bd59b2d4b26966495c7e194fdc8%20%3D%20L.popup%28%7B%22maxWidth%22%3A%20%22100%25%22%7D%29%3B%0A%0A%20%20%20%20%20%20%20%20%0A%20%20%20%20%20%20%20%20%20%20%20%20var%20html_ebbe9c408ef84ae8b2796a9b9a6065a4%20%3D%20%24%28%60%3Cdiv%20id%3D%22html_ebbe9c408ef84ae8b2796a9b9a6065a4%22%20style%3D%22width%3A%20100.0%25%3B%20height%3A%20100.0%25%3B%22%3ECOLIS.%20MARCHA%20ATR%C3%81S%3C/div%3E%60%29%5B0%5D%3B%0A%20%20%20%20%20%20%20%20%20%20%20%20popup_a0148bd59b2d4b26966495c7e194fdc8.setContent%28html_ebbe9c408ef84ae8b2796a9b9a6065a4%29%3B%0A%20%20%20%20%20%20%20%20%0A%0A%20%20%20%20%20%20%20%20marker_34102d459b6c48c6a3fd7fa411bb9c2b.bindPopup%28popup_a0148bd59b2d4b26966495c7e194fdc8%29%0A%20%20%20%20%20%20%20%20%3B%0A%0A%20%20%20%20%20%20%20%20%0A%20%20%20%20%0A%20%20%20%20%0A%20%20%20%20%20%20%20%20%20%20%20%20var%20marker_a2b49bc0c6ec4951a77a6db60f95b4cf%20%3D%20L.marker%28%0A%20%20%20%20%20%20%20%20%20%20%20%20%20%20%20%20%5B-0.8593239531218387%2C%2041.650740541708075%5D%2C%0A%20%20%20%20%20%20%20%20%20%20%20%20%20%20%20%20%7B%7D%0A%20%20%20%20%20%20%20%20%20%20%20%20%29.addTo%28map_34ae2d6126c3425a85faaea5aeee13ff%29%3B%0A%20%20%20%20%20%20%20%20%0A%20%20%20%20%0A%20%20%20%20%20%20%20%20var%20popup_e9a9c057ffff470f97f366c20bf6aa05%20%3D%20L.popup%28%7B%22maxWidth%22%3A%20%22100%25%22%7D%29%3B%0A%0A%20%20%20%20%20%20%20%20%0A%20%20%20%20%20%20%20%20%20%20%20%20var%20html_12bc21011acb4f68b3eb5cc4b1b5e8cc%20%3D%20%24%28%60%3Cdiv%20id%3D%22html_12bc21011acb4f68b3eb5cc4b1b5e8cc%22%20style%3D%22width%3A%20100.0%25%3B%20height%3A%20100.0%25%3B%22%3ECOLISI%C3%93N%20ALCANCE%3C/div%3E%60%29%5B0%5D%3B%0A%20%20%20%20%20%20%20%20%20%20%20%20popup_e9a9c057ffff470f97f366c20bf6aa05.setContent%28html_12bc21011acb4f68b3eb5cc4b1b5e8cc%29%3B%0A%20%20%20%20%20%20%20%20%0A%0A%20%20%20%20%20%20%20%20marker_a2b49bc0c6ec4951a77a6db60f95b4cf.bindPopup%28popup_e9a9c057ffff470f97f366c20bf6aa05%29%0A%20%20%20%20%20%20%20%20%3B%0A%0A%20%20%20%20%20%20%20%20%0A%20%20%20%20%0A%20%20%20%20%0A%20%20%20%20%20%20%20%20%20%20%20%20var%20marker_4c427813cb55455fa98272f39d920824%20%3D%20L.marker%28%0A%20%20%20%20%20%20%20%20%20%20%20%20%20%20%20%20%5B-0.868891092151338%2C%2041.638807389014836%5D%2C%0A%20%20%20%20%20%20%20%20%20%20%20%20%20%20%20%20%7B%7D%0A%20%20%20%20%20%20%20%20%20%20%20%20%29.addTo%28map_34ae2d6126c3425a85faaea5aeee13ff%29%3B%0A%20%20%20%20%20%20%20%20%0A%20%20%20%20%0A%20%20%20%20%20%20%20%20var%20popup_a8ffe1dc09dc457da0dc4d14bbeaf9d9%20%3D%20L.popup%28%7B%22maxWidth%22%3A%20%22100%25%22%7D%29%3B%0A%0A%20%20%20%20%20%20%20%20%0A%20%20%20%20%20%20%20%20%20%20%20%20var%20html_e5769c67394b4a82beb4d10267a63545%20%3D%20%24%28%60%3Cdiv%20id%3D%22html_e5769c67394b4a82beb4d10267a63545%22%20style%3D%22width%3A%20100.0%25%3B%20height%3A%20100.0%25%3B%22%3ECOLIS%20FRONTOLATERAL%3C/div%3E%60%29%5B0%5D%3B%0A%20%20%20%20%20%20%20%20%20%20%20%20popup_a8ffe1dc09dc457da0dc4d14bbeaf9d9.setContent%28html_e5769c67394b4a82beb4d10267a63545%29%3B%0A%20%20%20%20%20%20%20%20%0A%0A%20%20%20%20%20%20%20%20marker_4c427813cb55455fa98272f39d920824.bindPopup%28popup_a8ffe1dc09dc457da0dc4d14bbeaf9d9%29%0A%20%20%20%20%20%20%20%20%3B%0A%0A%20%20%20%20%20%20%20%20%0A%20%20%20%20%0A%20%20%20%20%0A%20%20%20%20%20%20%20%20%20%20%20%20var%20marker_e7032260a1e9461abc316d320a8a984d%20%3D%20L.marker%28%0A%20%20%20%20%20%20%20%20%20%20%20%20%20%20%20%20%5B-0.9008107424460443%2C%2041.66374540604866%5D%2C%0A%20%20%20%20%20%20%20%20%20%20%20%20%20%20%20%20%7B%7D%0A%20%20%20%20%20%20%20%20%20%20%20%20%29.addTo%28map_34ae2d6126c3425a85faaea5aeee13ff%29%3B%0A%20%20%20%20%20%20%20%20%0A%20%20%20%20%0A%20%20%20%20%20%20%20%20var%20popup_acfc69236f214aad9ce9c8549c734d5f%20%3D%20L.popup%28%7B%22maxWidth%22%3A%20%22100%25%22%7D%29%3B%0A%0A%20%20%20%20%20%20%20%20%0A%20%20%20%20%20%20%20%20%20%20%20%20var%20html_19e035a2eaef4661bc3d9901c86e5d7a%20%3D%20%24%28%60%3Cdiv%20id%3D%22html_19e035a2eaef4661bc3d9901c86e5d7a%22%20style%3D%22width%3A%20100.0%25%3B%20height%3A%20100.0%25%3B%22%3EATROPELLO%3C/div%3E%60%29%5B0%5D%3B%0A%20%20%20%20%20%20%20%20%20%20%20%20popup_acfc69236f214aad9ce9c8549c734d5f.setContent%28html_19e035a2eaef4661bc3d9901c86e5d7a%29%3B%0A%20%20%20%20%20%20%20%20%0A%0A%20%20%20%20%20%20%20%20marker_e7032260a1e9461abc316d320a8a984d.bindPopup%28popup_acfc69236f214aad9ce9c8549c734d5f%29%0A%20%20%20%20%20%20%20%20%3B%0A%0A%20%20%20%20%20%20%20%20%0A%20%20%20%20%0A%20%20%20%20%0A%20%20%20%20%20%20%20%20%20%20%20%20var%20marker_fea5d9fd799d40e183b5bdfba13b9f30%20%3D%20L.marker%28%0A%20%20%20%20%20%20%20%20%20%20%20%20%20%20%20%20%5B-0.9211220937948997%2C%2041.64886535549928%5D%2C%0A%20%20%20%20%20%20%20%20%20%20%20%20%20%20%20%20%7B%7D%0A%20%20%20%20%20%20%20%20%20%20%20%20%29.addTo%28map_34ae2d6126c3425a85faaea5aeee13ff%29%3B%0A%20%20%20%20%20%20%20%20%0A%20%20%20%20%0A%20%20%20%20%20%20%20%20var%20popup_bd3ec10930f94a339538169c18092258%20%3D%20L.popup%28%7B%22maxWidth%22%3A%20%22100%25%22%7D%29%3B%0A%0A%20%20%20%20%20%20%20%20%0A%20%20%20%20%20%20%20%20%20%20%20%20var%20html_684ff4eb40ad48228fefd09bba0b4e9a%20%3D%20%24%28%60%3Cdiv%20id%3D%22html_684ff4eb40ad48228fefd09bba0b4e9a%22%20style%3D%22width%3A%20100.0%25%3B%20height%3A%20100.0%25%3B%22%3ECOLIS.%20MARCHA%20ATR%C3%81S%3C/div%3E%60%29%5B0%5D%3B%0A%20%20%20%20%20%20%20%20%20%20%20%20popup_bd3ec10930f94a339538169c18092258.setContent%28html_684ff4eb40ad48228fefd09bba0b4e9a%29%3B%0A%20%20%20%20%20%20%20%20%0A%0A%20%20%20%20%20%20%20%20marker_fea5d9fd799d40e183b5bdfba13b9f30.bindPopup%28popup_bd3ec10930f94a339538169c18092258%29%0A%20%20%20%20%20%20%20%20%3B%0A%0A%20%20%20%20%20%20%20%20%0A%20%20%20%20%0A%20%20%20%20%0A%20%20%20%20%20%20%20%20%20%20%20%20var%20marker_6b00790433804a5dbf7a440d400ff053%20%3D%20L.marker%28%0A%20%20%20%20%20%20%20%20%20%20%20%20%20%20%20%20%5B-0.9026681648170423%2C%2041.63265453864093%5D%2C%0A%20%20%20%20%20%20%20%20%20%20%20%20%20%20%20%20%7B%7D%0A%20%20%20%20%20%20%20%20%20%20%20%20%29.addTo%28map_34ae2d6126c3425a85faaea5aeee13ff%29%3B%0A%20%20%20%20%20%20%20%20%0A%20%20%20%20%0A%20%20%20%20%20%20%20%20var%20popup_5b31a42e0e1f445885d415a82379c3ea%20%3D%20L.popup%28%7B%22maxWidth%22%3A%20%22100%25%22%7D%29%3B%0A%0A%20%20%20%20%20%20%20%20%0A%20%20%20%20%20%20%20%20%20%20%20%20var%20html_c88dc8838a1c44b99fc1008fed7acede%20%3D%20%24%28%60%3Cdiv%20id%3D%22html_c88dc8838a1c44b99fc1008fed7acede%22%20style%3D%22width%3A%20100.0%25%3B%20height%3A%20100.0%25%3B%22%3ECOLIS.%20MARCHA%20ATR%C3%81S%3C/div%3E%60%29%5B0%5D%3B%0A%20%20%20%20%20%20%20%20%20%20%20%20popup_5b31a42e0e1f445885d415a82379c3ea.setContent%28html_c88dc8838a1c44b99fc1008fed7acede%29%3B%0A%20%20%20%20%20%20%20%20%0A%0A%20%20%20%20%20%20%20%20marker_6b00790433804a5dbf7a440d400ff053.bindPopup%28popup_5b31a42e0e1f445885d415a82379c3ea%29%0A%20%20%20%20%20%20%20%20%3B%0A%0A%20%20%20%20%20%20%20%20%0A%20%20%20%20%0A%20%20%20%20%0A%20%20%20%20%20%20%20%20%20%20%20%20var%20marker_cb90b5f8a02248f584a5bde69f342fa4%20%3D%20L.marker%28%0A%20%20%20%20%20%20%20%20%20%20%20%20%20%20%20%20%5B-0.8893162332922886%2C%2041.67281318904247%5D%2C%0A%20%20%20%20%20%20%20%20%20%20%20%20%20%20%20%20%7B%7D%0A%20%20%20%20%20%20%20%20%20%20%20%20%29.addTo%28map_34ae2d6126c3425a85faaea5aeee13ff%29%3B%0A%20%20%20%20%20%20%20%20%0A%20%20%20%20%0A%20%20%20%20%20%20%20%20var%20popup_a06d9d7e3f2144ada315da0d91e7093d%20%3D%20L.popup%28%7B%22maxWidth%22%3A%20%22100%25%22%7D%29%3B%0A%0A%20%20%20%20%20%20%20%20%0A%20%20%20%20%20%20%20%20%20%20%20%20var%20html_cf5c3b2b84a543ff89399b770ff79229%20%3D%20%24%28%60%3Cdiv%20id%3D%22html_cf5c3b2b84a543ff89399b770ff79229%22%20style%3D%22width%3A%20100.0%25%3B%20height%3A%20100.0%25%3B%22%3ECOLIS%20FRONTOLATERAL%3C/div%3E%60%29%5B0%5D%3B%0A%20%20%20%20%20%20%20%20%20%20%20%20popup_a06d9d7e3f2144ada315da0d91e7093d.setContent%28html_cf5c3b2b84a543ff89399b770ff79229%29%3B%0A%20%20%20%20%20%20%20%20%0A%0A%20%20%20%20%20%20%20%20marker_cb90b5f8a02248f584a5bde69f342fa4.bindPopup%28popup_a06d9d7e3f2144ada315da0d91e7093d%29%0A%20%20%20%20%20%20%20%20%3B%0A%0A%20%20%20%20%20%20%20%20%0A%20%20%20%20%0A%20%20%20%20%0A%20%20%20%20%20%20%20%20%20%20%20%20var%20marker_397e3bb1202c4f2280dfe74ad185c2c9%20%3D%20L.marker%28%0A%20%20%20%20%20%20%20%20%20%20%20%20%20%20%20%20%5B-0.8890866503471749%2C%2041.66895757951277%5D%2C%0A%20%20%20%20%20%20%20%20%20%20%20%20%20%20%20%20%7B%7D%0A%20%20%20%20%20%20%20%20%20%20%20%20%29.addTo%28map_34ae2d6126c3425a85faaea5aeee13ff%29%3B%0A%20%20%20%20%20%20%20%20%0A%20%20%20%20%0A%20%20%20%20%20%20%20%20var%20popup_4192fa6ddb204fd5857394b391c71f4b%20%3D%20L.popup%28%7B%22maxWidth%22%3A%20%22100%25%22%7D%29%3B%0A%0A%20%20%20%20%20%20%20%20%0A%20%20%20%20%20%20%20%20%20%20%20%20var%20html_0aae0b788549431dafd60c1886ea1b50%20%3D%20%24%28%60%3Cdiv%20id%3D%22html_0aae0b788549431dafd60c1886ea1b50%22%20style%3D%22width%3A%20100.0%25%3B%20height%3A%20100.0%25%3B%22%3EATROPELLO%3C/div%3E%60%29%5B0%5D%3B%0A%20%20%20%20%20%20%20%20%20%20%20%20popup_4192fa6ddb204fd5857394b391c71f4b.setContent%28html_0aae0b788549431dafd60c1886ea1b50%29%3B%0A%20%20%20%20%20%20%20%20%0A%0A%20%20%20%20%20%20%20%20marker_397e3bb1202c4f2280dfe74ad185c2c9.bindPopup%28popup_4192fa6ddb204fd5857394b391c71f4b%29%0A%20%20%20%20%20%20%20%20%3B%0A%0A%20%20%20%20%20%20%20%20%0A%20%20%20%20%0A%20%20%20%20%0A%20%20%20%20%20%20%20%20%20%20%20%20var%20marker_2ecbb57ed42c4478a53656198ea22942%20%3D%20L.marker%28%0A%20%20%20%20%20%20%20%20%20%20%20%20%20%20%20%20%5B-0.8439506345833918%2C%2041.71496486522088%5D%2C%0A%20%20%20%20%20%20%20%20%20%20%20%20%20%20%20%20%7B%7D%0A%20%20%20%20%20%20%20%20%20%20%20%20%29.addTo%28map_34ae2d6126c3425a85faaea5aeee13ff%29%3B%0A%20%20%20%20%20%20%20%20%0A%20%20%20%20%0A%20%20%20%20%20%20%20%20var%20popup_47b3769a2e2c485cb7ad506b4e415aa6%20%3D%20L.popup%28%7B%22maxWidth%22%3A%20%22100%25%22%7D%29%3B%0A%0A%20%20%20%20%20%20%20%20%0A%20%20%20%20%20%20%20%20%20%20%20%20var%20html_6951979891bf4d3fb32320ca3b1564a3%20%3D%20%24%28%60%3Cdiv%20id%3D%22html_6951979891bf4d3fb32320ca3b1564a3%22%20style%3D%22width%3A%20100.0%25%3B%20height%3A%20100.0%25%3B%22%3ESALIDA%20CALZADA%3C/div%3E%60%29%5B0%5D%3B%0A%20%20%20%20%20%20%20%20%20%20%20%20popup_47b3769a2e2c485cb7ad506b4e415aa6.setContent%28html_6951979891bf4d3fb32320ca3b1564a3%29%3B%0A%20%20%20%20%20%20%20%20%0A%0A%20%20%20%20%20%20%20%20marker_2ecbb57ed42c4478a53656198ea22942.bindPopup%28popup_47b3769a2e2c485cb7ad506b4e415aa6%29%0A%20%20%20%20%20%20%20%20%3B%0A%0A%20%20%20%20%20%20%20%20%0A%20%20%20%20%0A%20%20%20%20%0A%20%20%20%20%20%20%20%20%20%20%20%20var%20marker_47ba16fc56f5456d9e08d0f125f53cc1%20%3D%20L.marker%28%0A%20%20%20%20%20%20%20%20%20%20%20%20%20%20%20%20%5B-0.8665477541801948%2C%2041.67007665525934%5D%2C%0A%20%20%20%20%20%20%20%20%20%20%20%20%20%20%20%20%7B%7D%0A%20%20%20%20%20%20%20%20%20%20%20%20%29.addTo%28map_34ae2d6126c3425a85faaea5aeee13ff%29%3B%0A%20%20%20%20%20%20%20%20%0A%20%20%20%20%0A%20%20%20%20%20%20%20%20var%20popup_1e44458cb72b4f9e85f77c009e3aa9fd%20%3D%20L.popup%28%7B%22maxWidth%22%3A%20%22100%25%22%7D%29%3B%0A%0A%20%20%20%20%20%20%20%20%0A%20%20%20%20%20%20%20%20%20%20%20%20var%20html_7e23411c11ae4ac79f416868644b8e45%20%3D%20%24%28%60%3Cdiv%20id%3D%22html_7e23411c11ae4ac79f416868644b8e45%22%20style%3D%22width%3A%20100.0%25%3B%20height%3A%20100.0%25%3B%22%3ESALIDA%20CALZADA%3C/div%3E%60%29%5B0%5D%3B%0A%20%20%20%20%20%20%20%20%20%20%20%20popup_1e44458cb72b4f9e85f77c009e3aa9fd.setContent%28html_7e23411c11ae4ac79f416868644b8e45%29%3B%0A%20%20%20%20%20%20%20%20%0A%0A%20%20%20%20%20%20%20%20marker_47ba16fc56f5456d9e08d0f125f53cc1.bindPopup%28popup_1e44458cb72b4f9e85f77c009e3aa9fd%29%0A%20%20%20%20%20%20%20%20%3B%0A%0A%20%20%20%20%20%20%20%20%0A%20%20%20%20%0A%20%20%20%20%0A%20%20%20%20%20%20%20%20%20%20%20%20var%20marker_44c0cea5ad494af98ec6f42d01d993ab%20%3D%20L.marker%28%0A%20%20%20%20%20%20%20%20%20%20%20%20%20%20%20%20%5B-0.8848493117953854%2C%2041.63484525009101%5D%2C%0A%20%20%20%20%20%20%20%20%20%20%20%20%20%20%20%20%7B%7D%0A%20%20%20%20%20%20%20%20%20%20%20%20%29.addTo%28map_34ae2d6126c3425a85faaea5aeee13ff%29%3B%0A%20%20%20%20%20%20%20%20%0A%20%20%20%20%0A%20%20%20%20%20%20%20%20var%20popup_530c2b126a17493a90e333c4e4cbd50f%20%3D%20L.popup%28%7B%22maxWidth%22%3A%20%22100%25%22%7D%29%3B%0A%0A%20%20%20%20%20%20%20%20%0A%20%20%20%20%20%20%20%20%20%20%20%20var%20html_637f126dc6984e0c853aa3db5120ca68%20%3D%20%24%28%60%3Cdiv%20id%3D%22html_637f126dc6984e0c853aa3db5120ca68%22%20style%3D%22width%3A%20100.0%25%3B%20height%3A%20100.0%25%3B%22%3ECOLISI%C3%93N%20ALCANCE%3C/div%3E%60%29%5B0%5D%3B%0A%20%20%20%20%20%20%20%20%20%20%20%20popup_530c2b126a17493a90e333c4e4cbd50f.setContent%28html_637f126dc6984e0c853aa3db5120ca68%29%3B%0A%20%20%20%20%20%20%20%20%0A%0A%20%20%20%20%20%20%20%20marker_44c0cea5ad494af98ec6f42d01d993ab.bindPopup%28popup_530c2b126a17493a90e333c4e4cbd50f%29%0A%20%20%20%20%20%20%20%20%3B%0A%0A%20%20%20%20%20%20%20%20%0A%20%20%20%20%0A%20%20%20%20%0A%20%20%20%20%20%20%20%20%20%20%20%20var%20marker_661fa1e892f3465592df55792c2058f4%20%3D%20L.marker%28%0A%20%20%20%20%20%20%20%20%20%20%20%20%20%20%20%20%5B-0.9147014503640727%2C%2041.64060309287472%5D%2C%0A%20%20%20%20%20%20%20%20%20%20%20%20%20%20%20%20%7B%7D%0A%20%20%20%20%20%20%20%20%20%20%20%20%29.addTo%28map_34ae2d6126c3425a85faaea5aeee13ff%29%3B%0A%20%20%20%20%20%20%20%20%0A%20%20%20%20%0A%20%20%20%20%20%20%20%20var%20popup_ae602d487b344f0c8c09b4de76972452%20%3D%20L.popup%28%7B%22maxWidth%22%3A%20%22100%25%22%7D%29%3B%0A%0A%20%20%20%20%20%20%20%20%0A%20%20%20%20%20%20%20%20%20%20%20%20var%20html_4a56e50dbd324dc1a630eb0b399b7db2%20%3D%20%24%28%60%3Cdiv%20id%3D%22html_4a56e50dbd324dc1a630eb0b399b7db2%22%20style%3D%22width%3A%20100.0%25%3B%20height%3A%20100.0%25%3B%22%3ECOLISI%C3%93N%20LATERAL%3C/div%3E%60%29%5B0%5D%3B%0A%20%20%20%20%20%20%20%20%20%20%20%20popup_ae602d487b344f0c8c09b4de76972452.setContent%28html_4a56e50dbd324dc1a630eb0b399b7db2%29%3B%0A%20%20%20%20%20%20%20%20%0A%0A%20%20%20%20%20%20%20%20marker_661fa1e892f3465592df55792c2058f4.bindPopup%28popup_ae602d487b344f0c8c09b4de76972452%29%0A%20%20%20%20%20%20%20%20%3B%0A%0A%20%20%20%20%20%20%20%20%0A%20%20%20%20%0A%20%20%20%20%0A%20%20%20%20%20%20%20%20%20%20%20%20var%20marker_69d2851323ef463fa3953014f44c7a81%20%3D%20L.marker%28%0A%20%20%20%20%20%20%20%20%20%20%20%20%20%20%20%20%5B-0.9388159722509236%2C%2041.66210291413718%5D%2C%0A%20%20%20%20%20%20%20%20%20%20%20%20%20%20%20%20%7B%7D%0A%20%20%20%20%20%20%20%20%20%20%20%20%29.addTo%28map_34ae2d6126c3425a85faaea5aeee13ff%29%3B%0A%20%20%20%20%20%20%20%20%0A%20%20%20%20%0A%20%20%20%20%20%20%20%20var%20popup_a4c142ccd8bf49eb928cd9deb198904d%20%3D%20L.popup%28%7B%22maxWidth%22%3A%20%22100%25%22%7D%29%3B%0A%0A%20%20%20%20%20%20%20%20%0A%20%20%20%20%20%20%20%20%20%20%20%20var%20html_54f88369e2fa40feabda296f224193b0%20%3D%20%24%28%60%3Cdiv%20id%3D%22html_54f88369e2fa40feabda296f224193b0%22%20style%3D%22width%3A%20100.0%25%3B%20height%3A%20100.0%25%3B%22%3ECOLISI%C3%93N%20ALCANCE%3C/div%3E%60%29%5B0%5D%3B%0A%20%20%20%20%20%20%20%20%20%20%20%20popup_a4c142ccd8bf49eb928cd9deb198904d.setContent%28html_54f88369e2fa40feabda296f224193b0%29%3B%0A%20%20%20%20%20%20%20%20%0A%0A%20%20%20%20%20%20%20%20marker_69d2851323ef463fa3953014f44c7a81.bindPopup%28popup_a4c142ccd8bf49eb928cd9deb198904d%29%0A%20%20%20%20%20%20%20%20%3B%0A%0A%20%20%20%20%20%20%20%20%0A%20%20%20%20%0A%20%20%20%20%0A%20%20%20%20%20%20%20%20%20%20%20%20var%20marker_8e2660774be34fa78659b87579a692b1%20%3D%20L.marker%28%0A%20%20%20%20%20%20%20%20%20%20%20%20%20%20%20%20%5B-0.9157439755527074%2C%2041.63348367532985%5D%2C%0A%20%20%20%20%20%20%20%20%20%20%20%20%20%20%20%20%7B%7D%0A%20%20%20%20%20%20%20%20%20%20%20%20%29.addTo%28map_34ae2d6126c3425a85faaea5aeee13ff%29%3B%0A%20%20%20%20%20%20%20%20%0A%20%20%20%20%0A%20%20%20%20%20%20%20%20var%20popup_7fa7c15cf3934d51825067aff213d9e6%20%3D%20L.popup%28%7B%22maxWidth%22%3A%20%22100%25%22%7D%29%3B%0A%0A%20%20%20%20%20%20%20%20%0A%20%20%20%20%20%20%20%20%20%20%20%20var%20html_5b2c52abcd43473fb50999398d1b7799%20%3D%20%24%28%60%3Cdiv%20id%3D%22html_5b2c52abcd43473fb50999398d1b7799%22%20style%3D%22width%3A%20100.0%25%3B%20height%3A%20100.0%25%3B%22%3ESALIDA%20CALZADA%3C/div%3E%60%29%5B0%5D%3B%0A%20%20%20%20%20%20%20%20%20%20%20%20popup_7fa7c15cf3934d51825067aff213d9e6.setContent%28html_5b2c52abcd43473fb50999398d1b7799%29%3B%0A%20%20%20%20%20%20%20%20%0A%0A%20%20%20%20%20%20%20%20marker_8e2660774be34fa78659b87579a692b1.bindPopup%28popup_7fa7c15cf3934d51825067aff213d9e6%29%0A%20%20%20%20%20%20%20%20%3B%0A%0A%20%20%20%20%20%20%20%20%0A%20%20%20%20%0A%20%20%20%20%0A%20%20%20%20%20%20%20%20%20%20%20%20var%20marker_e2a03282219f4704a9cfb158a77173a3%20%3D%20L.marker%28%0A%20%20%20%20%20%20%20%20%20%20%20%20%20%20%20%20%5B-0.8869959298557372%2C%2041.67593597602368%5D%2C%0A%20%20%20%20%20%20%20%20%20%20%20%20%20%20%20%20%7B%7D%0A%20%20%20%20%20%20%20%20%20%20%20%20%29.addTo%28map_34ae2d6126c3425a85faaea5aeee13ff%29%3B%0A%20%20%20%20%20%20%20%20%0A%20%20%20%20%0A%20%20%20%20%20%20%20%20var%20popup_1331c352c8904f9db4cf11c790c1c53b%20%3D%20L.popup%28%7B%22maxWidth%22%3A%20%22100%25%22%7D%29%3B%0A%0A%20%20%20%20%20%20%20%20%0A%20%20%20%20%20%20%20%20%20%20%20%20var%20html_4c73b253a96a489b81ba7046bb89a282%20%3D%20%24%28%60%3Cdiv%20id%3D%22html_4c73b253a96a489b81ba7046bb89a282%22%20style%3D%22width%3A%20100.0%25%3B%20height%3A%20100.0%25%3B%22%3ESALIDA%20CALZADA%3C/div%3E%60%29%5B0%5D%3B%0A%20%20%20%20%20%20%20%20%20%20%20%20popup_1331c352c8904f9db4cf11c790c1c53b.setContent%28html_4c73b253a96a489b81ba7046bb89a282%29%3B%0A%20%20%20%20%20%20%20%20%0A%0A%20%20%20%20%20%20%20%20marker_e2a03282219f4704a9cfb158a77173a3.bindPopup%28popup_1331c352c8904f9db4cf11c790c1c53b%29%0A%20%20%20%20%20%20%20%20%3B%0A%0A%20%20%20%20%20%20%20%20%0A%20%20%20%20%0A%20%20%20%20%0A%20%20%20%20%20%20%20%20%20%20%20%20var%20marker_daf4f4b51d8948eabd7134333e4ca05d%20%3D%20L.marker%28%0A%20%20%20%20%20%20%20%20%20%20%20%20%20%20%20%20%5B-0.876909940066992%2C%2041.672106692157605%5D%2C%0A%20%20%20%20%20%20%20%20%20%20%20%20%20%20%20%20%7B%7D%0A%20%20%20%20%20%20%20%20%20%20%20%20%29.addTo%28map_34ae2d6126c3425a85faaea5aeee13ff%29%3B%0A%20%20%20%20%20%20%20%20%0A%20%20%20%20%0A%20%20%20%20%20%20%20%20var%20popup_a6b72a7b0294433aa267f274d4697395%20%3D%20L.popup%28%7B%22maxWidth%22%3A%20%22100%25%22%7D%29%3B%0A%0A%20%20%20%20%20%20%20%20%0A%20%20%20%20%20%20%20%20%20%20%20%20var%20html_aad8732a1ebd43f6925de60b42efbdd9%20%3D%20%24%28%60%3Cdiv%20id%3D%22html_aad8732a1ebd43f6925de60b42efbdd9%22%20style%3D%22width%3A%20100.0%25%3B%20height%3A%20100.0%25%3B%22%3ESALIDA%20CALZADA%3C/div%3E%60%29%5B0%5D%3B%0A%20%20%20%20%20%20%20%20%20%20%20%20popup_a6b72a7b0294433aa267f274d4697395.setContent%28html_aad8732a1ebd43f6925de60b42efbdd9%29%3B%0A%20%20%20%20%20%20%20%20%0A%0A%20%20%20%20%20%20%20%20marker_daf4f4b51d8948eabd7134333e4ca05d.bindPopup%28popup_a6b72a7b0294433aa267f274d4697395%29%0A%20%20%20%20%20%20%20%20%3B%0A%0A%20%20%20%20%20%20%20%20%0A%20%20%20%20%0A%20%20%20%20%0A%20%20%20%20%20%20%20%20%20%20%20%20var%20marker_33586dc062f147f38ebc488dbac59565%20%3D%20L.marker%28%0A%20%20%20%20%20%20%20%20%20%20%20%20%20%20%20%20%5B-0.8816447317118501%2C%2041.670796057267296%5D%2C%0A%20%20%20%20%20%20%20%20%20%20%20%20%20%20%20%20%7B%7D%0A%20%20%20%20%20%20%20%20%20%20%20%20%29.addTo%28map_34ae2d6126c3425a85faaea5aeee13ff%29%3B%0A%20%20%20%20%20%20%20%20%0A%20%20%20%20%0A%20%20%20%20%20%20%20%20var%20popup_b8fa9537d7ca484da885ddc12dd921c7%20%3D%20L.popup%28%7B%22maxWidth%22%3A%20%22100%25%22%7D%29%3B%0A%0A%20%20%20%20%20%20%20%20%0A%20%20%20%20%20%20%20%20%20%20%20%20var%20html_5ba6e2ac52f44666b23a0ede40ab60f5%20%3D%20%24%28%60%3Cdiv%20id%3D%22html_5ba6e2ac52f44666b23a0ede40ab60f5%22%20style%3D%22width%3A%20100.0%25%3B%20height%3A%20100.0%25%3B%22%3ECAIDA%20SOBRE%20CALZADA%3C/div%3E%60%29%5B0%5D%3B%0A%20%20%20%20%20%20%20%20%20%20%20%20popup_b8fa9537d7ca484da885ddc12dd921c7.setContent%28html_5ba6e2ac52f44666b23a0ede40ab60f5%29%3B%0A%20%20%20%20%20%20%20%20%0A%0A%20%20%20%20%20%20%20%20marker_33586dc062f147f38ebc488dbac59565.bindPopup%28popup_b8fa9537d7ca484da885ddc12dd921c7%29%0A%20%20%20%20%20%20%20%20%3B%0A%0A%20%20%20%20%20%20%20%20%0A%20%20%20%20%0A%20%20%20%20%0A%20%20%20%20%20%20%20%20%20%20%20%20var%20marker_3729a9660f614ee88c4d3ce7145586b2%20%3D%20L.marker%28%0A%20%20%20%20%20%20%20%20%20%20%20%20%20%20%20%20%5B-0.9072940747876611%2C%2041.634304213138115%5D%2C%0A%20%20%20%20%20%20%20%20%20%20%20%20%20%20%20%20%7B%7D%0A%20%20%20%20%20%20%20%20%20%20%20%20%29.addTo%28map_34ae2d6126c3425a85faaea5aeee13ff%29%3B%0A%20%20%20%20%20%20%20%20%0A%20%20%20%20%0A%20%20%20%20%20%20%20%20var%20popup_a830ad3ecbec49479ea090f261bf9451%20%3D%20L.popup%28%7B%22maxWidth%22%3A%20%22100%25%22%7D%29%3B%0A%0A%20%20%20%20%20%20%20%20%0A%20%20%20%20%20%20%20%20%20%20%20%20var%20html_e3bd2534459a4d188606cb09f5fabb11%20%3D%20%24%28%60%3Cdiv%20id%3D%22html_e3bd2534459a4d188606cb09f5fabb11%22%20style%3D%22width%3A%20100.0%25%3B%20height%3A%20100.0%25%3B%22%3ECOLISI%C3%93N%20LATERAL%3C/div%3E%60%29%5B0%5D%3B%0A%20%20%20%20%20%20%20%20%20%20%20%20popup_a830ad3ecbec49479ea090f261bf9451.setContent%28html_e3bd2534459a4d188606cb09f5fabb11%29%3B%0A%20%20%20%20%20%20%20%20%0A%0A%20%20%20%20%20%20%20%20marker_3729a9660f614ee88c4d3ce7145586b2.bindPopup%28popup_a830ad3ecbec49479ea090f261bf9451%29%0A%20%20%20%20%20%20%20%20%3B%0A%0A%20%20%20%20%20%20%20%20%0A%20%20%20%20%0A%20%20%20%20%0A%20%20%20%20%20%20%20%20%20%20%20%20var%20marker_946d88b4c4714f4591c9d276803b56f0%20%3D%20L.marker%28%0A%20%20%20%20%20%20%20%20%20%20%20%20%20%20%20%20%5B-0.9297774953117621%2C%2041.65154680743475%5D%2C%0A%20%20%20%20%20%20%20%20%20%20%20%20%20%20%20%20%7B%7D%0A%20%20%20%20%20%20%20%20%20%20%20%20%29.addTo%28map_34ae2d6126c3425a85faaea5aeee13ff%29%3B%0A%20%20%20%20%20%20%20%20%0A%20%20%20%20%0A%20%20%20%20%20%20%20%20var%20popup_45bd3025cd3c4089a4a75b0091e33458%20%3D%20L.popup%28%7B%22maxWidth%22%3A%20%22100%25%22%7D%29%3B%0A%0A%20%20%20%20%20%20%20%20%0A%20%20%20%20%20%20%20%20%20%20%20%20var%20html_82addc413c2c4d9f80898dbe2af4b46d%20%3D%20%24%28%60%3Cdiv%20id%3D%22html_82addc413c2c4d9f80898dbe2af4b46d%22%20style%3D%22width%3A%20100.0%25%3B%20height%3A%20100.0%25%3B%22%3EATROPELLO%3C/div%3E%60%29%5B0%5D%3B%0A%20%20%20%20%20%20%20%20%20%20%20%20popup_45bd3025cd3c4089a4a75b0091e33458.setContent%28html_82addc413c2c4d9f80898dbe2af4b46d%29%3B%0A%20%20%20%20%20%20%20%20%0A%0A%20%20%20%20%20%20%20%20marker_946d88b4c4714f4591c9d276803b56f0.bindPopup%28popup_45bd3025cd3c4089a4a75b0091e33458%29%0A%20%20%20%20%20%20%20%20%3B%0A%0A%20%20%20%20%20%20%20%20%0A%20%20%20%20%0A%20%20%20%20%0A%20%20%20%20%20%20%20%20%20%20%20%20var%20marker_7d2e777495dd4f04bf7677ff6964c509%20%3D%20L.marker%28%0A%20%20%20%20%20%20%20%20%20%20%20%20%20%20%20%20%5B-0.9260243926745974%2C%2041.62152191885522%5D%2C%0A%20%20%20%20%20%20%20%20%20%20%20%20%20%20%20%20%7B%7D%0A%20%20%20%20%20%20%20%20%20%20%20%20%29.addTo%28map_34ae2d6126c3425a85faaea5aeee13ff%29%3B%0A%20%20%20%20%20%20%20%20%0A%20%20%20%20%0A%20%20%20%20%20%20%20%20var%20popup_9886c7622ff84283bf2c249bbb312817%20%3D%20L.popup%28%7B%22maxWidth%22%3A%20%22100%25%22%7D%29%3B%0A%0A%20%20%20%20%20%20%20%20%0A%20%20%20%20%20%20%20%20%20%20%20%20var%20html_c8590f19f7e948dc9f20f8962b11fbc3%20%3D%20%24%28%60%3Cdiv%20id%3D%22html_c8590f19f7e948dc9f20f8962b11fbc3%22%20style%3D%22width%3A%20100.0%25%3B%20height%3A%20100.0%25%3B%22%3ECOLIS%20FRONTOLATERAL%3C/div%3E%60%29%5B0%5D%3B%0A%20%20%20%20%20%20%20%20%20%20%20%20popup_9886c7622ff84283bf2c249bbb312817.setContent%28html_c8590f19f7e948dc9f20f8962b11fbc3%29%3B%0A%20%20%20%20%20%20%20%20%0A%0A%20%20%20%20%20%20%20%20marker_7d2e777495dd4f04bf7677ff6964c509.bindPopup%28popup_9886c7622ff84283bf2c249bbb312817%29%0A%20%20%20%20%20%20%20%20%3B%0A%0A%20%20%20%20%20%20%20%20%0A%20%20%20%20%0A%20%20%20%20%0A%20%20%20%20%20%20%20%20%20%20%20%20var%20marker_c7d427ee0f1247a199ab0db36eee0348%20%3D%20L.marker%28%0A%20%20%20%20%20%20%20%20%20%20%20%20%20%20%20%20%5B-0.8747826613487039%2C%2041.64737203882021%5D%2C%0A%20%20%20%20%20%20%20%20%20%20%20%20%20%20%20%20%7B%7D%0A%20%20%20%20%20%20%20%20%20%20%20%20%29.addTo%28map_34ae2d6126c3425a85faaea5aeee13ff%29%3B%0A%20%20%20%20%20%20%20%20%0A%20%20%20%20%0A%20%20%20%20%20%20%20%20var%20popup_eaa08add25664d6eadb0c0c2bb3aec6d%20%3D%20L.popup%28%7B%22maxWidth%22%3A%20%22100%25%22%7D%29%3B%0A%0A%20%20%20%20%20%20%20%20%0A%20%20%20%20%20%20%20%20%20%20%20%20var%20html_bc55c483ca9f498a8371cf97e6e7522d%20%3D%20%24%28%60%3Cdiv%20id%3D%22html_bc55c483ca9f498a8371cf97e6e7522d%22%20style%3D%22width%3A%20100.0%25%3B%20height%3A%20100.0%25%3B%22%3ECAIDA%20SOBRE%20CALZADA%3C/div%3E%60%29%5B0%5D%3B%0A%20%20%20%20%20%20%20%20%20%20%20%20popup_eaa08add25664d6eadb0c0c2bb3aec6d.setContent%28html_bc55c483ca9f498a8371cf97e6e7522d%29%3B%0A%20%20%20%20%20%20%20%20%0A%0A%20%20%20%20%20%20%20%20marker_c7d427ee0f1247a199ab0db36eee0348.bindPopup%28popup_eaa08add25664d6eadb0c0c2bb3aec6d%29%0A%20%20%20%20%20%20%20%20%3B%0A%0A%20%20%20%20%20%20%20%20%0A%20%20%20%20%0A%20%20%20%20%0A%20%20%20%20%20%20%20%20%20%20%20%20var%20marker_50af5c102f424b66974b335820184cc2%20%3D%20L.marker%28%0A%20%20%20%20%20%20%20%20%20%20%20%20%20%20%20%20%5B-0.8808426934572774%2C%2041.64583899054114%5D%2C%0A%20%20%20%20%20%20%20%20%20%20%20%20%20%20%20%20%7B%7D%0A%20%20%20%20%20%20%20%20%20%20%20%20%29.addTo%28map_34ae2d6126c3425a85faaea5aeee13ff%29%3B%0A%20%20%20%20%20%20%20%20%0A%20%20%20%20%0A%20%20%20%20%20%20%20%20var%20popup_029ade1183634ef196e2b30d8b35360f%20%3D%20L.popup%28%7B%22maxWidth%22%3A%20%22100%25%22%7D%29%3B%0A%0A%20%20%20%20%20%20%20%20%0A%20%20%20%20%20%20%20%20%20%20%20%20var%20html_ea4e5070e16240b582db488d0664a74a%20%3D%20%24%28%60%3Cdiv%20id%3D%22html_ea4e5070e16240b582db488d0664a74a%22%20style%3D%22width%3A%20100.0%25%3B%20height%3A%20100.0%25%3B%22%3ECOLISI%C3%93N%20ALCANCE%3C/div%3E%60%29%5B0%5D%3B%0A%20%20%20%20%20%20%20%20%20%20%20%20popup_029ade1183634ef196e2b30d8b35360f.setContent%28html_ea4e5070e16240b582db488d0664a74a%29%3B%0A%20%20%20%20%20%20%20%20%0A%0A%20%20%20%20%20%20%20%20marker_50af5c102f424b66974b335820184cc2.bindPopup%28popup_029ade1183634ef196e2b30d8b35360f%29%0A%20%20%20%20%20%20%20%20%3B%0A%0A%20%20%20%20%20%20%20%20%0A%20%20%20%20%0A%20%20%20%20%0A%20%20%20%20%20%20%20%20%20%20%20%20var%20marker_a7b2e06d6018441ebf3c1a4ef6a7add7%20%3D%20L.marker%28%0A%20%20%20%20%20%20%20%20%20%20%20%20%20%20%20%20%5B-0.9244213411763852%2C%2041.63444197353212%5D%2C%0A%20%20%20%20%20%20%20%20%20%20%20%20%20%20%20%20%7B%7D%0A%20%20%20%20%20%20%20%20%20%20%20%20%29.addTo%28map_34ae2d6126c3425a85faaea5aeee13ff%29%3B%0A%20%20%20%20%20%20%20%20%0A%20%20%20%20%0A%20%20%20%20%20%20%20%20var%20popup_bc0e34e03644409393504202efcfb709%20%3D%20L.popup%28%7B%22maxWidth%22%3A%20%22100%25%22%7D%29%3B%0A%0A%20%20%20%20%20%20%20%20%0A%20%20%20%20%20%20%20%20%20%20%20%20var%20html_72b8b52b9984495aafa35ad3ca8dc550%20%3D%20%24%28%60%3Cdiv%20id%3D%22html_72b8b52b9984495aafa35ad3ca8dc550%22%20style%3D%22width%3A%20100.0%25%3B%20height%3A%20100.0%25%3B%22%3ECOLIS%20FRONTOLATERAL%3C/div%3E%60%29%5B0%5D%3B%0A%20%20%20%20%20%20%20%20%20%20%20%20popup_bc0e34e03644409393504202efcfb709.setContent%28html_72b8b52b9984495aafa35ad3ca8dc550%29%3B%0A%20%20%20%20%20%20%20%20%0A%0A%20%20%20%20%20%20%20%20marker_a7b2e06d6018441ebf3c1a4ef6a7add7.bindPopup%28popup_bc0e34e03644409393504202efcfb709%29%0A%20%20%20%20%20%20%20%20%3B%0A%0A%20%20%20%20%20%20%20%20%0A%20%20%20%20%0A%20%20%20%20%0A%20%20%20%20%20%20%20%20%20%20%20%20var%20marker_623952fc67d34442b80c8e747149225c%20%3D%20L.marker%28%0A%20%20%20%20%20%20%20%20%20%20%20%20%20%20%20%20%5B-0.8837000032645412%2C%2041.647668760113724%5D%2C%0A%20%20%20%20%20%20%20%20%20%20%20%20%20%20%20%20%7B%7D%0A%20%20%20%20%20%20%20%20%20%20%20%20%29.addTo%28map_34ae2d6126c3425a85faaea5aeee13ff%29%3B%0A%20%20%20%20%20%20%20%20%0A%20%20%20%20%0A%20%20%20%20%20%20%20%20var%20popup_22e9d32c2ca84985b0c017de7525e6ff%20%3D%20L.popup%28%7B%22maxWidth%22%3A%20%22100%25%22%7D%29%3B%0A%0A%20%20%20%20%20%20%20%20%0A%20%20%20%20%20%20%20%20%20%20%20%20var%20html_f7b091d420fe488595815063add34c94%20%3D%20%24%28%60%3Cdiv%20id%3D%22html_f7b091d420fe488595815063add34c94%22%20style%3D%22width%3A%20100.0%25%3B%20height%3A%20100.0%25%3B%22%3ECOLISI%C3%93N%20LATERAL%3C/div%3E%60%29%5B0%5D%3B%0A%20%20%20%20%20%20%20%20%20%20%20%20popup_22e9d32c2ca84985b0c017de7525e6ff.setContent%28html_f7b091d420fe488595815063add34c94%29%3B%0A%20%20%20%20%20%20%20%20%0A%0A%20%20%20%20%20%20%20%20marker_623952fc67d34442b80c8e747149225c.bindPopup%28popup_22e9d32c2ca84985b0c017de7525e6ff%29%0A%20%20%20%20%20%20%20%20%3B%0A%0A%20%20%20%20%20%20%20%20%0A%20%20%20%20%0A%20%20%20%20%0A%20%20%20%20%20%20%20%20%20%20%20%20var%20marker_d2017f2bee554e66bcb8cc9e59f1832a%20%3D%20L.marker%28%0A%20%20%20%20%20%20%20%20%20%20%20%20%20%20%20%20%5B-0.8949697510455706%2C%2041.64713372980882%5D%2C%0A%20%20%20%20%20%20%20%20%20%20%20%20%20%20%20%20%7B%7D%0A%20%20%20%20%20%20%20%20%20%20%20%20%29.addTo%28map_34ae2d6126c3425a85faaea5aeee13ff%29%3B%0A%20%20%20%20%20%20%20%20%0A%20%20%20%20%0A%20%20%20%20%20%20%20%20var%20popup_f30eafc33e5d48e88864c7e719758286%20%3D%20L.popup%28%7B%22maxWidth%22%3A%20%22100%25%22%7D%29%3B%0A%0A%20%20%20%20%20%20%20%20%0A%20%20%20%20%20%20%20%20%20%20%20%20var%20html_55c4d1e280664c8f9f67e474a774b326%20%3D%20%24%28%60%3Cdiv%20id%3D%22html_55c4d1e280664c8f9f67e474a774b326%22%20style%3D%22width%3A%20100.0%25%3B%20height%3A%20100.0%25%3B%22%3ECOLISI%C3%93N%20ALCANCE%3C/div%3E%60%29%5B0%5D%3B%0A%20%20%20%20%20%20%20%20%20%20%20%20popup_f30eafc33e5d48e88864c7e719758286.setContent%28html_55c4d1e280664c8f9f67e474a774b326%29%3B%0A%20%20%20%20%20%20%20%20%0A%0A%20%20%20%20%20%20%20%20marker_d2017f2bee554e66bcb8cc9e59f1832a.bindPopup%28popup_f30eafc33e5d48e88864c7e719758286%29%0A%20%20%20%20%20%20%20%20%3B%0A%0A%20%20%20%20%20%20%20%20%0A%20%20%20%20%0A%20%20%20%20%0A%20%20%20%20%20%20%20%20%20%20%20%20var%20marker_f65d774ae95341b48f13c921cdaaee99%20%3D%20L.marker%28%0A%20%20%20%20%20%20%20%20%20%20%20%20%20%20%20%20%5B-0.8586802458354249%2C%2041.66759236644088%5D%2C%0A%20%20%20%20%20%20%20%20%20%20%20%20%20%20%20%20%7B%7D%0A%20%20%20%20%20%20%20%20%20%20%20%20%29.addTo%28map_34ae2d6126c3425a85faaea5aeee13ff%29%3B%0A%20%20%20%20%20%20%20%20%0A%20%20%20%20%0A%20%20%20%20%20%20%20%20var%20popup_a8946d5e0d6246ca9610f4d7e38d77f4%20%3D%20L.popup%28%7B%22maxWidth%22%3A%20%22100%25%22%7D%29%3B%0A%0A%20%20%20%20%20%20%20%20%0A%20%20%20%20%20%20%20%20%20%20%20%20var%20html_130f60ed01004c858d64d957ccc26ece%20%3D%20%24%28%60%3Cdiv%20id%3D%22html_130f60ed01004c858d64d957ccc26ece%22%20style%3D%22width%3A%20100.0%25%3B%20height%3A%20100.0%25%3B%22%3ECOLISI%C3%93N%20LATERAL%3C/div%3E%60%29%5B0%5D%3B%0A%20%20%20%20%20%20%20%20%20%20%20%20popup_a8946d5e0d6246ca9610f4d7e38d77f4.setContent%28html_130f60ed01004c858d64d957ccc26ece%29%3B%0A%20%20%20%20%20%20%20%20%0A%0A%20%20%20%20%20%20%20%20marker_f65d774ae95341b48f13c921cdaaee99.bindPopup%28popup_a8946d5e0d6246ca9610f4d7e38d77f4%29%0A%20%20%20%20%20%20%20%20%3B%0A%0A%20%20%20%20%20%20%20%20%0A%20%20%20%20%0A%20%20%20%20%0A%20%20%20%20%20%20%20%20%20%20%20%20var%20marker_92500001fdef4a60b017a009a17eee69%20%3D%20L.marker%28%0A%20%20%20%20%20%20%20%20%20%20%20%20%20%20%20%20%5B-0.8824516125202209%2C%2041.633156268397784%5D%2C%0A%20%20%20%20%20%20%20%20%20%20%20%20%20%20%20%20%7B%7D%0A%20%20%20%20%20%20%20%20%20%20%20%20%29.addTo%28map_34ae2d6126c3425a85faaea5aeee13ff%29%3B%0A%20%20%20%20%20%20%20%20%0A%20%20%20%20%0A%20%20%20%20%20%20%20%20var%20popup_89d1cb56c04c4c5aa90ae78f7a03abd5%20%3D%20L.popup%28%7B%22maxWidth%22%3A%20%22100%25%22%7D%29%3B%0A%0A%20%20%20%20%20%20%20%20%0A%20%20%20%20%20%20%20%20%20%20%20%20var%20html_0f2fd61a981b4fb9b062653e32314c62%20%3D%20%24%28%60%3Cdiv%20id%3D%22html_0f2fd61a981b4fb9b062653e32314c62%22%20style%3D%22width%3A%20100.0%25%3B%20height%3A%20100.0%25%3B%22%3EATROPELLO%3C/div%3E%60%29%5B0%5D%3B%0A%20%20%20%20%20%20%20%20%20%20%20%20popup_89d1cb56c04c4c5aa90ae78f7a03abd5.setContent%28html_0f2fd61a981b4fb9b062653e32314c62%29%3B%0A%20%20%20%20%20%20%20%20%0A%0A%20%20%20%20%20%20%20%20marker_92500001fdef4a60b017a009a17eee69.bindPopup%28popup_89d1cb56c04c4c5aa90ae78f7a03abd5%29%0A%20%20%20%20%20%20%20%20%3B%0A%0A%20%20%20%20%20%20%20%20%0A%20%20%20%20%0A%20%20%20%20%0A%20%20%20%20%20%20%20%20%20%20%20%20var%20marker_d32f0f3d2d9c415a8e5a0f80496cf647%20%3D%20L.marker%28%0A%20%20%20%20%20%20%20%20%20%20%20%20%20%20%20%20%5B-0.8857803278979575%2C%2041.65815100896193%5D%2C%0A%20%20%20%20%20%20%20%20%20%20%20%20%20%20%20%20%7B%7D%0A%20%20%20%20%20%20%20%20%20%20%20%20%29.addTo%28map_34ae2d6126c3425a85faaea5aeee13ff%29%3B%0A%20%20%20%20%20%20%20%20%0A%20%20%20%20%0A%20%20%20%20%20%20%20%20var%20popup_64a716e6c94a41cfbef1348b751cf611%20%3D%20L.popup%28%7B%22maxWidth%22%3A%20%22100%25%22%7D%29%3B%0A%0A%20%20%20%20%20%20%20%20%0A%20%20%20%20%20%20%20%20%20%20%20%20var%20html_aad369741e784eeab8618886555d04e8%20%3D%20%24%28%60%3Cdiv%20id%3D%22html_aad369741e784eeab8618886555d04e8%22%20style%3D%22width%3A%20100.0%25%3B%20height%3A%20100.0%25%3B%22%3EATROPELLO%3C/div%3E%60%29%5B0%5D%3B%0A%20%20%20%20%20%20%20%20%20%20%20%20popup_64a716e6c94a41cfbef1348b751cf611.setContent%28html_aad369741e784eeab8618886555d04e8%29%3B%0A%20%20%20%20%20%20%20%20%0A%0A%20%20%20%20%20%20%20%20marker_d32f0f3d2d9c415a8e5a0f80496cf647.bindPopup%28popup_64a716e6c94a41cfbef1348b751cf611%29%0A%20%20%20%20%20%20%20%20%3B%0A%0A%20%20%20%20%20%20%20%20%0A%20%20%20%20%0A%20%20%20%20%0A%20%20%20%20%20%20%20%20%20%20%20%20var%20marker_3ecd28fe7f934ea7bd73d7a52ff0888d%20%3D%20L.marker%28%0A%20%20%20%20%20%20%20%20%20%20%20%20%20%20%20%20%5B-0.8901425582260953%2C%2041.606852016162875%5D%2C%0A%20%20%20%20%20%20%20%20%20%20%20%20%20%20%20%20%7B%7D%0A%20%20%20%20%20%20%20%20%20%20%20%20%29.addTo%28map_34ae2d6126c3425a85faaea5aeee13ff%29%3B%0A%20%20%20%20%20%20%20%20%0A%20%20%20%20%0A%20%20%20%20%20%20%20%20var%20popup_9be6568d9f27410aa5fe399b8b5a0799%20%3D%20L.popup%28%7B%22maxWidth%22%3A%20%22100%25%22%7D%29%3B%0A%0A%20%20%20%20%20%20%20%20%0A%20%20%20%20%20%20%20%20%20%20%20%20var%20html_3b9d48ed663149a5b4bdf89ecd2fcfb5%20%3D%20%24%28%60%3Cdiv%20id%3D%22html_3b9d48ed663149a5b4bdf89ecd2fcfb5%22%20style%3D%22width%3A%20100.0%25%3B%20height%3A%20100.0%25%3B%22%3ECOLIS.%20MARCHA%20ATR%C3%81S%3C/div%3E%60%29%5B0%5D%3B%0A%20%20%20%20%20%20%20%20%20%20%20%20popup_9be6568d9f27410aa5fe399b8b5a0799.setContent%28html_3b9d48ed663149a5b4bdf89ecd2fcfb5%29%3B%0A%20%20%20%20%20%20%20%20%0A%0A%20%20%20%20%20%20%20%20marker_3ecd28fe7f934ea7bd73d7a52ff0888d.bindPopup%28popup_9be6568d9f27410aa5fe399b8b5a0799%29%0A%20%20%20%20%20%20%20%20%3B%0A%0A%20%20%20%20%20%20%20%20%0A%20%20%20%20%0A%20%20%20%20%0A%20%20%20%20%20%20%20%20%20%20%20%20var%20marker_dbff586ccf1341a6976e23b5541b3139%20%3D%20L.marker%28%0A%20%20%20%20%20%20%20%20%20%20%20%20%20%20%20%20%5B-0.8853994844903159%2C%2041.665547003703814%5D%2C%0A%20%20%20%20%20%20%20%20%20%20%20%20%20%20%20%20%7B%7D%0A%20%20%20%20%20%20%20%20%20%20%20%20%29.addTo%28map_34ae2d6126c3425a85faaea5aeee13ff%29%3B%0A%20%20%20%20%20%20%20%20%0A%20%20%20%20%0A%20%20%20%20%20%20%20%20var%20popup_56bbcdbb93b74285a9abfe7843b00e59%20%3D%20L.popup%28%7B%22maxWidth%22%3A%20%22100%25%22%7D%29%3B%0A%0A%20%20%20%20%20%20%20%20%0A%20%20%20%20%20%20%20%20%20%20%20%20var%20html_0c5f3cb3d111493896d2caea8081b368%20%3D%20%24%28%60%3Cdiv%20id%3D%22html_0c5f3cb3d111493896d2caea8081b368%22%20style%3D%22width%3A%20100.0%25%3B%20height%3A%20100.0%25%3B%22%3ECOLISI%C3%93N%20ALCANCE%3C/div%3E%60%29%5B0%5D%3B%0A%20%20%20%20%20%20%20%20%20%20%20%20popup_56bbcdbb93b74285a9abfe7843b00e59.setContent%28html_0c5f3cb3d111493896d2caea8081b368%29%3B%0A%20%20%20%20%20%20%20%20%0A%0A%20%20%20%20%20%20%20%20marker_dbff586ccf1341a6976e23b5541b3139.bindPopup%28popup_56bbcdbb93b74285a9abfe7843b00e59%29%0A%20%20%20%20%20%20%20%20%3B%0A%0A%20%20%20%20%20%20%20%20%0A%20%20%20%20%0A%20%20%20%20%0A%20%20%20%20%20%20%20%20%20%20%20%20var%20marker_1396e82fa6b14f4281ae58b036de963e%20%3D%20L.marker%28%0A%20%20%20%20%20%20%20%20%20%20%20%20%20%20%20%20%5B-0.8988224291930889%2C%2041.681817186609294%5D%2C%0A%20%20%20%20%20%20%20%20%20%20%20%20%20%20%20%20%7B%7D%0A%20%20%20%20%20%20%20%20%20%20%20%20%29.addTo%28map_34ae2d6126c3425a85faaea5aeee13ff%29%3B%0A%20%20%20%20%20%20%20%20%0A%20%20%20%20%0A%20%20%20%20%20%20%20%20var%20popup_581f67b0fa7149e4bd8eb2c88444db79%20%3D%20L.popup%28%7B%22maxWidth%22%3A%20%22100%25%22%7D%29%3B%0A%0A%20%20%20%20%20%20%20%20%0A%20%20%20%20%20%20%20%20%20%20%20%20var%20html_c2472b57f6af4bccb1fdc42d95fa3ee9%20%3D%20%24%28%60%3Cdiv%20id%3D%22html_c2472b57f6af4bccb1fdc42d95fa3ee9%22%20style%3D%22width%3A%20100.0%25%3B%20height%3A%20100.0%25%3B%22%3ECAIDA%20SOBRE%20CALZADA%3C/div%3E%60%29%5B0%5D%3B%0A%20%20%20%20%20%20%20%20%20%20%20%20popup_581f67b0fa7149e4bd8eb2c88444db79.setContent%28html_c2472b57f6af4bccb1fdc42d95fa3ee9%29%3B%0A%20%20%20%20%20%20%20%20%0A%0A%20%20%20%20%20%20%20%20marker_1396e82fa6b14f4281ae58b036de963e.bindPopup%28popup_581f67b0fa7149e4bd8eb2c88444db79%29%0A%20%20%20%20%20%20%20%20%3B%0A%0A%20%20%20%20%20%20%20%20%0A%20%20%20%20%0A%20%20%20%20%0A%20%20%20%20%20%20%20%20%20%20%20%20var%20marker_4790e714a10e4adcad1360e4154a87d8%20%3D%20L.marker%28%0A%20%20%20%20%20%20%20%20%20%20%20%20%20%20%20%20%5B-0.878399626737674%2C%2041.653142424569985%5D%2C%0A%20%20%20%20%20%20%20%20%20%20%20%20%20%20%20%20%7B%7D%0A%20%20%20%20%20%20%20%20%20%20%20%20%29.addTo%28map_34ae2d6126c3425a85faaea5aeee13ff%29%3B%0A%20%20%20%20%20%20%20%20%0A%20%20%20%20%0A%20%20%20%20%20%20%20%20var%20popup_850446d126b241688f38185e62edab92%20%3D%20L.popup%28%7B%22maxWidth%22%3A%20%22100%25%22%7D%29%3B%0A%0A%20%20%20%20%20%20%20%20%0A%20%20%20%20%20%20%20%20%20%20%20%20var%20html_2fe4f0369e4749e199bd320e7d281962%20%3D%20%24%28%60%3Cdiv%20id%3D%22html_2fe4f0369e4749e199bd320e7d281962%22%20style%3D%22width%3A%20100.0%25%3B%20height%3A%20100.0%25%3B%22%3ECOLISI%C3%93N%20ALCANCE%3C/div%3E%60%29%5B0%5D%3B%0A%20%20%20%20%20%20%20%20%20%20%20%20popup_850446d126b241688f38185e62edab92.setContent%28html_2fe4f0369e4749e199bd320e7d281962%29%3B%0A%20%20%20%20%20%20%20%20%0A%0A%20%20%20%20%20%20%20%20marker_4790e714a10e4adcad1360e4154a87d8.bindPopup%28popup_850446d126b241688f38185e62edab92%29%0A%20%20%20%20%20%20%20%20%3B%0A%0A%20%20%20%20%20%20%20%20%0A%20%20%20%20%0A%20%20%20%20%0A%20%20%20%20%20%20%20%20%20%20%20%20var%20marker_852edc02d4244abb82754d7bf59b52b9%20%3D%20L.marker%28%0A%20%20%20%20%20%20%20%20%20%20%20%20%20%20%20%20%5B-0.9005718898973313%2C%2041.65471375662296%5D%2C%0A%20%20%20%20%20%20%20%20%20%20%20%20%20%20%20%20%7B%7D%0A%20%20%20%20%20%20%20%20%20%20%20%20%29.addTo%28map_34ae2d6126c3425a85faaea5aeee13ff%29%3B%0A%20%20%20%20%20%20%20%20%0A%20%20%20%20%0A%20%20%20%20%20%20%20%20var%20popup_c59bc48cfecb44ffb940b73377ee5605%20%3D%20L.popup%28%7B%22maxWidth%22%3A%20%22100%25%22%7D%29%3B%0A%0A%20%20%20%20%20%20%20%20%0A%20%20%20%20%20%20%20%20%20%20%20%20var%20html_8513cfd562be4d5fb80d16b8bb482b3f%20%3D%20%24%28%60%3Cdiv%20id%3D%22html_8513cfd562be4d5fb80d16b8bb482b3f%22%20style%3D%22width%3A%20100.0%25%3B%20height%3A%20100.0%25%3B%22%3ECOLISI%C3%93N%20ALCANCE%3C/div%3E%60%29%5B0%5D%3B%0A%20%20%20%20%20%20%20%20%20%20%20%20popup_c59bc48cfecb44ffb940b73377ee5605.setContent%28html_8513cfd562be4d5fb80d16b8bb482b3f%29%3B%0A%20%20%20%20%20%20%20%20%0A%0A%20%20%20%20%20%20%20%20marker_852edc02d4244abb82754d7bf59b52b9.bindPopup%28popup_c59bc48cfecb44ffb940b73377ee5605%29%0A%20%20%20%20%20%20%20%20%3B%0A%0A%20%20%20%20%20%20%20%20%0A%20%20%20%20%0A%20%20%20%20%0A%20%20%20%20%20%20%20%20%20%20%20%20var%20marker_cdb3ffeaed154450b12c445a3e1539ba%20%3D%20L.marker%28%0A%20%20%20%20%20%20%20%20%20%20%20%20%20%20%20%20%5B-0.8754417396680656%2C%2041.653113831884326%5D%2C%0A%20%20%20%20%20%20%20%20%20%20%20%20%20%20%20%20%7B%7D%0A%20%20%20%20%20%20%20%20%20%20%20%20%29.addTo%28map_34ae2d6126c3425a85faaea5aeee13ff%29%3B%0A%20%20%20%20%20%20%20%20%0A%20%20%20%20%0A%20%20%20%20%20%20%20%20var%20popup_97dfda00c384470b880422ebb32640a9%20%3D%20L.popup%28%7B%22maxWidth%22%3A%20%22100%25%22%7D%29%3B%0A%0A%20%20%20%20%20%20%20%20%0A%20%20%20%20%20%20%20%20%20%20%20%20var%20html_6f5ea4b047a84f769b251adf333e27a0%20%3D%20%24%28%60%3Cdiv%20id%3D%22html_6f5ea4b047a84f769b251adf333e27a0%22%20style%3D%22width%3A%20100.0%25%3B%20height%3A%20100.0%25%3B%22%3ECOLIS.%20MARCHA%20ATR%C3%81S%3C/div%3E%60%29%5B0%5D%3B%0A%20%20%20%20%20%20%20%20%20%20%20%20popup_97dfda00c384470b880422ebb32640a9.setContent%28html_6f5ea4b047a84f769b251adf333e27a0%29%3B%0A%20%20%20%20%20%20%20%20%0A%0A%20%20%20%20%20%20%20%20marker_cdb3ffeaed154450b12c445a3e1539ba.bindPopup%28popup_97dfda00c384470b880422ebb32640a9%29%0A%20%20%20%20%20%20%20%20%3B%0A%0A%20%20%20%20%20%20%20%20%0A%20%20%20%20%0A%20%20%20%20%0A%20%20%20%20%20%20%20%20%20%20%20%20var%20marker_39e7dd514106436a8e2d47b30d66a3af%20%3D%20L.marker%28%0A%20%20%20%20%20%20%20%20%20%20%20%20%20%20%20%20%5B-0.8981774282134238%2C%2041.637370118574715%5D%2C%0A%20%20%20%20%20%20%20%20%20%20%20%20%20%20%20%20%7B%7D%0A%20%20%20%20%20%20%20%20%20%20%20%20%29.addTo%28map_34ae2d6126c3425a85faaea5aeee13ff%29%3B%0A%20%20%20%20%20%20%20%20%0A%20%20%20%20%0A%20%20%20%20%20%20%20%20var%20popup_22a18fb9aa1b44e19628d65ff0929d20%20%3D%20L.popup%28%7B%22maxWidth%22%3A%20%22100%25%22%7D%29%3B%0A%0A%20%20%20%20%20%20%20%20%0A%20%20%20%20%20%20%20%20%20%20%20%20var%20html_22b127e1fdf0454b9048217588e9b5f9%20%3D%20%24%28%60%3Cdiv%20id%3D%22html_22b127e1fdf0454b9048217588e9b5f9%22%20style%3D%22width%3A%20100.0%25%3B%20height%3A%20100.0%25%3B%22%3ECAIDA%20SOBRE%20CALZADA%3C/div%3E%60%29%5B0%5D%3B%0A%20%20%20%20%20%20%20%20%20%20%20%20popup_22a18fb9aa1b44e19628d65ff0929d20.setContent%28html_22b127e1fdf0454b9048217588e9b5f9%29%3B%0A%20%20%20%20%20%20%20%20%0A%0A%20%20%20%20%20%20%20%20marker_39e7dd514106436a8e2d47b30d66a3af.bindPopup%28popup_22a18fb9aa1b44e19628d65ff0929d20%29%0A%20%20%20%20%20%20%20%20%3B%0A%0A%20%20%20%20%20%20%20%20%0A%20%20%20%20%0A%20%20%20%20%0A%20%20%20%20%20%20%20%20%20%20%20%20var%20marker_09e86f0ca90444489a9727960f374754%20%3D%20L.marker%28%0A%20%20%20%20%20%20%20%20%20%20%20%20%20%20%20%20%5B-0.9134005222660053%2C%2041.62307965046806%5D%2C%0A%20%20%20%20%20%20%20%20%20%20%20%20%20%20%20%20%7B%7D%0A%20%20%20%20%20%20%20%20%20%20%20%20%29.addTo%28map_34ae2d6126c3425a85faaea5aeee13ff%29%3B%0A%20%20%20%20%20%20%20%20%0A%20%20%20%20%0A%20%20%20%20%20%20%20%20var%20popup_c21451ba1a9d475ab0970f7bd339d05d%20%3D%20L.popup%28%7B%22maxWidth%22%3A%20%22100%25%22%7D%29%3B%0A%0A%20%20%20%20%20%20%20%20%0A%20%20%20%20%20%20%20%20%20%20%20%20var%20html_49761495320946c9967cd94a4fdf6e59%20%3D%20%24%28%60%3Cdiv%20id%3D%22html_49761495320946c9967cd94a4fdf6e59%22%20style%3D%22width%3A%20100.0%25%3B%20height%3A%20100.0%25%3B%22%3ECAIDA%20SOBRE%20CALZADA%3C/div%3E%60%29%5B0%5D%3B%0A%20%20%20%20%20%20%20%20%20%20%20%20popup_c21451ba1a9d475ab0970f7bd339d05d.setContent%28html_49761495320946c9967cd94a4fdf6e59%29%3B%0A%20%20%20%20%20%20%20%20%0A%0A%20%20%20%20%20%20%20%20marker_09e86f0ca90444489a9727960f374754.bindPopup%28popup_c21451ba1a9d475ab0970f7bd339d05d%29%0A%20%20%20%20%20%20%20%20%3B%0A%0A%20%20%20%20%20%20%20%20%0A%20%20%20%20%0A%20%20%20%20%0A%20%20%20%20%20%20%20%20%20%20%20%20var%20marker_91b99db690a84c6ebc26cede3e50d0a9%20%3D%20L.marker%28%0A%20%20%20%20%20%20%20%20%20%20%20%20%20%20%20%20%5B-0.9675955686913701%2C%2041.703559179288035%5D%2C%0A%20%20%20%20%20%20%20%20%20%20%20%20%20%20%20%20%7B%7D%0A%20%20%20%20%20%20%20%20%20%20%20%20%29.addTo%28map_34ae2d6126c3425a85faaea5aeee13ff%29%3B%0A%20%20%20%20%20%20%20%20%0A%20%20%20%20%0A%20%20%20%20%20%20%20%20var%20popup_b9dd26babc8944d5ae60a96f88d56765%20%3D%20L.popup%28%7B%22maxWidth%22%3A%20%22100%25%22%7D%29%3B%0A%0A%20%20%20%20%20%20%20%20%0A%20%20%20%20%20%20%20%20%20%20%20%20var%20html_65b777bf0d2d4af4baed0a524f5d4bf7%20%3D%20%24%28%60%3Cdiv%20id%3D%22html_65b777bf0d2d4af4baed0a524f5d4bf7%22%20style%3D%22width%3A%20100.0%25%3B%20height%3A%20100.0%25%3B%22%3ESALIDA%20CALZADA%3C/div%3E%60%29%5B0%5D%3B%0A%20%20%20%20%20%20%20%20%20%20%20%20popup_b9dd26babc8944d5ae60a96f88d56765.setContent%28html_65b777bf0d2d4af4baed0a524f5d4bf7%29%3B%0A%20%20%20%20%20%20%20%20%0A%0A%20%20%20%20%20%20%20%20marker_91b99db690a84c6ebc26cede3e50d0a9.bindPopup%28popup_b9dd26babc8944d5ae60a96f88d56765%29%0A%20%20%20%20%20%20%20%20%3B%0A%0A%20%20%20%20%20%20%20%20%0A%20%20%20%20%0A%20%20%20%20%0A%20%20%20%20%20%20%20%20%20%20%20%20var%20marker_ab3532456f234c46b3ccc655f206a478%20%3D%20L.marker%28%0A%20%20%20%20%20%20%20%20%20%20%20%20%20%20%20%20%5B-0.8994494084124403%2C%2041.63800946128376%5D%2C%0A%20%20%20%20%20%20%20%20%20%20%20%20%20%20%20%20%7B%7D%0A%20%20%20%20%20%20%20%20%20%20%20%20%29.addTo%28map_34ae2d6126c3425a85faaea5aeee13ff%29%3B%0A%20%20%20%20%20%20%20%20%0A%20%20%20%20%0A%20%20%20%20%20%20%20%20var%20popup_397737ffc9c64e61a515130298c60c0a%20%3D%20L.popup%28%7B%22maxWidth%22%3A%20%22100%25%22%7D%29%3B%0A%0A%20%20%20%20%20%20%20%20%0A%20%20%20%20%20%20%20%20%20%20%20%20var%20html_81139cc77e72417db3c9629c63d181e8%20%3D%20%24%28%60%3Cdiv%20id%3D%22html_81139cc77e72417db3c9629c63d181e8%22%20style%3D%22width%3A%20100.0%25%3B%20height%3A%20100.0%25%3B%22%3ECOLISI%C3%93N%20LATERAL%3C/div%3E%60%29%5B0%5D%3B%0A%20%20%20%20%20%20%20%20%20%20%20%20popup_397737ffc9c64e61a515130298c60c0a.setContent%28html_81139cc77e72417db3c9629c63d181e8%29%3B%0A%20%20%20%20%20%20%20%20%0A%0A%20%20%20%20%20%20%20%20marker_ab3532456f234c46b3ccc655f206a478.bindPopup%28popup_397737ffc9c64e61a515130298c60c0a%29%0A%20%20%20%20%20%20%20%20%3B%0A%0A%20%20%20%20%20%20%20%20%0A%20%20%20%20%0A%20%20%20%20%0A%20%20%20%20%20%20%20%20%20%20%20%20var%20marker_3c552423d9864faba5b0515efed0eac7%20%3D%20L.marker%28%0A%20%20%20%20%20%20%20%20%20%20%20%20%20%20%20%20%5B-0.9047634312813823%2C%2041.65509967011824%5D%2C%0A%20%20%20%20%20%20%20%20%20%20%20%20%20%20%20%20%7B%7D%0A%20%20%20%20%20%20%20%20%20%20%20%20%29.addTo%28map_34ae2d6126c3425a85faaea5aeee13ff%29%3B%0A%20%20%20%20%20%20%20%20%0A%20%20%20%20%0A%20%20%20%20%20%20%20%20var%20popup_29bb22ec2b71453f9ca217e884e7ac79%20%3D%20L.popup%28%7B%22maxWidth%22%3A%20%22100%25%22%7D%29%3B%0A%0A%20%20%20%20%20%20%20%20%0A%20%20%20%20%20%20%20%20%20%20%20%20var%20html_78faed6aef71401fa6c8ce0b6d77829f%20%3D%20%24%28%60%3Cdiv%20id%3D%22html_78faed6aef71401fa6c8ce0b6d77829f%22%20style%3D%22width%3A%20100.0%25%3B%20height%3A%20100.0%25%3B%22%3ECOLISI%C3%93N%20ALCANCE%3C/div%3E%60%29%5B0%5D%3B%0A%20%20%20%20%20%20%20%20%20%20%20%20popup_29bb22ec2b71453f9ca217e884e7ac79.setContent%28html_78faed6aef71401fa6c8ce0b6d77829f%29%3B%0A%20%20%20%20%20%20%20%20%0A%0A%20%20%20%20%20%20%20%20marker_3c552423d9864faba5b0515efed0eac7.bindPopup%28popup_29bb22ec2b71453f9ca217e884e7ac79%29%0A%20%20%20%20%20%20%20%20%3B%0A%0A%20%20%20%20%20%20%20%20%0A%20%20%20%20%0A%20%20%20%20%0A%20%20%20%20%20%20%20%20%20%20%20%20var%20marker_62f788c5e991475ebcb754a7426f518d%20%3D%20L.marker%28%0A%20%20%20%20%20%20%20%20%20%20%20%20%20%20%20%20%5B-0.8796660379583326%2C%2041.640231801283996%5D%2C%0A%20%20%20%20%20%20%20%20%20%20%20%20%20%20%20%20%7B%7D%0A%20%20%20%20%20%20%20%20%20%20%20%20%29.addTo%28map_34ae2d6126c3425a85faaea5aeee13ff%29%3B%0A%20%20%20%20%20%20%20%20%0A%20%20%20%20%0A%20%20%20%20%20%20%20%20var%20popup_3fff0256d1d947fcb238a685feb03d71%20%3D%20L.popup%28%7B%22maxWidth%22%3A%20%22100%25%22%7D%29%3B%0A%0A%20%20%20%20%20%20%20%20%0A%20%20%20%20%20%20%20%20%20%20%20%20var%20html_a73b70416baa4d3ca4bbdca50e712bd4%20%3D%20%24%28%60%3Cdiv%20id%3D%22html_a73b70416baa4d3ca4bbdca50e712bd4%22%20style%3D%22width%3A%20100.0%25%3B%20height%3A%20100.0%25%3B%22%3ECAIDA%20SOBRE%20CALZADA%3C/div%3E%60%29%5B0%5D%3B%0A%20%20%20%20%20%20%20%20%20%20%20%20popup_3fff0256d1d947fcb238a685feb03d71.setContent%28html_a73b70416baa4d3ca4bbdca50e712bd4%29%3B%0A%20%20%20%20%20%20%20%20%0A%0A%20%20%20%20%20%20%20%20marker_62f788c5e991475ebcb754a7426f518d.bindPopup%28popup_3fff0256d1d947fcb238a685feb03d71%29%0A%20%20%20%20%20%20%20%20%3B%0A%0A%20%20%20%20%20%20%20%20%0A%20%20%20%20%0A%20%20%20%20%0A%20%20%20%20%20%20%20%20%20%20%20%20var%20marker_8da3db90aa5946fdab52ce2c9530772a%20%3D%20L.marker%28%0A%20%20%20%20%20%20%20%20%20%20%20%20%20%20%20%20%5B-0.8569442253224475%2C%2041.66399317788149%5D%2C%0A%20%20%20%20%20%20%20%20%20%20%20%20%20%20%20%20%7B%7D%0A%20%20%20%20%20%20%20%20%20%20%20%20%29.addTo%28map_34ae2d6126c3425a85faaea5aeee13ff%29%3B%0A%20%20%20%20%20%20%20%20%0A%20%20%20%20%0A%20%20%20%20%20%20%20%20var%20popup_49346626356f4d8c9a29b32928a15e78%20%3D%20L.popup%28%7B%22maxWidth%22%3A%20%22100%25%22%7D%29%3B%0A%0A%20%20%20%20%20%20%20%20%0A%20%20%20%20%20%20%20%20%20%20%20%20var%20html_b66cbc40f9514144977a2b0ef68d816c%20%3D%20%24%28%60%3Cdiv%20id%3D%22html_b66cbc40f9514144977a2b0ef68d816c%22%20style%3D%22width%3A%20100.0%25%3B%20height%3A%20100.0%25%3B%22%3ECOLIS.%20MARCHA%20ATR%C3%81S%3C/div%3E%60%29%5B0%5D%3B%0A%20%20%20%20%20%20%20%20%20%20%20%20popup_49346626356f4d8c9a29b32928a15e78.setContent%28html_b66cbc40f9514144977a2b0ef68d816c%29%3B%0A%20%20%20%20%20%20%20%20%0A%0A%20%20%20%20%20%20%20%20marker_8da3db90aa5946fdab52ce2c9530772a.bindPopup%28popup_49346626356f4d8c9a29b32928a15e78%29%0A%20%20%20%20%20%20%20%20%3B%0A%0A%20%20%20%20%20%20%20%20%0A%20%20%20%20%0A%20%20%20%20%0A%20%20%20%20%20%20%20%20%20%20%20%20var%20marker_36956c7d06224140b8d61c3dd3d8754b%20%3D%20L.marker%28%0A%20%20%20%20%20%20%20%20%20%20%20%20%20%20%20%20%5B-0.8866382760165721%2C%2041.640202296609836%5D%2C%0A%20%20%20%20%20%20%20%20%20%20%20%20%20%20%20%20%7B%7D%0A%20%20%20%20%20%20%20%20%20%20%20%20%29.addTo%28map_34ae2d6126c3425a85faaea5aeee13ff%29%3B%0A%20%20%20%20%20%20%20%20%0A%20%20%20%20%0A%20%20%20%20%20%20%20%20var%20popup_54de9280b256419d8606e0400b89a6b5%20%3D%20L.popup%28%7B%22maxWidth%22%3A%20%22100%25%22%7D%29%3B%0A%0A%20%20%20%20%20%20%20%20%0A%20%20%20%20%20%20%20%20%20%20%20%20var%20html_07128cccfc9747e581e7107af1f6d2a6%20%3D%20%24%28%60%3Cdiv%20id%3D%22html_07128cccfc9747e581e7107af1f6d2a6%22%20style%3D%22width%3A%20100.0%25%3B%20height%3A%20100.0%25%3B%22%3ECOLISI%C3%93N%20ALCANCE%3C/div%3E%60%29%5B0%5D%3B%0A%20%20%20%20%20%20%20%20%20%20%20%20popup_54de9280b256419d8606e0400b89a6b5.setContent%28html_07128cccfc9747e581e7107af1f6d2a6%29%3B%0A%20%20%20%20%20%20%20%20%0A%0A%20%20%20%20%20%20%20%20marker_36956c7d06224140b8d61c3dd3d8754b.bindPopup%28popup_54de9280b256419d8606e0400b89a6b5%29%0A%20%20%20%20%20%20%20%20%3B%0A%0A%20%20%20%20%20%20%20%20%0A%20%20%20%20%0A%20%20%20%20%0A%20%20%20%20%20%20%20%20%20%20%20%20var%20marker_960445ea0e5140f49865f0f9041f2d52%20%3D%20L.marker%28%0A%20%20%20%20%20%20%20%20%20%20%20%20%20%20%20%20%5B-0.9148179357831321%2C%2041.64045052143847%5D%2C%0A%20%20%20%20%20%20%20%20%20%20%20%20%20%20%20%20%7B%7D%0A%20%20%20%20%20%20%20%20%20%20%20%20%29.addTo%28map_34ae2d6126c3425a85faaea5aeee13ff%29%3B%0A%20%20%20%20%20%20%20%20%0A%20%20%20%20%0A%20%20%20%20%20%20%20%20var%20popup_e40180ccd5a64443aa8f07a0e8155f1d%20%3D%20L.popup%28%7B%22maxWidth%22%3A%20%22100%25%22%7D%29%3B%0A%0A%20%20%20%20%20%20%20%20%0A%20%20%20%20%20%20%20%20%20%20%20%20var%20html_bd581e8a2d0d4ca4b108dd600e81ff3d%20%3D%20%24%28%60%3Cdiv%20id%3D%22html_bd581e8a2d0d4ca4b108dd600e81ff3d%22%20style%3D%22width%3A%20100.0%25%3B%20height%3A%20100.0%25%3B%22%3ECOLISI%C3%93N%20LATERAL%3C/div%3E%60%29%5B0%5D%3B%0A%20%20%20%20%20%20%20%20%20%20%20%20popup_e40180ccd5a64443aa8f07a0e8155f1d.setContent%28html_bd581e8a2d0d4ca4b108dd600e81ff3d%29%3B%0A%20%20%20%20%20%20%20%20%0A%0A%20%20%20%20%20%20%20%20marker_960445ea0e5140f49865f0f9041f2d52.bindPopup%28popup_e40180ccd5a64443aa8f07a0e8155f1d%29%0A%20%20%20%20%20%20%20%20%3B%0A%0A%20%20%20%20%20%20%20%20%0A%20%20%20%20%0A%20%20%20%20%0A%20%20%20%20%20%20%20%20%20%20%20%20var%20marker_85ee74ccebf24acea7deb9a666e06dff%20%3D%20L.marker%28%0A%20%20%20%20%20%20%20%20%20%20%20%20%20%20%20%20%5B-0.91679280832361%2C%2041.650342929846744%5D%2C%0A%20%20%20%20%20%20%20%20%20%20%20%20%20%20%20%20%7B%7D%0A%20%20%20%20%20%20%20%20%20%20%20%20%29.addTo%28map_34ae2d6126c3425a85faaea5aeee13ff%29%3B%0A%20%20%20%20%20%20%20%20%0A%20%20%20%20%0A%20%20%20%20%20%20%20%20var%20popup_7b17986d2be14a578abcb26cacb611a6%20%3D%20L.popup%28%7B%22maxWidth%22%3A%20%22100%25%22%7D%29%3B%0A%0A%20%20%20%20%20%20%20%20%0A%20%20%20%20%20%20%20%20%20%20%20%20var%20html_e0ea1425b13f4ea8ab9a0e00e4614b29%20%3D%20%24%28%60%3Cdiv%20id%3D%22html_e0ea1425b13f4ea8ab9a0e00e4614b29%22%20style%3D%22width%3A%20100.0%25%3B%20height%3A%20100.0%25%3B%22%3ECOLIS.%20MARCHA%20ATR%C3%81S%3C/div%3E%60%29%5B0%5D%3B%0A%20%20%20%20%20%20%20%20%20%20%20%20popup_7b17986d2be14a578abcb26cacb611a6.setContent%28html_e0ea1425b13f4ea8ab9a0e00e4614b29%29%3B%0A%20%20%20%20%20%20%20%20%0A%0A%20%20%20%20%20%20%20%20marker_85ee74ccebf24acea7deb9a666e06dff.bindPopup%28popup_7b17986d2be14a578abcb26cacb611a6%29%0A%20%20%20%20%20%20%20%20%3B%0A%0A%20%20%20%20%20%20%20%20%0A%20%20%20%20%0A%20%20%20%20%0A%20%20%20%20%20%20%20%20%20%20%20%20var%20marker_ec7a98b3d7c241218466b2e5d238d500%20%3D%20L.marker%28%0A%20%20%20%20%20%20%20%20%20%20%20%20%20%20%20%20%5B-0.9831600853628304%2C%2041.6515948922118%5D%2C%0A%20%20%20%20%20%20%20%20%20%20%20%20%20%20%20%20%7B%7D%0A%20%20%20%20%20%20%20%20%20%20%20%20%29.addTo%28map_34ae2d6126c3425a85faaea5aeee13ff%29%3B%0A%20%20%20%20%20%20%20%20%0A%20%20%20%20%0A%20%20%20%20%20%20%20%20var%20popup_22e886ff150b4581900e093c6f67c282%20%3D%20L.popup%28%7B%22maxWidth%22%3A%20%22100%25%22%7D%29%3B%0A%0A%20%20%20%20%20%20%20%20%0A%20%20%20%20%20%20%20%20%20%20%20%20var%20html_999310728e324281952dfd00aae44216%20%3D%20%24%28%60%3Cdiv%20id%3D%22html_999310728e324281952dfd00aae44216%22%20style%3D%22width%3A%20100.0%25%3B%20height%3A%20100.0%25%3B%22%3ECOLISI%C3%93N%20ALCANCE%3C/div%3E%60%29%5B0%5D%3B%0A%20%20%20%20%20%20%20%20%20%20%20%20popup_22e886ff150b4581900e093c6f67c282.setContent%28html_999310728e324281952dfd00aae44216%29%3B%0A%20%20%20%20%20%20%20%20%0A%0A%20%20%20%20%20%20%20%20marker_ec7a98b3d7c241218466b2e5d238d500.bindPopup%28popup_22e886ff150b4581900e093c6f67c282%29%0A%20%20%20%20%20%20%20%20%3B%0A%0A%20%20%20%20%20%20%20%20%0A%20%20%20%20%0A%20%20%20%20%0A%20%20%20%20%20%20%20%20%20%20%20%20var%20marker_323735246bf94341a8a22beb1b2a5610%20%3D%20L.marker%28%0A%20%20%20%20%20%20%20%20%20%20%20%20%20%20%20%20%5B-0.8805502979311851%2C%2041.639588711692504%5D%2C%0A%20%20%20%20%20%20%20%20%20%20%20%20%20%20%20%20%7B%7D%0A%20%20%20%20%20%20%20%20%20%20%20%20%29.addTo%28map_34ae2d6126c3425a85faaea5aeee13ff%29%3B%0A%20%20%20%20%20%20%20%20%0A%20%20%20%20%0A%20%20%20%20%20%20%20%20var%20popup_867d68a7ab5046dfb2b29db8ea515b5b%20%3D%20L.popup%28%7B%22maxWidth%22%3A%20%22100%25%22%7D%29%3B%0A%0A%20%20%20%20%20%20%20%20%0A%20%20%20%20%20%20%20%20%20%20%20%20var%20html_8064cba9b2824fc7a725c9dd9c87a092%20%3D%20%24%28%60%3Cdiv%20id%3D%22html_8064cba9b2824fc7a725c9dd9c87a092%22%20style%3D%22width%3A%20100.0%25%3B%20height%3A%20100.0%25%3B%22%3ECOLIS.%20MARCHA%20ATR%C3%81S%3C/div%3E%60%29%5B0%5D%3B%0A%20%20%20%20%20%20%20%20%20%20%20%20popup_867d68a7ab5046dfb2b29db8ea515b5b.setContent%28html_8064cba9b2824fc7a725c9dd9c87a092%29%3B%0A%20%20%20%20%20%20%20%20%0A%0A%20%20%20%20%20%20%20%20marker_323735246bf94341a8a22beb1b2a5610.bindPopup%28popup_867d68a7ab5046dfb2b29db8ea515b5b%29%0A%20%20%20%20%20%20%20%20%3B%0A%0A%20%20%20%20%20%20%20%20%0A%20%20%20%20%0A%20%20%20%20%0A%20%20%20%20%20%20%20%20%20%20%20%20var%20marker_4b21e436dd254c168acacbfb3dbe1087%20%3D%20L.marker%28%0A%20%20%20%20%20%20%20%20%20%20%20%20%20%20%20%20%5B-0.8834784288071386%2C%2041.64547114097832%5D%2C%0A%20%20%20%20%20%20%20%20%20%20%20%20%20%20%20%20%7B%7D%0A%20%20%20%20%20%20%20%20%20%20%20%20%29.addTo%28map_34ae2d6126c3425a85faaea5aeee13ff%29%3B%0A%20%20%20%20%20%20%20%20%0A%20%20%20%20%0A%20%20%20%20%20%20%20%20var%20popup_1f7ad75088db4d049483cea24afbf930%20%3D%20L.popup%28%7B%22maxWidth%22%3A%20%22100%25%22%7D%29%3B%0A%0A%20%20%20%20%20%20%20%20%0A%20%20%20%20%20%20%20%20%20%20%20%20var%20html_db069239ca914d2f86fdf1efc4123ab6%20%3D%20%24%28%60%3Cdiv%20id%3D%22html_db069239ca914d2f86fdf1efc4123ab6%22%20style%3D%22width%3A%20100.0%25%3B%20height%3A%20100.0%25%3B%22%3ECOLIS.%20MARCHA%20ATR%C3%81S%3C/div%3E%60%29%5B0%5D%3B%0A%20%20%20%20%20%20%20%20%20%20%20%20popup_1f7ad75088db4d049483cea24afbf930.setContent%28html_db069239ca914d2f86fdf1efc4123ab6%29%3B%0A%20%20%20%20%20%20%20%20%0A%0A%20%20%20%20%20%20%20%20marker_4b21e436dd254c168acacbfb3dbe1087.bindPopup%28popup_1f7ad75088db4d049483cea24afbf930%29%0A%20%20%20%20%20%20%20%20%3B%0A%0A%20%20%20%20%20%20%20%20%0A%20%20%20%20%0A%20%20%20%20%0A%20%20%20%20%20%20%20%20%20%20%20%20var%20marker_c6a7f83b9a054f97bdba407e32a747cf%20%3D%20L.marker%28%0A%20%20%20%20%20%20%20%20%20%20%20%20%20%20%20%20%5B-0.8907819329164345%2C%2041.60941879505107%5D%2C%0A%20%20%20%20%20%20%20%20%20%20%20%20%20%20%20%20%7B%7D%0A%20%20%20%20%20%20%20%20%20%20%20%20%29.addTo%28map_34ae2d6126c3425a85faaea5aeee13ff%29%3B%0A%20%20%20%20%20%20%20%20%0A%20%20%20%20%0A%20%20%20%20%20%20%20%20var%20popup_ab6e7fd6dafa46c190102906628abc6f%20%3D%20L.popup%28%7B%22maxWidth%22%3A%20%22100%25%22%7D%29%3B%0A%0A%20%20%20%20%20%20%20%20%0A%20%20%20%20%20%20%20%20%20%20%20%20var%20html_71213388ea464f2597fc46e523e0fe0c%20%3D%20%24%28%60%3Cdiv%20id%3D%22html_71213388ea464f2597fc46e523e0fe0c%22%20style%3D%22width%3A%20100.0%25%3B%20height%3A%20100.0%25%3B%22%3ECOLIS.%20MARCHA%20ATR%C3%81S%3C/div%3E%60%29%5B0%5D%3B%0A%20%20%20%20%20%20%20%20%20%20%20%20popup_ab6e7fd6dafa46c190102906628abc6f.setContent%28html_71213388ea464f2597fc46e523e0fe0c%29%3B%0A%20%20%20%20%20%20%20%20%0A%0A%20%20%20%20%20%20%20%20marker_c6a7f83b9a054f97bdba407e32a747cf.bindPopup%28popup_ab6e7fd6dafa46c190102906628abc6f%29%0A%20%20%20%20%20%20%20%20%3B%0A%0A%20%20%20%20%20%20%20%20%0A%20%20%20%20%0A%20%20%20%20%0A%20%20%20%20%20%20%20%20%20%20%20%20var%20marker_8960d968eac2451381a9e5a93dbbd485%20%3D%20L.marker%28%0A%20%20%20%20%20%20%20%20%20%20%20%20%20%20%20%20%5B-0.9129045578911849%2C%2041.63594510671276%5D%2C%0A%20%20%20%20%20%20%20%20%20%20%20%20%20%20%20%20%7B%7D%0A%20%20%20%20%20%20%20%20%20%20%20%20%29.addTo%28map_34ae2d6126c3425a85faaea5aeee13ff%29%3B%0A%20%20%20%20%20%20%20%20%0A%20%20%20%20%0A%20%20%20%20%20%20%20%20var%20popup_d31971c28d22483e88cebfd53e5b74a2%20%3D%20L.popup%28%7B%22maxWidth%22%3A%20%22100%25%22%7D%29%3B%0A%0A%20%20%20%20%20%20%20%20%0A%20%20%20%20%20%20%20%20%20%20%20%20var%20html_beba3aea831749a48f80fbc0e644743f%20%3D%20%24%28%60%3Cdiv%20id%3D%22html_beba3aea831749a48f80fbc0e644743f%22%20style%3D%22width%3A%20100.0%25%3B%20height%3A%20100.0%25%3B%22%3ECOLIS.%20MARCHA%20ATR%C3%81S%3C/div%3E%60%29%5B0%5D%3B%0A%20%20%20%20%20%20%20%20%20%20%20%20popup_d31971c28d22483e88cebfd53e5b74a2.setContent%28html_beba3aea831749a48f80fbc0e644743f%29%3B%0A%20%20%20%20%20%20%20%20%0A%0A%20%20%20%20%20%20%20%20marker_8960d968eac2451381a9e5a93dbbd485.bindPopup%28popup_d31971c28d22483e88cebfd53e5b74a2%29%0A%20%20%20%20%20%20%20%20%3B%0A%0A%20%20%20%20%20%20%20%20%0A%20%20%20%20%0A%20%20%20%20%0A%20%20%20%20%20%20%20%20%20%20%20%20var%20marker_e9744618287d4780b58ed91d7008bde9%20%3D%20L.marker%28%0A%20%20%20%20%20%20%20%20%20%20%20%20%20%20%20%20%5B-0.929341406599246%2C%2041.65806605032787%5D%2C%0A%20%20%20%20%20%20%20%20%20%20%20%20%20%20%20%20%7B%7D%0A%20%20%20%20%20%20%20%20%20%20%20%20%29.addTo%28map_34ae2d6126c3425a85faaea5aeee13ff%29%3B%0A%20%20%20%20%20%20%20%20%0A%20%20%20%20%0A%20%20%20%20%20%20%20%20var%20popup_968d4d36e6b4437b8959b68a24210c97%20%3D%20L.popup%28%7B%22maxWidth%22%3A%20%22100%25%22%7D%29%3B%0A%0A%20%20%20%20%20%20%20%20%0A%20%20%20%20%20%20%20%20%20%20%20%20var%20html_87923986fa054b36ad711b9ada471d60%20%3D%20%24%28%60%3Cdiv%20id%3D%22html_87923986fa054b36ad711b9ada471d60%22%20style%3D%22width%3A%20100.0%25%3B%20height%3A%20100.0%25%3B%22%3ESALIDA%20CALZADA%3C/div%3E%60%29%5B0%5D%3B%0A%20%20%20%20%20%20%20%20%20%20%20%20popup_968d4d36e6b4437b8959b68a24210c97.setContent%28html_87923986fa054b36ad711b9ada471d60%29%3B%0A%20%20%20%20%20%20%20%20%0A%0A%20%20%20%20%20%20%20%20marker_e9744618287d4780b58ed91d7008bde9.bindPopup%28popup_968d4d36e6b4437b8959b68a24210c97%29%0A%20%20%20%20%20%20%20%20%3B%0A%0A%20%20%20%20%20%20%20%20%0A%20%20%20%20%0A%20%20%20%20%0A%20%20%20%20%20%20%20%20%20%20%20%20var%20marker_39ccfabc281c4620a06e4a7de6c863dc%20%3D%20L.marker%28%0A%20%20%20%20%20%20%20%20%20%20%20%20%20%20%20%20%5B-0.9015144446496385%2C%2041.65124740456308%5D%2C%0A%20%20%20%20%20%20%20%20%20%20%20%20%20%20%20%20%7B%7D%0A%20%20%20%20%20%20%20%20%20%20%20%20%29.addTo%28map_34ae2d6126c3425a85faaea5aeee13ff%29%3B%0A%20%20%20%20%20%20%20%20%0A%20%20%20%20%0A%20%20%20%20%20%20%20%20var%20popup_e0994cefed834749b0d50ac9e28013b9%20%3D%20L.popup%28%7B%22maxWidth%22%3A%20%22100%25%22%7D%29%3B%0A%0A%20%20%20%20%20%20%20%20%0A%20%20%20%20%20%20%20%20%20%20%20%20var%20html_3d8f081377aa4749af659af5a3e5bfa4%20%3D%20%24%28%60%3Cdiv%20id%3D%22html_3d8f081377aa4749af659af5a3e5bfa4%22%20style%3D%22width%3A%20100.0%25%3B%20height%3A%20100.0%25%3B%22%3ECOLIS.%20MARCHA%20ATR%C3%81S%3C/div%3E%60%29%5B0%5D%3B%0A%20%20%20%20%20%20%20%20%20%20%20%20popup_e0994cefed834749b0d50ac9e28013b9.setContent%28html_3d8f081377aa4749af659af5a3e5bfa4%29%3B%0A%20%20%20%20%20%20%20%20%0A%0A%20%20%20%20%20%20%20%20marker_39ccfabc281c4620a06e4a7de6c863dc.bindPopup%28popup_e0994cefed834749b0d50ac9e28013b9%29%0A%20%20%20%20%20%20%20%20%3B%0A%0A%20%20%20%20%20%20%20%20%0A%20%20%20%20%0A%20%20%20%20%0A%20%20%20%20%20%20%20%20%20%20%20%20var%20marker_9508657db55741f1bd036a0b98db1f95%20%3D%20L.marker%28%0A%20%20%20%20%20%20%20%20%20%20%20%20%20%20%20%20%5B-0.8971281972974198%2C%2041.64919114164%5D%2C%0A%20%20%20%20%20%20%20%20%20%20%20%20%20%20%20%20%7B%7D%0A%20%20%20%20%20%20%20%20%20%20%20%20%29.addTo%28map_34ae2d6126c3425a85faaea5aeee13ff%29%3B%0A%20%20%20%20%20%20%20%20%0A%20%20%20%20%0A%20%20%20%20%20%20%20%20var%20popup_baac5fe162b14d299fa1aabb06865245%20%3D%20L.popup%28%7B%22maxWidth%22%3A%20%22100%25%22%7D%29%3B%0A%0A%20%20%20%20%20%20%20%20%0A%20%20%20%20%20%20%20%20%20%20%20%20var%20html_c2f884dc052c43048bfd102ebe4e2d93%20%3D%20%24%28%60%3Cdiv%20id%3D%22html_c2f884dc052c43048bfd102ebe4e2d93%22%20style%3D%22width%3A%20100.0%25%3B%20height%3A%20100.0%25%3B%22%3EOTRAS%3C/div%3E%60%29%5B0%5D%3B%0A%20%20%20%20%20%20%20%20%20%20%20%20popup_baac5fe162b14d299fa1aabb06865245.setContent%28html_c2f884dc052c43048bfd102ebe4e2d93%29%3B%0A%20%20%20%20%20%20%20%20%0A%0A%20%20%20%20%20%20%20%20marker_9508657db55741f1bd036a0b98db1f95.bindPopup%28popup_baac5fe162b14d299fa1aabb06865245%29%0A%20%20%20%20%20%20%20%20%3B%0A%0A%20%20%20%20%20%20%20%20%0A%20%20%20%20%0A%20%20%20%20%0A%20%20%20%20%20%20%20%20%20%20%20%20var%20marker_74048f0031aa46a99b453d2474ff3cc4%20%3D%20L.marker%28%0A%20%20%20%20%20%20%20%20%20%20%20%20%20%20%20%20%5B-0.8655422071013779%2C%2041.68415187120862%5D%2C%0A%20%20%20%20%20%20%20%20%20%20%20%20%20%20%20%20%7B%7D%0A%20%20%20%20%20%20%20%20%20%20%20%20%29.addTo%28map_34ae2d6126c3425a85faaea5aeee13ff%29%3B%0A%20%20%20%20%20%20%20%20%0A%20%20%20%20%0A%20%20%20%20%20%20%20%20var%20popup_8c00925178194f48894947692d1f1708%20%3D%20L.popup%28%7B%22maxWidth%22%3A%20%22100%25%22%7D%29%3B%0A%0A%20%20%20%20%20%20%20%20%0A%20%20%20%20%20%20%20%20%20%20%20%20var%20html_3a1f6771347640c98b9d10265e2b22d3%20%3D%20%24%28%60%3Cdiv%20id%3D%22html_3a1f6771347640c98b9d10265e2b22d3%22%20style%3D%22width%3A%20100.0%25%3B%20height%3A%20100.0%25%3B%22%3ECAIDA%20SOBRE%20CALZADA%3C/div%3E%60%29%5B0%5D%3B%0A%20%20%20%20%20%20%20%20%20%20%20%20popup_8c00925178194f48894947692d1f1708.setContent%28html_3a1f6771347640c98b9d10265e2b22d3%29%3B%0A%20%20%20%20%20%20%20%20%0A%0A%20%20%20%20%20%20%20%20marker_74048f0031aa46a99b453d2474ff3cc4.bindPopup%28popup_8c00925178194f48894947692d1f1708%29%0A%20%20%20%20%20%20%20%20%3B%0A%0A%20%20%20%20%20%20%20%20%0A%20%20%20%20%0A%20%20%20%20%0A%20%20%20%20%20%20%20%20%20%20%20%20var%20marker_4a1071d748af4c4fbab4049fb8dfc311%20%3D%20L.marker%28%0A%20%20%20%20%20%20%20%20%20%20%20%20%20%20%20%20%5B-0.9345679624034625%2C%2041.64775005399505%5D%2C%0A%20%20%20%20%20%20%20%20%20%20%20%20%20%20%20%20%7B%7D%0A%20%20%20%20%20%20%20%20%20%20%20%20%29.addTo%28map_34ae2d6126c3425a85faaea5aeee13ff%29%3B%0A%20%20%20%20%20%20%20%20%0A%20%20%20%20%0A%20%20%20%20%20%20%20%20var%20popup_6c06f8d686fb4fe1b82d4eea21e29b12%20%3D%20L.popup%28%7B%22maxWidth%22%3A%20%22100%25%22%7D%29%3B%0A%0A%20%20%20%20%20%20%20%20%0A%20%20%20%20%20%20%20%20%20%20%20%20var%20html_d796bd1eab0b467f94b9b753082e81fb%20%3D%20%24%28%60%3Cdiv%20id%3D%22html_d796bd1eab0b467f94b9b753082e81fb%22%20style%3D%22width%3A%20100.0%25%3B%20height%3A%20100.0%25%3B%22%3ECAIDA%20SOBRE%20CALZADA%3C/div%3E%60%29%5B0%5D%3B%0A%20%20%20%20%20%20%20%20%20%20%20%20popup_6c06f8d686fb4fe1b82d4eea21e29b12.setContent%28html_d796bd1eab0b467f94b9b753082e81fb%29%3B%0A%20%20%20%20%20%20%20%20%0A%0A%20%20%20%20%20%20%20%20marker_4a1071d748af4c4fbab4049fb8dfc311.bindPopup%28popup_6c06f8d686fb4fe1b82d4eea21e29b12%29%0A%20%20%20%20%20%20%20%20%3B%0A%0A%20%20%20%20%20%20%20%20%0A%20%20%20%20%0A%20%20%20%20%0A%20%20%20%20%20%20%20%20%20%20%20%20var%20marker_92a90748f78c4f4cbad3adba49e1c0b5%20%3D%20L.marker%28%0A%20%20%20%20%20%20%20%20%20%20%20%20%20%20%20%20%5B-0.9162444486972013%2C%2041.647640923398896%5D%2C%0A%20%20%20%20%20%20%20%20%20%20%20%20%20%20%20%20%7B%7D%0A%20%20%20%20%20%20%20%20%20%20%20%20%29.addTo%28map_34ae2d6126c3425a85faaea5aeee13ff%29%3B%0A%20%20%20%20%20%20%20%20%0A%20%20%20%20%0A%20%20%20%20%20%20%20%20var%20popup_df949e96e6d9447fa10afe12a06c00d7%20%3D%20L.popup%28%7B%22maxWidth%22%3A%20%22100%25%22%7D%29%3B%0A%0A%20%20%20%20%20%20%20%20%0A%20%20%20%20%20%20%20%20%20%20%20%20var%20html_8bbdc70b765c4770ad167e5ee0a3e467%20%3D%20%24%28%60%3Cdiv%20id%3D%22html_8bbdc70b765c4770ad167e5ee0a3e467%22%20style%3D%22width%3A%20100.0%25%3B%20height%3A%20100.0%25%3B%22%3ECOLISI%C3%93N%20ALCANCE%3C/div%3E%60%29%5B0%5D%3B%0A%20%20%20%20%20%20%20%20%20%20%20%20popup_df949e96e6d9447fa10afe12a06c00d7.setContent%28html_8bbdc70b765c4770ad167e5ee0a3e467%29%3B%0A%20%20%20%20%20%20%20%20%0A%0A%20%20%20%20%20%20%20%20marker_92a90748f78c4f4cbad3adba49e1c0b5.bindPopup%28popup_df949e96e6d9447fa10afe12a06c00d7%29%0A%20%20%20%20%20%20%20%20%3B%0A%0A%20%20%20%20%20%20%20%20%0A%20%20%20%20%0A%20%20%20%20%0A%20%20%20%20%20%20%20%20%20%20%20%20var%20marker_fb55fc16fb914a129a609c67fb45550d%20%3D%20L.marker%28%0A%20%20%20%20%20%20%20%20%20%20%20%20%20%20%20%20%5B-0.9075234410781284%2C%2041.64628513907135%5D%2C%0A%20%20%20%20%20%20%20%20%20%20%20%20%20%20%20%20%7B%7D%0A%20%20%20%20%20%20%20%20%20%20%20%20%29.addTo%28map_34ae2d6126c3425a85faaea5aeee13ff%29%3B%0A%20%20%20%20%20%20%20%20%0A%20%20%20%20%0A%20%20%20%20%20%20%20%20var%20popup_19ae3da85ec544409eeccd497f5e8f76%20%3D%20L.popup%28%7B%22maxWidth%22%3A%20%22100%25%22%7D%29%3B%0A%0A%20%20%20%20%20%20%20%20%0A%20%20%20%20%20%20%20%20%20%20%20%20var%20html_73abedbaa8504ac8b93186496fb28aa8%20%3D%20%24%28%60%3Cdiv%20id%3D%22html_73abedbaa8504ac8b93186496fb28aa8%22%20style%3D%22width%3A%20100.0%25%3B%20height%3A%20100.0%25%3B%22%3ECOLISI%C3%93N%20LATERAL%3C/div%3E%60%29%5B0%5D%3B%0A%20%20%20%20%20%20%20%20%20%20%20%20popup_19ae3da85ec544409eeccd497f5e8f76.setContent%28html_73abedbaa8504ac8b93186496fb28aa8%29%3B%0A%20%20%20%20%20%20%20%20%0A%0A%20%20%20%20%20%20%20%20marker_fb55fc16fb914a129a609c67fb45550d.bindPopup%28popup_19ae3da85ec544409eeccd497f5e8f76%29%0A%20%20%20%20%20%20%20%20%3B%0A%0A%20%20%20%20%20%20%20%20%0A%20%20%20%20%0A%20%20%20%20%0A%20%20%20%20%20%20%20%20%20%20%20%20var%20marker_d489d28659d44c4f92926ccd040d5970%20%3D%20L.marker%28%0A%20%20%20%20%20%20%20%20%20%20%20%20%20%20%20%20%5B-0.8740118451885867%2C%2041.646572275866276%5D%2C%0A%20%20%20%20%20%20%20%20%20%20%20%20%20%20%20%20%7B%7D%0A%20%20%20%20%20%20%20%20%20%20%20%20%29.addTo%28map_34ae2d6126c3425a85faaea5aeee13ff%29%3B%0A%20%20%20%20%20%20%20%20%0A%20%20%20%20%0A%20%20%20%20%20%20%20%20var%20popup_58f453bd36f743e4acf9d5bfea455086%20%3D%20L.popup%28%7B%22maxWidth%22%3A%20%22100%25%22%7D%29%3B%0A%0A%20%20%20%20%20%20%20%20%0A%20%20%20%20%20%20%20%20%20%20%20%20var%20html_68fdae321d94430e8c2d60ee78b5dea5%20%3D%20%24%28%60%3Cdiv%20id%3D%22html_68fdae321d94430e8c2d60ee78b5dea5%22%20style%3D%22width%3A%20100.0%25%3B%20height%3A%20100.0%25%3B%22%3ECOLISI%C3%93N%20LATERAL%3C/div%3E%60%29%5B0%5D%3B%0A%20%20%20%20%20%20%20%20%20%20%20%20popup_58f453bd36f743e4acf9d5bfea455086.setContent%28html_68fdae321d94430e8c2d60ee78b5dea5%29%3B%0A%20%20%20%20%20%20%20%20%0A%0A%20%20%20%20%20%20%20%20marker_d489d28659d44c4f92926ccd040d5970.bindPopup%28popup_58f453bd36f743e4acf9d5bfea455086%29%0A%20%20%20%20%20%20%20%20%3B%0A%0A%20%20%20%20%20%20%20%20%0A%20%20%20%20%0A%20%20%20%20%0A%20%20%20%20%20%20%20%20%20%20%20%20var%20marker_b904cbc35bfa44b1a6a6473b668c3f30%20%3D%20L.marker%28%0A%20%20%20%20%20%20%20%20%20%20%20%20%20%20%20%20%5B-0.8879390016835017%2C%2041.64976600318248%5D%2C%0A%20%20%20%20%20%20%20%20%20%20%20%20%20%20%20%20%7B%7D%0A%20%20%20%20%20%20%20%20%20%20%20%20%29.addTo%28map_34ae2d6126c3425a85faaea5aeee13ff%29%3B%0A%20%20%20%20%20%20%20%20%0A%20%20%20%20%0A%20%20%20%20%20%20%20%20var%20popup_d270999177c34295a9b9b1f40fb0e061%20%3D%20L.popup%28%7B%22maxWidth%22%3A%20%22100%25%22%7D%29%3B%0A%0A%20%20%20%20%20%20%20%20%0A%20%20%20%20%20%20%20%20%20%20%20%20var%20html_ba58e3adefeb4fe7a82b50bfb82fdf3f%20%3D%20%24%28%60%3Cdiv%20id%3D%22html_ba58e3adefeb4fe7a82b50bfb82fdf3f%22%20style%3D%22width%3A%20100.0%25%3B%20height%3A%20100.0%25%3B%22%3ECOLISI%C3%93N%20LATERAL%3C/div%3E%60%29%5B0%5D%3B%0A%20%20%20%20%20%20%20%20%20%20%20%20popup_d270999177c34295a9b9b1f40fb0e061.setContent%28html_ba58e3adefeb4fe7a82b50bfb82fdf3f%29%3B%0A%20%20%20%20%20%20%20%20%0A%0A%20%20%20%20%20%20%20%20marker_b904cbc35bfa44b1a6a6473b668c3f30.bindPopup%28popup_d270999177c34295a9b9b1f40fb0e061%29%0A%20%20%20%20%20%20%20%20%3B%0A%0A%20%20%20%20%20%20%20%20%0A%20%20%20%20%0A%20%20%20%20%0A%20%20%20%20%20%20%20%20%20%20%20%20var%20marker_228f5950b887408884d9e0534b0a2f2d%20%3D%20L.marker%28%0A%20%20%20%20%20%20%20%20%20%20%20%20%20%20%20%20%5B-0.8748263473540919%2C%2041.653508476745046%5D%2C%0A%20%20%20%20%20%20%20%20%20%20%20%20%20%20%20%20%7B%7D%0A%20%20%20%20%20%20%20%20%20%20%20%20%29.addTo%28map_34ae2d6126c3425a85faaea5aeee13ff%29%3B%0A%20%20%20%20%20%20%20%20%0A%20%20%20%20%0A%20%20%20%20%20%20%20%20var%20popup_3ace9c7eb94347fb8011cfe77430d445%20%3D%20L.popup%28%7B%22maxWidth%22%3A%20%22100%25%22%7D%29%3B%0A%0A%20%20%20%20%20%20%20%20%0A%20%20%20%20%20%20%20%20%20%20%20%20var%20html_26a5464468eb42428499a71ed17c07bd%20%3D%20%24%28%60%3Cdiv%20id%3D%22html_26a5464468eb42428499a71ed17c07bd%22%20style%3D%22width%3A%20100.0%25%3B%20height%3A%20100.0%25%3B%22%3ECOLISI%C3%93N%20ALCANCE%3C/div%3E%60%29%5B0%5D%3B%0A%20%20%20%20%20%20%20%20%20%20%20%20popup_3ace9c7eb94347fb8011cfe77430d445.setContent%28html_26a5464468eb42428499a71ed17c07bd%29%3B%0A%20%20%20%20%20%20%20%20%0A%0A%20%20%20%20%20%20%20%20marker_228f5950b887408884d9e0534b0a2f2d.bindPopup%28popup_3ace9c7eb94347fb8011cfe77430d445%29%0A%20%20%20%20%20%20%20%20%3B%0A%0A%20%20%20%20%20%20%20%20%0A%20%20%20%20%0A%20%20%20%20%0A%20%20%20%20%20%20%20%20%20%20%20%20var%20marker_701375f658544cca820d05955f2dbecd%20%3D%20L.marker%28%0A%20%20%20%20%20%20%20%20%20%20%20%20%20%20%20%20%5B-0.893364249304231%2C%2041.647798885967035%5D%2C%0A%20%20%20%20%20%20%20%20%20%20%20%20%20%20%20%20%7B%7D%0A%20%20%20%20%20%20%20%20%20%20%20%20%29.addTo%28map_34ae2d6126c3425a85faaea5aeee13ff%29%3B%0A%20%20%20%20%20%20%20%20%0A%20%20%20%20%0A%20%20%20%20%20%20%20%20var%20popup_42634b9e2e204ed7b1b78c9339e695f7%20%3D%20L.popup%28%7B%22maxWidth%22%3A%20%22100%25%22%7D%29%3B%0A%0A%20%20%20%20%20%20%20%20%0A%20%20%20%20%20%20%20%20%20%20%20%20var%20html_3602358949a64aa48048cf95a08bf08c%20%3D%20%24%28%60%3Cdiv%20id%3D%22html_3602358949a64aa48048cf95a08bf08c%22%20style%3D%22width%3A%20100.0%25%3B%20height%3A%20100.0%25%3B%22%3ECOLISI%C3%93N%20LATERAL%3C/div%3E%60%29%5B0%5D%3B%0A%20%20%20%20%20%20%20%20%20%20%20%20popup_42634b9e2e204ed7b1b78c9339e695f7.setContent%28html_3602358949a64aa48048cf95a08bf08c%29%3B%0A%20%20%20%20%20%20%20%20%0A%0A%20%20%20%20%20%20%20%20marker_701375f658544cca820d05955f2dbecd.bindPopup%28popup_42634b9e2e204ed7b1b78c9339e695f7%29%0A%20%20%20%20%20%20%20%20%3B%0A%0A%20%20%20%20%20%20%20%20%0A%20%20%20%20%0A%20%20%20%20%0A%20%20%20%20%20%20%20%20%20%20%20%20var%20marker_088aa874e40444009bb19a37f1dd5f9a%20%3D%20L.marker%28%0A%20%20%20%20%20%20%20%20%20%20%20%20%20%20%20%20%5B-0.8793428209752854%2C%2041.64963422246641%5D%2C%0A%20%20%20%20%20%20%20%20%20%20%20%20%20%20%20%20%7B%7D%0A%20%20%20%20%20%20%20%20%20%20%20%20%29.addTo%28map_34ae2d6126c3425a85faaea5aeee13ff%29%3B%0A%20%20%20%20%20%20%20%20%0A%20%20%20%20%0A%20%20%20%20%20%20%20%20var%20popup_2a67c1735eaf43708d08cf366a01ff1f%20%3D%20L.popup%28%7B%22maxWidth%22%3A%20%22100%25%22%7D%29%3B%0A%0A%20%20%20%20%20%20%20%20%0A%20%20%20%20%20%20%20%20%20%20%20%20var%20html_39554a0a98994996b2f0f847ba14fbd8%20%3D%20%24%28%60%3Cdiv%20id%3D%22html_39554a0a98994996b2f0f847ba14fbd8%22%20style%3D%22width%3A%20100.0%25%3B%20height%3A%20100.0%25%3B%22%3EATROPELLO%3C/div%3E%60%29%5B0%5D%3B%0A%20%20%20%20%20%20%20%20%20%20%20%20popup_2a67c1735eaf43708d08cf366a01ff1f.setContent%28html_39554a0a98994996b2f0f847ba14fbd8%29%3B%0A%20%20%20%20%20%20%20%20%0A%0A%20%20%20%20%20%20%20%20marker_088aa874e40444009bb19a37f1dd5f9a.bindPopup%28popup_2a67c1735eaf43708d08cf366a01ff1f%29%0A%20%20%20%20%20%20%20%20%3B%0A%0A%20%20%20%20%20%20%20%20%0A%20%20%20%20%0A%20%20%20%20%0A%20%20%20%20%20%20%20%20%20%20%20%20var%20marker_9d8f013e47c84e15bb1a1cb86612eb25%20%3D%20L.marker%28%0A%20%20%20%20%20%20%20%20%20%20%20%20%20%20%20%20%5B-0.8990662796872798%2C%2041.63977012001253%5D%2C%0A%20%20%20%20%20%20%20%20%20%20%20%20%20%20%20%20%7B%7D%0A%20%20%20%20%20%20%20%20%20%20%20%20%29.addTo%28map_34ae2d6126c3425a85faaea5aeee13ff%29%3B%0A%20%20%20%20%20%20%20%20%0A%20%20%20%20%0A%20%20%20%20%20%20%20%20var%20popup_d45c71b7d9594998a8bbba1ce693a0a2%20%3D%20L.popup%28%7B%22maxWidth%22%3A%20%22100%25%22%7D%29%3B%0A%0A%20%20%20%20%20%20%20%20%0A%20%20%20%20%20%20%20%20%20%20%20%20var%20html_e134712e0d024138a841efabccffbddd%20%3D%20%24%28%60%3Cdiv%20id%3D%22html_e134712e0d024138a841efabccffbddd%22%20style%3D%22width%3A%20100.0%25%3B%20height%3A%20100.0%25%3B%22%3EOTRAS%3C/div%3E%60%29%5B0%5D%3B%0A%20%20%20%20%20%20%20%20%20%20%20%20popup_d45c71b7d9594998a8bbba1ce693a0a2.setContent%28html_e134712e0d024138a841efabccffbddd%29%3B%0A%20%20%20%20%20%20%20%20%0A%0A%20%20%20%20%20%20%20%20marker_9d8f013e47c84e15bb1a1cb86612eb25.bindPopup%28popup_d45c71b7d9594998a8bbba1ce693a0a2%29%0A%20%20%20%20%20%20%20%20%3B%0A%0A%20%20%20%20%20%20%20%20%0A%20%20%20%20%0A%20%20%20%20%0A%20%20%20%20%20%20%20%20%20%20%20%20var%20marker_004c47d2eb8c4799bdaaa667434e5574%20%3D%20L.marker%28%0A%20%20%20%20%20%20%20%20%20%20%20%20%20%20%20%20%5B-0.9072756956226459%2C%2041.670910841846876%5D%2C%0A%20%20%20%20%20%20%20%20%20%20%20%20%20%20%20%20%7B%7D%0A%20%20%20%20%20%20%20%20%20%20%20%20%29.addTo%28map_34ae2d6126c3425a85faaea5aeee13ff%29%3B%0A%20%20%20%20%20%20%20%20%0A%20%20%20%20%0A%20%20%20%20%20%20%20%20var%20popup_b2150e3d080e4cb082871c7b00890d22%20%3D%20L.popup%28%7B%22maxWidth%22%3A%20%22100%25%22%7D%29%3B%0A%0A%20%20%20%20%20%20%20%20%0A%20%20%20%20%20%20%20%20%20%20%20%20var%20html_86ef131b6fa04db59648e68c71d75eac%20%3D%20%24%28%60%3Cdiv%20id%3D%22html_86ef131b6fa04db59648e68c71d75eac%22%20style%3D%22width%3A%20100.0%25%3B%20height%3A%20100.0%25%3B%22%3ECOLISI%C3%93N%20ALCANCE%3C/div%3E%60%29%5B0%5D%3B%0A%20%20%20%20%20%20%20%20%20%20%20%20popup_b2150e3d080e4cb082871c7b00890d22.setContent%28html_86ef131b6fa04db59648e68c71d75eac%29%3B%0A%20%20%20%20%20%20%20%20%0A%0A%20%20%20%20%20%20%20%20marker_004c47d2eb8c4799bdaaa667434e5574.bindPopup%28popup_b2150e3d080e4cb082871c7b00890d22%29%0A%20%20%20%20%20%20%20%20%3B%0A%0A%20%20%20%20%20%20%20%20%0A%20%20%20%20%0A%20%20%20%20%0A%20%20%20%20%20%20%20%20%20%20%20%20var%20marker_e8e4afdc09224b4f8f6b79e1fb43d8c2%20%3D%20L.marker%28%0A%20%20%20%20%20%20%20%20%20%20%20%20%20%20%20%20%5B-0.9226018969034585%2C%2041.62757051008441%5D%2C%0A%20%20%20%20%20%20%20%20%20%20%20%20%20%20%20%20%7B%7D%0A%20%20%20%20%20%20%20%20%20%20%20%20%29.addTo%28map_34ae2d6126c3425a85faaea5aeee13ff%29%3B%0A%20%20%20%20%20%20%20%20%0A%20%20%20%20%0A%20%20%20%20%20%20%20%20var%20popup_88b81a19b1ab44b0940096d994f44514%20%3D%20L.popup%28%7B%22maxWidth%22%3A%20%22100%25%22%7D%29%3B%0A%0A%20%20%20%20%20%20%20%20%0A%20%20%20%20%20%20%20%20%20%20%20%20var%20html_85fc9d7f6dad42518590a76b5344c835%20%3D%20%24%28%60%3Cdiv%20id%3D%22html_85fc9d7f6dad42518590a76b5344c835%22%20style%3D%22width%3A%20100.0%25%3B%20height%3A%20100.0%25%3B%22%3ESALIDA%20CALZADA%3C/div%3E%60%29%5B0%5D%3B%0A%20%20%20%20%20%20%20%20%20%20%20%20popup_88b81a19b1ab44b0940096d994f44514.setContent%28html_85fc9d7f6dad42518590a76b5344c835%29%3B%0A%20%20%20%20%20%20%20%20%0A%0A%20%20%20%20%20%20%20%20marker_e8e4afdc09224b4f8f6b79e1fb43d8c2.bindPopup%28popup_88b81a19b1ab44b0940096d994f44514%29%0A%20%20%20%20%20%20%20%20%3B%0A%0A%20%20%20%20%20%20%20%20%0A%20%20%20%20%0A%20%20%20%20%0A%20%20%20%20%20%20%20%20%20%20%20%20var%20marker_08ed392c2a56481091ef4b282946d895%20%3D%20L.marker%28%0A%20%20%20%20%20%20%20%20%20%20%20%20%20%20%20%20%5B-0.8735234620830842%2C%2041.65507219335992%5D%2C%0A%20%20%20%20%20%20%20%20%20%20%20%20%20%20%20%20%7B%7D%0A%20%20%20%20%20%20%20%20%20%20%20%20%29.addTo%28map_34ae2d6126c3425a85faaea5aeee13ff%29%3B%0A%20%20%20%20%20%20%20%20%0A%20%20%20%20%0A%20%20%20%20%20%20%20%20var%20popup_d4e4c9af7c3f495a9e705b52c302500b%20%3D%20L.popup%28%7B%22maxWidth%22%3A%20%22100%25%22%7D%29%3B%0A%0A%20%20%20%20%20%20%20%20%0A%20%20%20%20%20%20%20%20%20%20%20%20var%20html_7f5baa4a78af4697ba0c104f71ff98cf%20%3D%20%24%28%60%3Cdiv%20id%3D%22html_7f5baa4a78af4697ba0c104f71ff98cf%22%20style%3D%22width%3A%20100.0%25%3B%20height%3A%20100.0%25%3B%22%3ECOLIS%20FRONTOLATERAL%3C/div%3E%60%29%5B0%5D%3B%0A%20%20%20%20%20%20%20%20%20%20%20%20popup_d4e4c9af7c3f495a9e705b52c302500b.setContent%28html_7f5baa4a78af4697ba0c104f71ff98cf%29%3B%0A%20%20%20%20%20%20%20%20%0A%0A%20%20%20%20%20%20%20%20marker_08ed392c2a56481091ef4b282946d895.bindPopup%28popup_d4e4c9af7c3f495a9e705b52c302500b%29%0A%20%20%20%20%20%20%20%20%3B%0A%0A%20%20%20%20%20%20%20%20%0A%20%20%20%20%0A%20%20%20%20%0A%20%20%20%20%20%20%20%20%20%20%20%20var%20marker_ba260cc1e18b49998401442c49fe223b%20%3D%20L.marker%28%0A%20%20%20%20%20%20%20%20%20%20%20%20%20%20%20%20%5B-0.8869504077778204%2C%2041.65022964156985%5D%2C%0A%20%20%20%20%20%20%20%20%20%20%20%20%20%20%20%20%7B%7D%0A%20%20%20%20%20%20%20%20%20%20%20%20%29.addTo%28map_34ae2d6126c3425a85faaea5aeee13ff%29%3B%0A%20%20%20%20%20%20%20%20%0A%20%20%20%20%0A%20%20%20%20%20%20%20%20var%20popup_7bb796f0d5c64b19866a1822a6d06e6f%20%3D%20L.popup%28%7B%22maxWidth%22%3A%20%22100%25%22%7D%29%3B%0A%0A%20%20%20%20%20%20%20%20%0A%20%20%20%20%20%20%20%20%20%20%20%20var%20html_d4f8f725b0cb4bf8af707297aa0d242b%20%3D%20%24%28%60%3Cdiv%20id%3D%22html_d4f8f725b0cb4bf8af707297aa0d242b%22%20style%3D%22width%3A%20100.0%25%3B%20height%3A%20100.0%25%3B%22%3ESALIDA%20CALZADA%3C/div%3E%60%29%5B0%5D%3B%0A%20%20%20%20%20%20%20%20%20%20%20%20popup_7bb796f0d5c64b19866a1822a6d06e6f.setContent%28html_d4f8f725b0cb4bf8af707297aa0d242b%29%3B%0A%20%20%20%20%20%20%20%20%0A%0A%20%20%20%20%20%20%20%20marker_ba260cc1e18b49998401442c49fe223b.bindPopup%28popup_7bb796f0d5c64b19866a1822a6d06e6f%29%0A%20%20%20%20%20%20%20%20%3B%0A%0A%20%20%20%20%20%20%20%20%0A%20%20%20%20%0A%3C/script%3E onload=\"this.contentDocument.open();this.contentDocument.write(    decodeURIComponent(this.getAttribute('data-html')));this.contentDocument.close();\" allowfullscreen webkitallowfullscreen mozallowfullscreen></iframe></div></div>"
      ],
      "text/plain": [
       "<folium.folium.Map at 0x2ce96e7e370>"
      ]
     },
     "execution_count": 117,
     "metadata": {},
     "output_type": "execute_result"
    }
   ],
   "source": [
    "for indice, fila in df_accidentes.iterrows():\n",
    "    marcador = folium.Marker([fila['lat'], fila['long']],\\\n",
    "                            popup=fila['type'])\n",
    "    mapa.add_child(marcador)\n",
    "mapa"
   ]
  }
 ],
 "metadata": {
  "kernelspec": {
   "display_name": "Python 3 (ipykernel)",
   "language": "python",
   "name": "python3"
  },
  "language_info": {
   "codemirror_mode": {
    "name": "ipython",
    "version": 3
   },
   "file_extension": ".py",
   "mimetype": "text/x-python",
   "name": "python",
   "nbconvert_exporter": "python",
   "pygments_lexer": "ipython3",
   "version": "3.9.7"
  }
 },
 "nbformat": 4,
 "nbformat_minor": 5
}
