{
 "cells": [
  {
   "cell_type": "markdown",
   "id": "41e96ad3",
   "metadata": {},
   "source": [
    "# Práctica de Web Scraping"
   ]
  },
  {
   "cell_type": "markdown",
   "id": "c099164e",
   "metadata": {},
   "source": [
    "### Importar librerías"
   ]
  },
  {
   "cell_type": "markdown",
   "id": "daec7825",
   "metadata": {},
   "source": [
    "Ahora importo la librería [requests](https://docs.python-requests.org/en/latest/)"
   ]
  },
  {
   "cell_type": "code",
   "execution_count": 3,
   "id": "2abe747a",
   "metadata": {},
   "outputs": [],
   "source": [
    "import requests"
   ]
  },
  {
   "cell_type": "markdown",
   "id": "6eaf397e",
   "metadata": {},
   "source": [
    "Voy a importar de la libreria [bs4](https://www.crummy.com/software/BeautifulSoup/bs4/doc/) `BeautifulSoup`"
   ]
  },
  {
   "cell_type": "code",
   "execution_count": null,
   "id": "bba1345a",
   "metadata": {},
   "outputs": [],
   "source": [
    "from bs4 import BeautifulSoup"
   ]
  },
  {
   "cell_type": "markdown",
   "id": "350e775b",
   "metadata": {},
   "source": [
    "### Variables"
   ]
  },
  {
   "cell_type": "markdown",
   "id": "a2ec512d",
   "metadata": {},
   "source": [
    "Explicación de variables"
   ]
  },
  {
   "cell_type": "markdown",
   "id": "78c80af5",
   "metadata": {},
   "source": [
    "### Definimos URL"
   ]
  },
  {
   "cell_type": "markdown",
   "id": "d100db63",
   "metadata": {},
   "source": [
    "URL = \"https://resultados.elpais.com/deportivos/juegos-olimpicos/medallero/\""
   ]
  },
  {
   "cell_type": "markdown",
   "id": "947e5c21",
   "metadata": {},
   "source": [
    "### Realizamos la petición a la web"
   ]
  },
  {
   "cell_type": "code",
   "execution_count": null,
   "id": "93506d6d",
   "metadata": {},
   "outputs": [],
   "source": [
    "Si el estatus code no es `200` no se puede leer la página"
   ]
  },
  {
   "cell_type": "code",
   "execution_count": null,
   "id": "4cd73c22",
   "metadata": {},
   "outputs": [],
   "source": [
    "req = requests.get(URL)\n",
    "if (req.status_code != 200):\n",
    "    raise Exception(\"No se puede hacer Web Scraping en\"+ URL)"
   ]
  },
  {
   "cell_type": "markdown",
   "id": "94c7924a",
   "metadata": {},
   "source": [
    "### De requests a Beautiful Soupe"
   ]
  },
  {
   "cell_type": "markdown",
   "id": "232fb1a8",
   "metadata": {},
   "source": [
    "Pasamos el contenido HTML de la web a un objeto `BeautifulSoup()`"
   ]
  },
  {
   "cell_type": "code",
   "execution_count": null,
   "id": "1ae61805",
   "metadata": {},
   "outputs": [],
   "source": [
    " html = BeautifulSoup(req.text, \"html.parser\")"
   ]
  },
  {
   "cell_type": "markdown",
   "id": "05949cf2",
   "metadata": {},
   "source": [
    "### Variables de datos"
   ]
  },
  {
   "cell_type": "markdown",
   "id": "3a4e89d2",
   "metadata": {},
   "source": [
    "Definimos las variables `paises`, `oros`, etc y las identificamos con la función `find_all ()`"
   ]
  },
  {
   "cell_type": "code",
   "execution_count": null,
   "id": "f9d9b43b",
   "metadata": {},
   "outputs": [],
   "source": [
    "  paises = html.find_all(\"th\",{\"class\":\"pais\"})\n",
    "  oros = html.find_all(\"td\",{\"class\":\"m_oro\"})\n",
    "  platas = html.find_all(\"td\",{\"class\":\"m_plata\"})\n",
    "  bronces = html.find_all(\"td\",{\"class\":\"m_bronce\"})\n",
    "  totales = html.find_all(\"td\",{\"class\":\"m_total\"})"
   ]
  },
  {
   "cell_type": "markdown",
   "id": "18ed000a",
   "metadata": {},
   "source": [
    "### Hacemos la pregunta"
   ]
  },
  {
   "cell_type": "code",
   "execution_count": null,
   "id": "5c0cd134",
   "metadata": {},
   "outputs": [],
   "source": [
    "respuesta=input('¿QUIERES CONOCER LOS 20 PAÍSES QUE HAN OBTENIDO MÁS MEDALLAS EN 2020?\\n \\n Si tu respuesta es Sí, presiona \"s\" \\n')\n",
    "if(respuesta == 's'): \n",
    "    print('Vale, vamos a ello')"
   ]
  },
  {
   "cell_type": "markdown",
   "id": "ddd2e0d4",
   "metadata": {},
   "source": [
    "### Bucle para todos"
   ]
  },
  {
   "cell_type": "code",
   "execution_count": null,
   "id": "0bb95d42",
   "metadata": {},
   "outputs": [],
   "source": [
    "    print('\\nRESULTADOS DE LOS DATOS DE LOS JUEGOS OLÍMPICOS 2020\\n')\n",
    "        print ('PAÍSES')\n",
    "    # Obtenemos todos los divs donde están las entradas\n",
    "    for i in range (20):\n",
    "        # Con el método \"getText()\" no nos devuelve el HTML\n",
    "        print(\"%d. %s \\nOro: %s Plata: %s Bronce: %s \\n Total: %s \\n \" % (i+1, paises[i+1].text.strip(),oros[i].text.strip(),platas[i].text.strip(),bronces[i].text.strip(), totales[i].text.strip()))\n",
    "\n",
    "else:\n",
    "    print('Qué lástima, y...')"
   ]
  },
  {
   "cell_type": "code",
   "execution_count": null,
   "id": "17c843ca",
   "metadata": {},
   "outputs": [],
   "source": [
    "respuesta=input('¿QUIERES CONOCER LOS 20 PAÍSES QUE HAN OBTENIDO MÁS MEDALLAS EN 2020?\\n \\n Si tu respuesta es Sí, presiona \"s\" \\n')\n",
    "if(respuesta == 's'): \n",
    "  print('\\nRESULTADOS DE LOS DATOS DE LOS JUEGOS OLÍMPICOS 2020\\n')\n",
    "  print ('PAÍSES')\n",
    "  URL = \"https://resultados.elpais.com/deportivos/juegos-olimpicos/medallero/\"\n",
    "  # Realizamos la petición a la web\n",
    "  req = requests.get(URL)\n",
    "  # Si el estatus code no es 200 no se puede leer la página\n",
    "  if (req.status_code != 200):\n",
    "    raise Exception(\"No se puede hacer Web Scraping en\"+ URL)\n",
    "  # Pasamos el contenido HTML de la web a un objeto BeautifulSoup()\n",
    "  html = BeautifulSoup(req.text, \"html.parser\")\n",
    "  # Obtenemos todos los divs donde están las entradas\n",
    "  paises = html.find_all(\"th\",{\"class\":\"pais\"})\n",
    "  oros = html.find_all(\"td\",{\"class\":\"m_oro\"})\n",
    "  platas = html.find_all(\"td\",{\"class\":\"m_plata\"})\n",
    "  bronces = html.find_all(\"td\",{\"class\":\"m_bronce\"})\n",
    "  totales = html.find_all(\"td\",{\"class\":\"m_total\"})\n",
    "  for i in range (20):\n",
    "    # Con el método \"getText()\" no nos devuelve el HTML\n",
    "    print(\"%d. %s \\nOro: %s Plata: %s Bronce: %s \\n Total: %s \\n \" % (i+1, paises[i+1].text.strip(),oros[i].text.strip(),platas[i].text.strip(),bronces[i].text.strip(), totales[i].text.strip()))\n",
    "\n",
    "else:\n",
    "  print('Qué lástima, y...')"
   ]
  },
  {
   "cell_type": "code",
   "execution_count": null,
   "id": "9b82ef2e",
   "metadata": {},
   "outputs": [],
   "source": []
  },
  {
   "cell_type": "code",
   "execution_count": null,
   "id": "1d648ebe",
   "metadata": {},
   "outputs": [],
   "source": []
  },
  {
   "cell_type": "code",
   "execution_count": null,
   "id": "f7a21e7e",
   "metadata": {},
   "outputs": [],
   "source": []
  }
 ],
 "metadata": {
  "kernelspec": {
   "display_name": "Python 3 (ipykernel)",
   "language": "python",
   "name": "python3"
  },
  "language_info": {
   "codemirror_mode": {
    "name": "ipython",
    "version": 3
   },
   "file_extension": ".py",
   "mimetype": "text/x-python",
   "name": "python",
   "nbconvert_exporter": "python",
   "pygments_lexer": "ipython3",
   "version": "3.9.7"
  }
 },
 "nbformat": 4,
 "nbformat_minor": 5
}
