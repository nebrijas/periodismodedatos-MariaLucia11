{
 "cells": [
  {
   "cell_type": "markdown",
   "id": "2f567c0a",
   "metadata": {},
   "source": [
    "# Uso de API de Covid19 con Pandas"
   ]
  },
  {
   "cell_type": "markdown",
   "id": "10d0af04",
   "metadata": {},
   "source": [
    "Vamos a trabajar con esta API y con una librería pandas\n",
    "- https://covid19api.com/\n",
    "- https://api.covid19api.com/"
   ]
  },
  {
   "cell_type": "markdown",
   "id": "33bb7976",
   "metadata": {},
   "source": [
    "# Instalación Pandas"
   ]
  },
  {
   "cell_type": "code",
   "execution_count": 1,
   "id": "0c6c12f9",
   "metadata": {},
   "outputs": [
    {
     "name": "stdout",
     "output_type": "stream",
     "text": [
      "Requirement already satisfied: pandas in c:\\users\\mlucy\\anaconda3\\lib\\site-packages (1.3.4)\n",
      "Requirement already satisfied: pytz>=2017.3 in c:\\users\\mlucy\\anaconda3\\lib\\site-packages (from pandas) (2021.3)\n",
      "Requirement already satisfied: numpy>=1.17.3 in c:\\users\\mlucy\\anaconda3\\lib\\site-packages (from pandas) (1.20.3)\n",
      "Requirement already satisfied: python-dateutil>=2.7.3 in c:\\users\\mlucy\\anaconda3\\lib\\site-packages (from pandas) (2.8.2)\n",
      "Requirement already satisfied: six>=1.5 in c:\\users\\mlucy\\anaconda3\\lib\\site-packages (from python-dateutil>=2.7.3->pandas) (1.16.0)\n"
     ]
    }
   ],
   "source": [
    "!pip install pandas"
   ]
  },
  {
   "cell_type": "markdown",
   "id": "a6718093",
   "metadata": {},
   "source": [
    "## Configuración "
   ]
  },
  {
   "cell_type": "code",
   "execution_count": 2,
   "id": "85e1987c",
   "metadata": {},
   "outputs": [],
   "source": [
    "import pandas as pd"
   ]
  },
  {
   "cell_type": "markdown",
   "id": "bf9c6901",
   "metadata": {},
   "source": [
    "# Variables"
   ]
  },
  {
   "cell_type": "code",
   "execution_count": 4,
   "id": "59cf4147",
   "metadata": {},
   "outputs": [],
   "source": [
    "url ='https://api.covid19api.com/countries'"
   ]
  },
  {
   "cell_type": "code",
   "execution_count": 5,
   "id": "509a3e58",
   "metadata": {},
   "outputs": [
    {
     "data": {
      "text/plain": [
       "'https://api.covid19api.com/countries'"
      ]
     },
     "execution_count": 5,
     "metadata": {},
     "output_type": "execute_result"
    }
   ],
   "source": [
    "url"
   ]
  },
  {
   "cell_type": "markdown",
   "id": "a7010321",
   "metadata": {},
   "source": [
    "## Creación de *Dataframe*\n",
    "Utilizamos función `read_json` de *Pandas* para leer los datos en *JSON* de la *API*:"
   ]
  },
  {
   "cell_type": "code",
   "execution_count": 6,
   "id": "750caccb",
   "metadata": {},
   "outputs": [],
   "source": [
    "df = pd.read_json(url)"
   ]
  },
  {
   "cell_type": "code",
   "execution_count": 7,
   "id": "61660497",
   "metadata": {},
   "outputs": [
    {
     "data": {
      "text/html": [
       "<div>\n",
       "<style scoped>\n",
       "    .dataframe tbody tr th:only-of-type {\n",
       "        vertical-align: middle;\n",
       "    }\n",
       "\n",
       "    .dataframe tbody tr th {\n",
       "        vertical-align: top;\n",
       "    }\n",
       "\n",
       "    .dataframe thead th {\n",
       "        text-align: right;\n",
       "    }\n",
       "</style>\n",
       "<table border=\"1\" class=\"dataframe\">\n",
       "  <thead>\n",
       "    <tr style=\"text-align: right;\">\n",
       "      <th></th>\n",
       "      <th>Country</th>\n",
       "      <th>Slug</th>\n",
       "      <th>ISO2</th>\n",
       "    </tr>\n",
       "  </thead>\n",
       "  <tbody>\n",
       "    <tr>\n",
       "      <th>0</th>\n",
       "      <td>Republic of Kosovo</td>\n",
       "      <td>kosovo</td>\n",
       "      <td>XK</td>\n",
       "    </tr>\n",
       "    <tr>\n",
       "      <th>1</th>\n",
       "      <td>Botswana</td>\n",
       "      <td>botswana</td>\n",
       "      <td>BW</td>\n",
       "    </tr>\n",
       "    <tr>\n",
       "      <th>2</th>\n",
       "      <td>Central African Republic</td>\n",
       "      <td>central-african-republic</td>\n",
       "      <td>CF</td>\n",
       "    </tr>\n",
       "    <tr>\n",
       "      <th>3</th>\n",
       "      <td>Hungary</td>\n",
       "      <td>hungary</td>\n",
       "      <td>HU</td>\n",
       "    </tr>\n",
       "    <tr>\n",
       "      <th>4</th>\n",
       "      <td>Peru</td>\n",
       "      <td>peru</td>\n",
       "      <td>PE</td>\n",
       "    </tr>\n",
       "    <tr>\n",
       "      <th>...</th>\n",
       "      <td>...</td>\n",
       "      <td>...</td>\n",
       "      <td>...</td>\n",
       "    </tr>\n",
       "    <tr>\n",
       "      <th>243</th>\n",
       "      <td>Malta</td>\n",
       "      <td>malta</td>\n",
       "      <td>MT</td>\n",
       "    </tr>\n",
       "    <tr>\n",
       "      <th>244</th>\n",
       "      <td>San Marino</td>\n",
       "      <td>san-marino</td>\n",
       "      <td>SM</td>\n",
       "    </tr>\n",
       "    <tr>\n",
       "      <th>245</th>\n",
       "      <td>Gibraltar</td>\n",
       "      <td>gibraltar</td>\n",
       "      <td>GI</td>\n",
       "    </tr>\n",
       "    <tr>\n",
       "      <th>246</th>\n",
       "      <td>Uganda</td>\n",
       "      <td>uganda</td>\n",
       "      <td>UG</td>\n",
       "    </tr>\n",
       "    <tr>\n",
       "      <th>247</th>\n",
       "      <td>Vanuatu</td>\n",
       "      <td>vanuatu</td>\n",
       "      <td>VU</td>\n",
       "    </tr>\n",
       "  </tbody>\n",
       "</table>\n",
       "<p>248 rows × 3 columns</p>\n",
       "</div>"
      ],
      "text/plain": [
       "                      Country                      Slug ISO2\n",
       "0          Republic of Kosovo                    kosovo   XK\n",
       "1                    Botswana                  botswana   BW\n",
       "2    Central African Republic  central-african-republic   CF\n",
       "3                     Hungary                   hungary   HU\n",
       "4                        Peru                      peru   PE\n",
       "..                        ...                       ...  ...\n",
       "243                     Malta                     malta   MT\n",
       "244                San Marino                san-marino   SM\n",
       "245                 Gibraltar                 gibraltar   GI\n",
       "246                    Uganda                    uganda   UG\n",
       "247                   Vanuatu                   vanuatu   VU\n",
       "\n",
       "[248 rows x 3 columns]"
      ]
     },
     "execution_count": 7,
     "metadata": {},
     "output_type": "execute_result"
    }
   ],
   "source": [
    "df"
   ]
  },
  {
   "cell_type": "markdown",
   "id": "1c9bc4b5",
   "metadata": {},
   "source": [
    "## Explorar tabla\n",
    "- Cabecera\n",
    "- Cola\n",
    "- Info"
   ]
  },
  {
   "cell_type": "code",
   "execution_count": 12,
   "id": "7ec19182",
   "metadata": {},
   "outputs": [
    {
     "data": {
      "text/html": [
       "<div>\n",
       "<style scoped>\n",
       "    .dataframe tbody tr th:only-of-type {\n",
       "        vertical-align: middle;\n",
       "    }\n",
       "\n",
       "    .dataframe tbody tr th {\n",
       "        vertical-align: top;\n",
       "    }\n",
       "\n",
       "    .dataframe thead th {\n",
       "        text-align: right;\n",
       "    }\n",
       "</style>\n",
       "<table border=\"1\" class=\"dataframe\">\n",
       "  <thead>\n",
       "    <tr style=\"text-align: right;\">\n",
       "      <th></th>\n",
       "      <th>Country</th>\n",
       "      <th>Slug</th>\n",
       "      <th>ISO2</th>\n",
       "    </tr>\n",
       "  </thead>\n",
       "  <tbody>\n",
       "    <tr>\n",
       "      <th>0</th>\n",
       "      <td>Republic of Kosovo</td>\n",
       "      <td>kosovo</td>\n",
       "      <td>XK</td>\n",
       "    </tr>\n",
       "    <tr>\n",
       "      <th>1</th>\n",
       "      <td>Botswana</td>\n",
       "      <td>botswana</td>\n",
       "      <td>BW</td>\n",
       "    </tr>\n",
       "    <tr>\n",
       "      <th>2</th>\n",
       "      <td>Central African Republic</td>\n",
       "      <td>central-african-republic</td>\n",
       "      <td>CF</td>\n",
       "    </tr>\n",
       "    <tr>\n",
       "      <th>3</th>\n",
       "      <td>Hungary</td>\n",
       "      <td>hungary</td>\n",
       "      <td>HU</td>\n",
       "    </tr>\n",
       "    <tr>\n",
       "      <th>4</th>\n",
       "      <td>Peru</td>\n",
       "      <td>peru</td>\n",
       "      <td>PE</td>\n",
       "    </tr>\n",
       "  </tbody>\n",
       "</table>\n",
       "</div>"
      ],
      "text/plain": [
       "                    Country                      Slug ISO2\n",
       "0        Republic of Kosovo                    kosovo   XK\n",
       "1                  Botswana                  botswana   BW\n",
       "2  Central African Republic  central-african-republic   CF\n",
       "3                   Hungary                   hungary   HU\n",
       "4                      Peru                      peru   PE"
      ]
     },
     "execution_count": 12,
     "metadata": {},
     "output_type": "execute_result"
    }
   ],
   "source": [
    "df.head()"
   ]
  },
  {
   "cell_type": "code",
   "execution_count": 11,
   "id": "4d43cedd",
   "metadata": {
    "scrolled": false
   },
   "outputs": [
    {
     "data": {
      "text/html": [
       "<div>\n",
       "<style scoped>\n",
       "    .dataframe tbody tr th:only-of-type {\n",
       "        vertical-align: middle;\n",
       "    }\n",
       "\n",
       "    .dataframe tbody tr th {\n",
       "        vertical-align: top;\n",
       "    }\n",
       "\n",
       "    .dataframe thead th {\n",
       "        text-align: right;\n",
       "    }\n",
       "</style>\n",
       "<table border=\"1\" class=\"dataframe\">\n",
       "  <thead>\n",
       "    <tr style=\"text-align: right;\">\n",
       "      <th></th>\n",
       "      <th>Country</th>\n",
       "      <th>Slug</th>\n",
       "      <th>ISO2</th>\n",
       "    </tr>\n",
       "  </thead>\n",
       "  <tbody>\n",
       "    <tr>\n",
       "      <th>243</th>\n",
       "      <td>Malta</td>\n",
       "      <td>malta</td>\n",
       "      <td>MT</td>\n",
       "    </tr>\n",
       "    <tr>\n",
       "      <th>244</th>\n",
       "      <td>San Marino</td>\n",
       "      <td>san-marino</td>\n",
       "      <td>SM</td>\n",
       "    </tr>\n",
       "    <tr>\n",
       "      <th>245</th>\n",
       "      <td>Gibraltar</td>\n",
       "      <td>gibraltar</td>\n",
       "      <td>GI</td>\n",
       "    </tr>\n",
       "    <tr>\n",
       "      <th>246</th>\n",
       "      <td>Uganda</td>\n",
       "      <td>uganda</td>\n",
       "      <td>UG</td>\n",
       "    </tr>\n",
       "    <tr>\n",
       "      <th>247</th>\n",
       "      <td>Vanuatu</td>\n",
       "      <td>vanuatu</td>\n",
       "      <td>VU</td>\n",
       "    </tr>\n",
       "  </tbody>\n",
       "</table>\n",
       "</div>"
      ],
      "text/plain": [
       "        Country        Slug ISO2\n",
       "243       Malta       malta   MT\n",
       "244  San Marino  san-marino   SM\n",
       "245   Gibraltar   gibraltar   GI\n",
       "246      Uganda      uganda   UG\n",
       "247     Vanuatu     vanuatu   VU"
      ]
     },
     "execution_count": 11,
     "metadata": {},
     "output_type": "execute_result"
    }
   ],
   "source": [
    "df.tail()"
   ]
  },
  {
   "cell_type": "code",
   "execution_count": 14,
   "id": "1d93dc75",
   "metadata": {
    "scrolled": true
   },
   "outputs": [
    {
     "name": "stdout",
     "output_type": "stream",
     "text": [
      "<class 'pandas.core.frame.DataFrame'>\n",
      "RangeIndex: 248 entries, 0 to 247\n",
      "Data columns (total 3 columns):\n",
      " #   Column   Non-Null Count  Dtype \n",
      "---  ------   --------------  ----- \n",
      " 0   Country  248 non-null    object\n",
      " 1   Slug     248 non-null    object\n",
      " 2   ISO2     248 non-null    object\n",
      "dtypes: object(3)\n",
      "memory usage: 5.9+ KB\n"
     ]
    }
   ],
   "source": [
    "df.info()"
   ]
  },
  {
   "cell_type": "markdown",
   "id": "f465b841",
   "metadata": {},
   "source": [
    "## Acceso de datos"
   ]
  },
  {
   "cell_type": "code",
   "execution_count": 15,
   "id": "7ed750ec",
   "metadata": {},
   "outputs": [
    {
     "data": {
      "text/plain": [
       "0            Republic of Kosovo\n",
       "1                      Botswana\n",
       "2      Central African Republic\n",
       "3                       Hungary\n",
       "4                          Peru\n",
       "                 ...           \n",
       "243                       Malta\n",
       "244                  San Marino\n",
       "245                   Gibraltar\n",
       "246                      Uganda\n",
       "247                     Vanuatu\n",
       "Name: Country, Length: 248, dtype: object"
      ]
     },
     "execution_count": 15,
     "metadata": {},
     "output_type": "execute_result"
    }
   ],
   "source": [
    "df['Country']"
   ]
  },
  {
   "cell_type": "code",
   "execution_count": 16,
   "id": "8ee52ae9",
   "metadata": {},
   "outputs": [
    {
     "data": {
      "text/plain": [
       "'Angola'"
      ]
     },
     "execution_count": 16,
     "metadata": {},
     "output_type": "execute_result"
    }
   ],
   "source": [
    "df['Country'][200]"
   ]
  },
  {
   "cell_type": "markdown",
   "id": "f6a942ff",
   "metadata": {},
   "source": [
    "## Tiempo real"
   ]
  },
  {
   "cell_type": "code",
   "execution_count": 20,
   "id": "8bf7b21c",
   "metadata": {},
   "outputs": [
    {
     "data": {
      "text/html": [
       "<div>\n",
       "<style scoped>\n",
       "    .dataframe tbody tr th:only-of-type {\n",
       "        vertical-align: middle;\n",
       "    }\n",
       "\n",
       "    .dataframe tbody tr th {\n",
       "        vertical-align: top;\n",
       "    }\n",
       "\n",
       "    .dataframe thead th {\n",
       "        text-align: right;\n",
       "    }\n",
       "</style>\n",
       "<table border=\"1\" class=\"dataframe\">\n",
       "  <thead>\n",
       "    <tr style=\"text-align: right;\">\n",
       "      <th></th>\n",
       "      <th>Country</th>\n",
       "      <th>CountryCode</th>\n",
       "      <th>Province</th>\n",
       "      <th>City</th>\n",
       "      <th>CityCode</th>\n",
       "      <th>Lat</th>\n",
       "      <th>Lon</th>\n",
       "      <th>Cases</th>\n",
       "      <th>Status</th>\n",
       "      <th>Date</th>\n",
       "    </tr>\n",
       "  </thead>\n",
       "  <tbody>\n",
       "    <tr>\n",
       "      <th>0</th>\n",
       "      <td>Spain</td>\n",
       "      <td>ES</td>\n",
       "      <td></td>\n",
       "      <td></td>\n",
       "      <td></td>\n",
       "      <td>40.46</td>\n",
       "      <td>-3.75</td>\n",
       "      <td>0</td>\n",
       "      <td>confirmed</td>\n",
       "      <td>2020-01-22 00:00:00+00:00</td>\n",
       "    </tr>\n",
       "    <tr>\n",
       "      <th>1</th>\n",
       "      <td>Spain</td>\n",
       "      <td>ES</td>\n",
       "      <td></td>\n",
       "      <td></td>\n",
       "      <td></td>\n",
       "      <td>40.46</td>\n",
       "      <td>-3.75</td>\n",
       "      <td>0</td>\n",
       "      <td>confirmed</td>\n",
       "      <td>2020-01-23 00:00:00+00:00</td>\n",
       "    </tr>\n",
       "    <tr>\n",
       "      <th>2</th>\n",
       "      <td>Spain</td>\n",
       "      <td>ES</td>\n",
       "      <td></td>\n",
       "      <td></td>\n",
       "      <td></td>\n",
       "      <td>40.46</td>\n",
       "      <td>-3.75</td>\n",
       "      <td>0</td>\n",
       "      <td>confirmed</td>\n",
       "      <td>2020-01-24 00:00:00+00:00</td>\n",
       "    </tr>\n",
       "    <tr>\n",
       "      <th>3</th>\n",
       "      <td>Spain</td>\n",
       "      <td>ES</td>\n",
       "      <td></td>\n",
       "      <td></td>\n",
       "      <td></td>\n",
       "      <td>40.46</td>\n",
       "      <td>-3.75</td>\n",
       "      <td>0</td>\n",
       "      <td>confirmed</td>\n",
       "      <td>2020-01-25 00:00:00+00:00</td>\n",
       "    </tr>\n",
       "    <tr>\n",
       "      <th>4</th>\n",
       "      <td>Spain</td>\n",
       "      <td>ES</td>\n",
       "      <td></td>\n",
       "      <td></td>\n",
       "      <td></td>\n",
       "      <td>40.46</td>\n",
       "      <td>-3.75</td>\n",
       "      <td>0</td>\n",
       "      <td>confirmed</td>\n",
       "      <td>2020-01-26 00:00:00+00:00</td>\n",
       "    </tr>\n",
       "    <tr>\n",
       "      <th>...</th>\n",
       "      <td>...</td>\n",
       "      <td>...</td>\n",
       "      <td>...</td>\n",
       "      <td>...</td>\n",
       "      <td>...</td>\n",
       "      <td>...</td>\n",
       "      <td>...</td>\n",
       "      <td>...</td>\n",
       "      <td>...</td>\n",
       "      <td>...</td>\n",
       "    </tr>\n",
       "    <tr>\n",
       "      <th>794</th>\n",
       "      <td>Spain</td>\n",
       "      <td>ES</td>\n",
       "      <td></td>\n",
       "      <td></td>\n",
       "      <td></td>\n",
       "      <td>40.46</td>\n",
       "      <td>-3.75</td>\n",
       "      <td>11451676</td>\n",
       "      <td>confirmed</td>\n",
       "      <td>2022-03-26 00:00:00+00:00</td>\n",
       "    </tr>\n",
       "    <tr>\n",
       "      <th>795</th>\n",
       "      <td>Spain</td>\n",
       "      <td>ES</td>\n",
       "      <td></td>\n",
       "      <td></td>\n",
       "      <td></td>\n",
       "      <td>40.46</td>\n",
       "      <td>-3.75</td>\n",
       "      <td>11451676</td>\n",
       "      <td>confirmed</td>\n",
       "      <td>2022-03-27 00:00:00+00:00</td>\n",
       "    </tr>\n",
       "    <tr>\n",
       "      <th>796</th>\n",
       "      <td>Spain</td>\n",
       "      <td>ES</td>\n",
       "      <td></td>\n",
       "      <td></td>\n",
       "      <td></td>\n",
       "      <td>40.46</td>\n",
       "      <td>-3.75</td>\n",
       "      <td>11451676</td>\n",
       "      <td>confirmed</td>\n",
       "      <td>2022-03-28 00:00:00+00:00</td>\n",
       "    </tr>\n",
       "    <tr>\n",
       "      <th>797</th>\n",
       "      <td>Spain</td>\n",
       "      <td>ES</td>\n",
       "      <td></td>\n",
       "      <td></td>\n",
       "      <td></td>\n",
       "      <td>40.46</td>\n",
       "      <td>-3.75</td>\n",
       "      <td>11508309</td>\n",
       "      <td>confirmed</td>\n",
       "      <td>2022-03-29 00:00:00+00:00</td>\n",
       "    </tr>\n",
       "    <tr>\n",
       "      <th>798</th>\n",
       "      <td>Spain</td>\n",
       "      <td>ES</td>\n",
       "      <td></td>\n",
       "      <td></td>\n",
       "      <td></td>\n",
       "      <td>40.46</td>\n",
       "      <td>-3.75</td>\n",
       "      <td>11508309</td>\n",
       "      <td>confirmed</td>\n",
       "      <td>2022-03-30 00:00:00+00:00</td>\n",
       "    </tr>\n",
       "  </tbody>\n",
       "</table>\n",
       "<p>799 rows × 10 columns</p>\n",
       "</div>"
      ],
      "text/plain": [
       "    Country CountryCode Province City CityCode    Lat   Lon     Cases  \\\n",
       "0     Spain          ES                         40.46 -3.75         0   \n",
       "1     Spain          ES                         40.46 -3.75         0   \n",
       "2     Spain          ES                         40.46 -3.75         0   \n",
       "3     Spain          ES                         40.46 -3.75         0   \n",
       "4     Spain          ES                         40.46 -3.75         0   \n",
       "..      ...         ...      ...  ...      ...    ...   ...       ...   \n",
       "794   Spain          ES                         40.46 -3.75  11451676   \n",
       "795   Spain          ES                         40.46 -3.75  11451676   \n",
       "796   Spain          ES                         40.46 -3.75  11451676   \n",
       "797   Spain          ES                         40.46 -3.75  11508309   \n",
       "798   Spain          ES                         40.46 -3.75  11508309   \n",
       "\n",
       "        Status                      Date  \n",
       "0    confirmed 2020-01-22 00:00:00+00:00  \n",
       "1    confirmed 2020-01-23 00:00:00+00:00  \n",
       "2    confirmed 2020-01-24 00:00:00+00:00  \n",
       "3    confirmed 2020-01-25 00:00:00+00:00  \n",
       "4    confirmed 2020-01-26 00:00:00+00:00  \n",
       "..         ...                       ...  \n",
       "794  confirmed 2022-03-26 00:00:00+00:00  \n",
       "795  confirmed 2022-03-27 00:00:00+00:00  \n",
       "796  confirmed 2022-03-28 00:00:00+00:00  \n",
       "797  confirmed 2022-03-29 00:00:00+00:00  \n",
       "798  confirmed 2022-03-30 00:00:00+00:00  \n",
       "\n",
       "[799 rows x 10 columns]"
      ]
     },
     "execution_count": 20,
     "metadata": {},
     "output_type": "execute_result"
    }
   ],
   "source": [
    "url_live = 'https://api.covid19api.com/country/spain/status/confirmed/live'\n",
    "df_es = pd.read_json(url_live)\n",
    "df_es"
   ]
  },
  {
   "cell_type": "code",
   "execution_count": 22,
   "id": "d53b613a",
   "metadata": {},
   "outputs": [
    {
     "name": "stdout",
     "output_type": "stream",
     "text": [
      "<class 'pandas.core.frame.DataFrame'>\n",
      "RangeIndex: 799 entries, 0 to 798\n",
      "Data columns (total 10 columns):\n",
      " #   Column       Non-Null Count  Dtype              \n",
      "---  ------       --------------  -----              \n",
      " 0   Country      799 non-null    object             \n",
      " 1   CountryCode  799 non-null    object             \n",
      " 2   Province     799 non-null    object             \n",
      " 3   City         799 non-null    object             \n",
      " 4   CityCode     799 non-null    object             \n",
      " 5   Lat          799 non-null    float64            \n",
      " 6   Lon          799 non-null    float64            \n",
      " 7   Cases        799 non-null    int64              \n",
      " 8   Status       799 non-null    object             \n",
      " 9   Date         799 non-null    datetime64[ns, UTC]\n",
      "dtypes: datetime64[ns, UTC](1), float64(2), int64(1), object(6)\n",
      "memory usage: 62.5+ KB\n"
     ]
    }
   ],
   "source": [
    "df_es.info()"
   ]
  },
  {
   "cell_type": "code",
   "execution_count": 35,
   "id": "6ddf4d5c",
   "metadata": {},
   "outputs": [
    {
     "data": {
      "text/html": [
       "<div>\n",
       "<style scoped>\n",
       "    .dataframe tbody tr th:only-of-type {\n",
       "        vertical-align: middle;\n",
       "    }\n",
       "\n",
       "    .dataframe tbody tr th {\n",
       "        vertical-align: top;\n",
       "    }\n",
       "\n",
       "    .dataframe thead th {\n",
       "        text-align: right;\n",
       "    }\n",
       "</style>\n",
       "<table border=\"1\" class=\"dataframe\">\n",
       "  <thead>\n",
       "    <tr style=\"text-align: right;\">\n",
       "      <th></th>\n",
       "      <th>Country</th>\n",
       "      <th>CountryCode</th>\n",
       "      <th>Province</th>\n",
       "      <th>City</th>\n",
       "      <th>CityCode</th>\n",
       "      <th>Lat</th>\n",
       "      <th>Lon</th>\n",
       "      <th>Cases</th>\n",
       "      <th>Status</th>\n",
       "    </tr>\n",
       "    <tr>\n",
       "      <th>Date</th>\n",
       "      <th></th>\n",
       "      <th></th>\n",
       "      <th></th>\n",
       "      <th></th>\n",
       "      <th></th>\n",
       "      <th></th>\n",
       "      <th></th>\n",
       "      <th></th>\n",
       "      <th></th>\n",
       "    </tr>\n",
       "  </thead>\n",
       "  <tbody>\n",
       "    <tr>\n",
       "      <th>2020-01-22 00:00:00+00:00</th>\n",
       "      <td>Spain</td>\n",
       "      <td>ES</td>\n",
       "      <td></td>\n",
       "      <td></td>\n",
       "      <td></td>\n",
       "      <td>40.46</td>\n",
       "      <td>-3.75</td>\n",
       "      <td>0</td>\n",
       "      <td>confirmed</td>\n",
       "    </tr>\n",
       "    <tr>\n",
       "      <th>2020-01-23 00:00:00+00:00</th>\n",
       "      <td>Spain</td>\n",
       "      <td>ES</td>\n",
       "      <td></td>\n",
       "      <td></td>\n",
       "      <td></td>\n",
       "      <td>40.46</td>\n",
       "      <td>-3.75</td>\n",
       "      <td>0</td>\n",
       "      <td>confirmed</td>\n",
       "    </tr>\n",
       "    <tr>\n",
       "      <th>2020-01-24 00:00:00+00:00</th>\n",
       "      <td>Spain</td>\n",
       "      <td>ES</td>\n",
       "      <td></td>\n",
       "      <td></td>\n",
       "      <td></td>\n",
       "      <td>40.46</td>\n",
       "      <td>-3.75</td>\n",
       "      <td>0</td>\n",
       "      <td>confirmed</td>\n",
       "    </tr>\n",
       "    <tr>\n",
       "      <th>2020-01-25 00:00:00+00:00</th>\n",
       "      <td>Spain</td>\n",
       "      <td>ES</td>\n",
       "      <td></td>\n",
       "      <td></td>\n",
       "      <td></td>\n",
       "      <td>40.46</td>\n",
       "      <td>-3.75</td>\n",
       "      <td>0</td>\n",
       "      <td>confirmed</td>\n",
       "    </tr>\n",
       "    <tr>\n",
       "      <th>2020-01-26 00:00:00+00:00</th>\n",
       "      <td>Spain</td>\n",
       "      <td>ES</td>\n",
       "      <td></td>\n",
       "      <td></td>\n",
       "      <td></td>\n",
       "      <td>40.46</td>\n",
       "      <td>-3.75</td>\n",
       "      <td>0</td>\n",
       "      <td>confirmed</td>\n",
       "    </tr>\n",
       "    <tr>\n",
       "      <th>...</th>\n",
       "      <td>...</td>\n",
       "      <td>...</td>\n",
       "      <td>...</td>\n",
       "      <td>...</td>\n",
       "      <td>...</td>\n",
       "      <td>...</td>\n",
       "      <td>...</td>\n",
       "      <td>...</td>\n",
       "      <td>...</td>\n",
       "    </tr>\n",
       "    <tr>\n",
       "      <th>2022-03-26 00:00:00+00:00</th>\n",
       "      <td>Spain</td>\n",
       "      <td>ES</td>\n",
       "      <td></td>\n",
       "      <td></td>\n",
       "      <td></td>\n",
       "      <td>40.46</td>\n",
       "      <td>-3.75</td>\n",
       "      <td>11451676</td>\n",
       "      <td>confirmed</td>\n",
       "    </tr>\n",
       "    <tr>\n",
       "      <th>2022-03-27 00:00:00+00:00</th>\n",
       "      <td>Spain</td>\n",
       "      <td>ES</td>\n",
       "      <td></td>\n",
       "      <td></td>\n",
       "      <td></td>\n",
       "      <td>40.46</td>\n",
       "      <td>-3.75</td>\n",
       "      <td>11451676</td>\n",
       "      <td>confirmed</td>\n",
       "    </tr>\n",
       "    <tr>\n",
       "      <th>2022-03-28 00:00:00+00:00</th>\n",
       "      <td>Spain</td>\n",
       "      <td>ES</td>\n",
       "      <td></td>\n",
       "      <td></td>\n",
       "      <td></td>\n",
       "      <td>40.46</td>\n",
       "      <td>-3.75</td>\n",
       "      <td>11451676</td>\n",
       "      <td>confirmed</td>\n",
       "    </tr>\n",
       "    <tr>\n",
       "      <th>2022-03-29 00:00:00+00:00</th>\n",
       "      <td>Spain</td>\n",
       "      <td>ES</td>\n",
       "      <td></td>\n",
       "      <td></td>\n",
       "      <td></td>\n",
       "      <td>40.46</td>\n",
       "      <td>-3.75</td>\n",
       "      <td>11508309</td>\n",
       "      <td>confirmed</td>\n",
       "    </tr>\n",
       "    <tr>\n",
       "      <th>2022-03-30 00:00:00+00:00</th>\n",
       "      <td>Spain</td>\n",
       "      <td>ES</td>\n",
       "      <td></td>\n",
       "      <td></td>\n",
       "      <td></td>\n",
       "      <td>40.46</td>\n",
       "      <td>-3.75</td>\n",
       "      <td>11508309</td>\n",
       "      <td>confirmed</td>\n",
       "    </tr>\n",
       "  </tbody>\n",
       "</table>\n",
       "<p>799 rows × 9 columns</p>\n",
       "</div>"
      ],
      "text/plain": [
       "                          Country CountryCode Province City CityCode    Lat  \\\n",
       "Date                                                                          \n",
       "2020-01-22 00:00:00+00:00   Spain          ES                         40.46   \n",
       "2020-01-23 00:00:00+00:00   Spain          ES                         40.46   \n",
       "2020-01-24 00:00:00+00:00   Spain          ES                         40.46   \n",
       "2020-01-25 00:00:00+00:00   Spain          ES                         40.46   \n",
       "2020-01-26 00:00:00+00:00   Spain          ES                         40.46   \n",
       "...                           ...         ...      ...  ...      ...    ...   \n",
       "2022-03-26 00:00:00+00:00   Spain          ES                         40.46   \n",
       "2022-03-27 00:00:00+00:00   Spain          ES                         40.46   \n",
       "2022-03-28 00:00:00+00:00   Spain          ES                         40.46   \n",
       "2022-03-29 00:00:00+00:00   Spain          ES                         40.46   \n",
       "2022-03-30 00:00:00+00:00   Spain          ES                         40.46   \n",
       "\n",
       "                            Lon     Cases     Status  \n",
       "Date                                                  \n",
       "2020-01-22 00:00:00+00:00 -3.75         0  confirmed  \n",
       "2020-01-23 00:00:00+00:00 -3.75         0  confirmed  \n",
       "2020-01-24 00:00:00+00:00 -3.75         0  confirmed  \n",
       "2020-01-25 00:00:00+00:00 -3.75         0  confirmed  \n",
       "2020-01-26 00:00:00+00:00 -3.75         0  confirmed  \n",
       "...                         ...       ...        ...  \n",
       "2022-03-26 00:00:00+00:00 -3.75  11451676  confirmed  \n",
       "2022-03-27 00:00:00+00:00 -3.75  11451676  confirmed  \n",
       "2022-03-28 00:00:00+00:00 -3.75  11451676  confirmed  \n",
       "2022-03-29 00:00:00+00:00 -3.75  11508309  confirmed  \n",
       "2022-03-30 00:00:00+00:00 -3.75  11508309  confirmed  \n",
       "\n",
       "[799 rows x 9 columns]"
      ]
     },
     "execution_count": 35,
     "metadata": {},
     "output_type": "execute_result"
    }
   ],
   "source": [
    "df_es.set_index('Date')"
   ]
  },
  {
   "cell_type": "code",
   "execution_count": 38,
   "id": "7e62d788",
   "metadata": {},
   "outputs": [
    {
     "data": {
      "text/plain": [
       "Date\n",
       "2020-01-22 00:00:00+00:00           0\n",
       "2020-01-23 00:00:00+00:00           0\n",
       "2020-01-24 00:00:00+00:00           0\n",
       "2020-01-25 00:00:00+00:00           0\n",
       "2020-01-26 00:00:00+00:00           0\n",
       "                               ...   \n",
       "2022-03-26 00:00:00+00:00    11451676\n",
       "2022-03-27 00:00:00+00:00    11451676\n",
       "2022-03-28 00:00:00+00:00    11451676\n",
       "2022-03-29 00:00:00+00:00    11508309\n",
       "2022-03-30 00:00:00+00:00    11508309\n",
       "Name: Cases, Length: 799, dtype: int64"
      ]
     },
     "execution_count": 38,
     "metadata": {},
     "output_type": "execute_result"
    }
   ],
   "source": [
    "df_es.set_index('Date')['Cases']"
   ]
  },
  {
   "cell_type": "markdown",
   "id": "f4070b71",
   "metadata": {},
   "source": [
    "## Tiempo real en España"
   ]
  },
  {
   "cell_type": "code",
   "execution_count": 53,
   "id": "833cb6b4",
   "metadata": {},
   "outputs": [
    {
     "data": {
      "text/plain": [
       "<AxesSubplot:title={'center':'Datos de Covid19 en España'}, xlabel='Date'>"
      ]
     },
     "execution_count": 53,
     "metadata": {},
     "output_type": "execute_result"
    },
    {
     "data": {
      "image/png": "[encoded data removed]",
      "text/plain": [
       "<Figure size 432x288 with 1 Axes>"
      ]
     },
     "metadata": {
      "needs_background": "light"
     },
     "output_type": "display_data"
    }
   ],
   "source": [
    "df_es.set_index('Date')['Cases'].plot(title=\"Datos de Covid19 en España\")"
   ]
  },
  {
   "cell_type": "markdown",
   "id": "e35be556",
   "metadata": {},
   "source": [
    "## Tiempo real en Colombia"
   ]
  },
  {
   "cell_type": "code",
   "execution_count": 51,
   "id": "4ac485b6",
   "metadata": {},
   "outputs": [
    {
     "data": {
      "text/plain": [
       "<AxesSubplot:title={'center':'Datos de Covid19 en Colombia'}, xlabel='Date'>"
      ]
     },
     "execution_count": 51,
     "metadata": {},
     "output_type": "execute_result"
    },
    {
     "data": {
      "image/png": "[encoded data removed]",
      "text/plain": [
       "<Figure size 432x288 with 1 Axes>"
      ]
     },
     "metadata": {
      "needs_background": "light"
     },
     "output_type": "display_data"
    }
   ],
   "source": [
    "url_co = 'https://api.covid19api.com/country/colombia/status/confirmed/live'\n",
    "df_co = pd.read_json(url_co)\n",
    "df_co.set_index ('Date') ['Cases'].plot(title=\"Datos de Covid19 en Colombia\")"
   ]
  },
  {
   "cell_type": "markdown",
   "id": "81dcd239",
   "metadata": {},
   "source": [
    "## Comparativa España - Colombia"
   ]
  },
  {
   "cell_type": "code",
   "execution_count": 55,
   "id": "2bda8b14",
   "metadata": {},
   "outputs": [],
   "source": [
    "casos_es= df_es.set_index('Date')['Cases']\n",
    "casos_co= df_co.set_index('Date')['Cases']"
   ]
  },
  {
   "cell_type": "code",
   "execution_count": 57,
   "id": "6dc47c6b",
   "metadata": {},
   "outputs": [
    {
     "data": {
      "text/plain": [
       "Date\n",
       "2020-01-22 00:00:00+00:00          0\n",
       "2020-01-23 00:00:00+00:00          0\n",
       "2020-01-24 00:00:00+00:00          0\n",
       "2020-01-25 00:00:00+00:00          0\n",
       "2020-01-26 00:00:00+00:00          0\n",
       "                              ...   \n",
       "2022-03-26 00:00:00+00:00    6083291\n",
       "2022-03-27 00:00:00+00:00    6083643\n",
       "2022-03-28 00:00:00+00:00    6083939\n",
       "2022-03-29 00:00:00+00:00    6084240\n",
       "2022-03-30 00:00:00+00:00    6084551\n",
       "Name: Cases, Length: 799, dtype: int64"
      ]
     },
     "execution_count": 57,
     "metadata": {},
     "output_type": "execute_result"
    }
   ],
   "source": [
    "casos_co"
   ]
  },
  {
   "cell_type": "code",
   "execution_count": 59,
   "id": "288b763f",
   "metadata": {},
   "outputs": [
    {
     "data": {
      "text/html": [
       "<div>\n",
       "<style scoped>\n",
       "    .dataframe tbody tr th:only-of-type {\n",
       "        vertical-align: middle;\n",
       "    }\n",
       "\n",
       "    .dataframe tbody tr th {\n",
       "        vertical-align: top;\n",
       "    }\n",
       "\n",
       "    .dataframe thead th {\n",
       "        text-align: right;\n",
       "    }\n",
       "</style>\n",
       "<table border=\"1\" class=\"dataframe\">\n",
       "  <thead>\n",
       "    <tr style=\"text-align: right;\">\n",
       "      <th></th>\n",
       "      <th>Cases</th>\n",
       "      <th>Cases</th>\n",
       "    </tr>\n",
       "    <tr>\n",
       "      <th>Date</th>\n",
       "      <th></th>\n",
       "      <th></th>\n",
       "    </tr>\n",
       "  </thead>\n",
       "  <tbody>\n",
       "    <tr>\n",
       "      <th>2020-01-22 00:00:00+00:00</th>\n",
       "      <td>0</td>\n",
       "      <td>0</td>\n",
       "    </tr>\n",
       "    <tr>\n",
       "      <th>2020-01-23 00:00:00+00:00</th>\n",
       "      <td>0</td>\n",
       "      <td>0</td>\n",
       "    </tr>\n",
       "    <tr>\n",
       "      <th>2020-01-24 00:00:00+00:00</th>\n",
       "      <td>0</td>\n",
       "      <td>0</td>\n",
       "    </tr>\n",
       "    <tr>\n",
       "      <th>2020-01-25 00:00:00+00:00</th>\n",
       "      <td>0</td>\n",
       "      <td>0</td>\n",
       "    </tr>\n",
       "    <tr>\n",
       "      <th>2020-01-26 00:00:00+00:00</th>\n",
       "      <td>0</td>\n",
       "      <td>0</td>\n",
       "    </tr>\n",
       "    <tr>\n",
       "      <th>...</th>\n",
       "      <td>...</td>\n",
       "      <td>...</td>\n",
       "    </tr>\n",
       "    <tr>\n",
       "      <th>2022-03-26 00:00:00+00:00</th>\n",
       "      <td>11451676</td>\n",
       "      <td>6083291</td>\n",
       "    </tr>\n",
       "    <tr>\n",
       "      <th>2022-03-27 00:00:00+00:00</th>\n",
       "      <td>11451676</td>\n",
       "      <td>6083643</td>\n",
       "    </tr>\n",
       "    <tr>\n",
       "      <th>2022-03-28 00:00:00+00:00</th>\n",
       "      <td>11451676</td>\n",
       "      <td>6083939</td>\n",
       "    </tr>\n",
       "    <tr>\n",
       "      <th>2022-03-29 00:00:00+00:00</th>\n",
       "      <td>11508309</td>\n",
       "      <td>6084240</td>\n",
       "    </tr>\n",
       "    <tr>\n",
       "      <th>2022-03-30 00:00:00+00:00</th>\n",
       "      <td>11508309</td>\n",
       "      <td>6084551</td>\n",
       "    </tr>\n",
       "  </tbody>\n",
       "</table>\n",
       "<p>799 rows × 2 columns</p>\n",
       "</div>"
      ],
      "text/plain": [
       "                              Cases    Cases\n",
       "Date                                        \n",
       "2020-01-22 00:00:00+00:00         0        0\n",
       "2020-01-23 00:00:00+00:00         0        0\n",
       "2020-01-24 00:00:00+00:00         0        0\n",
       "2020-01-25 00:00:00+00:00         0        0\n",
       "2020-01-26 00:00:00+00:00         0        0\n",
       "...                             ...      ...\n",
       "2022-03-26 00:00:00+00:00  11451676  6083291\n",
       "2022-03-27 00:00:00+00:00  11451676  6083643\n",
       "2022-03-28 00:00:00+00:00  11451676  6083939\n",
       "2022-03-29 00:00:00+00:00  11508309  6084240\n",
       "2022-03-30 00:00:00+00:00  11508309  6084551\n",
       "\n",
       "[799 rows x 2 columns]"
      ]
     },
     "execution_count": 59,
     "metadata": {},
     "output_type": "execute_result"
    }
   ],
   "source": [
    "pd.concat([casos_es, casos_co], axis=1)"
   ]
  },
  {
   "cell_type": "code",
   "execution_count": 61,
   "id": "d3a2afc2",
   "metadata": {},
   "outputs": [
    {
     "data": {
      "text/html": [
       "<div>\n",
       "<style scoped>\n",
       "    .dataframe tbody tr th:only-of-type {\n",
       "        vertical-align: middle;\n",
       "    }\n",
       "\n",
       "    .dataframe tbody tr th {\n",
       "        vertical-align: top;\n",
       "    }\n",
       "\n",
       "    .dataframe thead th {\n",
       "        text-align: right;\n",
       "    }\n",
       "</style>\n",
       "<table border=\"1\" class=\"dataframe\">\n",
       "  <thead>\n",
       "    <tr style=\"text-align: right;\">\n",
       "      <th></th>\n",
       "      <th>Cases</th>\n",
       "      <th>Cases</th>\n",
       "    </tr>\n",
       "    <tr>\n",
       "      <th>Date</th>\n",
       "      <th></th>\n",
       "      <th></th>\n",
       "    </tr>\n",
       "  </thead>\n",
       "  <tbody>\n",
       "    <tr>\n",
       "      <th>2020-01-22 00:00:00+00:00</th>\n",
       "      <td>0</td>\n",
       "      <td>0</td>\n",
       "    </tr>\n",
       "    <tr>\n",
       "      <th>2020-01-23 00:00:00+00:00</th>\n",
       "      <td>0</td>\n",
       "      <td>0</td>\n",
       "    </tr>\n",
       "    <tr>\n",
       "      <th>2020-01-24 00:00:00+00:00</th>\n",
       "      <td>0</td>\n",
       "      <td>0</td>\n",
       "    </tr>\n",
       "    <tr>\n",
       "      <th>2020-01-25 00:00:00+00:00</th>\n",
       "      <td>0</td>\n",
       "      <td>0</td>\n",
       "    </tr>\n",
       "    <tr>\n",
       "      <th>2020-01-26 00:00:00+00:00</th>\n",
       "      <td>0</td>\n",
       "      <td>0</td>\n",
       "    </tr>\n",
       "    <tr>\n",
       "      <th>...</th>\n",
       "      <td>...</td>\n",
       "      <td>...</td>\n",
       "    </tr>\n",
       "    <tr>\n",
       "      <th>2022-03-26 00:00:00+00:00</th>\n",
       "      <td>11451676</td>\n",
       "      <td>6083291</td>\n",
       "    </tr>\n",
       "    <tr>\n",
       "      <th>2022-03-27 00:00:00+00:00</th>\n",
       "      <td>11451676</td>\n",
       "      <td>6083643</td>\n",
       "    </tr>\n",
       "    <tr>\n",
       "      <th>2022-03-28 00:00:00+00:00</th>\n",
       "      <td>11451676</td>\n",
       "      <td>6083939</td>\n",
       "    </tr>\n",
       "    <tr>\n",
       "      <th>2022-03-29 00:00:00+00:00</th>\n",
       "      <td>11508309</td>\n",
       "      <td>6084240</td>\n",
       "    </tr>\n",
       "    <tr>\n",
       "      <th>2022-03-30 00:00:00+00:00</th>\n",
       "      <td>11508309</td>\n",
       "      <td>6084551</td>\n",
       "    </tr>\n",
       "  </tbody>\n",
       "</table>\n",
       "<p>799 rows × 2 columns</p>\n",
       "</div>"
      ],
      "text/plain": [
       "                              Cases    Cases\n",
       "Date                                        \n",
       "2020-01-22 00:00:00+00:00         0        0\n",
       "2020-01-23 00:00:00+00:00         0        0\n",
       "2020-01-24 00:00:00+00:00         0        0\n",
       "2020-01-25 00:00:00+00:00         0        0\n",
       "2020-01-26 00:00:00+00:00         0        0\n",
       "...                             ...      ...\n",
       "2022-03-26 00:00:00+00:00  11451676  6083291\n",
       "2022-03-27 00:00:00+00:00  11451676  6083643\n",
       "2022-03-28 00:00:00+00:00  11451676  6083939\n",
       "2022-03-29 00:00:00+00:00  11508309  6084240\n",
       "2022-03-30 00:00:00+00:00  11508309  6084551\n",
       "\n",
       "[799 rows x 2 columns]"
      ]
     },
     "execution_count": 61,
     "metadata": {},
     "output_type": "execute_result"
    }
   ],
   "source": [
    "vs = pd.concat([casos_es, casos_co], axis=1)\n",
    "vs"
   ]
  },
  {
   "cell_type": "code",
   "execution_count": 63,
   "id": "7a753561",
   "metadata": {
    "scrolled": true
   },
   "outputs": [
    {
     "data": {
      "text/html": [
       "<div>\n",
       "<style scoped>\n",
       "    .dataframe tbody tr th:only-of-type {\n",
       "        vertical-align: middle;\n",
       "    }\n",
       "\n",
       "    .dataframe tbody tr th {\n",
       "        vertical-align: top;\n",
       "    }\n",
       "\n",
       "    .dataframe thead th {\n",
       "        text-align: right;\n",
       "    }\n",
       "</style>\n",
       "<table border=\"1\" class=\"dataframe\">\n",
       "  <thead>\n",
       "    <tr style=\"text-align: right;\">\n",
       "      <th></th>\n",
       "      <th>España</th>\n",
       "      <th>Colombia</th>\n",
       "    </tr>\n",
       "    <tr>\n",
       "      <th>Date</th>\n",
       "      <th></th>\n",
       "      <th></th>\n",
       "    </tr>\n",
       "  </thead>\n",
       "  <tbody>\n",
       "    <tr>\n",
       "      <th>2020-01-22 00:00:00+00:00</th>\n",
       "      <td>0</td>\n",
       "      <td>0</td>\n",
       "    </tr>\n",
       "    <tr>\n",
       "      <th>2020-01-23 00:00:00+00:00</th>\n",
       "      <td>0</td>\n",
       "      <td>0</td>\n",
       "    </tr>\n",
       "    <tr>\n",
       "      <th>2020-01-24 00:00:00+00:00</th>\n",
       "      <td>0</td>\n",
       "      <td>0</td>\n",
       "    </tr>\n",
       "    <tr>\n",
       "      <th>2020-01-25 00:00:00+00:00</th>\n",
       "      <td>0</td>\n",
       "      <td>0</td>\n",
       "    </tr>\n",
       "    <tr>\n",
       "      <th>2020-01-26 00:00:00+00:00</th>\n",
       "      <td>0</td>\n",
       "      <td>0</td>\n",
       "    </tr>\n",
       "    <tr>\n",
       "      <th>...</th>\n",
       "      <td>...</td>\n",
       "      <td>...</td>\n",
       "    </tr>\n",
       "    <tr>\n",
       "      <th>2022-03-26 00:00:00+00:00</th>\n",
       "      <td>11451676</td>\n",
       "      <td>6083291</td>\n",
       "    </tr>\n",
       "    <tr>\n",
       "      <th>2022-03-27 00:00:00+00:00</th>\n",
       "      <td>11451676</td>\n",
       "      <td>6083643</td>\n",
       "    </tr>\n",
       "    <tr>\n",
       "      <th>2022-03-28 00:00:00+00:00</th>\n",
       "      <td>11451676</td>\n",
       "      <td>6083939</td>\n",
       "    </tr>\n",
       "    <tr>\n",
       "      <th>2022-03-29 00:00:00+00:00</th>\n",
       "      <td>11508309</td>\n",
       "      <td>6084240</td>\n",
       "    </tr>\n",
       "    <tr>\n",
       "      <th>2022-03-30 00:00:00+00:00</th>\n",
       "      <td>11508309</td>\n",
       "      <td>6084551</td>\n",
       "    </tr>\n",
       "  </tbody>\n",
       "</table>\n",
       "<p>799 rows × 2 columns</p>\n",
       "</div>"
      ],
      "text/plain": [
       "                             España  Colombia\n",
       "Date                                         \n",
       "2020-01-22 00:00:00+00:00         0         0\n",
       "2020-01-23 00:00:00+00:00         0         0\n",
       "2020-01-24 00:00:00+00:00         0         0\n",
       "2020-01-25 00:00:00+00:00         0         0\n",
       "2020-01-26 00:00:00+00:00         0         0\n",
       "...                             ...       ...\n",
       "2022-03-26 00:00:00+00:00  11451676   6083291\n",
       "2022-03-27 00:00:00+00:00  11451676   6083643\n",
       "2022-03-28 00:00:00+00:00  11451676   6083939\n",
       "2022-03-29 00:00:00+00:00  11508309   6084240\n",
       "2022-03-30 00:00:00+00:00  11508309   6084551\n",
       "\n",
       "[799 rows x 2 columns]"
      ]
     },
     "execution_count": 63,
     "metadata": {},
     "output_type": "execute_result"
    }
   ],
   "source": [
    "vs.columns = ['España', 'Colombia']\n",
    "vs"
   ]
  },
  {
   "cell_type": "code",
   "execution_count": 98,
   "id": "9c888fa0",
   "metadata": {},
   "outputs": [
    {
     "data": {
      "text/plain": [
       "<AxesSubplot:title={'center':'España vs Colombia'}, xlabel='Date'>"
      ]
     },
     "execution_count": 98,
     "metadata": {},
     "output_type": "execute_result"
    },
    {
     "data": {
      "image/png": "[encoded data removed]",
      "text/plain": [
       "<Figure size 432x288 with 1 Axes>"
      ]
     },
     "metadata": {
      "needs_background": "light"
     },
     "output_type": "display_data"
    }
   ],
   "source": [
    "vs.plot(title=\"España vs Colombia\", kind='area')"
   ]
  },
  {
   "cell_type": "markdown",
   "id": "9126f7b4",
   "metadata": {},
   "source": [
    "## Tiempo real en México"
   ]
  },
  {
   "cell_type": "code",
   "execution_count": 92,
   "id": "8ac3210d",
   "metadata": {},
   "outputs": [
    {
     "data": {
      "text/plain": [
       "<AxesSubplot:title={'center':'Triple comparativa'}, xlabel='Date'>"
      ]
     },
     "execution_count": 92,
     "metadata": {},
     "output_type": "execute_result"
    },
    {
     "data": {
      "image/png": "[encoded data removed]",
      "text/plain": [
       "<Figure size 432x288 with 1 Axes>"
      ]
     },
     "metadata": {
      "needs_background": "light"
     },
     "output_type": "display_data"
    }
   ],
   "source": [
    "url_mex = 'https://api.covid19api.com/country/mexico/status/confirmed/live'\n",
    "df_mex = pd.read_json(url_mex)\n",
    "df_mex.set_index('Date') \n",
    "df_mex.set_index('Date')['Cases']\n",
    "casos_mex = df_mex.set_index ('Date')['Cases']\n",
    "vs3 = pd.concat([casos_es,casos_co,casos_mex], axis=1)\n",
    "vs3.columns = ['España','Colombia','Mexico']\n",
    "vs3.plot(title=\"Triple comparativa\")"
   ]
  },
  {
   "cell_type": "markdown",
   "id": "f439c383",
   "metadata": {},
   "source": [
    "## Seleccionar más columnas"
   ]
  },
  {
   "cell_type": "code",
   "execution_count": 94,
   "id": "0a7eb37a",
   "metadata": {},
   "outputs": [
    {
     "data": {
      "text/html": [
       "<div>\n",
       "<style scoped>\n",
       "    .dataframe tbody tr th:only-of-type {\n",
       "        vertical-align: middle;\n",
       "    }\n",
       "\n",
       "    .dataframe tbody tr th {\n",
       "        vertical-align: top;\n",
       "    }\n",
       "\n",
       "    .dataframe thead th {\n",
       "        text-align: right;\n",
       "    }\n",
       "</style>\n",
       "<table border=\"1\" class=\"dataframe\">\n",
       "  <thead>\n",
       "    <tr style=\"text-align: right;\">\n",
       "      <th></th>\n",
       "      <th>Cases</th>\n",
       "      <th>Lon</th>\n",
       "    </tr>\n",
       "    <tr>\n",
       "      <th>Date</th>\n",
       "      <th></th>\n",
       "      <th></th>\n",
       "    </tr>\n",
       "  </thead>\n",
       "  <tbody>\n",
       "    <tr>\n",
       "      <th>2020-01-22 00:00:00+00:00</th>\n",
       "      <td>0</td>\n",
       "      <td>-3.75</td>\n",
       "    </tr>\n",
       "    <tr>\n",
       "      <th>2020-01-23 00:00:00+00:00</th>\n",
       "      <td>0</td>\n",
       "      <td>-3.75</td>\n",
       "    </tr>\n",
       "    <tr>\n",
       "      <th>2020-01-24 00:00:00+00:00</th>\n",
       "      <td>0</td>\n",
       "      <td>-3.75</td>\n",
       "    </tr>\n",
       "    <tr>\n",
       "      <th>2020-01-25 00:00:00+00:00</th>\n",
       "      <td>0</td>\n",
       "      <td>-3.75</td>\n",
       "    </tr>\n",
       "    <tr>\n",
       "      <th>2020-01-26 00:00:00+00:00</th>\n",
       "      <td>0</td>\n",
       "      <td>-3.75</td>\n",
       "    </tr>\n",
       "    <tr>\n",
       "      <th>...</th>\n",
       "      <td>...</td>\n",
       "      <td>...</td>\n",
       "    </tr>\n",
       "    <tr>\n",
       "      <th>2022-03-26 00:00:00+00:00</th>\n",
       "      <td>11451676</td>\n",
       "      <td>-3.75</td>\n",
       "    </tr>\n",
       "    <tr>\n",
       "      <th>2022-03-27 00:00:00+00:00</th>\n",
       "      <td>11451676</td>\n",
       "      <td>-3.75</td>\n",
       "    </tr>\n",
       "    <tr>\n",
       "      <th>2022-03-28 00:00:00+00:00</th>\n",
       "      <td>11451676</td>\n",
       "      <td>-3.75</td>\n",
       "    </tr>\n",
       "    <tr>\n",
       "      <th>2022-03-29 00:00:00+00:00</th>\n",
       "      <td>11508309</td>\n",
       "      <td>-3.75</td>\n",
       "    </tr>\n",
       "    <tr>\n",
       "      <th>2022-03-30 00:00:00+00:00</th>\n",
       "      <td>11508309</td>\n",
       "      <td>-3.75</td>\n",
       "    </tr>\n",
       "  </tbody>\n",
       "</table>\n",
       "<p>799 rows × 2 columns</p>\n",
       "</div>"
      ],
      "text/plain": [
       "                              Cases   Lon\n",
       "Date                                     \n",
       "2020-01-22 00:00:00+00:00         0 -3.75\n",
       "2020-01-23 00:00:00+00:00         0 -3.75\n",
       "2020-01-24 00:00:00+00:00         0 -3.75\n",
       "2020-01-25 00:00:00+00:00         0 -3.75\n",
       "2020-01-26 00:00:00+00:00         0 -3.75\n",
       "...                             ...   ...\n",
       "2022-03-26 00:00:00+00:00  11451676 -3.75\n",
       "2022-03-27 00:00:00+00:00  11451676 -3.75\n",
       "2022-03-28 00:00:00+00:00  11451676 -3.75\n",
       "2022-03-29 00:00:00+00:00  11508309 -3.75\n",
       "2022-03-30 00:00:00+00:00  11508309 -3.75\n",
       "\n",
       "[799 rows x 2 columns]"
      ]
     },
     "execution_count": 94,
     "metadata": {},
     "output_type": "execute_result"
    }
   ],
   "source": [
    "df_es.set_index('Date')[['Cases', 'Lon']]"
   ]
  },
  {
   "cell_type": "markdown",
   "id": "1f90a673",
   "metadata": {},
   "source": [
    "## Exportar datos "
   ]
  },
  {
   "cell_type": "code",
   "execution_count": 100,
   "id": "ef4ebf9e",
   "metadata": {},
   "outputs": [],
   "source": [
    "vs.to_csv('vs.csv')"
   ]
  },
  {
   "cell_type": "code",
   "execution_count": null,
   "id": "b50f8a86",
   "metadata": {},
   "outputs": [],
   "source": [
    "grafico = vs.plot()\n",
    "fig = grafico.get_figure()\n",
    "fig.savefig(\"vs.png\")"
   ]
  }
 ],
 "metadata": {
  "kernelspec": {
   "display_name": "Python 3 (ipykernel)",
   "language": "python",
   "name": "python3"
  },
  "language_info": {
   "codemirror_mode": {
    "name": "ipython",
    "version": 3
   },
   "file_extension": ".py",
   "mimetype": "text/x-python",
   "name": "python",
   "nbconvert_exporter": "python",
   "pygments_lexer": "ipython3",
   "version": "3.9.7"
  }
 },
 "nbformat": 4,
 "nbformat_minor": 5
}
