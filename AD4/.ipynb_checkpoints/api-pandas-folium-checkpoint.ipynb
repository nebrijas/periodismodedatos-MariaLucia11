{
 "cells": [
  {
   "cell_type": "markdown",
   "id": "f6c4d30d",
   "metadata": {},
   "source": [
    "# API Pandas Folium\n",
    "- API\n",
    "- Pandas\n",
    "- Folium"
   ]
  },
  {
   "cell_type": "markdown",
   "id": "cdf4fd00",
   "metadata": {},
   "source": [
    "## Instalar librerías"
   ]
  },
  {
   "cell_type": "code",
   "execution_count": 118,
   "id": "cee78be2",
   "metadata": {},
   "outputs": [
    {
     "name": "stdout",
     "output_type": "stream",
     "text": [
      "Requirement already satisfied: pandas in c:\\users\\mlucy\\anaconda3\\lib\\site-packages (1.3.4)\n",
      "Requirement already satisfied: folium in c:\\users\\mlucy\\anaconda3\\lib\\site-packages (0.12.1.post1)\n",
      "Requirement already satisfied: numpy>=1.17.3 in c:\\users\\mlucy\\anaconda3\\lib\\site-packages (from pandas) (1.20.3)\n",
      "Requirement already satisfied: pytz>=2017.3 in c:\\users\\mlucy\\anaconda3\\lib\\site-packages (from pandas) (2021.3)\n",
      "Requirement already satisfied: python-dateutil>=2.7.3 in c:\\users\\mlucy\\anaconda3\\lib\\site-packages (from pandas) (2.8.2)\n",
      "Requirement already satisfied: branca>=0.3.0 in c:\\users\\mlucy\\anaconda3\\lib\\site-packages (from folium) (0.4.2)\n",
      "Requirement already satisfied: jinja2>=2.9 in c:\\users\\mlucy\\anaconda3\\lib\\site-packages (from folium) (2.11.3)\n",
      "Requirement already satisfied: requests in c:\\users\\mlucy\\anaconda3\\lib\\site-packages (from folium) (2.26.0)\n",
      "Requirement already satisfied: MarkupSafe>=0.23 in c:\\users\\mlucy\\anaconda3\\lib\\site-packages (from jinja2>=2.9->folium) (1.1.1)\n",
      "Requirement already satisfied: six>=1.5 in c:\\users\\mlucy\\anaconda3\\lib\\site-packages (from python-dateutil>=2.7.3->pandas) (1.16.0)\n",
      "Requirement already satisfied: certifi>=2017.4.17 in c:\\users\\mlucy\\anaconda3\\lib\\site-packages (from requests->folium) (2021.10.8)\n",
      "Requirement already satisfied: charset-normalizer~=2.0.0 in c:\\users\\mlucy\\anaconda3\\lib\\site-packages (from requests->folium) (2.0.4)\n",
      "Requirement already satisfied: urllib3<1.27,>=1.21.1 in c:\\users\\mlucy\\anaconda3\\lib\\site-packages (from requests->folium) (1.26.7)\n",
      "Requirement already satisfied: idna<4,>=2.5 in c:\\users\\mlucy\\anaconda3\\lib\\site-packages (from requests->folium) (3.2)\n"
     ]
    }
   ],
   "source": [
    "!pip install pandas folium "
   ]
  },
  {
   "cell_type": "markdown",
   "id": "528fa426",
   "metadata": {},
   "source": [
    "## Configurar librerías"
   ]
  },
  {
   "cell_type": "code",
   "execution_count": 119,
   "id": "5e746501",
   "metadata": {},
   "outputs": [],
   "source": [
    "import pandas as pd\n",
    "import folium\n"
   ]
  },
  {
   "cell_type": "markdown",
   "id": "add8b5e3",
   "metadata": {},
   "source": [
    "## Variables\n",
    "- url:'https://www.zaragoza.es/sede/servicio/transporte/accidentalidad-trafico/accidente.csv?rows=100'\n",
    "-coords_zrgz\n",
    "- mapa"
   ]
  },
  {
   "cell_type": "code",
   "execution_count": 120,
   "id": "f1ff1bea",
   "metadata": {},
   "outputs": [],
   "source": [
    "url_zrgz = 'https://www.zaragoza.es/sede/servicio/transporte/accidentalidad-trafico/accidente.csv?rows=100'\n",
    "coord_zrgz = [41.649693,-0.887712]\n",
    "mapa = folium.Map(location=coord_zrgz)\n"
   ]
  },
  {
   "cell_type": "code",
   "execution_count": 121,
   "id": "3be12ce1",
   "metadata": {},
   "outputs": [
    {
     "data": {
      "text/html": [
       "<div style=\"width:100%;\"><div style=\"position:relative;width:100%;height:0;padding-bottom:60%;\"><span style=\"color:#565656\">Make this Notebook Trusted to load map: File -> Trust Notebook</span><iframe src=\"about:blank\" style=\"position:absolute;width:100%;height:100%;left:0;top:0;border:none !important;\" data-html=%3C%21DOCTYPE%20html%3E%0A%3Chead%3E%20%20%20%20%0A%20%20%20%20%3Cmeta%20http-equiv%3D%22content-type%22%20content%3D%22text/html%3B%20charset%3DUTF-8%22%20/%3E%0A%20%20%20%20%0A%20%20%20%20%20%20%20%20%3Cscript%3E%0A%20%20%20%20%20%20%20%20%20%20%20%20L_NO_TOUCH%20%3D%20false%3B%0A%20%20%20%20%20%20%20%20%20%20%20%20L_DISABLE_3D%20%3D%20false%3B%0A%20%20%20%20%20%20%20%20%3C/script%3E%0A%20%20%20%20%0A%20%20%20%20%3Cstyle%3Ehtml%2C%20body%20%7Bwidth%3A%20100%25%3Bheight%3A%20100%25%3Bmargin%3A%200%3Bpadding%3A%200%3B%7D%3C/style%3E%0A%20%20%20%20%3Cstyle%3E%23map%20%7Bposition%3Aabsolute%3Btop%3A0%3Bbottom%3A0%3Bright%3A0%3Bleft%3A0%3B%7D%3C/style%3E%0A%20%20%20%20%3Cscript%20src%3D%22https%3A//cdn.jsdelivr.net/npm/leaflet%401.6.0/dist/leaflet.js%22%3E%3C/script%3E%0A%20%20%20%20%3Cscript%20src%3D%22https%3A//code.jquery.com/jquery-1.12.4.min.js%22%3E%3C/script%3E%0A%20%20%20%20%3Cscript%20src%3D%22https%3A//maxcdn.bootstrapcdn.com/bootstrap/3.2.0/js/bootstrap.min.js%22%3E%3C/script%3E%0A%20%20%20%20%3Cscript%20src%3D%22https%3A//cdnjs.cloudflare.com/ajax/libs/Leaflet.awesome-markers/2.0.2/leaflet.awesome-markers.js%22%3E%3C/script%3E%0A%20%20%20%20%3Clink%20rel%3D%22stylesheet%22%20href%3D%22https%3A//cdn.jsdelivr.net/npm/leaflet%401.6.0/dist/leaflet.css%22/%3E%0A%20%20%20%20%3Clink%20rel%3D%22stylesheet%22%20href%3D%22https%3A//maxcdn.bootstrapcdn.com/bootstrap/3.2.0/css/bootstrap.min.css%22/%3E%0A%20%20%20%20%3Clink%20rel%3D%22stylesheet%22%20href%3D%22https%3A//maxcdn.bootstrapcdn.com/bootstrap/3.2.0/css/bootstrap-theme.min.css%22/%3E%0A%20%20%20%20%3Clink%20rel%3D%22stylesheet%22%20href%3D%22https%3A//maxcdn.bootstrapcdn.com/font-awesome/4.6.3/css/font-awesome.min.css%22/%3E%0A%20%20%20%20%3Clink%20rel%3D%22stylesheet%22%20href%3D%22https%3A//cdnjs.cloudflare.com/ajax/libs/Leaflet.awesome-markers/2.0.2/leaflet.awesome-markers.css%22/%3E%0A%20%20%20%20%3Clink%20rel%3D%22stylesheet%22%20href%3D%22https%3A//cdn.jsdelivr.net/gh/python-visualization/folium/folium/templates/leaflet.awesome.rotate.min.css%22/%3E%0A%20%20%20%20%0A%20%20%20%20%20%20%20%20%20%20%20%20%3Cmeta%20name%3D%22viewport%22%20content%3D%22width%3Ddevice-width%2C%0A%20%20%20%20%20%20%20%20%20%20%20%20%20%20%20%20initial-scale%3D1.0%2C%20maximum-scale%3D1.0%2C%20user-scalable%3Dno%22%20/%3E%0A%20%20%20%20%20%20%20%20%20%20%20%20%3Cstyle%3E%0A%20%20%20%20%20%20%20%20%20%20%20%20%20%20%20%20%23map_164010f66e35425aa1cf310929e17447%20%7B%0A%20%20%20%20%20%20%20%20%20%20%20%20%20%20%20%20%20%20%20%20position%3A%20relative%3B%0A%20%20%20%20%20%20%20%20%20%20%20%20%20%20%20%20%20%20%20%20width%3A%20100.0%25%3B%0A%20%20%20%20%20%20%20%20%20%20%20%20%20%20%20%20%20%20%20%20height%3A%20100.0%25%3B%0A%20%20%20%20%20%20%20%20%20%20%20%20%20%20%20%20%20%20%20%20left%3A%200.0%25%3B%0A%20%20%20%20%20%20%20%20%20%20%20%20%20%20%20%20%20%20%20%20top%3A%200.0%25%3B%0A%20%20%20%20%20%20%20%20%20%20%20%20%20%20%20%20%7D%0A%20%20%20%20%20%20%20%20%20%20%20%20%3C/style%3E%0A%20%20%20%20%20%20%20%20%0A%3C/head%3E%0A%3Cbody%3E%20%20%20%20%0A%20%20%20%20%0A%20%20%20%20%20%20%20%20%20%20%20%20%3Cdiv%20class%3D%22folium-map%22%20id%3D%22map_164010f66e35425aa1cf310929e17447%22%20%3E%3C/div%3E%0A%20%20%20%20%20%20%20%20%0A%3C/body%3E%0A%3Cscript%3E%20%20%20%20%0A%20%20%20%20%0A%20%20%20%20%20%20%20%20%20%20%20%20var%20map_164010f66e35425aa1cf310929e17447%20%3D%20L.map%28%0A%20%20%20%20%20%20%20%20%20%20%20%20%20%20%20%20%22map_164010f66e35425aa1cf310929e17447%22%2C%0A%20%20%20%20%20%20%20%20%20%20%20%20%20%20%20%20%7B%0A%20%20%20%20%20%20%20%20%20%20%20%20%20%20%20%20%20%20%20%20center%3A%20%5B41.649693%2C%20-0.887712%5D%2C%0A%20%20%20%20%20%20%20%20%20%20%20%20%20%20%20%20%20%20%20%20crs%3A%20L.CRS.EPSG3857%2C%0A%20%20%20%20%20%20%20%20%20%20%20%20%20%20%20%20%20%20%20%20zoom%3A%2010%2C%0A%20%20%20%20%20%20%20%20%20%20%20%20%20%20%20%20%20%20%20%20zoomControl%3A%20true%2C%0A%20%20%20%20%20%20%20%20%20%20%20%20%20%20%20%20%20%20%20%20preferCanvas%3A%20false%2C%0A%20%20%20%20%20%20%20%20%20%20%20%20%20%20%20%20%7D%0A%20%20%20%20%20%20%20%20%20%20%20%20%29%3B%0A%0A%20%20%20%20%20%20%20%20%20%20%20%20%0A%0A%20%20%20%20%20%20%20%20%0A%20%20%20%20%0A%20%20%20%20%20%20%20%20%20%20%20%20var%20tile_layer_8eafe4ad19c74f48b279c9da8dece660%20%3D%20L.tileLayer%28%0A%20%20%20%20%20%20%20%20%20%20%20%20%20%20%20%20%22https%3A//%7Bs%7D.tile.openstreetmap.org/%7Bz%7D/%7Bx%7D/%7By%7D.png%22%2C%0A%20%20%20%20%20%20%20%20%20%20%20%20%20%20%20%20%7B%22attribution%22%3A%20%22Data%20by%20%5Cu0026copy%3B%20%5Cu003ca%20href%3D%5C%22http%3A//openstreetmap.org%5C%22%5Cu003eOpenStreetMap%5Cu003c/a%5Cu003e%2C%20under%20%5Cu003ca%20href%3D%5C%22http%3A//www.openstreetmap.org/copyright%5C%22%5Cu003eODbL%5Cu003c/a%5Cu003e.%22%2C%20%22detectRetina%22%3A%20false%2C%20%22maxNativeZoom%22%3A%2018%2C%20%22maxZoom%22%3A%2018%2C%20%22minZoom%22%3A%200%2C%20%22noWrap%22%3A%20false%2C%20%22opacity%22%3A%201%2C%20%22subdomains%22%3A%20%22abc%22%2C%20%22tms%22%3A%20false%7D%0A%20%20%20%20%20%20%20%20%20%20%20%20%29.addTo%28map_164010f66e35425aa1cf310929e17447%29%3B%0A%20%20%20%20%20%20%20%20%0A%3C/script%3E onload=\"this.contentDocument.open();this.contentDocument.write(    decodeURIComponent(this.getAttribute('data-html')));this.contentDocument.close();\" allowfullscreen webkitallowfullscreen mozallowfullscreen></iframe></div></div>"
      ],
      "text/plain": [
       "<folium.folium.Map at 0x2ce9720c5b0>"
      ]
     },
     "execution_count": 121,
     "metadata": {},
     "output_type": "execute_result"
    }
   ],
   "source": [
    "mapa"
   ]
  },
  {
   "cell_type": "code",
   "execution_count": 122,
   "id": "74e9dec3",
   "metadata": {
    "scrolled": false
   },
   "outputs": [
    {
     "data": {
      "text/html": [
       "<div>\n",
       "<style scoped>\n",
       "    .dataframe tbody tr th:only-of-type {\n",
       "        vertical-align: middle;\n",
       "    }\n",
       "\n",
       "    .dataframe tbody tr th {\n",
       "        vertical-align: top;\n",
       "    }\n",
       "\n",
       "    .dataframe thead th {\n",
       "        text-align: right;\n",
       "    }\n",
       "</style>\n",
       "<table border=\"1\" class=\"dataframe\">\n",
       "  <thead>\n",
       "    <tr style=\"text-align: right;\">\n",
       "      <th></th>\n",
       "      <th>id</th>\n",
       "      <th>year</th>\n",
       "      <th>type</th>\n",
       "      <th>accidentType</th>\n",
       "      <th>firstAddress</th>\n",
       "      <th>secondAddress</th>\n",
       "      <th>geometry</th>\n",
       "      <th>reason</th>\n",
       "      <th>area</th>\n",
       "      <th>creationDate</th>\n",
       "      <th>daniosMateriales</th>\n",
       "      <th>falloMecanico</th>\n",
       "      <th>estadoPavimento</th>\n",
       "      <th>tipoEstadoPavimento</th>\n",
       "      <th>estadoAtmosfera</th>\n",
       "      <th>tipoEstadoAtmosfera</th>\n",
       "      <th>afectado</th>\n",
       "      <th>vehiculo</th>\n",
       "    </tr>\n",
       "  </thead>\n",
       "  <tbody>\n",
       "    <tr>\n",
       "      <th>0</th>\n",
       "      <td>https://www.zaragoza.es/sede/servicio/transpor...</td>\n",
       "      <td>2014</td>\n",
       "      <td>SALIDA CALZADA</td>\n",
       "      <td>NaN</td>\n",
       "      <td>COSTA, JOAQUIN</td>\n",
       "      <td>PERAL, ISAAC</td>\n",
       "      <td>-0.8818527060979306,41.649027473051156</td>\n",
       "      <td>PERDIDA del control por FALTA de ATENCIÓN</td>\n",
       "      <td>NaN</td>\n",
       "      <td>2014-10-09T00:00:00Z</td>\n",
       "      <td>True</td>\n",
       "      <td>False</td>\n",
       "      <td>BUEN ESTADO</td>\n",
       "      <td>NaN</td>\n",
       "      <td>BUEN ESTADO</td>\n",
       "      <td>NaN</td>\n",
       "      <td>NaN</td>\n",
       "      <td>https://www.zaragoza.es/sede/servicio/transpor...</td>\n",
       "    </tr>\n",
       "    <tr>\n",
       "      <th>1</th>\n",
       "      <td>https://www.zaragoza.es/sede/servicio/transpor...</td>\n",
       "      <td>2014</td>\n",
       "      <td>COLISIÓN ALCANCE</td>\n",
       "      <td>NaN</td>\n",
       "      <td>CADENA(MARQUES DE LA)</td>\n",
       "      <td>NaN</td>\n",
       "      <td>-0.8645810716721081,41.661585829868585</td>\n",
       "      <td>DISTANCIA DE SEGURIDAD, no mantener</td>\n",
       "      <td>2560.0</td>\n",
       "      <td>2014-10-23T00:00:00Z</td>\n",
       "      <td>False</td>\n",
       "      <td>False</td>\n",
       "      <td>BUEN ESTADO</td>\n",
       "      <td>NaN</td>\n",
       "      <td>BUEN ESTADO</td>\n",
       "      <td>NaN</td>\n",
       "      <td>https://www.zaragoza.es/sede/servicio/transpor...</td>\n",
       "      <td>https://www.zaragoza.es/sede/servicio/transpor...</td>\n",
       "    </tr>\n",
       "    <tr>\n",
       "      <th>2</th>\n",
       "      <td>https://www.zaragoza.es/sede/servicio/transpor...</td>\n",
       "      <td>2014</td>\n",
       "      <td>COLISIÓN ALCANCE</td>\n",
       "      <td>NaN</td>\n",
       "      <td>GOMEZ AVELLANEDA, G.</td>\n",
       "      <td>CASTRO, R. (POETA)</td>\n",
       "      <td>-0.887776415002892,41.666992622958105</td>\n",
       "      <td>PERDIDA del control por FALTA de ATENCIÓN</td>\n",
       "      <td>2598.0</td>\n",
       "      <td>2014-10-23T00:00:00Z</td>\n",
       "      <td>False</td>\n",
       "      <td>False</td>\n",
       "      <td>BUEN ESTADO</td>\n",
       "      <td>NaN</td>\n",
       "      <td>BUEN ESTADO</td>\n",
       "      <td>NaN</td>\n",
       "      <td>https://www.zaragoza.es/sede/servicio/transpor...</td>\n",
       "      <td>https://www.zaragoza.es/sede/servicio/transpor...</td>\n",
       "    </tr>\n",
       "    <tr>\n",
       "      <th>3</th>\n",
       "      <td>https://www.zaragoza.es/sede/servicio/transpor...</td>\n",
       "      <td>2014</td>\n",
       "      <td>COLIS FRONTOLATERAL</td>\n",
       "      <td>NaN</td>\n",
       "      <td>MONZON</td>\n",
       "      <td>GARCIA CONDOY, H.</td>\n",
       "      <td>-0.8825260453930127,41.62957498750602</td>\n",
       "      <td>CEDA EL PASO, no respetar prioridad de paso</td>\n",
       "      <td>2555.0</td>\n",
       "      <td>2014-10-23T00:00:00Z</td>\n",
       "      <td>False</td>\n",
       "      <td>False</td>\n",
       "      <td>BUEN ESTADO</td>\n",
       "      <td>NaN</td>\n",
       "      <td>BUEN ESTADO</td>\n",
       "      <td>NaN</td>\n",
       "      <td>https://www.zaragoza.es/sede/servicio/transpor...</td>\n",
       "      <td>https://www.zaragoza.es/sede/servicio/transpor...</td>\n",
       "    </tr>\n",
       "    <tr>\n",
       "      <th>4</th>\n",
       "      <td>https://www.zaragoza.es/sede/servicio/transpor...</td>\n",
       "      <td>2014</td>\n",
       "      <td>SALIDA CALZADA</td>\n",
       "      <td>NaN</td>\n",
       "      <td>RIOJA</td>\n",
       "      <td>NAVARRA, AVENIDA DE</td>\n",
       "      <td>-0.908314757720389,41.6562121210704</td>\n",
       "      <td>PERDIDA del control por VELOCIDAD INADECUADA</td>\n",
       "      <td>2554.0</td>\n",
       "      <td>2014-10-24T00:00:00Z</td>\n",
       "      <td>False</td>\n",
       "      <td>False</td>\n",
       "      <td>BUEN ESTADO</td>\n",
       "      <td>NaN</td>\n",
       "      <td>BUEN ESTADO</td>\n",
       "      <td>NaN</td>\n",
       "      <td>https://www.zaragoza.es/sede/servicio/transpor...</td>\n",
       "      <td>https://www.zaragoza.es/sede/servicio/transpor...</td>\n",
       "    </tr>\n",
       "    <tr>\n",
       "      <th>...</th>\n",
       "      <td>...</td>\n",
       "      <td>...</td>\n",
       "      <td>...</td>\n",
       "      <td>...</td>\n",
       "      <td>...</td>\n",
       "      <td>...</td>\n",
       "      <td>...</td>\n",
       "      <td>...</td>\n",
       "      <td>...</td>\n",
       "      <td>...</td>\n",
       "      <td>...</td>\n",
       "      <td>...</td>\n",
       "      <td>...</td>\n",
       "      <td>...</td>\n",
       "      <td>...</td>\n",
       "      <td>...</td>\n",
       "      <td>...</td>\n",
       "      <td>...</td>\n",
       "    </tr>\n",
       "    <tr>\n",
       "      <th>95</th>\n",
       "      <td>https://www.zaragoza.es/sede/servicio/transpor...</td>\n",
       "      <td>2014</td>\n",
       "      <td>OTRAS</td>\n",
       "      <td>NaN</td>\n",
       "      <td>MIRAL, DOMINGO</td>\n",
       "      <td>NaN</td>\n",
       "      <td>-0.8990662796872798,41.63977012001253</td>\n",
       "      <td>PERDIDA del control por FALTA de ATENCIÓN</td>\n",
       "      <td>NaN</td>\n",
       "      <td>2014-07-30T00:00:00Z</td>\n",
       "      <td>True</td>\n",
       "      <td>False</td>\n",
       "      <td>BUEN ESTADO</td>\n",
       "      <td>NaN</td>\n",
       "      <td>BUEN ESTADO</td>\n",
       "      <td>NaN</td>\n",
       "      <td>NaN</td>\n",
       "      <td>https://www.zaragoza.es/sede/servicio/transpor...</td>\n",
       "    </tr>\n",
       "    <tr>\n",
       "      <th>96</th>\n",
       "      <td>https://www.zaragoza.es/sede/servicio/transpor...</td>\n",
       "      <td>2014</td>\n",
       "      <td>COLISIÓN ALCANCE</td>\n",
       "      <td>NaN</td>\n",
       "      <td>BUÑUEL,LUIS (PARQUE DEL AGUA)</td>\n",
       "      <td>NaN</td>\n",
       "      <td>-0.9072756956226459,41.670910841846876</td>\n",
       "      <td>PERDIDA del control por FALTA de ATENCIÓN</td>\n",
       "      <td>2071.0</td>\n",
       "      <td>2014-07-31T00:00:00Z</td>\n",
       "      <td>True</td>\n",
       "      <td>False</td>\n",
       "      <td>BUEN ESTADO</td>\n",
       "      <td>NaN</td>\n",
       "      <td>BUEN ESTADO</td>\n",
       "      <td>NaN</td>\n",
       "      <td>NaN</td>\n",
       "      <td>https://www.zaragoza.es/sede/servicio/transpor...</td>\n",
       "    </tr>\n",
       "    <tr>\n",
       "      <th>97</th>\n",
       "      <td>https://www.zaragoza.es/sede/servicio/transpor...</td>\n",
       "      <td>2014</td>\n",
       "      <td>SALIDA CALZADA</td>\n",
       "      <td>NaN</td>\n",
       "      <td>ALBAR, MANUEL GL.</td>\n",
       "      <td>ILUSTRACION, AV. DE LA</td>\n",
       "      <td>-0.9226018969034585,41.62757051008441</td>\n",
       "      <td>PERDIDA del control por FALTA de ATENCIÓN</td>\n",
       "      <td>1969.0</td>\n",
       "      <td>2014-07-25T00:00:00Z</td>\n",
       "      <td>False</td>\n",
       "      <td>False</td>\n",
       "      <td>BUEN ESTADO</td>\n",
       "      <td>NaN</td>\n",
       "      <td>BUEN ESTADO</td>\n",
       "      <td>NaN</td>\n",
       "      <td>https://www.zaragoza.es/sede/servicio/transpor...</td>\n",
       "      <td>https://www.zaragoza.es/sede/servicio/transpor...</td>\n",
       "    </tr>\n",
       "    <tr>\n",
       "      <th>98</th>\n",
       "      <td>https://www.zaragoza.es/sede/servicio/transpor...</td>\n",
       "      <td>2014</td>\n",
       "      <td>COLIS FRONTOLATERAL</td>\n",
       "      <td>NaN</td>\n",
       "      <td>ECHEGARAY Y CABALLERO</td>\n",
       "      <td>SAN VICENTE PAUL</td>\n",
       "      <td>-0.8735234620830842,41.65507219335992</td>\n",
       "      <td>SEMÁFORO, no respetar prioridad de paso</td>\n",
       "      <td>1970.0</td>\n",
       "      <td>2014-07-26T00:00:00Z</td>\n",
       "      <td>False</td>\n",
       "      <td>False</td>\n",
       "      <td>BUEN ESTADO</td>\n",
       "      <td>NaN</td>\n",
       "      <td>BUEN ESTADO</td>\n",
       "      <td>NaN</td>\n",
       "      <td>https://www.zaragoza.es/sede/servicio/transpor...</td>\n",
       "      <td>https://www.zaragoza.es/sede/servicio/transpor...</td>\n",
       "    </tr>\n",
       "    <tr>\n",
       "      <th>99</th>\n",
       "      <td>https://www.zaragoza.es/sede/servicio/transpor...</td>\n",
       "      <td>2014</td>\n",
       "      <td>SALIDA CALZADA</td>\n",
       "      <td>NaN</td>\n",
       "      <td>CESAR AUGUSTO, AVDA</td>\n",
       "      <td>NaN</td>\n",
       "      <td>-0.8869504077778204,41.65022964156985</td>\n",
       "      <td>PERDIDA del control por FALTA de ATENCIÓN</td>\n",
       "      <td>1971.0</td>\n",
       "      <td>2014-07-09T00:00:00Z</td>\n",
       "      <td>True</td>\n",
       "      <td>False</td>\n",
       "      <td>BUEN ESTADO</td>\n",
       "      <td>NaN</td>\n",
       "      <td>BUEN ESTADO</td>\n",
       "      <td>NaN</td>\n",
       "      <td>NaN</td>\n",
       "      <td>https://www.zaragoza.es/sede/servicio/transpor...</td>\n",
       "    </tr>\n",
       "  </tbody>\n",
       "</table>\n",
       "<p>100 rows × 18 columns</p>\n",
       "</div>"
      ],
      "text/plain": [
       "                                                   id  year  \\\n",
       "0   https://www.zaragoza.es/sede/servicio/transpor...  2014   \n",
       "1   https://www.zaragoza.es/sede/servicio/transpor...  2014   \n",
       "2   https://www.zaragoza.es/sede/servicio/transpor...  2014   \n",
       "3   https://www.zaragoza.es/sede/servicio/transpor...  2014   \n",
       "4   https://www.zaragoza.es/sede/servicio/transpor...  2014   \n",
       "..                                                ...   ...   \n",
       "95  https://www.zaragoza.es/sede/servicio/transpor...  2014   \n",
       "96  https://www.zaragoza.es/sede/servicio/transpor...  2014   \n",
       "97  https://www.zaragoza.es/sede/servicio/transpor...  2014   \n",
       "98  https://www.zaragoza.es/sede/servicio/transpor...  2014   \n",
       "99  https://www.zaragoza.es/sede/servicio/transpor...  2014   \n",
       "\n",
       "                   type  accidentType                   firstAddress  \\\n",
       "0        SALIDA CALZADA           NaN                 COSTA, JOAQUIN   \n",
       "1      COLISIÓN ALCANCE           NaN          CADENA(MARQUES DE LA)   \n",
       "2      COLISIÓN ALCANCE           NaN           GOMEZ AVELLANEDA, G.   \n",
       "3   COLIS FRONTOLATERAL           NaN                         MONZON   \n",
       "4        SALIDA CALZADA           NaN                          RIOJA   \n",
       "..                  ...           ...                            ...   \n",
       "95                OTRAS           NaN                 MIRAL, DOMINGO   \n",
       "96     COLISIÓN ALCANCE           NaN  BUÑUEL,LUIS (PARQUE DEL AGUA)   \n",
       "97       SALIDA CALZADA           NaN              ALBAR, MANUEL GL.   \n",
       "98  COLIS FRONTOLATERAL           NaN          ECHEGARAY Y CABALLERO   \n",
       "99       SALIDA CALZADA           NaN            CESAR AUGUSTO, AVDA   \n",
       "\n",
       "             secondAddress                                geometry  \\\n",
       "0             PERAL, ISAAC  -0.8818527060979306,41.649027473051156   \n",
       "1                      NaN  -0.8645810716721081,41.661585829868585   \n",
       "2       CASTRO, R. (POETA)   -0.887776415002892,41.666992622958105   \n",
       "3        GARCIA CONDOY, H.   -0.8825260453930127,41.62957498750602   \n",
       "4      NAVARRA, AVENIDA DE     -0.908314757720389,41.6562121210704   \n",
       "..                     ...                                     ...   \n",
       "95                     NaN   -0.8990662796872798,41.63977012001253   \n",
       "96                     NaN  -0.9072756956226459,41.670910841846876   \n",
       "97  ILUSTRACION, AV. DE LA   -0.9226018969034585,41.62757051008441   \n",
       "98        SAN VICENTE PAUL   -0.8735234620830842,41.65507219335992   \n",
       "99                     NaN   -0.8869504077778204,41.65022964156985   \n",
       "\n",
       "                                          reason    area  \\\n",
       "0      PERDIDA del control por FALTA de ATENCIÓN     NaN   \n",
       "1            DISTANCIA DE SEGURIDAD, no mantener  2560.0   \n",
       "2      PERDIDA del control por FALTA de ATENCIÓN  2598.0   \n",
       "3    CEDA EL PASO, no respetar prioridad de paso  2555.0   \n",
       "4   PERDIDA del control por VELOCIDAD INADECUADA  2554.0   \n",
       "..                                           ...     ...   \n",
       "95     PERDIDA del control por FALTA de ATENCIÓN     NaN   \n",
       "96     PERDIDA del control por FALTA de ATENCIÓN  2071.0   \n",
       "97     PERDIDA del control por FALTA de ATENCIÓN  1969.0   \n",
       "98       SEMÁFORO, no respetar prioridad de paso  1970.0   \n",
       "99     PERDIDA del control por FALTA de ATENCIÓN  1971.0   \n",
       "\n",
       "            creationDate  daniosMateriales  falloMecanico estadoPavimento  \\\n",
       "0   2014-10-09T00:00:00Z              True          False     BUEN ESTADO   \n",
       "1   2014-10-23T00:00:00Z             False          False     BUEN ESTADO   \n",
       "2   2014-10-23T00:00:00Z             False          False     BUEN ESTADO   \n",
       "3   2014-10-23T00:00:00Z             False          False     BUEN ESTADO   \n",
       "4   2014-10-24T00:00:00Z             False          False     BUEN ESTADO   \n",
       "..                   ...               ...            ...             ...   \n",
       "95  2014-07-30T00:00:00Z              True          False     BUEN ESTADO   \n",
       "96  2014-07-31T00:00:00Z              True          False     BUEN ESTADO   \n",
       "97  2014-07-25T00:00:00Z             False          False     BUEN ESTADO   \n",
       "98  2014-07-26T00:00:00Z             False          False     BUEN ESTADO   \n",
       "99  2014-07-09T00:00:00Z              True          False     BUEN ESTADO   \n",
       "\n",
       "    tipoEstadoPavimento estadoAtmosfera  tipoEstadoAtmosfera  \\\n",
       "0                   NaN     BUEN ESTADO                  NaN   \n",
       "1                   NaN     BUEN ESTADO                  NaN   \n",
       "2                   NaN     BUEN ESTADO                  NaN   \n",
       "3                   NaN     BUEN ESTADO                  NaN   \n",
       "4                   NaN     BUEN ESTADO                  NaN   \n",
       "..                  ...             ...                  ...   \n",
       "95                  NaN     BUEN ESTADO                  NaN   \n",
       "96                  NaN     BUEN ESTADO                  NaN   \n",
       "97                  NaN     BUEN ESTADO                  NaN   \n",
       "98                  NaN     BUEN ESTADO                  NaN   \n",
       "99                  NaN     BUEN ESTADO                  NaN   \n",
       "\n",
       "                                             afectado  \\\n",
       "0                                                 NaN   \n",
       "1   https://www.zaragoza.es/sede/servicio/transpor...   \n",
       "2   https://www.zaragoza.es/sede/servicio/transpor...   \n",
       "3   https://www.zaragoza.es/sede/servicio/transpor...   \n",
       "4   https://www.zaragoza.es/sede/servicio/transpor...   \n",
       "..                                                ...   \n",
       "95                                                NaN   \n",
       "96                                                NaN   \n",
       "97  https://www.zaragoza.es/sede/servicio/transpor...   \n",
       "98  https://www.zaragoza.es/sede/servicio/transpor...   \n",
       "99                                                NaN   \n",
       "\n",
       "                                             vehiculo  \n",
       "0   https://www.zaragoza.es/sede/servicio/transpor...  \n",
       "1   https://www.zaragoza.es/sede/servicio/transpor...  \n",
       "2   https://www.zaragoza.es/sede/servicio/transpor...  \n",
       "3   https://www.zaragoza.es/sede/servicio/transpor...  \n",
       "4   https://www.zaragoza.es/sede/servicio/transpor...  \n",
       "..                                                ...  \n",
       "95  https://www.zaragoza.es/sede/servicio/transpor...  \n",
       "96  https://www.zaragoza.es/sede/servicio/transpor...  \n",
       "97  https://www.zaragoza.es/sede/servicio/transpor...  \n",
       "98  https://www.zaragoza.es/sede/servicio/transpor...  \n",
       "99  https://www.zaragoza.es/sede/servicio/transpor...  \n",
       "\n",
       "[100 rows x 18 columns]"
      ]
     },
     "execution_count": 122,
     "metadata": {},
     "output_type": "execute_result"
    }
   ],
   "source": [
    "df = pd.read_csv(url_zrgz,delimiter=';')\n",
    "df"
   ]
  },
  {
   "cell_type": "code",
   "execution_count": 123,
   "id": "3cc0e288",
   "metadata": {},
   "outputs": [
    {
     "data": {
      "text/plain": [
       "0     2014\n",
       "1     2014\n",
       "2     2014\n",
       "3     2014\n",
       "4     2014\n",
       "      ... \n",
       "95    2014\n",
       "96    2014\n",
       "97    2014\n",
       "98    2014\n",
       "99    2014\n",
       "Name: year, Length: 100, dtype: int64"
      ]
     },
     "execution_count": 123,
     "metadata": {},
     "output_type": "execute_result"
    }
   ],
   "source": [
    "df.year"
   ]
  },
  {
   "cell_type": "code",
   "execution_count": 124,
   "id": "4fdd2e80",
   "metadata": {},
   "outputs": [
    {
     "data": {
      "text/plain": [
       "array(['SALIDA CALZADA', 'COLISIÓN ALCANCE', 'COLIS FRONTOLATERAL',\n",
       "       'OTRAS', 'ATROPELLO', 'CAIDA SOBRE CALZADA', 'COLIS. MARCHA ATRÁS',\n",
       "       'COLISIÓN LATERAL'], dtype=object)"
      ]
     },
     "execution_count": 124,
     "metadata": {},
     "output_type": "execute_result"
    }
   ],
   "source": [
    "df['type'].unique()"
   ]
  },
  {
   "cell_type": "code",
   "execution_count": 125,
   "id": "61b333dc",
   "metadata": {
    "scrolled": true
   },
   "outputs": [
    {
     "data": {
      "text/plain": [
       "0     -0.8818527060979306,41.649027473051156\n",
       "1     -0.8645810716721081,41.661585829868585\n",
       "2      -0.887776415002892,41.666992622958105\n",
       "3      -0.8825260453930127,41.62957498750602\n",
       "4        -0.908314757720389,41.6562121210704\n",
       "                       ...                  \n",
       "95     -0.8990662796872798,41.63977012001253\n",
       "96    -0.9072756956226459,41.670910841846876\n",
       "97     -0.9226018969034585,41.62757051008441\n",
       "98     -0.8735234620830842,41.65507219335992\n",
       "99     -0.8869504077778204,41.65022964156985\n",
       "Name: geometry, Length: 100, dtype: object"
      ]
     },
     "execution_count": 125,
     "metadata": {},
     "output_type": "execute_result"
    }
   ],
   "source": [
    "df['geometry']"
   ]
  },
  {
   "cell_type": "code",
   "execution_count": 126,
   "id": "bbb3033d",
   "metadata": {},
   "outputs": [
    {
     "data": {
      "text/plain": [
       "str"
      ]
     },
     "execution_count": 126,
     "metadata": {},
     "output_type": "execute_result"
    }
   ],
   "source": [
    "type(df['geometry'][0])"
   ]
  },
  {
   "cell_type": "code",
   "execution_count": 127,
   "id": "6aa87776",
   "metadata": {},
   "outputs": [
    {
     "data": {
      "text/plain": [
       "['-0.8818527060979306', '41.649027473051156']"
      ]
     },
     "execution_count": 127,
     "metadata": {},
     "output_type": "execute_result"
    }
   ],
   "source": [
    "df['geometry'][0].split(',')"
   ]
  },
  {
   "cell_type": "code",
   "execution_count": 128,
   "id": "b0d054df",
   "metadata": {},
   "outputs": [],
   "source": [
    "point=df['geometry'][0].split(',')"
   ]
  },
  {
   "cell_type": "code",
   "execution_count": 129,
   "id": "4cd2d399",
   "metadata": {},
   "outputs": [
    {
     "data": {
      "text/plain": [
       "['-0.8818527060979306', '41.649027473051156']"
      ]
     },
     "execution_count": 129,
     "metadata": {},
     "output_type": "execute_result"
    }
   ],
   "source": [
    "point"
   ]
  },
  {
   "cell_type": "code",
   "execution_count": 130,
   "id": "8d4f29c7",
   "metadata": {},
   "outputs": [
    {
     "data": {
      "text/plain": [
       "list"
      ]
     },
     "execution_count": 130,
     "metadata": {},
     "output_type": "execute_result"
    }
   ],
   "source": [
    "type(point)"
   ]
  },
  {
   "cell_type": "code",
   "execution_count": 131,
   "id": "4bb0319a",
   "metadata": {},
   "outputs": [],
   "source": [
    "longitudes = []\n",
    "latitudes = []"
   ]
  },
  {
   "cell_type": "code",
   "execution_count": 132,
   "id": "c09fcccb",
   "metadata": {},
   "outputs": [
    {
     "data": {
      "text/plain": [
       "[]"
      ]
     },
     "execution_count": 132,
     "metadata": {},
     "output_type": "execute_result"
    }
   ],
   "source": [
    "longitudes"
   ]
  },
  {
   "cell_type": "code",
   "execution_count": 133,
   "id": "3c4c749f",
   "metadata": {},
   "outputs": [
    {
     "data": {
      "text/plain": [
       "list"
      ]
     },
     "execution_count": 133,
     "metadata": {},
     "output_type": "execute_result"
    }
   ],
   "source": [
    "type(longitudes)"
   ]
  },
  {
   "cell_type": "code",
   "execution_count": 134,
   "id": "b2c6eb8b",
   "metadata": {},
   "outputs": [],
   "source": [
    "for i in df['geometry']:\n",
    "        punto_coord = i.split(',')\n",
    "        longitudes += [float(punto_coord[1])]"
   ]
  },
  {
   "cell_type": "code",
   "execution_count": 135,
   "id": "32b2f559",
   "metadata": {},
   "outputs": [
    {
     "data": {
      "text/plain": [
       "[41.649027473051156,\n",
       " 41.661585829868585,\n",
       " 41.666992622958105,\n",
       " 41.62957498750602,\n",
       " 41.6562121210704,\n",
       " 41.65949772773082,\n",
       " 41.633353667694024,\n",
       " 41.6390382112928,\n",
       " 41.64083344974765,\n",
       " 41.64904657717317,\n",
       " 41.64322365075108,\n",
       " 41.68753087470739,\n",
       " 41.661646612715046,\n",
       " 41.6454384961757,\n",
       " 41.65543768899759,\n",
       " 41.65180346604993,\n",
       " 41.65233828238132,\n",
       " 41.65040494617356,\n",
       " 41.645335650478316,\n",
       " 41.609992514227066,\n",
       " 41.63379905763323,\n",
       " 41.63275556609146,\n",
       " 41.63808926467497,\n",
       " 41.677487884305975,\n",
       " 41.620591734015946,\n",
       " 41.64931371437485,\n",
       " 41.646890443474554,\n",
       " 41.62404668544956,\n",
       " 41.63964884250951,\n",
       " 41.638477534601776,\n",
       " 41.64332496247496,\n",
       " 41.65260977469196,\n",
       " 41.65248328671194,\n",
       " 41.6474034449745,\n",
       " 41.64926981833846,\n",
       " 41.650740541708075,\n",
       " 41.638807389014836,\n",
       " 41.66374540604866,\n",
       " 41.64886535549928,\n",
       " 41.63265453864093,\n",
       " 41.67281318904247,\n",
       " 41.66895757951277,\n",
       " 41.71496486522088,\n",
       " 41.67007665525934,\n",
       " 41.63484525009101,\n",
       " 41.64060309287472,\n",
       " 41.66210291413718,\n",
       " 41.63348367532985,\n",
       " 41.67593597602368,\n",
       " 41.672106692157605,\n",
       " 41.670796057267296,\n",
       " 41.634304213138115,\n",
       " 41.65154680743475,\n",
       " 41.62152191885522,\n",
       " 41.64737203882021,\n",
       " 41.64583899054114,\n",
       " 41.63444197353212,\n",
       " 41.647668760113724,\n",
       " 41.64713372980882,\n",
       " 41.66759236644088,\n",
       " 41.633156268397784,\n",
       " 41.65815100896193,\n",
       " 41.606852016162875,\n",
       " 41.665547003703814,\n",
       " 41.681817186609294,\n",
       " 41.653142424569985,\n",
       " 41.65471375662296,\n",
       " 41.653113831884326,\n",
       " 41.637370118574715,\n",
       " 41.62307965046806,\n",
       " 41.703559179288035,\n",
       " 41.63800946128376,\n",
       " 41.65509967011824,\n",
       " 41.640231801283996,\n",
       " 41.66399317788149,\n",
       " 41.640202296609836,\n",
       " 41.64045052143847,\n",
       " 41.650342929846744,\n",
       " 41.6515948922118,\n",
       " 41.639588711692504,\n",
       " 41.64547114097832,\n",
       " 41.60941879505107,\n",
       " 41.63594510671276,\n",
       " 41.65806605032787,\n",
       " 41.65124740456308,\n",
       " 41.64919114164,\n",
       " 41.68415187120862,\n",
       " 41.64775005399505,\n",
       " 41.647640923398896,\n",
       " 41.64628513907135,\n",
       " 41.646572275866276,\n",
       " 41.64976600318248,\n",
       " 41.653508476745046,\n",
       " 41.647798885967035,\n",
       " 41.64963422246641,\n",
       " 41.63977012001253,\n",
       " 41.670910841846876,\n",
       " 41.62757051008441,\n",
       " 41.65507219335992,\n",
       " 41.65022964156985]"
      ]
     },
     "execution_count": 135,
     "metadata": {},
     "output_type": "execute_result"
    }
   ],
   "source": [
    "longitudes"
   ]
  },
  {
   "cell_type": "code",
   "execution_count": 136,
   "id": "2990a484",
   "metadata": {},
   "outputs": [
    {
     "data": {
      "text/plain": [
       "[-0.8818527060979306,\n",
       " -0.8645810716721081,\n",
       " -0.887776415002892,\n",
       " -0.8825260453930127,\n",
       " -0.908314757720389,\n",
       " -0.8691088511672924,\n",
       " -0.8880337913721866,\n",
       " -0.8708838775078237,\n",
       " -0.8970649943808023,\n",
       " -0.8718525605769747,\n",
       " -0.8964627561577849,\n",
       " -0.8778095796207178,\n",
       " -0.8812157329722801,\n",
       " -0.8762000299022707,\n",
       " -0.9089013552408617,\n",
       " -0.9004729973337304,\n",
       " -0.8917562993466011,\n",
       " -0.888856043735591,\n",
       " -0.8629911318784169,\n",
       " -0.8870207060655807,\n",
       " -0.8636325074780108,\n",
       " -0.8760724207544668,\n",
       " -0.9036852209830768,\n",
       " -0.8896980442453839,\n",
       " -0.9018264648858587,\n",
       " -0.9187726932212442,\n",
       " -0.8855988456901538,\n",
       " -0.887523212911549,\n",
       " -0.8863120908790753,\n",
       " -0.8689640327130923,\n",
       " -0.8900650666830714,\n",
       " -0.8918524618079099,\n",
       " -0.9104038365599549,\n",
       " -0.8850103896969528,\n",
       " -0.8734135018983006,\n",
       " -0.8593239531218387,\n",
       " -0.868891092151338,\n",
       " -0.9008107424460443,\n",
       " -0.9211220937948997,\n",
       " -0.9026681648170423,\n",
       " -0.8893162332922886,\n",
       " -0.8890866503471749,\n",
       " -0.8439506345833918,\n",
       " -0.8665477541801948,\n",
       " -0.8848493117953854,\n",
       " -0.9147014503640727,\n",
       " -0.9388159722509236,\n",
       " -0.9157439755527074,\n",
       " -0.8869959298557372,\n",
       " -0.876909940066992,\n",
       " -0.8816447317118501,\n",
       " -0.9072940747876611,\n",
       " -0.9297774953117621,\n",
       " -0.9260243926745974,\n",
       " -0.8747826613487039,\n",
       " -0.8808426934572774,\n",
       " -0.9244213411763852,\n",
       " -0.8837000032645412,\n",
       " -0.8949697510455706,\n",
       " -0.8586802458354249,\n",
       " -0.8824516125202209,\n",
       " -0.8857803278979575,\n",
       " -0.8901425582260953,\n",
       " -0.8853994844903159,\n",
       " -0.8988224291930889,\n",
       " -0.878399626737674,\n",
       " -0.9005718898973313,\n",
       " -0.8754417396680656,\n",
       " -0.8981774282134238,\n",
       " -0.9134005222660053,\n",
       " -0.9675955686913701,\n",
       " -0.8994494084124403,\n",
       " -0.9047634312813823,\n",
       " -0.8796660379583326,\n",
       " -0.8569442253224475,\n",
       " -0.8866382760165721,\n",
       " -0.9148179357831321,\n",
       " -0.91679280832361,\n",
       " -0.9831600853628304,\n",
       " -0.8805502979311851,\n",
       " -0.8834784288071386,\n",
       " -0.8907819329164345,\n",
       " -0.9129045578911849,\n",
       " -0.929341406599246,\n",
       " -0.9015144446496385,\n",
       " -0.8971281972974198,\n",
       " -0.8655422071013779,\n",
       " -0.9345679624034625,\n",
       " -0.9162444486972013,\n",
       " -0.9075234410781284,\n",
       " -0.8740118451885867,\n",
       " -0.8879390016835017,\n",
       " -0.8748263473540919,\n",
       " -0.893364249304231,\n",
       " -0.8793428209752854,\n",
       " -0.8990662796872798,\n",
       " -0.9072756956226459,\n",
       " -0.9226018969034585,\n",
       " -0.8735234620830842,\n",
       " -0.8869504077778204]"
      ]
     },
     "execution_count": 136,
     "metadata": {},
     "output_type": "execute_result"
    }
   ],
   "source": [
    "for i in df['geometry']:\n",
    "        punto_coord = i.split(',')\n",
    "        latitudes += [float(punto_coord[0])]\n",
    "latitudes"
   ]
  },
  {
   "cell_type": "code",
   "execution_count": 137,
   "id": "5cfb5181",
   "metadata": {},
   "outputs": [
    {
     "data": {
      "text/html": [
       "<div>\n",
       "<style scoped>\n",
       "    .dataframe tbody tr th:only-of-type {\n",
       "        vertical-align: middle;\n",
       "    }\n",
       "\n",
       "    .dataframe tbody tr th {\n",
       "        vertical-align: top;\n",
       "    }\n",
       "\n",
       "    .dataframe thead th {\n",
       "        text-align: right;\n",
       "    }\n",
       "</style>\n",
       "<table border=\"1\" class=\"dataframe\">\n",
       "  <thead>\n",
       "    <tr style=\"text-align: right;\">\n",
       "      <th></th>\n",
       "      <th>long</th>\n",
       "      <th>lat</th>\n",
       "    </tr>\n",
       "  </thead>\n",
       "  <tbody>\n",
       "    <tr>\n",
       "      <th>0</th>\n",
       "      <td>41.649027</td>\n",
       "      <td>-0.881853</td>\n",
       "    </tr>\n",
       "    <tr>\n",
       "      <th>1</th>\n",
       "      <td>41.661586</td>\n",
       "      <td>-0.864581</td>\n",
       "    </tr>\n",
       "    <tr>\n",
       "      <th>2</th>\n",
       "      <td>41.666993</td>\n",
       "      <td>-0.887776</td>\n",
       "    </tr>\n",
       "    <tr>\n",
       "      <th>3</th>\n",
       "      <td>41.629575</td>\n",
       "      <td>-0.882526</td>\n",
       "    </tr>\n",
       "    <tr>\n",
       "      <th>4</th>\n",
       "      <td>41.656212</td>\n",
       "      <td>-0.908315</td>\n",
       "    </tr>\n",
       "    <tr>\n",
       "      <th>...</th>\n",
       "      <td>...</td>\n",
       "      <td>...</td>\n",
       "    </tr>\n",
       "    <tr>\n",
       "      <th>95</th>\n",
       "      <td>41.639770</td>\n",
       "      <td>-0.899066</td>\n",
       "    </tr>\n",
       "    <tr>\n",
       "      <th>96</th>\n",
       "      <td>41.670911</td>\n",
       "      <td>-0.907276</td>\n",
       "    </tr>\n",
       "    <tr>\n",
       "      <th>97</th>\n",
       "      <td>41.627571</td>\n",
       "      <td>-0.922602</td>\n",
       "    </tr>\n",
       "    <tr>\n",
       "      <th>98</th>\n",
       "      <td>41.655072</td>\n",
       "      <td>-0.873523</td>\n",
       "    </tr>\n",
       "    <tr>\n",
       "      <th>99</th>\n",
       "      <td>41.650230</td>\n",
       "      <td>-0.886950</td>\n",
       "    </tr>\n",
       "  </tbody>\n",
       "</table>\n",
       "<p>100 rows × 2 columns</p>\n",
       "</div>"
      ],
      "text/plain": [
       "         long       lat\n",
       "0   41.649027 -0.881853\n",
       "1   41.661586 -0.864581\n",
       "2   41.666993 -0.887776\n",
       "3   41.629575 -0.882526\n",
       "4   41.656212 -0.908315\n",
       "..        ...       ...\n",
       "95  41.639770 -0.899066\n",
       "96  41.670911 -0.907276\n",
       "97  41.627571 -0.922602\n",
       "98  41.655072 -0.873523\n",
       "99  41.650230 -0.886950\n",
       "\n",
       "[100 rows x 2 columns]"
      ]
     },
     "execution_count": 137,
     "metadata": {},
     "output_type": "execute_result"
    }
   ],
   "source": [
    "df_coord = pd.DataFrame({'long':longitudes,'lat':latitudes})\n",
    "df_coord"
   ]
  },
  {
   "cell_type": "code",
   "execution_count": 138,
   "id": "5b61515c",
   "metadata": {},
   "outputs": [
    {
     "data": {
      "text/html": [
       "<div>\n",
       "<style scoped>\n",
       "    .dataframe tbody tr th:only-of-type {\n",
       "        vertical-align: middle;\n",
       "    }\n",
       "\n",
       "    .dataframe tbody tr th {\n",
       "        vertical-align: top;\n",
       "    }\n",
       "\n",
       "    .dataframe thead th {\n",
       "        text-align: right;\n",
       "    }\n",
       "</style>\n",
       "<table border=\"1\" class=\"dataframe\">\n",
       "  <thead>\n",
       "    <tr style=\"text-align: right;\">\n",
       "      <th></th>\n",
       "      <th>type</th>\n",
       "      <th>long</th>\n",
       "      <th>lat</th>\n",
       "    </tr>\n",
       "  </thead>\n",
       "  <tbody>\n",
       "    <tr>\n",
       "      <th>0</th>\n",
       "      <td>SALIDA CALZADA</td>\n",
       "      <td>41.649027</td>\n",
       "      <td>-0.881853</td>\n",
       "    </tr>\n",
       "    <tr>\n",
       "      <th>1</th>\n",
       "      <td>COLISIÓN ALCANCE</td>\n",
       "      <td>41.661586</td>\n",
       "      <td>-0.864581</td>\n",
       "    </tr>\n",
       "    <tr>\n",
       "      <th>2</th>\n",
       "      <td>COLISIÓN ALCANCE</td>\n",
       "      <td>41.666993</td>\n",
       "      <td>-0.887776</td>\n",
       "    </tr>\n",
       "    <tr>\n",
       "      <th>3</th>\n",
       "      <td>COLIS FRONTOLATERAL</td>\n",
       "      <td>41.629575</td>\n",
       "      <td>-0.882526</td>\n",
       "    </tr>\n",
       "    <tr>\n",
       "      <th>4</th>\n",
       "      <td>SALIDA CALZADA</td>\n",
       "      <td>41.656212</td>\n",
       "      <td>-0.908315</td>\n",
       "    </tr>\n",
       "    <tr>\n",
       "      <th>...</th>\n",
       "      <td>...</td>\n",
       "      <td>...</td>\n",
       "      <td>...</td>\n",
       "    </tr>\n",
       "    <tr>\n",
       "      <th>95</th>\n",
       "      <td>OTRAS</td>\n",
       "      <td>41.639770</td>\n",
       "      <td>-0.899066</td>\n",
       "    </tr>\n",
       "    <tr>\n",
       "      <th>96</th>\n",
       "      <td>COLISIÓN ALCANCE</td>\n",
       "      <td>41.670911</td>\n",
       "      <td>-0.907276</td>\n",
       "    </tr>\n",
       "    <tr>\n",
       "      <th>97</th>\n",
       "      <td>SALIDA CALZADA</td>\n",
       "      <td>41.627571</td>\n",
       "      <td>-0.922602</td>\n",
       "    </tr>\n",
       "    <tr>\n",
       "      <th>98</th>\n",
       "      <td>COLIS FRONTOLATERAL</td>\n",
       "      <td>41.655072</td>\n",
       "      <td>-0.873523</td>\n",
       "    </tr>\n",
       "    <tr>\n",
       "      <th>99</th>\n",
       "      <td>SALIDA CALZADA</td>\n",
       "      <td>41.650230</td>\n",
       "      <td>-0.886950</td>\n",
       "    </tr>\n",
       "  </tbody>\n",
       "</table>\n",
       "<p>100 rows × 3 columns</p>\n",
       "</div>"
      ],
      "text/plain": [
       "                   type       long       lat\n",
       "0        SALIDA CALZADA  41.649027 -0.881853\n",
       "1      COLISIÓN ALCANCE  41.661586 -0.864581\n",
       "2      COLISIÓN ALCANCE  41.666993 -0.887776\n",
       "3   COLIS FRONTOLATERAL  41.629575 -0.882526\n",
       "4        SALIDA CALZADA  41.656212 -0.908315\n",
       "..                  ...        ...       ...\n",
       "95                OTRAS  41.639770 -0.899066\n",
       "96     COLISIÓN ALCANCE  41.670911 -0.907276\n",
       "97       SALIDA CALZADA  41.627571 -0.922602\n",
       "98  COLIS FRONTOLATERAL  41.655072 -0.873523\n",
       "99       SALIDA CALZADA  41.650230 -0.886950\n",
       "\n",
       "[100 rows x 3 columns]"
      ]
     },
     "execution_count": 138,
     "metadata": {},
     "output_type": "execute_result"
    }
   ],
   "source": [
    "df_accidentes = pd.concat([df['type'], df_coord], axis=1)\n",
    "df_accidentes"
   ]
  },
  {
   "cell_type": "markdown",
   "id": "5eca5b54",
   "metadata": {},
   "source": [
    "Vamos a crear un marcador con la función de folium que se llama marker. Es una función que va a tener las coordenadas de Zaragoza y en el popup me va a salir \"Hola,Zaragona\""
   ]
  },
  {
   "cell_type": "code",
   "execution_count": 139,
   "id": "37d909e5",
   "metadata": {},
   "outputs": [
    {
     "data": {
      "text/html": [
       "<div style=\"width:100%;\"><div style=\"position:relative;width:100%;height:0;padding-bottom:60%;\"><span style=\"color:#565656\">Make this Notebook Trusted to load map: File -> Trust Notebook</span><iframe src=\"about:blank\" style=\"position:absolute;width:100%;height:100%;left:0;top:0;border:none !important;\" data-html=%3C%21DOCTYPE%20html%3E%0A%3Chead%3E%20%20%20%20%0A%20%20%20%20%3Cmeta%20http-equiv%3D%22content-type%22%20content%3D%22text/html%3B%20charset%3DUTF-8%22%20/%3E%0A%20%20%20%20%0A%20%20%20%20%20%20%20%20%3Cscript%3E%0A%20%20%20%20%20%20%20%20%20%20%20%20L_NO_TOUCH%20%3D%20false%3B%0A%20%20%20%20%20%20%20%20%20%20%20%20L_DISABLE_3D%20%3D%20false%3B%0A%20%20%20%20%20%20%20%20%3C/script%3E%0A%20%20%20%20%0A%20%20%20%20%3Cstyle%3Ehtml%2C%20body%20%7Bwidth%3A%20100%25%3Bheight%3A%20100%25%3Bmargin%3A%200%3Bpadding%3A%200%3B%7D%3C/style%3E%0A%20%20%20%20%3Cstyle%3E%23map%20%7Bposition%3Aabsolute%3Btop%3A0%3Bbottom%3A0%3Bright%3A0%3Bleft%3A0%3B%7D%3C/style%3E%0A%20%20%20%20%3Cscript%20src%3D%22https%3A//cdn.jsdelivr.net/npm/leaflet%401.6.0/dist/leaflet.js%22%3E%3C/script%3E%0A%20%20%20%20%3Cscript%20src%3D%22https%3A//code.jquery.com/jquery-1.12.4.min.js%22%3E%3C/script%3E%0A%20%20%20%20%3Cscript%20src%3D%22https%3A//maxcdn.bootstrapcdn.com/bootstrap/3.2.0/js/bootstrap.min.js%22%3E%3C/script%3E%0A%20%20%20%20%3Cscript%20src%3D%22https%3A//cdnjs.cloudflare.com/ajax/libs/Leaflet.awesome-markers/2.0.2/leaflet.awesome-markers.js%22%3E%3C/script%3E%0A%20%20%20%20%3Clink%20rel%3D%22stylesheet%22%20href%3D%22https%3A//cdn.jsdelivr.net/npm/leaflet%401.6.0/dist/leaflet.css%22/%3E%0A%20%20%20%20%3Clink%20rel%3D%22stylesheet%22%20href%3D%22https%3A//maxcdn.bootstrapcdn.com/bootstrap/3.2.0/css/bootstrap.min.css%22/%3E%0A%20%20%20%20%3Clink%20rel%3D%22stylesheet%22%20href%3D%22https%3A//maxcdn.bootstrapcdn.com/bootstrap/3.2.0/css/bootstrap-theme.min.css%22/%3E%0A%20%20%20%20%3Clink%20rel%3D%22stylesheet%22%20href%3D%22https%3A//maxcdn.bootstrapcdn.com/font-awesome/4.6.3/css/font-awesome.min.css%22/%3E%0A%20%20%20%20%3Clink%20rel%3D%22stylesheet%22%20href%3D%22https%3A//cdnjs.cloudflare.com/ajax/libs/Leaflet.awesome-markers/2.0.2/leaflet.awesome-markers.css%22/%3E%0A%20%20%20%20%3Clink%20rel%3D%22stylesheet%22%20href%3D%22https%3A//cdn.jsdelivr.net/gh/python-visualization/folium/folium/templates/leaflet.awesome.rotate.min.css%22/%3E%0A%20%20%20%20%0A%20%20%20%20%20%20%20%20%20%20%20%20%3Cmeta%20name%3D%22viewport%22%20content%3D%22width%3Ddevice-width%2C%0A%20%20%20%20%20%20%20%20%20%20%20%20%20%20%20%20initial-scale%3D1.0%2C%20maximum-scale%3D1.0%2C%20user-scalable%3Dno%22%20/%3E%0A%20%20%20%20%20%20%20%20%20%20%20%20%3Cstyle%3E%0A%20%20%20%20%20%20%20%20%20%20%20%20%20%20%20%20%23map_164010f66e35425aa1cf310929e17447%20%7B%0A%20%20%20%20%20%20%20%20%20%20%20%20%20%20%20%20%20%20%20%20position%3A%20relative%3B%0A%20%20%20%20%20%20%20%20%20%20%20%20%20%20%20%20%20%20%20%20width%3A%20100.0%25%3B%0A%20%20%20%20%20%20%20%20%20%20%20%20%20%20%20%20%20%20%20%20height%3A%20100.0%25%3B%0A%20%20%20%20%20%20%20%20%20%20%20%20%20%20%20%20%20%20%20%20left%3A%200.0%25%3B%0A%20%20%20%20%20%20%20%20%20%20%20%20%20%20%20%20%20%20%20%20top%3A%200.0%25%3B%0A%20%20%20%20%20%20%20%20%20%20%20%20%20%20%20%20%7D%0A%20%20%20%20%20%20%20%20%20%20%20%20%3C/style%3E%0A%20%20%20%20%20%20%20%20%0A%3C/head%3E%0A%3Cbody%3E%20%20%20%20%0A%20%20%20%20%0A%20%20%20%20%20%20%20%20%20%20%20%20%3Cdiv%20class%3D%22folium-map%22%20id%3D%22map_164010f66e35425aa1cf310929e17447%22%20%3E%3C/div%3E%0A%20%20%20%20%20%20%20%20%0A%3C/body%3E%0A%3Cscript%3E%20%20%20%20%0A%20%20%20%20%0A%20%20%20%20%20%20%20%20%20%20%20%20var%20map_164010f66e35425aa1cf310929e17447%20%3D%20L.map%28%0A%20%20%20%20%20%20%20%20%20%20%20%20%20%20%20%20%22map_164010f66e35425aa1cf310929e17447%22%2C%0A%20%20%20%20%20%20%20%20%20%20%20%20%20%20%20%20%7B%0A%20%20%20%20%20%20%20%20%20%20%20%20%20%20%20%20%20%20%20%20center%3A%20%5B41.649693%2C%20-0.887712%5D%2C%0A%20%20%20%20%20%20%20%20%20%20%20%20%20%20%20%20%20%20%20%20crs%3A%20L.CRS.EPSG3857%2C%0A%20%20%20%20%20%20%20%20%20%20%20%20%20%20%20%20%20%20%20%20zoom%3A%2010%2C%0A%20%20%20%20%20%20%20%20%20%20%20%20%20%20%20%20%20%20%20%20zoomControl%3A%20true%2C%0A%20%20%20%20%20%20%20%20%20%20%20%20%20%20%20%20%20%20%20%20preferCanvas%3A%20false%2C%0A%20%20%20%20%20%20%20%20%20%20%20%20%20%20%20%20%7D%0A%20%20%20%20%20%20%20%20%20%20%20%20%29%3B%0A%0A%20%20%20%20%20%20%20%20%20%20%20%20%0A%0A%20%20%20%20%20%20%20%20%0A%20%20%20%20%0A%20%20%20%20%20%20%20%20%20%20%20%20var%20tile_layer_8eafe4ad19c74f48b279c9da8dece660%20%3D%20L.tileLayer%28%0A%20%20%20%20%20%20%20%20%20%20%20%20%20%20%20%20%22https%3A//%7Bs%7D.tile.openstreetmap.org/%7Bz%7D/%7Bx%7D/%7By%7D.png%22%2C%0A%20%20%20%20%20%20%20%20%20%20%20%20%20%20%20%20%7B%22attribution%22%3A%20%22Data%20by%20%5Cu0026copy%3B%20%5Cu003ca%20href%3D%5C%22http%3A//openstreetmap.org%5C%22%5Cu003eOpenStreetMap%5Cu003c/a%5Cu003e%2C%20under%20%5Cu003ca%20href%3D%5C%22http%3A//www.openstreetmap.org/copyright%5C%22%5Cu003eODbL%5Cu003c/a%5Cu003e.%22%2C%20%22detectRetina%22%3A%20false%2C%20%22maxNativeZoom%22%3A%2018%2C%20%22maxZoom%22%3A%2018%2C%20%22minZoom%22%3A%200%2C%20%22noWrap%22%3A%20false%2C%20%22opacity%22%3A%201%2C%20%22subdomains%22%3A%20%22abc%22%2C%20%22tms%22%3A%20false%7D%0A%20%20%20%20%20%20%20%20%20%20%20%20%29.addTo%28map_164010f66e35425aa1cf310929e17447%29%3B%0A%20%20%20%20%20%20%20%20%0A%20%20%20%20%0A%20%20%20%20%20%20%20%20%20%20%20%20var%20marker_4797e5184465429fb9452bb9d157497c%20%3D%20L.marker%28%0A%20%20%20%20%20%20%20%20%20%20%20%20%20%20%20%20%5B41.649693%2C%20-0.887712%5D%2C%0A%20%20%20%20%20%20%20%20%20%20%20%20%20%20%20%20%7B%7D%0A%20%20%20%20%20%20%20%20%20%20%20%20%29.addTo%28map_164010f66e35425aa1cf310929e17447%29%3B%0A%20%20%20%20%20%20%20%20%0A%20%20%20%20%0A%20%20%20%20%20%20%20%20var%20popup_11394b997da345b18e3b13abe7770781%20%3D%20L.popup%28%7B%22maxWidth%22%3A%20%22100%25%22%7D%29%3B%0A%0A%20%20%20%20%20%20%20%20%0A%20%20%20%20%20%20%20%20%20%20%20%20var%20html_6d6c988a5cc04c6089803ef44c047473%20%3D%20%24%28%60%3Cdiv%20id%3D%22html_6d6c988a5cc04c6089803ef44c047473%22%20style%3D%22width%3A%20100.0%25%3B%20height%3A%20100.0%25%3B%22%3E%C2%A1Hola%2C%20Zaragoza%21%3C/div%3E%60%29%5B0%5D%3B%0A%20%20%20%20%20%20%20%20%20%20%20%20popup_11394b997da345b18e3b13abe7770781.setContent%28html_6d6c988a5cc04c6089803ef44c047473%29%3B%0A%20%20%20%20%20%20%20%20%0A%0A%20%20%20%20%20%20%20%20marker_4797e5184465429fb9452bb9d157497c.bindPopup%28popup_11394b997da345b18e3b13abe7770781%29%0A%20%20%20%20%20%20%20%20%3B%0A%0A%20%20%20%20%20%20%20%20%0A%20%20%20%20%0A%3C/script%3E onload=\"this.contentDocument.open();this.contentDocument.write(    decodeURIComponent(this.getAttribute('data-html')));this.contentDocument.close();\" allowfullscreen webkitallowfullscreen mozallowfullscreen></iframe></div></div>"
      ],
      "text/plain": [
       "<folium.folium.Map at 0x2ce9720c5b0>"
      ]
     },
     "execution_count": 139,
     "metadata": {},
     "output_type": "execute_result"
    }
   ],
   "source": [
    "marcador = folium.Marker(coord_zrgz, popup=\"¡Hola, Zaragoza!\")\n",
    "mapa=mapa.add_child(marcador)\n",
    "mapa"
   ]
  },
  {
   "cell_type": "code",
   "execution_count": 140,
   "id": "c1b7e770",
   "metadata": {},
   "outputs": [
    {
     "ename": "SyntaxError",
     "evalue": "invalid syntax (Temp/ipykernel_23872/28931721.py, line 1)",
     "output_type": "error",
     "traceback": [
      "\u001b[1;36m  File \u001b[1;32m\"C:\\Users\\Mlucy\\AppData\\Local\\Temp/ipykernel_23872/28931721.py\"\u001b[1;36m, line \u001b[1;32m1\u001b[0m\n\u001b[1;33m    una función que va a iterar cada uno de los elementos\u001b[0m\n\u001b[1;37m        ^\u001b[0m\n\u001b[1;31mSyntaxError\u001b[0m\u001b[1;31m:\u001b[0m invalid syntax\n"
     ]
    }
   ],
   "source": [
    "una función que va a iterar cada uno de los elementos"
   ]
  },
  {
   "cell_type": "code",
   "execution_count": null,
   "id": "4d97b12f",
   "metadata": {},
   "outputs": [],
   "source": [
    "for indice, fila in df_accidentes.iterrows():\n",
    "    marcador = folium.Marker([fila['lat'], fila['long']],\\\n",
    "                            popup=fila['type'])\n",
    "    mapa.add_child(marcador)\n",
    "mapa"
   ]
  }
 ],
 "metadata": {
  "kernelspec": {
   "display_name": "Python 3 (ipykernel)",
   "language": "python",
   "name": "python3"
  },
  "language_info": {
   "codemirror_mode": {
    "name": "ipython",
    "version": 3
   },
   "file_extension": ".py",
   "mimetype": "text/x-python",
   "name": "python",
   "nbconvert_exporter": "python",
   "pygments_lexer": "ipython3",
   "version": "3.9.7"
  }
 },
 "nbformat": 4,
 "nbformat_minor": 5
}
