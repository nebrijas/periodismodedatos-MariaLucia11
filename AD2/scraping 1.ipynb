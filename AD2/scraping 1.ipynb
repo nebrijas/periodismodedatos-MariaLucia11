{
 "cells": [
  {
   "cell_type": "markdown",
   "id": "41e96ad3",
   "metadata": {},
   "source": [
    "# Práctica de Web Scraping"
   ]
  },
  {
   "cell_type": "markdown",
   "id": "c099164e",
   "metadata": {},
   "source": [
    "### Importar librerías"
   ]
  },
  {
   "cell_type": "markdown",
   "id": "daec7825",
   "metadata": {},
   "source": [
    "El primer paso que hay que dar es importar la libreria [requests](https://docs.python-requests.org/en/latest/) ya que nos facilita el trabajo con peticiones HTTP. Como el objetivo principal de este juego es extraer información de una web, esto nos será de gran utilidad. "
   ]
  },
  {
   "cell_type": "code",
   "execution_count": 35,
   "id": "2abe747a",
   "metadata": {},
   "outputs": [],
   "source": [
    "import requests"
   ]
  },
  {
   "cell_type": "markdown",
   "id": "6eaf397e",
   "metadata": {},
   "source": [
    "El segundo paso será importar de la libreria [bs4](https://www.crummy.com/software/BeautifulSoup/bs4/doc/) `BeautifulSoup`. Pero ¿para que sirve? En concreto, para extraer contenido de ficheros HTML y XML. "
   ]
  },
  {
   "cell_type": "code",
   "execution_count": 36,
   "id": "bba1345a",
   "metadata": {},
   "outputs": [],
   "source": [
    "from bs4 import BeautifulSoup"
   ]
  },
  {
   "cell_type": "markdown",
   "id": "350e775b",
   "metadata": {},
   "source": [
    "### Variables"
   ]
  },
  {
   "cell_type": "markdown",
   "id": "a2ec512d",
   "metadata": {},
   "source": [
    "Como este juego trata sobre los Juegos Olímpicos, lo que vamos a reflejar es cuántas medallas adquirieron los primero 20 países que participaron en 2020 y de qué tipo. Por lo tanto, las variables que especificaremos más adelante seran `paises`, `oros`, `platas`, `bronces` y  `totales`. "
   ]
  },
  {
   "cell_type": "markdown",
   "id": "78c80af5",
   "metadata": {},
   "source": [
    "### Definimos URL"
   ]
  },
  {
   "cell_type": "markdown",
   "id": "9df5c818",
   "metadata": {},
   "source": [
    "Es necesario definir la URL para poder llevar a cabo la práctica del Web Scraping, sin ella no obtendríamos ningún dato. "
   ]
  },
  {
   "cell_type": "code",
   "execution_count": 37,
   "id": "fb0cca22",
   "metadata": {},
   "outputs": [],
   "source": [
    "URL = \"https://resultados.elpais.com/deportivos/juegos-olimpicos/medallero/\""
   ]
  },
  {
   "cell_type": "markdown",
   "id": "947e5c21",
   "metadata": {},
   "source": [
    "### Realizamos la petición a la web"
   ]
  },
  {
   "cell_type": "markdown",
   "id": "0d38a857",
   "metadata": {},
   "source": [
    "Una de las tareas más comunes cuando estamos trabajando con la librería `request`es hacer una solicitud HTTP con el método GET. Lo que hacemos con esta función es solicitar un archivo HTML al servidor web donde está alojado para que nuestro navegador lo pueda rederizar y mostrar correctamente. ¿Cómo realizamos esta solicitud? Empleando `requests.get ()`\n",
    "\n",
    "Al ejecutar la solicitud GET, el servidor nos devuelve una respuesta (response) que tiene el código 200. Por lo tanto, si el estatus code de nuestra petición es `200` significará que la misión se ha completado con éxito. Por el contario, si no lo es, no podrá leer la página."
   ]
  },
  {
   "cell_type": "code",
   "execution_count": 38,
   "id": "4cd73c22",
   "metadata": {},
   "outputs": [],
   "source": [
    "req = requests.get(URL)\n",
    "if (req.status_code != 200):\n",
    "    raise Exception(\"No se puede hacer Web Scraping en\"+ URL)"
   ]
  },
  {
   "cell_type": "markdown",
   "id": "94c7924a",
   "metadata": {},
   "source": [
    "### De requests a Beautiful Soupe"
   ]
  },
  {
   "cell_type": "markdown",
   "id": "232fb1a8",
   "metadata": {},
   "source": [
    "El siguiente paso es convertir el contenido HTML de la web a un objeto `BeautifulSoup()`. La clase `html.parser` sirve para identificar etiquetas, datos, comentarios y otros elementos HTML."
   ]
  },
  {
   "cell_type": "code",
   "execution_count": 39,
   "id": "1ae61805",
   "metadata": {},
   "outputs": [],
   "source": [
    " html = BeautifulSoup(req.text, \"html.parser\")"
   ]
  },
  {
   "cell_type": "markdown",
   "id": "05949cf2",
   "metadata": {},
   "source": [
    "### Variables de datos"
   ]
  },
  {
   "cell_type": "markdown",
   "id": "3a4e89d2",
   "metadata": {},
   "source": [
    "Una vez localizadas en el HTML estas varaibles: `paises`, `oros`, `platas`, `bronces` y  `totales`, las identificamos con la función `find_all()`. Esta nos devolverá en forma de texto todas las coincidencias encontradas. "
   ]
  },
  {
   "cell_type": "code",
   "execution_count": 40,
   "id": "f9d9b43b",
   "metadata": {
    "scrolled": true
   },
   "outputs": [],
   "source": [
    "paises = html.find_all(\"th\",{\"class\":\"pais\"})\n",
    "oros = html.find_all(\"td\",{\"class\":\"m_oro\"})\n",
    "platas = html.find_all(\"td\",{\"class\":\"m_plata\"})\n",
    "bronces = html.find_all(\"td\",{\"class\":\"m_bronce\"})\n",
    "totales = html.find_all(\"td\",{\"class\":\"m_total\"})"
   ]
  },
  {
   "cell_type": "markdown",
   "id": "18ed000a",
   "metadata": {},
   "source": [
    "### Hacemos la pregunta"
   ]
  },
  {
   "cell_type": "markdown",
   "id": "2238a86e",
   "metadata": {},
   "source": [
    "Gracias a la función `input` podemos hacer que el usuario interactue. Le preguntaremos que si quiere conocer los 20 países que han obtenido más medallas y si la respuesta es 's', el programa le responderá con el mensaje: 'Vale, vamos a ello'. \n",
    "\n",
    "En el caso de que responda con otra letra o palabra, el juego no se podrá llevar a cabo.\n"
   ]
  },
  {
   "cell_type": "code",
   "execution_count": null,
   "id": "5c0cd134",
   "metadata": {},
   "outputs": [],
   "source": [
    "respuesta=input('¿QUIERES CONOCER LOS 20 PAÍSES QUE HAN OBTENIDO MÁS MEDALLAS EN 2020?\\n \\n Si tu respuesta es Sí, presiona \"s\" \\n')\n",
    "if(respuesta == 's'): \n",
    "    print('Vale, vamos a ello')"
   ]
  },
  {
   "cell_type": "markdown",
   "id": "ddd2e0d4",
   "metadata": {},
   "source": [
    "### Bucle para todos"
   ]
  },
  {
   "cell_type": "markdown",
   "id": "b834c047",
   "metadata": {},
   "source": [
    "Los bucles sirven para alterar el flujo normal de un programa. En esta ocasión, utilizaremos el bucle `for` para repetir el bloque de código indexado tantas veces como le hayamos indicado gracias al operador `in`.  un número X de veces. Por lo tanto, se ejecutará tantas veces como elementos tenga en est"
   ]
  },
  {
   "cell_type": "code",
   "execution_count": null,
   "id": "0bb95d42",
   "metadata": {},
   "outputs": [],
   "source": [
    "print('\\nRESULTADOS DE LOS DATOS DE LOS JUEGOS OLÍMPICOS 2020\\n')\n",
    "print ('PAÍSES')\n",
    "for i in range (20):\n",
    "    # Con el método \"getText()\" no nos devuelve el HTML\n",
    "    print(\"%d. %s \\nOro: %s Plata: %s Bronce: %s \\n Total: %s \\n \" % (i+1, paises[i+1].text.strip(),oros[i].text.strip(),platas[i].text.strip(),bronces[i].text.strip(), totales[i].text.strip()))\n",
    "\n",
    "else:\n",
    "    print('Qué lástima, y...')"
   ]
  },
  {
   "cell_type": "markdown",
   "id": "e0f66bce",
   "metadata": {},
   "source": [
    "[El enlace a la Actividad AD2](https://github.com/nebrijas/periodismodedatos-marialucia11/blob/main/AD2/ad2.md)"
   ]
  }
 ],
 "metadata": {
  "kernelspec": {
   "display_name": "Python 3 (ipykernel)",
   "language": "python",
   "name": "python3"
  },
  "language_info": {
   "codemirror_mode": {
    "name": "ipython",
    "version": 3
   },
   "file_extension": ".py",
   "mimetype": "text/x-python",
   "name": "python",
   "nbconvert_exporter": "python",
   "pygments_lexer": "ipython3",
   "version": "3.9.7"
  }
 },
 "nbformat": 4,
 "nbformat_minor": 5
}
